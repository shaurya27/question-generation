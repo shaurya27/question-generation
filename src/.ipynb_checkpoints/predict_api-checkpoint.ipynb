{
 "cells": [
  {
   "cell_type": "code",
   "execution_count": 7,
   "metadata": {},
   "outputs": [
    {
     "name": "stdout",
     "output_type": "stream",
     "text": [
      "The autoreload extension is already loaded. To reload it, use:\n",
      "  %reload_ext autoreload\n"
     ]
    }
   ],
   "source": [
    "%load_ext autoreload\n",
    "%autoreload 2\n",
    "\n",
    "from predict import *\n",
    "\n",
    "from flask import Flask,request, jsonify\n",
    "from predict import *"
   ]
  },
  {
   "cell_type": "code",
   "execution_count": 9,
   "metadata": {},
   "outputs": [],
   "source": [
    "data ={}\n",
    "data['user_paragraph'] = \"the restrictions were tightened by the defence of the realm act of august 1914 , which , along with the introduction of rationing and the censorship of the press for wartime purposes , restricted pubs ' opening hours to 12 noon -- 2:30 pm and 6:30 pm -- 9:30 pm . opening for the full licensed hours was compulsory , and closing time was equally firmly enforced by the police ; a landlord might lose his licence for infractions . pubs were closed under the act and compensation paid , for example in pembrokeshire .\"\n",
    "p,s = user_input(data)"
   ]
  },
  {
   "cell_type": "code",
   "execution_count": 6,
   "metadata": {},
   "outputs": [
    {
     "data": {
      "text/plain": [
       "[[u'what', u'is', u'the', u\"'s\", u'of', u'of', u'the', u'?'],\n",
       " [u'what', u'did', u'the', u\"'s\", u'of', u'?']]"
      ]
     },
     "execution_count": 6,
     "metadata": {},
     "output_type": "execute_result"
    }
   ],
   "source": [
    "evaluate(p,s,enc1,enc2,dec)"
   ]
  },
  {
   "cell_type": "code",
   "execution_count": null,
   "metadata": {},
   "outputs": [
    {
     "name": "stderr",
     "output_type": "stream",
     "text": [
      " * Running on http://0.0.0.0:4283/ (Press CTRL+C to quit)\n",
      "[2019-01-23 15:08:41,603] ERROR in app: Exception on /question_generation [POST]\n",
      "Traceback (most recent call last):\n",
      "  File \"/home/shaurya/anaconda2/lib/python2.7/site-packages/flask/app.py\", line 1982, in wsgi_app\n",
      "    response = self.full_dispatch_request()\n",
      "  File \"/home/shaurya/anaconda2/lib/python2.7/site-packages/flask/app.py\", line 1614, in full_dispatch_request\n",
      "    rv = self.handle_user_exception(e)\n",
      "  File \"/home/shaurya/anaconda2/lib/python2.7/site-packages/flask/app.py\", line 1517, in handle_user_exception\n",
      "    reraise(exc_type, exc_value, tb)\n",
      "  File \"/home/shaurya/anaconda2/lib/python2.7/site-packages/flask/app.py\", line 1612, in full_dispatch_request\n",
      "    rv = self.dispatch_request()\n",
      "  File \"/home/shaurya/anaconda2/lib/python2.7/site-packages/flask/app.py\", line 1598, in dispatch_request\n",
      "    return self.view_functions[rule.endpoint](**req.view_args)\n",
      "  File \"<ipython-input-13-7cd2d3f53d50>\", line 6, in question_generate\n",
      "    result = str(evaluate(data))\n",
      "TypeError: evaluate() takes exactly 5 arguments (1 given)\n",
      "127.0.0.1 - - [23/Jan/2019 15:08:41] \"\u001b[1m\u001b[35mPOST /question_generation HTTP/1.1\u001b[0m\" 500 -\n"
     ]
    }
   ],
   "source": [
    "app = Flask(__name__)\n",
    "@app.route('/question_generation', methods=['POST'])\n",
    "def question_generate():\n",
    "    data = request.get_json()\n",
    "    #print data\n",
    "    p,s = user_input(data)\n",
    "    result = str(evaluate(p,s,enc1,enc2,dec))\n",
    "    print result\n",
    "    return jsonify({\"generated_question\": eval(result)})\n",
    "\n",
    "if __name__ == '__main__':\n",
    "      app.run(host='0.0.0.0', port= 4283)\n"
   ]
  },
  {
   "cell_type": "code",
   "execution_count": null,
   "metadata": {
    "collapsed": true
   },
   "outputs": [],
   "source": []
  }
 ],
 "metadata": {
  "kernelspec": {
   "display_name": "Python 2",
   "language": "python",
   "name": "python2"
  },
  "language_info": {
   "codemirror_mode": {
    "name": "ipython",
    "version": 2
   },
   "file_extension": ".py",
   "mimetype": "text/x-python",
   "name": "python",
   "nbconvert_exporter": "python",
   "pygments_lexer": "ipython2",
   "version": "2.7.15"
  }
 },
 "nbformat": 4,
 "nbformat_minor": 2
}
