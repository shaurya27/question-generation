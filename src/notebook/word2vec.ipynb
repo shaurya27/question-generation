{
 "cells": [
  {
   "cell_type": "code",
   "execution_count": 1,
   "metadata": {
    "collapsed": true
   },
   "outputs": [],
   "source": [
    "import gensim\n",
    "from nltk.tokenize import sent_tokenize, word_tokenize\n",
    "import json\n",
    "from tqdm import tqdm_notebook as tqdm\n",
    "import os\n",
    "import numpy as np"
   ]
  },
  {
   "cell_type": "code",
   "execution_count": 6,
   "metadata": {
    "collapsed": true
   },
   "outputs": [],
   "source": [
    "def data_generator(filepath):\n",
    "    with open(filepath,'r') as f:\n",
    "        for line in f:\n",
    "            yield json.loads(line)\n",
    "        return"
   ]
  },
  {
   "cell_type": "code",
   "execution_count": 18,
   "metadata": {},
   "outputs": [
    {
     "data": {
      "application/vnd.jupyter.widget-view+json": {
       "model_id": "0ec6faf6f8084997b452f89998cd8665",
       "version_major": 2,
       "version_minor": 0
      },
      "text/plain": [
       "A Jupyter Widget"
      ]
     },
     "metadata": {},
     "output_type": "display_data"
    },
    {
     "name": "stdout",
     "output_type": "stream",
     "text": [
      "\n"
     ]
    }
   ],
   "source": [
    "gen = data_generator('../../data/processed/train_data.json')\n",
    "with open('../../data/word2vec/word2vec.txt','w') as f:\n",
    "    for sample in tqdm(gen):\n",
    "        sents = sent_tokenize(sample['paragraph'])\n",
    "        sents2 = sample['question']\n",
    "        for j in sents:\n",
    "            x_words = word_tokenize(j)\n",
    "            if len(x_words)>2:\n",
    "                f.write(repr(x_words))\n",
    "                f.write('\\n')\n",
    "        x_words = word_tokenize(sents2)\n",
    "        if len(x_words)>2:\n",
    "            f.write(repr(x_words))\n",
    "            f.write('\\n')"
   ]
  },
  {
   "cell_type": "code",
   "execution_count": 19,
   "metadata": {},
   "outputs": [
    {
     "name": "stdout",
     "output_type": "stream",
     "text": [
      "433303 ../../data/word2vec/word2vec.txt\r\n"
     ]
    }
   ],
   "source": [
    "! wc -l ../../data/word2vec/word2vec.txt"
   ]
  },
  {
   "cell_type": "code",
   "execution_count": 25,
   "metadata": {
    "collapsed": true
   },
   "outputs": [],
   "source": [
    "! sort ../../data/word2vec/word2vec.txt | uniq >../../data/word2vec/unique_word2vec.txt"
   ]
  },
  {
   "cell_type": "code",
   "execution_count": 26,
   "metadata": {},
   "outputs": [
    {
     "name": "stdout",
     "output_type": "stream",
     "text": [
      "152414 ../../data/word2vec/unique_word2vec.txt\r\n"
     ]
    }
   ],
   "source": [
    "! wc -l ../../data/word2vec/unique_word2vec.txt"
   ]
  },
  {
   "cell_type": "code",
   "execution_count": 27,
   "metadata": {
    "collapsed": true
   },
   "outputs": [],
   "source": [
    "! rm ../../data/word2vec/word2vec.txt"
   ]
  },
  {
   "cell_type": "markdown",
   "metadata": {},
   "source": [
    "----------------"
   ]
  },
  {
   "cell_type": "markdown",
   "metadata": {},
   "source": [
    "## Training"
   ]
  },
  {
   "cell_type": "code",
   "execution_count": 2,
   "metadata": {
    "collapsed": true
   },
   "outputs": [],
   "source": [
    "class MySentences(object):\n",
    "    def __init__(self, dirname):\n",
    "        self.dirname = dirname\n",
    " \n",
    "    def __iter__(self):\n",
    "        for fname in os.listdir(self.dirname):\n",
    "            print fname\n",
    "            for line in open(os.path.join(self.dirname, fname)):\n",
    "                yield eval(line)"
   ]
  },
  {
   "cell_type": "code",
   "execution_count": 3,
   "metadata": {
    "collapsed": true
   },
   "outputs": [],
   "source": [
    "import logging\n",
    "logging.basicConfig(format='%(asctime)s : %(levelname)s : %(message)s',    level=logging.INFO)"
   ]
  },
  {
   "cell_type": "code",
   "execution_count": 4,
   "metadata": {
    "collapsed": true
   },
   "outputs": [],
   "source": [
    "sentences = MySentences('../../data/word2vec/')"
   ]
  },
  {
   "cell_type": "code",
   "execution_count": 5,
   "metadata": {
    "scrolled": true
   },
   "outputs": [
    {
     "name": "stderr",
     "output_type": "stream",
     "text": [
      "2019-02-06 18:29:31,838 : INFO : collecting all words and their counts\n",
      "2019-02-06 18:29:31,842 : INFO : PROGRESS: at sentence #0, processed 0 words, keeping 0 word types\n"
     ]
    },
    {
     "name": "stdout",
     "output_type": "stream",
     "text": [
      "unique_word2vec.txt\n"
     ]
    },
    {
     "name": "stderr",
     "output_type": "stream",
     "text": [
      "2019-02-06 18:29:32,241 : INFO : PROGRESS: at sentence #10000, processed 254393 words, keeping 26346 word types\n",
      "2019-02-06 18:29:32,590 : INFO : PROGRESS: at sentence #20000, processed 499516 words, keeping 38167 word types\n",
      "2019-02-06 18:29:32,943 : INFO : PROGRESS: at sentence #30000, processed 748413 words, keeping 47133 word types\n",
      "2019-02-06 18:29:33,187 : INFO : PROGRESS: at sentence #40000, processed 910130 words, keeping 51034 word types\n",
      "2019-02-06 18:29:33,529 : INFO : PROGRESS: at sentence #50000, processed 1146509 words, keeping 57416 word types\n",
      "2019-02-06 18:29:33,877 : INFO : PROGRESS: at sentence #60000, processed 1391956 words, keeping 64341 word types\n",
      "2019-02-06 18:29:34,293 : INFO : PROGRESS: at sentence #70000, processed 1645863 words, keeping 70856 word types\n",
      "2019-02-06 18:29:34,656 : INFO : PROGRESS: at sentence #80000, processed 1899633 words, keeping 76541 word types\n",
      "2019-02-06 18:29:35,014 : INFO : PROGRESS: at sentence #90000, processed 2155169 words, keeping 81999 word types\n",
      "2019-02-06 18:29:35,372 : INFO : PROGRESS: at sentence #100000, processed 2405488 words, keeping 86603 word types\n",
      "2019-02-06 18:29:35,571 : INFO : PROGRESS: at sentence #110000, processed 2528330 words, keeping 87722 word types\n",
      "2019-02-06 18:29:35,750 : INFO : PROGRESS: at sentence #120000, processed 2638993 words, keeping 88168 word types\n",
      "2019-02-06 18:29:35,932 : INFO : PROGRESS: at sentence #130000, processed 2753867 words, keeping 88647 word types\n",
      "2019-02-06 18:29:36,113 : INFO : PROGRESS: at sentence #140000, processed 2865380 words, keeping 89318 word types\n",
      "2019-02-06 18:29:36,302 : INFO : PROGRESS: at sentence #150000, processed 2983391 words, keeping 90011 word types\n",
      "2019-02-06 18:29:36,376 : INFO : collected 90581 word types from a corpus of 3030002 raw words and 152414 sentences\n",
      "2019-02-06 18:29:36,376 : INFO : Loading a fresh vocabulary\n",
      "2019-02-06 18:29:36,514 : INFO : effective_min_count=5 retains 25053 unique words (27% of original 90581, drops 65528)\n",
      "2019-02-06 18:29:36,515 : INFO : effective_min_count=5 leaves 2924796 word corpus (96% of original 3030002, drops 105206)\n",
      "2019-02-06 18:29:36,564 : INFO : deleting the raw counts dictionary of 90581 items\n",
      "2019-02-06 18:29:36,571 : INFO : sample=0.001 downsamples 36 most-common words\n",
      "2019-02-06 18:29:36,572 : INFO : downsampling leaves estimated 2091263 word corpus (71.5% of prior 2924796)\n",
      "2019-02-06 18:29:36,649 : INFO : estimated required memory for 25053 words and 300 dimensions: 72653700 bytes\n",
      "2019-02-06 18:29:36,650 : INFO : resetting layer weights\n",
      "2019-02-06 18:29:36,901 : INFO : training model with 3 workers on 25053 vocabulary and 300 features, using sg=0 hs=0 sample=0.001 negative=5 window=5\n"
     ]
    },
    {
     "name": "stdout",
     "output_type": "stream",
     "text": [
      "unique_word2vec.txt\n"
     ]
    },
    {
     "name": "stderr",
     "output_type": "stream",
     "text": [
      "2019-02-06 18:29:37,935 : INFO : EPOCH 1 - PROGRESS: at 10.69% examples, 275650 words/s, in_qsize 0, out_qsize 0\n",
      "2019-02-06 18:29:38,973 : INFO : EPOCH 1 - PROGRESS: at 24.40% examples, 284777 words/s, in_qsize 0, out_qsize 0\n",
      "2019-02-06 18:29:39,986 : INFO : EPOCH 1 - PROGRESS: at 36.01% examples, 286624 words/s, in_qsize 0, out_qsize 0\n",
      "2019-02-06 18:29:41,012 : INFO : EPOCH 1 - PROGRESS: at 46.47% examples, 282628 words/s, in_qsize 0, out_qsize 0\n",
      "2019-02-06 18:29:42,023 : INFO : EPOCH 1 - PROGRESS: at 55.73% examples, 274539 words/s, in_qsize 0, out_qsize 0\n",
      "2019-02-06 18:29:43,032 : INFO : EPOCH 1 - PROGRESS: at 64.55% examples, 267155 words/s, in_qsize 0, out_qsize 0\n",
      "2019-02-06 18:29:44,040 : INFO : EPOCH 1 - PROGRESS: at 82.56% examples, 261392 words/s, in_qsize 0, out_qsize 0\n",
      "2019-02-06 18:29:44,831 : INFO : worker thread finished; awaiting finish of 2 more threads\n",
      "2019-02-06 18:29:44,846 : INFO : worker thread finished; awaiting finish of 1 more threads\n",
      "2019-02-06 18:29:44,852 : INFO : worker thread finished; awaiting finish of 0 more threads\n",
      "2019-02-06 18:29:44,852 : INFO : EPOCH - 1 : training on 3030002 raw words (2090994 effective words) took 7.9s, 263069 effective words/s\n"
     ]
    },
    {
     "name": "stdout",
     "output_type": "stream",
     "text": [
      "unique_word2vec.txt\n"
     ]
    },
    {
     "name": "stderr",
     "output_type": "stream",
     "text": [
      "2019-02-06 18:29:45,855 : INFO : EPOCH 2 - PROGRESS: at 8.78% examples, 234242 words/s, in_qsize 1, out_qsize 0\n",
      "2019-02-06 18:29:46,869 : INFO : EPOCH 2 - PROGRESS: at 20.32% examples, 262942 words/s, in_qsize 0, out_qsize 0\n",
      "2019-02-06 18:29:47,904 : INFO : EPOCH 2 - PROGRESS: at 33.64% examples, 268605 words/s, in_qsize 0, out_qsize 1\n",
      "2019-02-06 18:29:48,917 : INFO : EPOCH 2 - PROGRESS: at 44.41% examples, 271864 words/s, in_qsize 0, out_qsize 0\n",
      "2019-02-06 18:29:49,923 : INFO : EPOCH 2 - PROGRESS: at 55.21% examples, 274604 words/s, in_qsize 0, out_qsize 0\n",
      "2019-02-06 18:29:50,935 : INFO : EPOCH 2 - PROGRESS: at 66.53% examples, 277271 words/s, in_qsize 0, out_qsize 0\n",
      "2019-02-06 18:29:51,961 : INFO : EPOCH 2 - PROGRESS: at 89.93% examples, 274849 words/s, in_qsize 0, out_qsize 0\n",
      "2019-02-06 18:29:52,444 : INFO : worker thread finished; awaiting finish of 2 more threads\n",
      "2019-02-06 18:29:52,458 : INFO : worker thread finished; awaiting finish of 1 more threads\n",
      "2019-02-06 18:29:52,467 : INFO : worker thread finished; awaiting finish of 0 more threads\n",
      "2019-02-06 18:29:52,467 : INFO : EPOCH - 2 : training on 3030002 raw words (2090884 effective words) took 7.6s, 274646 effective words/s\n"
     ]
    },
    {
     "name": "stdout",
     "output_type": "stream",
     "text": [
      "unique_word2vec.txt\n"
     ]
    },
    {
     "name": "stderr",
     "output_type": "stream",
     "text": [
      "2019-02-06 18:29:53,471 : INFO : EPOCH 3 - PROGRESS: at 11.25% examples, 297208 words/s, in_qsize 0, out_qsize 0\n",
      "2019-02-06 18:29:54,486 : INFO : EPOCH 3 - PROGRESS: at 24.40% examples, 292368 words/s, in_qsize 0, out_qsize 0\n",
      "2019-02-06 18:29:55,501 : INFO : EPOCH 3 - PROGRESS: at 35.73% examples, 288614 words/s, in_qsize 0, out_qsize 0\n",
      "2019-02-06 18:29:56,532 : INFO : EPOCH 3 - PROGRESS: at 47.26% examples, 291183 words/s, in_qsize 0, out_qsize 0\n",
      "2019-02-06 18:29:57,549 : INFO : EPOCH 3 - PROGRESS: at 58.55% examples, 291106 words/s, in_qsize 0, out_qsize 0\n",
      "2019-02-06 18:29:58,565 : INFO : EPOCH 3 - PROGRESS: at 69.56% examples, 282551 words/s, in_qsize 0, out_qsize 0\n",
      "2019-02-06 18:29:59,563 : INFO : EPOCH 3 - PROGRESS: at 88.56% examples, 273363 words/s, in_qsize 0, out_qsize 0\n",
      "2019-02-06 18:30:00,153 : INFO : worker thread finished; awaiting finish of 2 more threads\n",
      "2019-02-06 18:30:00,165 : INFO : worker thread finished; awaiting finish of 1 more threads\n",
      "2019-02-06 18:30:00,175 : INFO : worker thread finished; awaiting finish of 0 more threads\n",
      "2019-02-06 18:30:00,176 : INFO : EPOCH - 3 : training on 3030002 raw words (2090913 effective words) took 7.7s, 271283 effective words/s\n"
     ]
    },
    {
     "name": "stdout",
     "output_type": "stream",
     "text": [
      "unique_word2vec.txt\n"
     ]
    },
    {
     "name": "stderr",
     "output_type": "stream",
     "text": [
      "2019-02-06 18:30:01,221 : INFO : EPOCH 4 - PROGRESS: at 10.69% examples, 273234 words/s, in_qsize 0, out_qsize 0\n",
      "2019-02-06 18:30:02,271 : INFO : EPOCH 4 - PROGRESS: at 23.85% examples, 275526 words/s, in_qsize 0, out_qsize 0\n",
      "2019-02-06 18:30:03,287 : INFO : EPOCH 4 - PROGRESS: at 35.52% examples, 279546 words/s, in_qsize 0, out_qsize 0\n",
      "2019-02-06 18:30:04,296 : INFO : EPOCH 4 - PROGRESS: at 46.73% examples, 284032 words/s, in_qsize 0, out_qsize 0\n",
      "2019-02-06 18:30:05,310 : INFO : EPOCH 4 - PROGRESS: at 57.26% examples, 281893 words/s, in_qsize 0, out_qsize 0\n",
      "2019-02-06 18:30:06,336 : INFO : EPOCH 4 - PROGRESS: at 69.56% examples, 280003 words/s, in_qsize 0, out_qsize 0\n",
      "2019-02-06 18:30:07,339 : INFO : EPOCH 4 - PROGRESS: at 92.46% examples, 277064 words/s, in_qsize 0, out_qsize 0\n",
      "2019-02-06 18:30:07,669 : INFO : worker thread finished; awaiting finish of 2 more threads\n",
      "2019-02-06 18:30:07,680 : INFO : worker thread finished; awaiting finish of 1 more threads\n",
      "2019-02-06 18:30:07,692 : INFO : worker thread finished; awaiting finish of 0 more threads\n",
      "2019-02-06 18:30:07,692 : INFO : EPOCH - 4 : training on 3030002 raw words (2090777 effective words) took 7.5s, 278395 effective words/s\n"
     ]
    },
    {
     "name": "stdout",
     "output_type": "stream",
     "text": [
      "unique_word2vec.txt\n"
     ]
    },
    {
     "name": "stderr",
     "output_type": "stream",
     "text": [
      "2019-02-06 18:30:08,761 : INFO : EPOCH 5 - PROGRESS: at 10.95% examples, 274339 words/s, in_qsize 0, out_qsize 0\n",
      "2019-02-06 18:30:09,790 : INFO : EPOCH 5 - PROGRESS: at 24.96% examples, 289555 words/s, in_qsize 0, out_qsize 1\n",
      "2019-02-06 18:30:10,791 : INFO : EPOCH 5 - PROGRESS: at 36.26% examples, 287454 words/s, in_qsize 0, out_qsize 0\n",
      "2019-02-06 18:30:11,813 : INFO : EPOCH 5 - PROGRESS: at 47.52% examples, 288664 words/s, in_qsize 0, out_qsize 0\n",
      "2019-02-06 18:30:12,819 : INFO : EPOCH 5 - PROGRESS: at 58.31% examples, 287248 words/s, in_qsize 0, out_qsize 0\n",
      "2019-02-06 18:30:13,865 : INFO : EPOCH 5 - PROGRESS: at 71.40% examples, 282000 words/s, in_qsize 0, out_qsize 0\n",
      "2019-02-06 18:30:14,869 : INFO : EPOCH 5 - PROGRESS: at 93.86% examples, 279461 words/s, in_qsize 0, out_qsize 0\n",
      "2019-02-06 18:30:15,175 : INFO : worker thread finished; awaiting finish of 2 more threads\n",
      "2019-02-06 18:30:15,186 : INFO : worker thread finished; awaiting finish of 1 more threads\n",
      "2019-02-06 18:30:15,198 : INFO : worker thread finished; awaiting finish of 0 more threads\n",
      "2019-02-06 18:30:15,198 : INFO : EPOCH - 5 : training on 3030002 raw words (2090913 effective words) took 7.5s, 278690 effective words/s\n"
     ]
    },
    {
     "name": "stdout",
     "output_type": "stream",
     "text": [
      "unique_word2vec.txt\n"
     ]
    },
    {
     "name": "stderr",
     "output_type": "stream",
     "text": [
      "2019-02-06 18:30:16,206 : INFO : EPOCH 6 - PROGRESS: at 10.97% examples, 290307 words/s, in_qsize 0, out_qsize 0\n",
      "2019-02-06 18:30:17,204 : INFO : EPOCH 6 - PROGRESS: at 24.14% examples, 290642 words/s, in_qsize 0, out_qsize 0\n",
      "2019-02-06 18:30:18,216 : INFO : EPOCH 6 - PROGRESS: at 35.52% examples, 288055 words/s, in_qsize 0, out_qsize 0\n",
      "2019-02-06 18:30:19,227 : INFO : EPOCH 6 - PROGRESS: at 47.00% examples, 291930 words/s, in_qsize 0, out_qsize 0\n",
      "2019-02-06 18:30:20,230 : INFO : EPOCH 6 - PROGRESS: at 57.79% examples, 289980 words/s, in_qsize 0, out_qsize 0\n",
      "2019-02-06 18:30:21,230 : INFO : EPOCH 6 - PROGRESS: at 72.61% examples, 290847 words/s, in_qsize 0, out_qsize 0\n",
      "2019-02-06 18:30:22,272 : INFO : EPOCH 6 - PROGRESS: at 94.72% examples, 285466 words/s, in_qsize 0, out_qsize 0\n",
      "2019-02-06 18:30:22,509 : INFO : worker thread finished; awaiting finish of 2 more threads\n",
      "2019-02-06 18:30:22,520 : INFO : worker thread finished; awaiting finish of 1 more threads\n",
      "2019-02-06 18:30:22,528 : INFO : worker thread finished; awaiting finish of 0 more threads\n",
      "2019-02-06 18:30:22,530 : INFO : EPOCH - 6 : training on 3030002 raw words (2090961 effective words) took 7.3s, 285290 effective words/s\n"
     ]
    },
    {
     "name": "stdout",
     "output_type": "stream",
     "text": [
      "unique_word2vec.txt\n"
     ]
    },
    {
     "name": "stderr",
     "output_type": "stream",
     "text": [
      "2019-02-06 18:30:23,561 : INFO : EPOCH 7 - PROGRESS: at 10.12% examples, 263424 words/s, in_qsize 0, out_qsize 0\n",
      "2019-02-06 18:30:24,568 : INFO : EPOCH 7 - PROGRESS: at 20.94% examples, 264165 words/s, in_qsize 0, out_qsize 0\n",
      "2019-02-06 18:30:25,602 : INFO : EPOCH 7 - PROGRESS: at 33.38% examples, 265598 words/s, in_qsize 0, out_qsize 0\n",
      "2019-02-06 18:30:26,628 : INFO : EPOCH 7 - PROGRESS: at 43.87% examples, 266789 words/s, in_qsize 1, out_qsize 0\n",
      "2019-02-06 18:30:27,627 : INFO : EPOCH 7 - PROGRESS: at 53.67% examples, 265587 words/s, in_qsize 0, out_qsize 0\n",
      "2019-02-06 18:30:28,648 : INFO : EPOCH 7 - PROGRESS: at 64.55% examples, 267818 words/s, in_qsize 0, out_qsize 0\n",
      "2019-02-06 18:30:29,652 : INFO : EPOCH 7 - PROGRESS: at 84.35% examples, 264865 words/s, in_qsize 0, out_qsize 0\n",
      "2019-02-06 18:30:30,460 : INFO : worker thread finished; awaiting finish of 2 more threads\n",
      "2019-02-06 18:30:30,475 : INFO : worker thread finished; awaiting finish of 1 more threads\n",
      "2019-02-06 18:30:30,486 : INFO : worker thread finished; awaiting finish of 0 more threads\n",
      "2019-02-06 18:30:30,487 : INFO : EPOCH - 7 : training on 3030002 raw words (2092130 effective words) took 8.0s, 262991 effective words/s\n"
     ]
    },
    {
     "name": "stdout",
     "output_type": "stream",
     "text": [
      "unique_word2vec.txt\n"
     ]
    },
    {
     "name": "stderr",
     "output_type": "stream",
     "text": [
      "2019-02-06 18:30:31,528 : INFO : EPOCH 8 - PROGRESS: at 10.41% examples, 267785 words/s, in_qsize 0, out_qsize 0\n",
      "2019-02-06 18:30:32,523 : INFO : EPOCH 8 - PROGRESS: at 22.12% examples, 271709 words/s, in_qsize 0, out_qsize 0\n",
      "2019-02-06 18:30:33,534 : INFO : EPOCH 8 - PROGRESS: at 34.19% examples, 273694 words/s, in_qsize 0, out_qsize 0\n",
      "2019-02-06 18:30:34,550 : INFO : EPOCH 8 - PROGRESS: at 44.67% examples, 274050 words/s, in_qsize 0, out_qsize 0\n",
      "2019-02-06 18:30:35,549 : INFO : EPOCH 8 - PROGRESS: at 54.70% examples, 272564 words/s, in_qsize 0, out_qsize 1\n",
      "2019-02-06 18:30:36,557 : INFO : EPOCH 8 - PROGRESS: at 65.09% examples, 272192 words/s, in_qsize 0, out_qsize 0\n",
      "2019-02-06 18:30:37,590 : INFO : EPOCH 8 - PROGRESS: at 86.52% examples, 269085 words/s, in_qsize 0, out_qsize 0\n",
      "2019-02-06 18:30:38,274 : INFO : worker thread finished; awaiting finish of 2 more threads\n",
      "2019-02-06 18:30:38,287 : INFO : worker thread finished; awaiting finish of 1 more threads\n",
      "2019-02-06 18:30:38,290 : INFO : worker thread finished; awaiting finish of 0 more threads\n",
      "2019-02-06 18:30:38,291 : INFO : EPOCH - 8 : training on 3030002 raw words (2091796 effective words) took 7.8s, 268088 effective words/s\n"
     ]
    },
    {
     "name": "stdout",
     "output_type": "stream",
     "text": [
      "unique_word2vec.txt\n"
     ]
    },
    {
     "name": "stderr",
     "output_type": "stream",
     "text": [
      "2019-02-06 18:30:39,296 : INFO : EPOCH 9 - PROGRESS: at 10.12% examples, 268738 words/s, in_qsize 0, out_qsize 0\n",
      "2019-02-06 18:30:40,303 : INFO : EPOCH 9 - PROGRESS: at 22.12% examples, 275179 words/s, in_qsize 0, out_qsize 0\n",
      "2019-02-06 18:30:41,316 : INFO : EPOCH 9 - PROGRESS: at 34.19% examples, 275720 words/s, in_qsize 0, out_qsize 0\n",
      "2019-02-06 18:30:42,354 : INFO : EPOCH 9 - PROGRESS: at 44.95% examples, 275548 words/s, in_qsize 0, out_qsize 0\n",
      "2019-02-06 18:30:43,367 : INFO : EPOCH 9 - PROGRESS: at 55.73% examples, 277022 words/s, in_qsize 0, out_qsize 0\n",
      "2019-02-06 18:30:44,367 : INFO : EPOCH 9 - PROGRESS: at 66.53% examples, 277573 words/s, in_qsize 0, out_qsize 0\n",
      "2019-02-06 18:30:45,373 : INFO : EPOCH 9 - PROGRESS: at 88.56% examples, 273911 words/s, in_qsize 0, out_qsize 0\n",
      "2019-02-06 18:30:45,900 : INFO : worker thread finished; awaiting finish of 2 more threads\n",
      "2019-02-06 18:30:45,909 : INFO : worker thread finished; awaiting finish of 1 more threads\n",
      "2019-02-06 18:30:45,915 : INFO : worker thread finished; awaiting finish of 0 more threads\n",
      "2019-02-06 18:30:45,916 : INFO : EPOCH - 9 : training on 3030002 raw words (2090871 effective words) took 7.6s, 274270 effective words/s\n"
     ]
    },
    {
     "name": "stdout",
     "output_type": "stream",
     "text": [
      "unique_word2vec.txt\n"
     ]
    },
    {
     "name": "stderr",
     "output_type": "stream",
     "text": [
      "2019-02-06 18:30:46,931 : INFO : EPOCH 10 - PROGRESS: at 9.57% examples, 254930 words/s, in_qsize 0, out_qsize 0\n",
      "2019-02-06 18:30:47,979 : INFO : EPOCH 10 - PROGRESS: at 20.94% examples, 261196 words/s, in_qsize 0, out_qsize 0\n",
      "2019-02-06 18:30:48,989 : INFO : EPOCH 10 - PROGRESS: at 32.58% examples, 257693 words/s, in_qsize 0, out_qsize 0\n",
      "2019-02-06 18:30:50,026 : INFO : EPOCH 10 - PROGRESS: at 42.80% examples, 258887 words/s, in_qsize 0, out_qsize 0\n",
      "2019-02-06 18:30:51,028 : INFO : EPOCH 10 - PROGRESS: at 52.42% examples, 258011 words/s, in_qsize 0, out_qsize 0\n",
      "2019-02-06 18:30:52,052 : INFO : EPOCH 10 - PROGRESS: at 62.70% examples, 259110 words/s, in_qsize 0, out_qsize 0\n",
      "2019-02-06 18:30:53,062 : INFO : EPOCH 10 - PROGRESS: at 79.69% examples, 256332 words/s, in_qsize 0, out_qsize 0\n",
      "2019-02-06 18:30:54,071 : INFO : EPOCH 10 - PROGRESS: at 99.34% examples, 254412 words/s, in_qsize 0, out_qsize 0\n",
      "2019-02-06 18:30:54,099 : INFO : worker thread finished; awaiting finish of 2 more threads\n",
      "2019-02-06 18:30:54,119 : INFO : worker thread finished; awaiting finish of 1 more threads\n",
      "2019-02-06 18:30:54,125 : INFO : worker thread finished; awaiting finish of 0 more threads\n",
      "2019-02-06 18:30:54,126 : INFO : EPOCH - 10 : training on 3030002 raw words (2091213 effective words) took 8.2s, 254766 effective words/s\n"
     ]
    },
    {
     "name": "stdout",
     "output_type": "stream",
     "text": [
      "unique_word2vec.txt\n"
     ]
    },
    {
     "name": "stderr",
     "output_type": "stream",
     "text": [
      "2019-02-06 18:30:55,143 : INFO : EPOCH 11 - PROGRESS: at 9.57% examples, 252266 words/s, in_qsize 0, out_qsize 0\n",
      "2019-02-06 18:30:56,169 : INFO : EPOCH 11 - PROGRESS: at 20.94% examples, 263067 words/s, in_qsize 0, out_qsize 0\n",
      "2019-02-06 18:30:57,170 : INFO : EPOCH 11 - PROGRESS: at 32.58% examples, 260203 words/s, in_qsize 0, out_qsize 0\n",
      "2019-02-06 18:30:58,207 : INFO : EPOCH 11 - PROGRESS: at 42.01% examples, 255506 words/s, in_qsize 0, out_qsize 0\n",
      "2019-02-06 18:30:59,233 : INFO : EPOCH 11 - PROGRESS: at 50.87% examples, 250364 words/s, in_qsize 0, out_qsize 0\n",
      "2019-02-06 18:31:00,257 : INFO : EPOCH 11 - PROGRESS: at 60.83% examples, 251232 words/s, in_qsize 0, out_qsize 0\n",
      "2019-02-06 18:31:01,268 : INFO : EPOCH 11 - PROGRESS: at 73.80% examples, 247677 words/s, in_qsize 0, out_qsize 0\n",
      "2019-02-06 18:31:02,277 : INFO : EPOCH 11 - PROGRESS: at 94.72% examples, 247710 words/s, in_qsize 0, out_qsize 0\n",
      "2019-02-06 18:31:02,534 : INFO : worker thread finished; awaiting finish of 2 more threads\n",
      "2019-02-06 18:31:02,548 : INFO : worker thread finished; awaiting finish of 1 more threads\n",
      "2019-02-06 18:31:02,556 : INFO : worker thread finished; awaiting finish of 0 more threads\n",
      "2019-02-06 18:31:02,557 : INFO : EPOCH - 11 : training on 3030002 raw words (2091382 effective words) took 8.4s, 248105 effective words/s\n"
     ]
    },
    {
     "name": "stdout",
     "output_type": "stream",
     "text": [
      "unique_word2vec.txt\n"
     ]
    },
    {
     "name": "stderr",
     "output_type": "stream",
     "text": [
      "2019-02-06 18:31:03,560 : INFO : EPOCH 12 - PROGRESS: at 9.57% examples, 255513 words/s, in_qsize 0, out_qsize 0\n",
      "2019-02-06 18:31:04,576 : INFO : EPOCH 12 - PROGRESS: at 19.70% examples, 258607 words/s, in_qsize 0, out_qsize 0\n",
      "2019-02-06 18:31:05,587 : INFO : EPOCH 12 - PROGRESS: at 32.30% examples, 258998 words/s, in_qsize 0, out_qsize 0\n",
      "2019-02-06 18:31:06,602 : INFO : EPOCH 12 - PROGRESS: at 43.07% examples, 264570 words/s, in_qsize 0, out_qsize 0\n",
      "2019-02-06 18:31:07,622 : INFO : EPOCH 12 - PROGRESS: at 53.42% examples, 266201 words/s, in_qsize 1, out_qsize 0\n",
      "2019-02-06 18:31:08,630 : INFO : EPOCH 12 - PROGRESS: at 63.96% examples, 267563 words/s, in_qsize 0, out_qsize 0\n",
      "2019-02-06 18:31:09,643 : INFO : EPOCH 12 - PROGRESS: at 83.77% examples, 265286 words/s, in_qsize 0, out_qsize 0\n",
      "2019-02-06 18:31:10,443 : INFO : worker thread finished; awaiting finish of 2 more threads\n",
      "2019-02-06 18:31:10,454 : INFO : worker thread finished; awaiting finish of 1 more threads\n",
      "2019-02-06 18:31:10,461 : INFO : worker thread finished; awaiting finish of 0 more threads\n",
      "2019-02-06 18:31:10,462 : INFO : EPOCH - 12 : training on 3030002 raw words (2091068 effective words) took 7.9s, 264587 effective words/s\n"
     ]
    },
    {
     "name": "stdout",
     "output_type": "stream",
     "text": [
      "unique_word2vec.txt\n"
     ]
    },
    {
     "name": "stderr",
     "output_type": "stream",
     "text": [
      "2019-02-06 18:31:11,485 : INFO : EPOCH 13 - PROGRESS: at 10.41% examples, 272294 words/s, in_qsize 0, out_qsize 0\n",
      "2019-02-06 18:31:12,486 : INFO : EPOCH 13 - PROGRESS: at 22.12% examples, 273576 words/s, in_qsize 0, out_qsize 0\n",
      "2019-02-06 18:31:13,513 : INFO : EPOCH 13 - PROGRESS: at 33.64% examples, 269032 words/s, in_qsize 1, out_qsize 0\n",
      "2019-02-06 18:31:14,552 : INFO : EPOCH 13 - PROGRESS: at 43.87% examples, 267150 words/s, in_qsize 0, out_qsize 0\n",
      "2019-02-06 18:31:15,558 : INFO : EPOCH 13 - PROGRESS: at 53.93% examples, 267127 words/s, in_qsize 0, out_qsize 0\n",
      "2019-02-06 18:31:16,577 : INFO : EPOCH 13 - PROGRESS: at 62.18% examples, 257733 words/s, in_qsize 0, out_qsize 0\n",
      "2019-02-06 18:31:17,582 : INFO : EPOCH 13 - PROGRESS: at 73.20% examples, 247591 words/s, in_qsize 0, out_qsize 0\n",
      "2019-02-06 18:31:18,587 : INFO : EPOCH 13 - PROGRESS: at 92.46% examples, 244179 words/s, in_qsize 0, out_qsize 0\n",
      "2019-02-06 18:31:19,015 : INFO : worker thread finished; awaiting finish of 2 more threads\n",
      "2019-02-06 18:31:19,031 : INFO : worker thread finished; awaiting finish of 1 more threads\n",
      "2019-02-06 18:31:19,036 : INFO : worker thread finished; awaiting finish of 0 more threads\n",
      "2019-02-06 18:31:19,037 : INFO : EPOCH - 13 : training on 3030002 raw words (2091474 effective words) took 8.6s, 244037 effective words/s\n"
     ]
    },
    {
     "name": "stdout",
     "output_type": "stream",
     "text": [
      "unique_word2vec.txt\n"
     ]
    },
    {
     "name": "stderr",
     "output_type": "stream",
     "text": [
      "2019-02-06 18:31:20,054 : INFO : EPOCH 14 - PROGRESS: at 10.41% examples, 273259 words/s, in_qsize 0, out_qsize 0\n",
      "2019-02-06 18:31:21,071 : INFO : EPOCH 14 - PROGRESS: at 20.94% examples, 264746 words/s, in_qsize 0, out_qsize 0\n",
      "2019-02-06 18:31:22,095 : INFO : EPOCH 14 - PROGRESS: at 32.58% examples, 259381 words/s, in_qsize 0, out_qsize 0\n",
      "2019-02-06 18:31:23,115 : INFO : EPOCH 14 - PROGRESS: at 43.34% examples, 264516 words/s, in_qsize 0, out_qsize 0\n",
      "2019-02-06 18:31:24,127 : INFO : EPOCH 14 - PROGRESS: at 53.67% examples, 265936 words/s, in_qsize 0, out_qsize 0\n",
      "2019-02-06 18:31:25,163 : INFO : EPOCH 14 - PROGRESS: at 63.96% examples, 265318 words/s, in_qsize 0, out_qsize 0\n",
      "2019-02-06 18:31:26,198 : INFO : EPOCH 14 - PROGRESS: at 82.56% examples, 260745 words/s, in_qsize 0, out_qsize 0\n",
      "2019-02-06 18:31:27,079 : INFO : worker thread finished; awaiting finish of 2 more threads\n",
      "2019-02-06 18:31:27,084 : INFO : worker thread finished; awaiting finish of 1 more threads\n",
      "2019-02-06 18:31:27,095 : INFO : worker thread finished; awaiting finish of 0 more threads\n",
      "2019-02-06 18:31:27,096 : INFO : EPOCH - 14 : training on 3030002 raw words (2091683 effective words) took 8.1s, 259662 effective words/s\n"
     ]
    },
    {
     "name": "stdout",
     "output_type": "stream",
     "text": [
      "unique_word2vec.txt\n"
     ]
    },
    {
     "name": "stderr",
     "output_type": "stream",
     "text": [
      "2019-02-06 18:31:28,108 : INFO : EPOCH 15 - PROGRESS: at 10.12% examples, 269902 words/s, in_qsize 0, out_qsize 0\n",
      "2019-02-06 18:31:29,101 : INFO : EPOCH 15 - PROGRESS: at 20.32% examples, 264516 words/s, in_qsize 0, out_qsize 0\n",
      "2019-02-06 18:31:30,135 : INFO : EPOCH 15 - PROGRESS: at 32.84% examples, 263136 words/s, in_qsize 0, out_qsize 0\n",
      "2019-02-06 18:31:31,169 : INFO : EPOCH 15 - PROGRESS: at 42.54% examples, 259597 words/s, in_qsize 0, out_qsize 0\n",
      "2019-02-06 18:31:32,193 : INFO : EPOCH 15 - PROGRESS: at 52.15% examples, 257733 words/s, in_qsize 0, out_qsize 0\n",
      "2019-02-06 18:31:33,195 : INFO : EPOCH 15 - PROGRESS: at 62.18% examples, 258239 words/s, in_qsize 0, out_qsize 0\n",
      "2019-02-06 18:31:34,200 : INFO : EPOCH 15 - PROGRESS: at 78.55% examples, 256011 words/s, in_qsize 0, out_qsize 0\n",
      "2019-02-06 18:31:35,200 : INFO : EPOCH 15 - PROGRESS: at 94.07% examples, 248244 words/s, in_qsize 0, out_qsize 0\n",
      "2019-02-06 18:31:35,478 : INFO : worker thread finished; awaiting finish of 2 more threads\n",
      "2019-02-06 18:31:35,493 : INFO : worker thread finished; awaiting finish of 1 more threads\n",
      "2019-02-06 18:31:35,502 : INFO : worker thread finished; awaiting finish of 0 more threads\n",
      "2019-02-06 18:31:35,503 : INFO : EPOCH - 15 : training on 3030002 raw words (2091313 effective words) took 8.4s, 248791 effective words/s\n"
     ]
    },
    {
     "name": "stdout",
     "output_type": "stream",
     "text": [
      "unique_word2vec.txt\n"
     ]
    },
    {
     "name": "stderr",
     "output_type": "stream",
     "text": [
      "2019-02-06 18:31:36,519 : INFO : EPOCH 16 - PROGRESS: at 9.80% examples, 260235 words/s, in_qsize 0, out_qsize 0\n",
      "2019-02-06 18:31:37,563 : INFO : EPOCH 16 - PROGRESS: at 20.94% examples, 262406 words/s, in_qsize 0, out_qsize 0\n",
      "2019-02-06 18:31:38,556 : INFO : EPOCH 16 - PROGRESS: at 33.64% examples, 268637 words/s, in_qsize 0, out_qsize 0\n",
      "2019-02-06 18:31:39,588 : INFO : EPOCH 16 - PROGRESS: at 43.87% examples, 267452 words/s, in_qsize 0, out_qsize 0\n",
      "2019-02-06 18:31:40,604 : INFO : EPOCH 16 - PROGRESS: at 52.15% examples, 257650 words/s, in_qsize 0, out_qsize 0\n",
      "2019-02-06 18:31:41,612 : INFO : EPOCH 16 - PROGRESS: at 62.18% examples, 258066 words/s, in_qsize 0, out_qsize 0\n",
      "2019-02-06 18:31:42,643 : INFO : EPOCH 16 - PROGRESS: at 77.95% examples, 253734 words/s, in_qsize 0, out_qsize 0\n",
      "2019-02-06 18:31:43,675 : INFO : EPOCH 16 - PROGRESS: at 98.80% examples, 253003 words/s, in_qsize 0, out_qsize 1\n",
      "2019-02-06 18:31:43,706 : INFO : worker thread finished; awaiting finish of 2 more threads\n",
      "2019-02-06 18:31:43,718 : INFO : worker thread finished; awaiting finish of 1 more threads\n",
      "2019-02-06 18:31:43,728 : INFO : worker thread finished; awaiting finish of 0 more threads\n",
      "2019-02-06 18:31:43,729 : INFO : EPOCH - 16 : training on 3030002 raw words (2090812 effective words) took 8.2s, 254307 effective words/s\n"
     ]
    },
    {
     "name": "stdout",
     "output_type": "stream",
     "text": [
      "unique_word2vec.txt\n"
     ]
    },
    {
     "name": "stderr",
     "output_type": "stream",
     "text": [
      "2019-02-06 18:31:44,769 : INFO : EPOCH 17 - PROGRESS: at 9.31% examples, 244375 words/s, in_qsize 0, out_qsize 0\n",
      "2019-02-06 18:31:45,762 : INFO : EPOCH 17 - PROGRESS: at 20.94% examples, 264334 words/s, in_qsize 0, out_qsize 0\n",
      "2019-02-06 18:31:46,781 : INFO : EPOCH 17 - PROGRESS: at 32.58% examples, 259534 words/s, in_qsize 0, out_qsize 0\n",
      "2019-02-06 18:31:47,797 : INFO : EPOCH 17 - PROGRESS: at 40.61% examples, 248156 words/s, in_qsize 0, out_qsize 0\n",
      "2019-02-06 18:31:48,813 : INFO : EPOCH 17 - PROGRESS: at 50.87% examples, 251520 words/s, in_qsize 0, out_qsize 0\n",
      "2019-02-06 18:31:49,846 : INFO : EPOCH 17 - PROGRESS: at 59.58% examples, 246309 words/s, in_qsize 0, out_qsize 0\n",
      "2019-02-06 18:31:50,859 : INFO : EPOCH 17 - PROGRESS: at 72.61% examples, 246166 words/s, in_qsize 0, out_qsize 0\n",
      "2019-02-06 18:31:51,872 : INFO : EPOCH 17 - PROGRESS: at 93.57% examples, 245356 words/s, in_qsize 0, out_qsize 0\n",
      "2019-02-06 18:31:52,402 : INFO : worker thread finished; awaiting finish of 2 more threads\n",
      "2019-02-06 18:31:52,413 : INFO : worker thread finished; awaiting finish of 1 more threads\n",
      "2019-02-06 18:31:52,419 : INFO : worker thread finished; awaiting finish of 0 more threads\n",
      "2019-02-06 18:31:52,420 : INFO : EPOCH - 17 : training on 3030002 raw words (2091467 effective words) took 8.7s, 240712 effective words/s\n"
     ]
    },
    {
     "name": "stdout",
     "output_type": "stream",
     "text": [
      "unique_word2vec.txt\n"
     ]
    },
    {
     "name": "stderr",
     "output_type": "stream",
     "text": [
      "2019-02-06 18:31:53,441 : INFO : EPOCH 18 - PROGRESS: at 9.57% examples, 251786 words/s, in_qsize 0, out_qsize 0\n",
      "2019-02-06 18:31:54,447 : INFO : EPOCH 18 - PROGRESS: at 18.43% examples, 241123 words/s, in_qsize 0, out_qsize 0\n",
      "2019-02-06 18:31:55,467 : INFO : EPOCH 18 - PROGRESS: at 29.00% examples, 235952 words/s, in_qsize 0, out_qsize 0\n",
      "2019-02-06 18:31:56,489 : INFO : EPOCH 18 - PROGRESS: at 40.18% examples, 244560 words/s, in_qsize 0, out_qsize 0\n",
      "2019-02-06 18:31:57,519 : INFO : EPOCH 18 - PROGRESS: at 48.58% examples, 239094 words/s, in_qsize 0, out_qsize 0\n",
      "2019-02-06 18:31:58,575 : INFO : EPOCH 18 - PROGRESS: at 57.79% examples, 237407 words/s, in_qsize 0, out_qsize 1\n",
      "2019-02-06 18:31:59,579 : INFO : EPOCH 18 - PROGRESS: at 66.18% examples, 234665 words/s, in_qsize 0, out_qsize 0\n",
      "2019-02-06 18:32:00,603 : INFO : EPOCH 18 - PROGRESS: at 85.42% examples, 232014 words/s, in_qsize 0, out_qsize 0\n",
      "2019-02-06 18:32:01,338 : INFO : worker thread finished; awaiting finish of 2 more threads\n",
      "2019-02-06 18:32:01,351 : INFO : worker thread finished; awaiting finish of 1 more threads\n",
      "2019-02-06 18:32:01,362 : INFO : worker thread finished; awaiting finish of 0 more threads\n",
      "2019-02-06 18:32:01,363 : INFO : EPOCH - 18 : training on 3030002 raw words (2091475 effective words) took 8.9s, 233971 effective words/s\n"
     ]
    },
    {
     "name": "stdout",
     "output_type": "stream",
     "text": [
      "unique_word2vec.txt\n"
     ]
    },
    {
     "name": "stderr",
     "output_type": "stream",
     "text": [
      "2019-02-06 18:32:02,368 : INFO : EPOCH 19 - PROGRESS: at 9.06% examples, 241550 words/s, in_qsize 0, out_qsize 0\n",
      "2019-02-06 18:32:03,392 : INFO : EPOCH 19 - PROGRESS: at 18.43% examples, 239920 words/s, in_qsize 0, out_qsize 0\n",
      "2019-02-06 18:32:04,402 : INFO : EPOCH 19 - PROGRESS: at 29.24% examples, 238616 words/s, in_qsize 0, out_qsize 0\n",
      "2019-02-06 18:32:05,417 : INFO : EPOCH 19 - PROGRESS: at 38.46% examples, 233315 words/s, in_qsize 0, out_qsize 0\n",
      "2019-02-06 18:32:06,424 : INFO : EPOCH 19 - PROGRESS: at 48.05% examples, 237958 words/s, in_qsize 0, out_qsize 0\n",
      "2019-02-06 18:32:07,432 : INFO : EPOCH 19 - PROGRESS: at 56.49% examples, 235089 words/s, in_qsize 0, out_qsize 0\n",
      "2019-02-06 18:32:08,442 : INFO : EPOCH 19 - PROGRESS: at 67.77% examples, 240288 words/s, in_qsize 0, out_qsize 0\n",
      "2019-02-06 18:32:09,467 : INFO : EPOCH 19 - PROGRESS: at 88.56% examples, 239491 words/s, in_qsize 0, out_qsize 0\n",
      "2019-02-06 18:32:10,025 : INFO : worker thread finished; awaiting finish of 2 more threads\n",
      "2019-02-06 18:32:10,039 : INFO : worker thread finished; awaiting finish of 1 more threads\n",
      "2019-02-06 18:32:10,042 : INFO : worker thread finished; awaiting finish of 0 more threads\n",
      "2019-02-06 18:32:10,043 : INFO : EPOCH - 19 : training on 3030002 raw words (2091551 effective words) took 8.7s, 240995 effective words/s\n"
     ]
    },
    {
     "name": "stdout",
     "output_type": "stream",
     "text": [
      "unique_word2vec.txt\n"
     ]
    },
    {
     "name": "stderr",
     "output_type": "stream",
     "text": [
      "2019-02-06 18:32:11,062 : INFO : EPOCH 20 - PROGRESS: at 8.50% examples, 223622 words/s, in_qsize 0, out_qsize 0\n",
      "2019-02-06 18:32:12,077 : INFO : EPOCH 20 - PROGRESS: at 18.43% examples, 239307 words/s, in_qsize 0, out_qsize 0\n",
      "2019-02-06 18:32:13,120 : INFO : EPOCH 20 - PROGRESS: at 30.36% examples, 246544 words/s, in_qsize 0, out_qsize 0\n",
      "2019-02-06 18:32:14,141 : INFO : EPOCH 20 - PROGRESS: at 41.47% examples, 251157 words/s, in_qsize 0, out_qsize 0\n",
      "2019-02-06 18:32:15,154 : INFO : EPOCH 20 - PROGRESS: at 52.15% examples, 256772 words/s, in_qsize 0, out_qsize 0\n",
      "2019-02-06 18:32:16,169 : INFO : EPOCH 20 - PROGRESS: at 62.45% examples, 258463 words/s, in_qsize 0, out_qsize 0\n",
      "2019-02-06 18:32:17,176 : INFO : EPOCH 20 - PROGRESS: at 80.88% examples, 258679 words/s, in_qsize 0, out_qsize 0\n",
      "2019-02-06 18:32:18,109 : INFO : worker thread finished; awaiting finish of 2 more threads\n",
      "2019-02-06 18:32:18,119 : INFO : worker thread finished; awaiting finish of 1 more threads\n",
      "2019-02-06 18:32:18,134 : INFO : worker thread finished; awaiting finish of 0 more threads\n",
      "2019-02-06 18:32:18,135 : INFO : EPOCH - 20 : training on 3030002 raw words (2090745 effective words) took 8.1s, 258432 effective words/s\n"
     ]
    },
    {
     "name": "stdout",
     "output_type": "stream",
     "text": [
      "unique_word2vec.txt\n"
     ]
    },
    {
     "name": "stderr",
     "output_type": "stream",
     "text": [
      "2019-02-06 18:32:19,143 : INFO : EPOCH 21 - PROGRESS: at 10.12% examples, 268155 words/s, in_qsize 0, out_qsize 0\n",
      "2019-02-06 18:32:20,160 : INFO : EPOCH 21 - PROGRESS: at 22.12% examples, 273658 words/s, in_qsize 1, out_qsize 0\n",
      "2019-02-06 18:32:21,177 : INFO : EPOCH 21 - PROGRESS: at 34.19% examples, 274801 words/s, in_qsize 0, out_qsize 0\n",
      "2019-02-06 18:32:22,188 : INFO : EPOCH 21 - PROGRESS: at 44.40% examples, 272938 words/s, in_qsize 0, out_qsize 1\n",
      "2019-02-06 18:32:23,194 : INFO : EPOCH 21 - PROGRESS: at 54.70% examples, 272786 words/s, in_qsize 0, out_qsize 0\n",
      "2019-02-06 18:32:24,207 : INFO : EPOCH 21 - PROGRESS: at 65.08% examples, 271926 words/s, in_qsize 0, out_qsize 0\n",
      "2019-02-06 18:32:25,215 : INFO : EPOCH 21 - PROGRESS: at 85.42% examples, 268038 words/s, in_qsize 0, out_qsize 0\n",
      "2019-02-06 18:32:25,910 : INFO : worker thread finished; awaiting finish of 2 more threads\n",
      "2019-02-06 18:32:25,920 : INFO : worker thread finished; awaiting finish of 1 more threads\n",
      "2019-02-06 18:32:25,926 : INFO : worker thread finished; awaiting finish of 0 more threads\n",
      "2019-02-06 18:32:25,927 : INFO : EPOCH - 21 : training on 3030002 raw words (2090738 effective words) took 7.8s, 268399 effective words/s\n"
     ]
    },
    {
     "name": "stdout",
     "output_type": "stream",
     "text": [
      "unique_word2vec.txt\n"
     ]
    },
    {
     "name": "stderr",
     "output_type": "stream",
     "text": [
      "2019-02-06 18:32:26,970 : INFO : EPOCH 22 - PROGRESS: at 10.41% examples, 266219 words/s, in_qsize 0, out_qsize 0\n",
      "2019-02-06 18:32:27,989 : INFO : EPOCH 22 - PROGRESS: at 22.72% examples, 272100 words/s, in_qsize 0, out_qsize 0\n",
      "2019-02-06 18:32:28,995 : INFO : EPOCH 22 - PROGRESS: at 33.93% examples, 269621 words/s, in_qsize 0, out_qsize 0\n",
      "2019-02-06 18:32:30,017 : INFO : EPOCH 22 - PROGRESS: at 43.87% examples, 267533 words/s, in_qsize 0, out_qsize 0\n",
      "2019-02-06 18:32:31,039 : INFO : EPOCH 22 - PROGRESS: at 54.18% examples, 267218 words/s, in_qsize 0, out_qsize 0\n",
      "2019-02-06 18:32:32,072 : INFO : EPOCH 22 - PROGRESS: at 65.08% examples, 268823 words/s, in_qsize 0, out_qsize 0\n",
      "2019-02-06 18:32:33,101 : INFO : EPOCH 22 - PROGRESS: at 85.99% examples, 265801 words/s, in_qsize 0, out_qsize 0\n",
      "2019-02-06 18:32:33,838 : INFO : worker thread finished; awaiting finish of 2 more threads\n",
      "2019-02-06 18:32:33,848 : INFO : worker thread finished; awaiting finish of 1 more threads\n",
      "2019-02-06 18:32:33,858 : INFO : worker thread finished; awaiting finish of 0 more threads\n",
      "2019-02-06 18:32:33,859 : INFO : EPOCH - 22 : training on 3030002 raw words (2091832 effective words) took 7.9s, 263771 effective words/s\n"
     ]
    },
    {
     "name": "stdout",
     "output_type": "stream",
     "text": [
      "unique_word2vec.txt\n"
     ]
    },
    {
     "name": "stderr",
     "output_type": "stream",
     "text": [
      "2019-02-06 18:32:34,878 : INFO : EPOCH 23 - PROGRESS: at 10.41% examples, 273389 words/s, in_qsize 0, out_qsize 0\n",
      "2019-02-06 18:32:35,906 : INFO : EPOCH 23 - PROGRESS: at 22.12% examples, 270183 words/s, in_qsize 0, out_qsize 0\n",
      "2019-02-06 18:32:36,933 : INFO : EPOCH 23 - PROGRESS: at 34.19% examples, 271481 words/s, in_qsize 0, out_qsize 0\n",
      "2019-02-06 18:32:37,943 : INFO : EPOCH 23 - PROGRESS: at 44.67% examples, 272693 words/s, in_qsize 0, out_qsize 0\n",
      "2019-02-06 18:32:38,955 : INFO : EPOCH 23 - PROGRESS: at 54.95% examples, 272151 words/s, in_qsize 0, out_qsize 1\n",
      "2019-02-06 18:32:39,956 : INFO : EPOCH 23 - PROGRESS: at 65.35% examples, 271939 words/s, in_qsize 0, out_qsize 0\n",
      "2019-02-06 18:32:40,963 : INFO : EPOCH 23 - PROGRESS: at 85.99% examples, 268037 words/s, in_qsize 0, out_qsize 0\n",
      "2019-02-06 18:32:41,639 : INFO : worker thread finished; awaiting finish of 2 more threads\n",
      "2019-02-06 18:32:41,653 : INFO : worker thread finished; awaiting finish of 1 more threads\n",
      "2019-02-06 18:32:41,663 : INFO : worker thread finished; awaiting finish of 0 more threads\n",
      "2019-02-06 18:32:41,663 : INFO : EPOCH - 23 : training on 3030002 raw words (2091100 effective words) took 7.8s, 267998 effective words/s\n"
     ]
    },
    {
     "name": "stdout",
     "output_type": "stream",
     "text": [
      "unique_word2vec.txt\n"
     ]
    },
    {
     "name": "stderr",
     "output_type": "stream",
     "text": [
      "2019-02-06 18:32:42,683 : INFO : EPOCH 24 - PROGRESS: at 10.41% examples, 272465 words/s, in_qsize 0, out_qsize 0\n",
      "2019-02-06 18:32:43,704 : INFO : EPOCH 24 - PROGRESS: at 22.12% examples, 271139 words/s, in_qsize 0, out_qsize 0\n",
      "2019-02-06 18:32:44,757 : INFO : EPOCH 24 - PROGRESS: at 34.19% examples, 269629 words/s, in_qsize 0, out_qsize 1\n",
      "2019-02-06 18:32:45,790 : INFO : EPOCH 24 - PROGRESS: at 44.95% examples, 271375 words/s, in_qsize 0, out_qsize 0\n",
      "2019-02-06 18:32:46,806 : INFO : EPOCH 24 - PROGRESS: at 54.95% examples, 269581 words/s, in_qsize 0, out_qsize 0\n",
      "2019-02-06 18:32:47,815 : INFO : EPOCH 24 - PROGRESS: at 65.62% examples, 271054 words/s, in_qsize 0, out_qsize 0\n",
      "2019-02-06 18:32:48,872 : INFO : EPOCH 24 - PROGRESS: at 87.17% examples, 266174 words/s, in_qsize 1, out_qsize 0\n",
      "2019-02-06 18:32:49,484 : INFO : worker thread finished; awaiting finish of 2 more threads\n",
      "2019-02-06 18:32:49,496 : INFO : worker thread finished; awaiting finish of 1 more threads\n",
      "2019-02-06 18:32:49,508 : INFO : worker thread finished; awaiting finish of 0 more threads\n",
      "2019-02-06 18:32:49,509 : INFO : EPOCH - 24 : training on 3030002 raw words (2091701 effective words) took 7.8s, 266673 effective words/s\n"
     ]
    },
    {
     "name": "stdout",
     "output_type": "stream",
     "text": [
      "unique_word2vec.txt\n"
     ]
    },
    {
     "name": "stderr",
     "output_type": "stream",
     "text": [
      "2019-02-06 18:32:50,515 : INFO : EPOCH 25 - PROGRESS: at 10.12% examples, 268816 words/s, in_qsize 0, out_qsize 0\n",
      "2019-02-06 18:32:51,530 : INFO : EPOCH 25 - PROGRESS: at 22.12% examples, 274660 words/s, in_qsize 0, out_qsize 0\n",
      "2019-02-06 18:32:52,546 : INFO : EPOCH 25 - PROGRESS: at 34.19% examples, 274689 words/s, in_qsize 0, out_qsize 0\n",
      "2019-02-06 18:32:53,574 : INFO : EPOCH 25 - PROGRESS: at 44.95% examples, 275466 words/s, in_qsize 0, out_qsize 0\n",
      "2019-02-06 18:32:54,575 : INFO : EPOCH 25 - PROGRESS: at 52.92% examples, 263052 words/s, in_qsize 0, out_qsize 0\n",
      "2019-02-06 18:32:55,579 : INFO : EPOCH 25 - PROGRESS: at 60.08% examples, 250380 words/s, in_qsize 0, out_qsize 0\n",
      "2019-02-06 18:32:56,589 : INFO : EPOCH 25 - PROGRESS: at 70.15% examples, 244113 words/s, in_qsize 0, out_qsize 0\n",
      "2019-02-06 18:32:57,597 : INFO : EPOCH 25 - PROGRESS: at 87.78% examples, 238119 words/s, in_qsize 0, out_qsize 0\n",
      "2019-02-06 18:32:58,258 : INFO : worker thread finished; awaiting finish of 2 more threads\n",
      "2019-02-06 18:32:58,272 : INFO : worker thread finished; awaiting finish of 1 more threads\n",
      "2019-02-06 18:32:58,283 : INFO : worker thread finished; awaiting finish of 0 more threads\n",
      "2019-02-06 18:32:58,284 : INFO : EPOCH - 25 : training on 3030002 raw words (2091761 effective words) took 8.8s, 238416 effective words/s\n"
     ]
    },
    {
     "name": "stdout",
     "output_type": "stream",
     "text": [
      "unique_word2vec.txt\n"
     ]
    },
    {
     "name": "stderr",
     "output_type": "stream",
     "text": [
      "2019-02-06 18:32:59,308 : INFO : EPOCH 26 - PROGRESS: at 9.80% examples, 258035 words/s, in_qsize 1, out_qsize 0\n",
      "2019-02-06 18:33:00,310 : INFO : EPOCH 26 - PROGRESS: at 20.94% examples, 265640 words/s, in_qsize 0, out_qsize 0\n",
      "2019-02-06 18:33:01,324 : INFO : EPOCH 26 - PROGRESS: at 33.38% examples, 267942 words/s, in_qsize 0, out_qsize 0\n",
      "2019-02-06 18:33:02,352 : INFO : EPOCH 26 - PROGRESS: at 44.14% examples, 270272 words/s, in_qsize 0, out_qsize 0\n",
      "2019-02-06 18:33:03,367 : INFO : EPOCH 26 - PROGRESS: at 54.70% examples, 272221 words/s, in_qsize 1, out_qsize 0\n",
      "2019-02-06 18:33:04,373 : INFO : EPOCH 26 - PROGRESS: at 65.35% examples, 272526 words/s, in_qsize 0, out_qsize 0\n",
      "2019-02-06 18:33:05,402 : INFO : EPOCH 26 - PROGRESS: at 86.52% examples, 268792 words/s, in_qsize 0, out_qsize 0\n",
      "2019-02-06 18:33:06,055 : INFO : worker thread finished; awaiting finish of 2 more threads\n",
      "2019-02-06 18:33:06,060 : INFO : worker thread finished; awaiting finish of 1 more threads\n",
      "2019-02-06 18:33:06,069 : INFO : worker thread finished; awaiting finish of 0 more threads\n",
      "2019-02-06 18:33:06,070 : INFO : EPOCH - 26 : training on 3030002 raw words (2091861 effective words) took 7.8s, 268783 effective words/s\n"
     ]
    },
    {
     "name": "stdout",
     "output_type": "stream",
     "text": [
      "unique_word2vec.txt\n"
     ]
    },
    {
     "name": "stderr",
     "output_type": "stream",
     "text": [
      "2019-02-06 18:33:07,090 : INFO : EPOCH 27 - PROGRESS: at 10.12% examples, 265592 words/s, in_qsize 0, out_qsize 0\n",
      "2019-02-06 18:33:08,113 : INFO : EPOCH 27 - PROGRESS: at 20.32% examples, 260328 words/s, in_qsize 0, out_qsize 0\n",
      "2019-02-06 18:33:09,125 : INFO : EPOCH 27 - PROGRESS: at 33.38% examples, 266166 words/s, in_qsize 0, out_qsize 0\n",
      "2019-02-06 18:33:10,133 : INFO : EPOCH 27 - PROGRESS: at 44.41% examples, 272448 words/s, in_qsize 0, out_qsize 0\n",
      "2019-02-06 18:33:11,165 : INFO : EPOCH 27 - PROGRESS: at 54.70% examples, 270869 words/s, in_qsize 0, out_qsize 0\n",
      "2019-02-06 18:33:12,186 : INFO : EPOCH 27 - PROGRESS: at 64.81% examples, 269122 words/s, in_qsize 0, out_qsize 0\n",
      "2019-02-06 18:33:13,190 : INFO : EPOCH 27 - PROGRESS: at 85.42% examples, 266606 words/s, in_qsize 0, out_qsize 0\n",
      "2019-02-06 18:33:13,927 : INFO : worker thread finished; awaiting finish of 2 more threads\n",
      "2019-02-06 18:33:13,938 : INFO : worker thread finished; awaiting finish of 1 more threads\n",
      "2019-02-06 18:33:13,947 : INFO : worker thread finished; awaiting finish of 0 more threads\n",
      "2019-02-06 18:33:13,948 : INFO : EPOCH - 27 : training on 3030002 raw words (2091176 effective words) took 7.9s, 265617 effective words/s\n"
     ]
    },
    {
     "name": "stdout",
     "output_type": "stream",
     "text": [
      "unique_word2vec.txt\n"
     ]
    },
    {
     "name": "stderr",
     "output_type": "stream",
     "text": [
      "2019-02-06 18:33:14,951 : INFO : EPOCH 28 - PROGRESS: at 9.80% examples, 262130 words/s, in_qsize 0, out_qsize 0\n",
      "2019-02-06 18:33:15,974 : INFO : EPOCH 28 - PROGRESS: at 21.53% examples, 271997 words/s, in_qsize 0, out_qsize 0\n",
      "2019-02-06 18:33:16,960 : INFO : EPOCH 28 - PROGRESS: at 33.11% examples, 267468 words/s, in_qsize 0, out_qsize 0\n",
      "2019-02-06 18:33:17,962 : INFO : EPOCH 28 - PROGRESS: at 43.34% examples, 268328 words/s, in_qsize 0, out_qsize 0\n",
      "2019-02-06 18:33:18,995 : INFO : EPOCH 28 - PROGRESS: at 54.18% examples, 271042 words/s, in_qsize 0, out_qsize 0\n",
      "2019-02-06 18:33:19,990 : INFO : EPOCH 28 - PROGRESS: at 64.55% examples, 271083 words/s, in_qsize 0, out_qsize 0\n",
      "2019-02-06 18:33:20,997 : INFO : EPOCH 28 - PROGRESS: at 84.84% examples, 268232 words/s, in_qsize 0, out_qsize 0\n",
      "2019-02-06 18:33:21,733 : INFO : worker thread finished; awaiting finish of 2 more threads\n",
      "2019-02-06 18:33:21,743 : INFO : worker thread finished; awaiting finish of 1 more threads\n",
      "2019-02-06 18:33:21,748 : INFO : worker thread finished; awaiting finish of 0 more threads\n",
      "2019-02-06 18:33:21,749 : INFO : EPOCH - 28 : training on 3030002 raw words (2091119 effective words) took 7.8s, 268081 effective words/s\n"
     ]
    },
    {
     "name": "stdout",
     "output_type": "stream",
     "text": [
      "unique_word2vec.txt\n"
     ]
    },
    {
     "name": "stderr",
     "output_type": "stream",
     "text": [
      "2019-02-06 18:33:22,760 : INFO : EPOCH 29 - PROGRESS: at 10.41% examples, 274877 words/s, in_qsize 0, out_qsize 0\n",
      "2019-02-06 18:33:23,805 : INFO : EPOCH 29 - PROGRESS: at 22.72% examples, 272956 words/s, in_qsize 0, out_qsize 1\n",
      "2019-02-06 18:33:24,809 : INFO : EPOCH 29 - PROGRESS: at 34.70% examples, 277338 words/s, in_qsize 0, out_qsize 0\n",
      "2019-02-06 18:33:25,812 : INFO : EPOCH 29 - PROGRESS: at 45.46% examples, 279019 words/s, in_qsize 0, out_qsize 0\n",
      "2019-02-06 18:33:26,832 : INFO : EPOCH 29 - PROGRESS: at 56.23% examples, 279193 words/s, in_qsize 0, out_qsize 0\n",
      "2019-02-06 18:33:27,840 : INFO : EPOCH 29 - PROGRESS: at 67.15% examples, 278161 words/s, in_qsize 0, out_qsize 0\n",
      "2019-02-06 18:33:28,860 : INFO : EPOCH 29 - PROGRESS: at 88.28% examples, 271852 words/s, in_qsize 0, out_qsize 0\n",
      "2019-02-06 18:33:29,545 : INFO : worker thread finished; awaiting finish of 2 more threads\n",
      "2019-02-06 18:33:29,557 : INFO : worker thread finished; awaiting finish of 1 more threads\n",
      "2019-02-06 18:33:29,565 : INFO : worker thread finished; awaiting finish of 0 more threads\n",
      "2019-02-06 18:33:29,566 : INFO : EPOCH - 29 : training on 3030002 raw words (2091445 effective words) took 7.8s, 267605 effective words/s\n"
     ]
    },
    {
     "name": "stdout",
     "output_type": "stream",
     "text": [
      "unique_word2vec.txt\n"
     ]
    },
    {
     "name": "stderr",
     "output_type": "stream",
     "text": [
      "2019-02-06 18:33:30,571 : INFO : EPOCH 30 - PROGRESS: at 9.57% examples, 255498 words/s, in_qsize 0, out_qsize 0\n",
      "2019-02-06 18:33:31,572 : INFO : EPOCH 30 - PROGRESS: at 21.53% examples, 271969 words/s, in_qsize 0, out_qsize 0\n",
      "2019-02-06 18:33:32,595 : INFO : EPOCH 30 - PROGRESS: at 33.93% examples, 273023 words/s, in_qsize 0, out_qsize 0\n",
      "2019-02-06 18:33:33,600 : INFO : EPOCH 30 - PROGRESS: at 43.61% examples, 268951 words/s, in_qsize 0, out_qsize 0\n",
      "2019-02-06 18:33:34,615 : INFO : EPOCH 30 - PROGRESS: at 53.93% examples, 269448 words/s, in_qsize 0, out_qsize 0\n",
      "2019-02-06 18:33:35,634 : INFO : EPOCH 30 - PROGRESS: at 64.28% examples, 269102 words/s, in_qsize 0, out_qsize 0\n",
      "2019-02-06 18:33:36,631 : INFO : EPOCH 30 - PROGRESS: at 84.84% examples, 267758 words/s, in_qsize 0, out_qsize 0\n",
      "2019-02-06 18:33:37,376 : INFO : worker thread finished; awaiting finish of 2 more threads\n",
      "2019-02-06 18:33:37,390 : INFO : worker thread finished; awaiting finish of 1 more threads\n",
      "2019-02-06 18:33:37,394 : INFO : worker thread finished; awaiting finish of 0 more threads\n",
      "2019-02-06 18:33:37,395 : INFO : EPOCH - 30 : training on 3030002 raw words (2091486 effective words) took 7.8s, 267249 effective words/s\n"
     ]
    },
    {
     "name": "stdout",
     "output_type": "stream",
     "text": [
      "unique_word2vec.txt\n"
     ]
    },
    {
     "name": "stderr",
     "output_type": "stream",
     "text": [
      "2019-02-06 18:33:38,405 : INFO : EPOCH 31 - PROGRESS: at 10.41% examples, 274501 words/s, in_qsize 0, out_qsize 0\n",
      "2019-02-06 18:33:39,426 : INFO : EPOCH 31 - PROGRESS: at 22.72% examples, 276448 words/s, in_qsize 0, out_qsize 0\n",
      "2019-02-06 18:33:40,425 : INFO : EPOCH 31 - PROGRESS: at 34.45% examples, 277562 words/s, in_qsize 0, out_qsize 0\n",
      "2019-02-06 18:33:41,436 : INFO : EPOCH 31 - PROGRESS: at 44.67% examples, 275225 words/s, in_qsize 0, out_qsize 0\n",
      "2019-02-06 18:33:42,451 : INFO : EPOCH 31 - PROGRESS: at 54.70% examples, 273037 words/s, in_qsize 0, out_qsize 0\n",
      "2019-02-06 18:33:43,464 : INFO : EPOCH 31 - PROGRESS: at 65.35% examples, 273331 words/s, in_qsize 0, out_qsize 0\n",
      "2019-02-06 18:33:44,477 : INFO : EPOCH 31 - PROGRESS: at 86.52% examples, 269935 words/s, in_qsize 0, out_qsize 0\n",
      "2019-02-06 18:33:45,165 : INFO : worker thread finished; awaiting finish of 2 more threads\n",
      "2019-02-06 18:33:45,171 : INFO : worker thread finished; awaiting finish of 1 more threads\n",
      "2019-02-06 18:33:45,182 : INFO : worker thread finished; awaiting finish of 0 more threads\n",
      "2019-02-06 18:33:45,183 : INFO : EPOCH - 31 : training on 3030002 raw words (2091495 effective words) took 7.8s, 268610 effective words/s\n"
     ]
    },
    {
     "name": "stdout",
     "output_type": "stream",
     "text": [
      "unique_word2vec.txt\n"
     ]
    },
    {
     "name": "stderr",
     "output_type": "stream",
     "text": [
      "2019-02-06 18:33:46,210 : INFO : EPOCH 32 - PROGRESS: at 10.69% examples, 277432 words/s, in_qsize 0, out_qsize 0\n",
      "2019-02-06 18:33:47,295 : INFO : EPOCH 32 - PROGRESS: at 22.12% examples, 262122 words/s, in_qsize 0, out_qsize 0\n",
      "2019-02-06 18:33:48,299 : INFO : EPOCH 32 - PROGRESS: at 33.64% examples, 263334 words/s, in_qsize 0, out_qsize 0\n",
      "2019-02-06 18:33:49,306 : INFO : EPOCH 32 - PROGRESS: at 43.87% examples, 264847 words/s, in_qsize 0, out_qsize 0\n",
      "2019-02-06 18:33:50,321 : INFO : EPOCH 32 - PROGRESS: at 53.93% examples, 264596 words/s, in_qsize 0, out_qsize 0\n",
      "2019-02-06 18:33:51,340 : INFO : EPOCH 32 - PROGRESS: at 64.55% examples, 266082 words/s, in_qsize 0, out_qsize 0\n",
      "2019-02-06 18:33:52,353 : INFO : EPOCH 32 - PROGRESS: at 83.13% examples, 261321 words/s, in_qsize 0, out_qsize 0\n",
      "2019-02-06 18:33:53,193 : INFO : worker thread finished; awaiting finish of 2 more threads\n",
      "2019-02-06 18:33:53,200 : INFO : worker thread finished; awaiting finish of 1 more threads\n",
      "2019-02-06 18:33:53,208 : INFO : worker thread finished; awaiting finish of 0 more threads\n",
      "2019-02-06 18:33:53,211 : INFO : EPOCH - 32 : training on 3030002 raw words (2090704 effective words) took 8.0s, 260617 effective words/s\n"
     ]
    },
    {
     "name": "stdout",
     "output_type": "stream",
     "text": [
      "unique_word2vec.txt\n"
     ]
    },
    {
     "name": "stderr",
     "output_type": "stream",
     "text": [
      "2019-02-06 18:33:54,230 : INFO : EPOCH 33 - PROGRESS: at 9.80% examples, 257937 words/s, in_qsize 0, out_qsize 0\n",
      "2019-02-06 18:33:55,291 : INFO : EPOCH 33 - PROGRESS: at 21.53% examples, 263088 words/s, in_qsize 0, out_qsize 0\n",
      "2019-02-06 18:33:56,293 : INFO : EPOCH 33 - PROGRESS: at 34.19% examples, 270665 words/s, in_qsize 0, out_qsize 0\n",
      "2019-02-06 18:33:57,313 : INFO : EPOCH 33 - PROGRESS: at 44.41% examples, 269836 words/s, in_qsize 0, out_qsize 1\n",
      "2019-02-06 18:33:58,338 : INFO : EPOCH 33 - PROGRESS: at 54.95% examples, 270942 words/s, in_qsize 0, out_qsize 0\n",
      "2019-02-06 18:33:59,339 : INFO : EPOCH 33 - PROGRESS: at 65.90% examples, 272943 words/s, in_qsize 0, out_qsize 0\n",
      "2019-02-06 18:34:00,363 : INFO : EPOCH 33 - PROGRESS: at 87.78% examples, 269227 words/s, in_qsize 0, out_qsize 0\n",
      "2019-02-06 18:34:00,973 : INFO : worker thread finished; awaiting finish of 2 more threads\n",
      "2019-02-06 18:34:00,986 : INFO : worker thread finished; awaiting finish of 1 more threads\n",
      "2019-02-06 18:34:00,997 : INFO : worker thread finished; awaiting finish of 0 more threads\n",
      "2019-02-06 18:34:00,997 : INFO : EPOCH - 33 : training on 3030002 raw words (2090996 effective words) took 7.8s, 268603 effective words/s\n"
     ]
    },
    {
     "name": "stdout",
     "output_type": "stream",
     "text": [
      "unique_word2vec.txt\n"
     ]
    },
    {
     "name": "stderr",
     "output_type": "stream",
     "text": [
      "2019-02-06 18:34:02,023 : INFO : EPOCH 34 - PROGRESS: at 10.69% examples, 278035 words/s, in_qsize 0, out_qsize 0\n",
      "2019-02-06 18:34:03,026 : INFO : EPOCH 34 - PROGRESS: at 22.13% examples, 273073 words/s, in_qsize 0, out_qsize 0\n",
      "2019-02-06 18:34:04,040 : INFO : EPOCH 34 - PROGRESS: at 34.19% examples, 274371 words/s, in_qsize 0, out_qsize 0\n",
      "2019-02-06 18:34:05,059 : INFO : EPOCH 34 - PROGRESS: at 44.67% examples, 274297 words/s, in_qsize 0, out_qsize 0\n",
      "2019-02-06 18:34:06,057 : INFO : EPOCH 34 - PROGRESS: at 54.70% examples, 272920 words/s, in_qsize 0, out_qsize 0\n",
      "2019-02-06 18:34:07,097 : INFO : EPOCH 34 - PROGRESS: at 65.08% examples, 271067 words/s, in_qsize 0, out_qsize 0\n",
      "2019-02-06 18:34:08,099 : INFO : EPOCH 34 - PROGRESS: at 84.84% examples, 266583 words/s, in_qsize 0, out_qsize 0\n",
      "2019-02-06 18:34:08,844 : INFO : worker thread finished; awaiting finish of 2 more threads\n",
      "2019-02-06 18:34:08,847 : INFO : worker thread finished; awaiting finish of 1 more threads\n",
      "2019-02-06 18:34:08,856 : INFO : worker thread finished; awaiting finish of 0 more threads\n",
      "2019-02-06 18:34:08,857 : INFO : EPOCH - 34 : training on 3030002 raw words (2092548 effective words) took 7.9s, 266352 effective words/s\n"
     ]
    },
    {
     "name": "stdout",
     "output_type": "stream",
     "text": [
      "unique_word2vec.txt\n"
     ]
    },
    {
     "name": "stderr",
     "output_type": "stream",
     "text": [
      "2019-02-06 18:34:09,886 : INFO : EPOCH 35 - PROGRESS: at 10.69% examples, 278607 words/s, in_qsize 0, out_qsize 0\n",
      "2019-02-06 18:34:10,898 : INFO : EPOCH 35 - PROGRESS: at 22.72% examples, 274792 words/s, in_qsize 0, out_qsize 0\n",
      "2019-02-06 18:34:11,923 : INFO : EPOCH 35 - PROGRESS: at 34.19% examples, 271712 words/s, in_qsize 0, out_qsize 0\n",
      "2019-02-06 18:34:12,950 : INFO : EPOCH 35 - PROGRESS: at 44.92% examples, 273412 words/s, in_qsize 0, out_qsize 0\n",
      "2019-02-06 18:34:13,954 : INFO : EPOCH 35 - PROGRESS: at 55.46% examples, 274585 words/s, in_qsize 0, out_qsize 0\n",
      "2019-02-06 18:34:14,988 : INFO : EPOCH 35 - PROGRESS: at 65.63% examples, 271690 words/s, in_qsize 0, out_qsize 0\n",
      "2019-02-06 18:34:15,992 : INFO : EPOCH 35 - PROGRESS: at 85.41% examples, 265999 words/s, in_qsize 0, out_qsize 1\n",
      "2019-02-06 18:34:16,691 : INFO : worker thread finished; awaiting finish of 2 more threads\n",
      "2019-02-06 18:34:16,701 : INFO : worker thread finished; awaiting finish of 1 more threads\n",
      "2019-02-06 18:34:16,702 : INFO : worker thread finished; awaiting finish of 0 more threads\n",
      "2019-02-06 18:34:16,703 : INFO : EPOCH - 35 : training on 3030002 raw words (2091407 effective words) took 7.8s, 266615 effective words/s\n"
     ]
    },
    {
     "name": "stdout",
     "output_type": "stream",
     "text": [
      "unique_word2vec.txt\n"
     ]
    },
    {
     "name": "stderr",
     "output_type": "stream",
     "text": [
      "2019-02-06 18:34:17,722 : INFO : EPOCH 36 - PROGRESS: at 10.41% examples, 272579 words/s, in_qsize 0, out_qsize 0\n",
      "2019-02-06 18:34:18,737 : INFO : EPOCH 36 - PROGRESS: at 21.53% examples, 268710 words/s, in_qsize 0, out_qsize 0\n",
      "2019-02-06 18:34:19,743 : INFO : EPOCH 36 - PROGRESS: at 33.91% examples, 273089 words/s, in_qsize 0, out_qsize 0\n",
      "2019-02-06 18:34:20,754 : INFO : EPOCH 36 - PROGRESS: at 44.67% examples, 274705 words/s, in_qsize 0, out_qsize 0\n",
      "2019-02-06 18:34:21,759 : INFO : EPOCH 36 - PROGRESS: at 54.70% examples, 272833 words/s, in_qsize 0, out_qsize 0\n",
      "2019-02-06 18:34:22,791 : INFO : EPOCH 36 - PROGRESS: at 65.08% examples, 271480 words/s, in_qsize 0, out_qsize 0\n",
      "2019-02-06 18:34:23,792 : INFO : EPOCH 36 - PROGRESS: at 85.99% examples, 268569 words/s, in_qsize 0, out_qsize 0\n",
      "2019-02-06 18:34:24,526 : INFO : worker thread finished; awaiting finish of 2 more threads\n",
      "2019-02-06 18:34:24,534 : INFO : worker thread finished; awaiting finish of 1 more threads\n",
      "2019-02-06 18:34:24,541 : INFO : worker thread finished; awaiting finish of 0 more threads\n",
      "2019-02-06 18:34:24,542 : INFO : EPOCH - 36 : training on 3030002 raw words (2091498 effective words) took 7.8s, 266833 effective words/s\n"
     ]
    },
    {
     "name": "stdout",
     "output_type": "stream",
     "text": [
      "unique_word2vec.txt\n"
     ]
    },
    {
     "name": "stderr",
     "output_type": "stream",
     "text": [
      "2019-02-06 18:34:25,555 : INFO : EPOCH 37 - PROGRESS: at 10.12% examples, 266502 words/s, in_qsize 0, out_qsize 0\n",
      "2019-02-06 18:34:26,573 : INFO : EPOCH 37 - PROGRESS: at 20.94% examples, 265954 words/s, in_qsize 0, out_qsize 0\n",
      "2019-02-06 18:34:27,594 : INFO : EPOCH 37 - PROGRESS: at 32.84% examples, 262116 words/s, in_qsize 0, out_qsize 0\n",
      "2019-02-06 18:34:28,603 : INFO : EPOCH 37 - PROGRESS: at 43.07% examples, 263925 words/s, in_qsize 0, out_qsize 0\n",
      "2019-02-06 18:34:29,619 : INFO : EPOCH 37 - PROGRESS: at 53.42% examples, 265040 words/s, in_qsize 0, out_qsize 0\n",
      "2019-02-06 18:34:30,642 : INFO : EPOCH 37 - PROGRESS: at 63.45% examples, 264399 words/s, in_qsize 1, out_qsize 0\n",
      "2019-02-06 18:34:31,655 : INFO : EPOCH 37 - PROGRESS: at 83.13% examples, 263266 words/s, in_qsize 0, out_qsize 0\n",
      "2019-02-06 18:34:32,464 : INFO : worker thread finished; awaiting finish of 2 more threads\n",
      "2019-02-06 18:34:32,475 : INFO : worker thread finished; awaiting finish of 1 more threads\n",
      "2019-02-06 18:34:32,484 : INFO : worker thread finished; awaiting finish of 0 more threads\n",
      "2019-02-06 18:34:32,484 : INFO : EPOCH - 37 : training on 3030002 raw words (2090773 effective words) took 7.9s, 263293 effective words/s\n"
     ]
    },
    {
     "name": "stdout",
     "output_type": "stream",
     "text": [
      "unique_word2vec.txt\n"
     ]
    },
    {
     "name": "stderr",
     "output_type": "stream",
     "text": [
      "2019-02-06 18:34:33,498 : INFO : EPOCH 38 - PROGRESS: at 9.57% examples, 253499 words/s, in_qsize 0, out_qsize 0\n",
      "2019-02-06 18:34:34,543 : INFO : EPOCH 38 - PROGRESS: at 20.94% examples, 261291 words/s, in_qsize 0, out_qsize 0\n",
      "2019-02-06 18:34:35,556 : INFO : EPOCH 38 - PROGRESS: at 33.64% examples, 267583 words/s, in_qsize 0, out_qsize 0\n",
      "2019-02-06 18:34:36,574 : INFO : EPOCH 38 - PROGRESS: at 44.41% examples, 270400 words/s, in_qsize 0, out_qsize 0\n",
      "2019-02-06 18:34:37,593 : INFO : EPOCH 38 - PROGRESS: at 54.95% examples, 271418 words/s, in_qsize 0, out_qsize 0\n",
      "2019-02-06 18:34:38,595 : INFO : EPOCH 38 - PROGRESS: at 65.08% examples, 270247 words/s, in_qsize 0, out_qsize 0\n",
      "2019-02-06 18:34:39,611 : INFO : EPOCH 38 - PROGRESS: at 86.52% examples, 268091 words/s, in_qsize 0, out_qsize 0\n",
      "2019-02-06 18:34:40,300 : INFO : worker thread finished; awaiting finish of 2 more threads\n",
      "2019-02-06 18:34:40,310 : INFO : worker thread finished; awaiting finish of 1 more threads\n",
      "2019-02-06 18:34:40,318 : INFO : worker thread finished; awaiting finish of 0 more threads\n",
      "2019-02-06 18:34:40,318 : INFO : EPOCH - 38 : training on 3030002 raw words (2090608 effective words) took 7.8s, 266984 effective words/s\n"
     ]
    },
    {
     "name": "stdout",
     "output_type": "stream",
     "text": [
      "unique_word2vec.txt\n"
     ]
    },
    {
     "name": "stderr",
     "output_type": "stream",
     "text": [
      "2019-02-06 18:34:41,320 : INFO : EPOCH 39 - PROGRESS: at 10.12% examples, 269966 words/s, in_qsize 0, out_qsize 0\n",
      "2019-02-06 18:34:42,329 : INFO : EPOCH 39 - PROGRESS: at 21.53% examples, 271563 words/s, in_qsize 0, out_qsize 0\n",
      "2019-02-06 18:34:43,340 : INFO : EPOCH 39 - PROGRESS: at 32.84% examples, 264953 words/s, in_qsize 0, out_qsize 0\n",
      "2019-02-06 18:34:44,338 : INFO : EPOCH 39 - PROGRESS: at 43.61% examples, 269870 words/s, in_qsize 0, out_qsize 0\n",
      "2019-02-06 18:34:45,359 : INFO : EPOCH 39 - PROGRESS: at 53.93% examples, 269675 words/s, in_qsize 0, out_qsize 0\n",
      "2019-02-06 18:34:46,372 : INFO : EPOCH 39 - PROGRESS: at 64.81% examples, 271796 words/s, in_qsize 0, out_qsize 0\n",
      "2019-02-06 18:34:47,377 : INFO : EPOCH 39 - PROGRESS: at 84.35% examples, 267188 words/s, in_qsize 0, out_qsize 0\n",
      "2019-02-06 18:34:48,117 : INFO : worker thread finished; awaiting finish of 2 more threads\n",
      "2019-02-06 18:34:48,126 : INFO : worker thread finished; awaiting finish of 1 more threads\n",
      "2019-02-06 18:34:48,132 : INFO : worker thread finished; awaiting finish of 0 more threads\n",
      "2019-02-06 18:34:48,133 : INFO : EPOCH - 39 : training on 3030002 raw words (2091014 effective words) took 7.8s, 267626 effective words/s\n"
     ]
    },
    {
     "name": "stdout",
     "output_type": "stream",
     "text": [
      "unique_word2vec.txt\n"
     ]
    },
    {
     "name": "stderr",
     "output_type": "stream",
     "text": [
      "2019-02-06 18:34:49,158 : INFO : EPOCH 40 - PROGRESS: at 10.12% examples, 264306 words/s, in_qsize 0, out_qsize 0\n",
      "2019-02-06 18:34:50,175 : INFO : EPOCH 40 - PROGRESS: at 22.72% examples, 274692 words/s, in_qsize 0, out_qsize 0\n",
      "2019-02-06 18:34:51,209 : INFO : EPOCH 40 - PROGRESS: at 33.93% examples, 269612 words/s, in_qsize 0, out_qsize 0\n",
      "2019-02-06 18:34:52,222 : INFO : EPOCH 40 - PROGRESS: at 44.41% examples, 270379 words/s, in_qsize 0, out_qsize 0\n",
      "2019-02-06 18:34:53,223 : INFO : EPOCH 40 - PROGRESS: at 54.70% examples, 271068 words/s, in_qsize 0, out_qsize 0\n",
      "2019-02-06 18:34:54,226 : INFO : EPOCH 40 - PROGRESS: at 65.08% examples, 271147 words/s, in_qsize 0, out_qsize 0\n",
      "2019-02-06 18:34:55,243 : INFO : EPOCH 40 - PROGRESS: at 84.84% examples, 266203 words/s, in_qsize 0, out_qsize 0\n",
      "2019-02-06 18:34:55,970 : INFO : worker thread finished; awaiting finish of 2 more threads\n",
      "2019-02-06 18:34:55,985 : INFO : worker thread finished; awaiting finish of 1 more threads\n",
      "2019-02-06 18:34:55,997 : INFO : worker thread finished; awaiting finish of 0 more threads\n",
      "2019-02-06 18:34:55,997 : INFO : EPOCH - 40 : training on 3030002 raw words (2091558 effective words) took 7.9s, 266030 effective words/s\n"
     ]
    },
    {
     "name": "stdout",
     "output_type": "stream",
     "text": [
      "unique_word2vec.txt\n"
     ]
    },
    {
     "name": "stderr",
     "output_type": "stream",
     "text": [
      "2019-02-06 18:34:57,012 : INFO : EPOCH 41 - PROGRESS: at 10.12% examples, 266969 words/s, in_qsize 0, out_qsize 0\n",
      "2019-02-06 18:34:58,018 : INFO : EPOCH 41 - PROGRESS: at 22.72% examples, 277649 words/s, in_qsize 0, out_qsize 0\n",
      "2019-02-06 18:34:59,023 : INFO : EPOCH 41 - PROGRESS: at 34.70% examples, 280282 words/s, in_qsize 0, out_qsize 0\n",
      "2019-02-06 18:35:00,044 : INFO : EPOCH 41 - PROGRESS: at 44.92% examples, 277036 words/s, in_qsize 0, out_qsize 1\n",
      "2019-02-06 18:35:01,044 : INFO : EPOCH 41 - PROGRESS: at 55.73% examples, 278737 words/s, in_qsize 0, out_qsize 0\n",
      "2019-02-06 18:35:02,052 : INFO : EPOCH 41 - PROGRESS: at 66.18% examples, 277722 words/s, in_qsize 0, out_qsize 0\n",
      "2019-02-06 18:35:03,060 : INFO : EPOCH 41 - PROGRESS: at 87.13% examples, 271770 words/s, in_qsize 0, out_qsize 0\n",
      "2019-02-06 18:35:03,729 : INFO : worker thread finished; awaiting finish of 2 more threads\n",
      "2019-02-06 18:35:03,742 : INFO : worker thread finished; awaiting finish of 1 more threads\n",
      "2019-02-06 18:35:03,747 : INFO : worker thread finished; awaiting finish of 0 more threads\n",
      "2019-02-06 18:35:03,748 : INFO : EPOCH - 41 : training on 3030002 raw words (2092227 effective words) took 7.7s, 270003 effective words/s\n"
     ]
    },
    {
     "name": "stdout",
     "output_type": "stream",
     "text": [
      "unique_word2vec.txt\n"
     ]
    },
    {
     "name": "stderr",
     "output_type": "stream",
     "text": [
      "2019-02-06 18:35:04,764 : INFO : EPOCH 42 - PROGRESS: at 9.80% examples, 259363 words/s, in_qsize 0, out_qsize 0\n",
      "2019-02-06 18:35:05,789 : INFO : EPOCH 42 - PROGRESS: at 22.12% examples, 271404 words/s, in_qsize 0, out_qsize 0\n",
      "2019-02-06 18:35:06,790 : INFO : EPOCH 42 - PROGRESS: at 33.64% examples, 269543 words/s, in_qsize 0, out_qsize 0\n",
      "2019-02-06 18:35:07,859 : INFO : EPOCH 42 - PROGRESS: at 44.41% examples, 269267 words/s, in_qsize 0, out_qsize 1\n",
      "2019-02-06 18:35:08,873 : INFO : EPOCH 42 - PROGRESS: at 55.46% examples, 273033 words/s, in_qsize 0, out_qsize 0\n",
      "2019-02-06 18:35:09,879 : INFO : EPOCH 42 - PROGRESS: at 65.90% examples, 272657 words/s, in_qsize 0, out_qsize 0\n",
      "2019-02-06 18:35:10,888 : INFO : EPOCH 42 - PROGRESS: at 87.78% examples, 269627 words/s, in_qsize 0, out_qsize 1\n",
      "2019-02-06 18:35:11,511 : INFO : worker thread finished; awaiting finish of 2 more threads\n",
      "2019-02-06 18:35:11,521 : INFO : worker thread finished; awaiting finish of 1 more threads\n",
      "2019-02-06 18:35:11,532 : INFO : worker thread finished; awaiting finish of 0 more threads\n",
      "2019-02-06 18:35:11,532 : INFO : EPOCH - 42 : training on 3030002 raw words (2090298 effective words) took 7.8s, 268649 effective words/s\n"
     ]
    },
    {
     "name": "stdout",
     "output_type": "stream",
     "text": [
      "unique_word2vec.txt\n"
     ]
    },
    {
     "name": "stderr",
     "output_type": "stream",
     "text": [
      "2019-02-06 18:35:12,544 : INFO : EPOCH 43 - PROGRESS: at 9.57% examples, 253690 words/s, in_qsize 0, out_qsize 0\n",
      "2019-02-06 18:35:13,556 : INFO : EPOCH 43 - PROGRESS: at 20.32% examples, 262579 words/s, in_qsize 0, out_qsize 0\n",
      "2019-02-06 18:35:14,565 : INFO : EPOCH 43 - PROGRESS: at 32.58% examples, 261398 words/s, in_qsize 0, out_qsize 0\n",
      "2019-02-06 18:35:15,580 : INFO : EPOCH 43 - PROGRESS: at 42.80% examples, 262998 words/s, in_qsize 0, out_qsize 0\n",
      "2019-02-06 18:35:16,584 : INFO : EPOCH 43 - PROGRESS: at 53.17% examples, 265443 words/s, in_qsize 0, out_qsize 0\n",
      "2019-02-06 18:35:17,602 : INFO : EPOCH 43 - PROGRESS: at 63.70% examples, 266728 words/s, in_qsize 0, out_qsize 0\n",
      "2019-02-06 18:35:18,629 : INFO : EPOCH 43 - PROGRESS: at 83.13% examples, 264181 words/s, in_qsize 0, out_qsize 0\n",
      "2019-02-06 18:35:19,494 : INFO : worker thread finished; awaiting finish of 2 more threads\n",
      "2019-02-06 18:35:19,508 : INFO : worker thread finished; awaiting finish of 1 more threads\n",
      "2019-02-06 18:35:19,515 : INFO : worker thread finished; awaiting finish of 0 more threads\n",
      "2019-02-06 18:35:19,516 : INFO : EPOCH - 43 : training on 3030002 raw words (2092362 effective words) took 8.0s, 262138 effective words/s\n"
     ]
    },
    {
     "name": "stdout",
     "output_type": "stream",
     "text": [
      "unique_word2vec.txt\n"
     ]
    },
    {
     "name": "stderr",
     "output_type": "stream",
     "text": [
      "2019-02-06 18:35:20,527 : INFO : EPOCH 44 - PROGRESS: at 10.41% examples, 274558 words/s, in_qsize 0, out_qsize 0\n",
      "2019-02-06 18:35:21,538 : INFO : EPOCH 44 - PROGRESS: at 22.12% examples, 273888 words/s, in_qsize 0, out_qsize 0\n",
      "2019-02-06 18:35:22,558 : INFO : EPOCH 44 - PROGRESS: at 33.93% examples, 271760 words/s, in_qsize 0, out_qsize 0\n",
      "2019-02-06 18:35:23,559 : INFO : EPOCH 44 - PROGRESS: at 43.87% examples, 270052 words/s, in_qsize 0, out_qsize 0\n",
      "2019-02-06 18:35:24,574 : INFO : EPOCH 44 - PROGRESS: at 54.43% examples, 271479 words/s, in_qsize 0, out_qsize 0\n",
      "2019-02-06 18:35:25,573 : INFO : EPOCH 44 - PROGRESS: at 64.55% examples, 270354 words/s, in_qsize 0, out_qsize 0\n",
      "2019-02-06 18:35:26,594 : INFO : EPOCH 44 - PROGRESS: at 83.77% examples, 265617 words/s, in_qsize 0, out_qsize 1\n",
      "2019-02-06 18:35:27,353 : INFO : worker thread finished; awaiting finish of 2 more threads\n",
      "2019-02-06 18:35:27,363 : INFO : worker thread finished; awaiting finish of 1 more threads\n",
      "2019-02-06 18:35:27,370 : INFO : worker thread finished; awaiting finish of 0 more threads\n",
      "2019-02-06 18:35:27,371 : INFO : EPOCH - 44 : training on 3030002 raw words (2090678 effective words) took 7.9s, 266200 effective words/s\n"
     ]
    },
    {
     "name": "stdout",
     "output_type": "stream",
     "text": [
      "unique_word2vec.txt\n"
     ]
    },
    {
     "name": "stderr",
     "output_type": "stream",
     "text": [
      "2019-02-06 18:35:28,390 : INFO : EPOCH 45 - PROGRESS: at 10.12% examples, 265875 words/s, in_qsize 0, out_qsize 0\n",
      "2019-02-06 18:35:29,398 : INFO : EPOCH 45 - PROGRESS: at 22.12% examples, 273304 words/s, in_qsize 0, out_qsize 0\n",
      "2019-02-06 18:35:30,421 : INFO : EPOCH 45 - PROGRESS: at 33.93% examples, 271126 words/s, in_qsize 0, out_qsize 0\n",
      "2019-02-06 18:35:31,456 : INFO : EPOCH 45 - PROGRESS: at 44.41% examples, 270700 words/s, in_qsize 0, out_qsize 0\n",
      "2019-02-06 18:35:32,473 : INFO : EPOCH 45 - PROGRESS: at 53.91% examples, 266496 words/s, in_qsize 0, out_qsize 1\n",
      "2019-02-06 18:35:33,482 : INFO : EPOCH 45 - PROGRESS: at 64.81% examples, 269262 words/s, in_qsize 0, out_qsize 0\n",
      "2019-02-06 18:35:34,499 : INFO : EPOCH 45 - PROGRESS: at 85.42% examples, 266156 words/s, in_qsize 0, out_qsize 0\n",
      "2019-02-06 18:35:35,215 : INFO : worker thread finished; awaiting finish of 2 more threads\n",
      "2019-02-06 18:35:35,229 : INFO : worker thread finished; awaiting finish of 1 more threads\n",
      "2019-02-06 18:35:35,240 : INFO : worker thread finished; awaiting finish of 0 more threads\n",
      "2019-02-06 18:35:35,241 : INFO : EPOCH - 45 : training on 3030002 raw words (2091189 effective words) took 7.9s, 265771 effective words/s\n"
     ]
    },
    {
     "name": "stdout",
     "output_type": "stream",
     "text": [
      "unique_word2vec.txt\n"
     ]
    },
    {
     "name": "stderr",
     "output_type": "stream",
     "text": [
      "2019-02-06 18:35:36,256 : INFO : EPOCH 46 - PROGRESS: at 10.12% examples, 266400 words/s, in_qsize 1, out_qsize 0\n",
      "2019-02-06 18:35:37,270 : INFO : EPOCH 46 - PROGRESS: at 22.12% examples, 272493 words/s, in_qsize 0, out_qsize 0\n",
      "2019-02-06 18:35:38,278 : INFO : EPOCH 46 - PROGRESS: at 33.93% examples, 272284 words/s, in_qsize 0, out_qsize 0\n",
      "2019-02-06 18:35:39,301 : INFO : EPOCH 46 - PROGRESS: at 44.95% examples, 275730 words/s, in_qsize 0, out_qsize 0\n",
      "2019-02-06 18:35:40,323 : INFO : EPOCH 46 - PROGRESS: at 55.48% examples, 275465 words/s, in_qsize 0, out_qsize 0\n",
      "2019-02-06 18:35:41,323 : INFO : EPOCH 46 - PROGRESS: at 66.53% examples, 277345 words/s, in_qsize 0, out_qsize 0\n",
      "2019-02-06 18:35:42,340 : INFO : EPOCH 46 - PROGRESS: at 86.52% examples, 269219 words/s, in_qsize 0, out_qsize 0\n",
      "2019-02-06 18:35:42,954 : INFO : worker thread finished; awaiting finish of 2 more threads\n",
      "2019-02-06 18:35:42,964 : INFO : worker thread finished; awaiting finish of 1 more threads\n",
      "2019-02-06 18:35:42,975 : INFO : worker thread finished; awaiting finish of 0 more threads\n",
      "2019-02-06 18:35:42,975 : INFO : EPOCH - 46 : training on 3030002 raw words (2091483 effective words) took 7.7s, 270463 effective words/s\n"
     ]
    },
    {
     "name": "stdout",
     "output_type": "stream",
     "text": [
      "unique_word2vec.txt\n"
     ]
    },
    {
     "name": "stderr",
     "output_type": "stream",
     "text": [
      "2019-02-06 18:35:43,979 : INFO : EPOCH 47 - PROGRESS: at 10.41% examples, 276896 words/s, in_qsize 0, out_qsize 0\n",
      "2019-02-06 18:35:45,006 : INFO : EPOCH 47 - PROGRESS: at 22.72% examples, 277076 words/s, in_qsize 0, out_qsize 0\n",
      "2019-02-06 18:35:46,018 : INFO : EPOCH 47 - PROGRESS: at 34.45% examples, 276206 words/s, in_qsize 0, out_qsize 0\n",
      "2019-02-06 18:35:47,032 : INFO : EPOCH 47 - PROGRESS: at 44.67% examples, 274165 words/s, in_qsize 0, out_qsize 0\n",
      "2019-02-06 18:35:48,042 : INFO : EPOCH 47 - PROGRESS: at 54.70% examples, 272387 words/s, in_qsize 1, out_qsize 0\n",
      "2019-02-06 18:35:49,055 : INFO : EPOCH 47 - PROGRESS: at 65.08% examples, 271920 words/s, in_qsize 0, out_qsize 0\n",
      "2019-02-06 18:35:50,078 : INFO : EPOCH 47 - PROGRESS: at 85.99% examples, 268288 words/s, in_qsize 0, out_qsize 0\n",
      "2019-02-06 18:35:50,741 : INFO : worker thread finished; awaiting finish of 2 more threads\n",
      "2019-02-06 18:35:50,754 : INFO : worker thread finished; awaiting finish of 1 more threads\n",
      "2019-02-06 18:35:50,760 : INFO : worker thread finished; awaiting finish of 0 more threads\n",
      "2019-02-06 18:35:50,761 : INFO : EPOCH - 47 : training on 3030002 raw words (2090969 effective words) took 7.8s, 268647 effective words/s\n"
     ]
    },
    {
     "name": "stdout",
     "output_type": "stream",
     "text": [
      "unique_word2vec.txt\n"
     ]
    },
    {
     "name": "stderr",
     "output_type": "stream",
     "text": [
      "2019-02-06 18:35:51,778 : INFO : EPOCH 48 - PROGRESS: at 10.69% examples, 280348 words/s, in_qsize 0, out_qsize 0\n",
      "2019-02-06 18:35:52,798 : INFO : EPOCH 48 - PROGRESS: at 22.12% examples, 272096 words/s, in_qsize 0, out_qsize 0\n",
      "2019-02-06 18:35:53,822 : INFO : EPOCH 48 - PROGRESS: at 33.64% examples, 269421 words/s, in_qsize 0, out_qsize 1\n",
      "2019-02-06 18:35:54,832 : INFO : EPOCH 48 - PROGRESS: at 44.41% examples, 271742 words/s, in_qsize 0, out_qsize 0\n",
      "2019-02-06 18:35:55,858 : INFO : EPOCH 48 - PROGRESS: at 54.95% examples, 272014 words/s, in_qsize 0, out_qsize 0\n",
      "2019-02-06 18:35:56,879 : INFO : EPOCH 48 - PROGRESS: at 65.62% examples, 272408 words/s, in_qsize 0, out_qsize 0\n",
      "2019-02-06 18:35:57,886 : INFO : EPOCH 48 - PROGRESS: at 87.13% examples, 269335 words/s, in_qsize 0, out_qsize 0\n",
      "2019-02-06 18:35:58,542 : INFO : worker thread finished; awaiting finish of 2 more threads\n",
      "2019-02-06 18:35:58,552 : INFO : worker thread finished; awaiting finish of 1 more threads\n",
      "2019-02-06 18:35:58,562 : INFO : worker thread finished; awaiting finish of 0 more threads\n",
      "2019-02-06 18:35:58,562 : INFO : EPOCH - 48 : training on 3030002 raw words (2091402 effective words) took 7.8s, 268192 effective words/s\n"
     ]
    },
    {
     "name": "stdout",
     "output_type": "stream",
     "text": [
      "unique_word2vec.txt\n"
     ]
    },
    {
     "name": "stderr",
     "output_type": "stream",
     "text": [
      "2019-02-06 18:35:59,574 : INFO : EPOCH 49 - PROGRESS: at 9.31% examples, 247688 words/s, in_qsize 0, out_qsize 1\n",
      "2019-02-06 18:36:00,570 : INFO : EPOCH 49 - PROGRESS: at 19.41% examples, 256655 words/s, in_qsize 0, out_qsize 0\n",
      "2019-02-06 18:36:01,596 : INFO : EPOCH 49 - PROGRESS: at 30.89% examples, 252240 words/s, in_qsize 1, out_qsize 0\n",
      "2019-02-06 18:36:02,599 : INFO : EPOCH 49 - PROGRESS: at 42.28% examples, 260059 words/s, in_qsize 0, out_qsize 0\n",
      "2019-02-06 18:36:03,616 : INFO : EPOCH 49 - PROGRESS: at 51.89% examples, 258431 words/s, in_qsize 0, out_qsize 0\n",
      "2019-02-06 18:36:04,643 : INFO : EPOCH 49 - PROGRESS: at 61.92% examples, 257830 words/s, in_qsize 1, out_qsize 0\n",
      "2019-02-06 18:36:05,650 : INFO : EPOCH 49 - PROGRESS: at 78.55% examples, 256534 words/s, in_qsize 0, out_qsize 0\n",
      "2019-02-06 18:36:06,654 : INFO : EPOCH 49 - PROGRESS: at 98.55% examples, 254709 words/s, in_qsize 0, out_qsize 0\n",
      "2019-02-06 18:36:06,744 : INFO : worker thread finished; awaiting finish of 2 more threads\n",
      "2019-02-06 18:36:06,754 : INFO : worker thread finished; awaiting finish of 1 more threads\n",
      "2019-02-06 18:36:06,758 : INFO : worker thread finished; awaiting finish of 0 more threads\n",
      "2019-02-06 18:36:06,759 : INFO : EPOCH - 49 : training on 3030002 raw words (2091753 effective words) took 8.2s, 255234 effective words/s\n"
     ]
    },
    {
     "name": "stdout",
     "output_type": "stream",
     "text": [
      "unique_word2vec.txt\n"
     ]
    },
    {
     "name": "stderr",
     "output_type": "stream",
     "text": [
      "2019-02-06 18:36:07,768 : INFO : EPOCH 50 - PROGRESS: at 9.57% examples, 255024 words/s, in_qsize 0, out_qsize 0\n",
      "2019-02-06 18:36:08,797 : INFO : EPOCH 50 - PROGRESS: at 20.32% examples, 260559 words/s, in_qsize 0, out_qsize 0\n",
      "2019-02-06 18:36:09,813 : INFO : EPOCH 50 - PROGRESS: at 33.11% examples, 264257 words/s, in_qsize 0, out_qsize 0\n",
      "2019-02-06 18:36:10,818 : INFO : EPOCH 50 - PROGRESS: at 43.87% examples, 269221 words/s, in_qsize 0, out_qsize 0\n",
      "2019-02-06 18:36:11,854 : INFO : EPOCH 50 - PROGRESS: at 53.93% examples, 266961 words/s, in_qsize 0, out_qsize 0\n",
      "2019-02-06 18:36:12,870 : INFO : EPOCH 50 - PROGRESS: at 64.28% examples, 267093 words/s, in_qsize 0, out_qsize 0\n",
      "2019-02-06 18:36:13,914 : INFO : EPOCH 50 - PROGRESS: at 83.77% examples, 262771 words/s, in_qsize 0, out_qsize 0\n",
      "2019-02-06 18:36:14,684 : INFO : worker thread finished; awaiting finish of 2 more threads\n",
      "2019-02-06 18:36:14,692 : INFO : worker thread finished; awaiting finish of 1 more threads\n",
      "2019-02-06 18:36:14,697 : INFO : worker thread finished; awaiting finish of 0 more threads\n",
      "2019-02-06 18:36:14,698 : INFO : EPOCH - 50 : training on 3030002 raw words (2091296 effective words) took 7.9s, 263571 effective words/s\n"
     ]
    },
    {
     "name": "stdout",
     "output_type": "stream",
     "text": [
      "unique_word2vec.txt\n"
     ]
    },
    {
     "name": "stderr",
     "output_type": "stream",
     "text": [
      "2019-02-06 18:36:15,707 : INFO : EPOCH 51 - PROGRESS: at 10.41% examples, 276028 words/s, in_qsize 0, out_qsize 0\n",
      "2019-02-06 18:36:16,722 : INFO : EPOCH 51 - PROGRESS: at 22.12% examples, 273932 words/s, in_qsize 0, out_qsize 0\n",
      "2019-02-06 18:36:17,717 : INFO : EPOCH 51 - PROGRESS: at 34.19% examples, 276237 words/s, in_qsize 0, out_qsize 0\n",
      "2019-02-06 18:36:18,749 : INFO : EPOCH 51 - PROGRESS: at 44.95% examples, 276998 words/s, in_qsize 0, out_qsize 0\n",
      "2019-02-06 18:36:19,744 : INFO : EPOCH 51 - PROGRESS: at 55.73% examples, 278685 words/s, in_qsize 0, out_qsize 0\n",
      "2019-02-06 18:36:20,750 : INFO : EPOCH 51 - PROGRESS: at 67.15% examples, 279842 words/s, in_qsize 0, out_qsize 0\n",
      "2019-02-06 18:36:21,751 : INFO : EPOCH 51 - PROGRESS: at 88.28% examples, 274061 words/s, in_qsize 0, out_qsize 0\n",
      "2019-02-06 18:36:22,299 : INFO : worker thread finished; awaiting finish of 2 more threads\n",
      "2019-02-06 18:36:22,310 : INFO : worker thread finished; awaiting finish of 1 more threads\n",
      "2019-02-06 18:36:22,314 : INFO : worker thread finished; awaiting finish of 0 more threads\n",
      "2019-02-06 18:36:22,315 : INFO : EPOCH - 51 : training on 3030002 raw words (2091469 effective words) took 7.6s, 274622 effective words/s\n"
     ]
    },
    {
     "name": "stdout",
     "output_type": "stream",
     "text": [
      "unique_word2vec.txt\n"
     ]
    },
    {
     "name": "stderr",
     "output_type": "stream",
     "text": [
      "2019-02-06 18:36:23,320 : INFO : EPOCH 52 - PROGRESS: at 10.12% examples, 269362 words/s, in_qsize 0, out_qsize 0\n",
      "2019-02-06 18:36:24,326 : INFO : EPOCH 52 - PROGRESS: at 21.53% examples, 271270 words/s, in_qsize 1, out_qsize 0\n",
      "2019-02-06 18:36:25,357 : INFO : EPOCH 52 - PROGRESS: at 34.45% examples, 276925 words/s, in_qsize 0, out_qsize 0\n",
      "2019-02-06 18:36:26,370 : INFO : EPOCH 52 - PROGRESS: at 44.67% examples, 274541 words/s, in_qsize 0, out_qsize 0\n",
      "2019-02-06 18:36:27,371 : INFO : EPOCH 52 - PROGRESS: at 55.46% examples, 276905 words/s, in_qsize 0, out_qsize 0\n",
      "2019-02-06 18:36:28,389 : INFO : EPOCH 52 - PROGRESS: at 66.18% examples, 276775 words/s, in_qsize 0, out_qsize 0\n",
      "2019-02-06 18:36:29,393 : INFO : EPOCH 52 - PROGRESS: at 87.13% examples, 271231 words/s, in_qsize 0, out_qsize 0\n",
      "2019-02-06 18:36:30,013 : INFO : worker thread finished; awaiting finish of 2 more threads\n",
      "2019-02-06 18:36:30,028 : INFO : worker thread finished; awaiting finish of 1 more threads\n",
      "2019-02-06 18:36:30,033 : INFO : worker thread finished; awaiting finish of 0 more threads\n",
      "2019-02-06 18:36:30,033 : INFO : EPOCH - 52 : training on 3030002 raw words (2092088 effective words) took 7.7s, 271095 effective words/s\n"
     ]
    },
    {
     "name": "stdout",
     "output_type": "stream",
     "text": [
      "unique_word2vec.txt\n"
     ]
    },
    {
     "name": "stderr",
     "output_type": "stream",
     "text": [
      "2019-02-06 18:36:31,045 : INFO : EPOCH 53 - PROGRESS: at 10.12% examples, 267990 words/s, in_qsize 0, out_qsize 0\n",
      "2019-02-06 18:36:32,045 : INFO : EPOCH 53 - PROGRESS: at 20.94% examples, 267210 words/s, in_qsize 1, out_qsize 0\n",
      "2019-02-06 18:36:33,058 : INFO : EPOCH 53 - PROGRESS: at 33.64% examples, 271009 words/s, in_qsize 0, out_qsize 0\n",
      "2019-02-06 18:36:34,069 : INFO : EPOCH 53 - PROGRESS: at 43.87% examples, 270644 words/s, in_qsize 0, out_qsize 0\n",
      "2019-02-06 18:36:35,074 : INFO : EPOCH 53 - PROGRESS: at 53.93% examples, 269756 words/s, in_qsize 0, out_qsize 0\n",
      "2019-02-06 18:36:36,079 : INFO : EPOCH 53 - PROGRESS: at 64.28% examples, 269704 words/s, in_qsize 0, out_qsize 0\n",
      "2019-02-06 18:36:37,090 : INFO : EPOCH 53 - PROGRESS: at 84.84% examples, 267936 words/s, in_qsize 0, out_qsize 0\n",
      "2019-02-06 18:36:37,816 : INFO : worker thread finished; awaiting finish of 2 more threads\n",
      "2019-02-06 18:36:37,827 : INFO : worker thread finished; awaiting finish of 1 more threads\n",
      "2019-02-06 18:36:37,832 : INFO : worker thread finished; awaiting finish of 0 more threads\n",
      "2019-02-06 18:36:37,833 : INFO : EPOCH - 53 : training on 3030002 raw words (2090795 effective words) took 7.8s, 268125 effective words/s\n"
     ]
    },
    {
     "name": "stdout",
     "output_type": "stream",
     "text": [
      "unique_word2vec.txt\n"
     ]
    },
    {
     "name": "stderr",
     "output_type": "stream",
     "text": [
      "2019-02-06 18:36:38,863 : INFO : EPOCH 54 - PROGRESS: at 10.12% examples, 263606 words/s, in_qsize 1, out_qsize 0\n",
      "2019-02-06 18:36:39,880 : INFO : EPOCH 54 - PROGRESS: at 20.94% examples, 262969 words/s, in_qsize 1, out_qsize 0\n",
      "2019-02-06 18:36:40,886 : INFO : EPOCH 54 - PROGRESS: at 33.11% examples, 264187 words/s, in_qsize 0, out_qsize 0\n",
      "2019-02-06 18:36:41,910 : INFO : EPOCH 54 - PROGRESS: at 44.14% examples, 269616 words/s, in_qsize 1, out_qsize 0\n",
      "2019-02-06 18:36:42,922 : INFO : EPOCH 54 - PROGRESS: at 54.70% examples, 271247 words/s, in_qsize 0, out_qsize 0\n",
      "2019-02-06 18:36:43,977 : INFO : EPOCH 54 - PROGRESS: at 65.08% examples, 269169 words/s, in_qsize 0, out_qsize 0\n",
      "2019-02-06 18:36:44,996 : INFO : EPOCH 54 - PROGRESS: at 86.52% examples, 266967 words/s, in_qsize 0, out_qsize 0\n",
      "2019-02-06 18:36:45,656 : INFO : worker thread finished; awaiting finish of 2 more threads\n",
      "2019-02-06 18:36:45,666 : INFO : worker thread finished; awaiting finish of 1 more threads\n",
      "2019-02-06 18:36:45,674 : INFO : worker thread finished; awaiting finish of 0 more threads\n",
      "2019-02-06 18:36:45,674 : INFO : EPOCH - 54 : training on 3030002 raw words (2091257 effective words) took 7.8s, 266847 effective words/s\n"
     ]
    },
    {
     "name": "stdout",
     "output_type": "stream",
     "text": [
      "unique_word2vec.txt\n"
     ]
    },
    {
     "name": "stderr",
     "output_type": "stream",
     "text": [
      "2019-02-06 18:36:46,694 : INFO : EPOCH 55 - PROGRESS: at 10.12% examples, 265668 words/s, in_qsize 0, out_qsize 0\n",
      "2019-02-06 18:36:47,718 : INFO : EPOCH 55 - PROGRESS: at 21.53% examples, 266962 words/s, in_qsize 0, out_qsize 0\n",
      "2019-02-06 18:36:48,732 : INFO : EPOCH 55 - PROGRESS: at 33.93% examples, 270586 words/s, in_qsize 0, out_qsize 0\n",
      "2019-02-06 18:36:49,743 : INFO : EPOCH 55 - PROGRESS: at 43.34% examples, 264989 words/s, in_qsize 0, out_qsize 0\n",
      "2019-02-06 18:36:50,759 : INFO : EPOCH 55 - PROGRESS: at 52.15% examples, 258395 words/s, in_qsize 0, out_qsize 0\n",
      "2019-02-06 18:36:51,766 : INFO : EPOCH 55 - PROGRESS: at 62.18% examples, 258715 words/s, in_qsize 0, out_qsize 0\n",
      "2019-02-06 18:36:52,781 : INFO : EPOCH 55 - PROGRESS: at 80.88% examples, 259834 words/s, in_qsize 0, out_qsize 0\n",
      "2019-02-06 18:36:53,728 : INFO : worker thread finished; awaiting finish of 2 more threads\n",
      "2019-02-06 18:36:53,737 : INFO : worker thread finished; awaiting finish of 1 more threads\n",
      "2019-02-06 18:36:53,742 : INFO : worker thread finished; awaiting finish of 0 more threads\n",
      "2019-02-06 18:36:53,743 : INFO : EPOCH - 55 : training on 3030002 raw words (2091466 effective words) took 8.1s, 259332 effective words/s\n"
     ]
    },
    {
     "name": "stdout",
     "output_type": "stream",
     "text": [
      "unique_word2vec.txt\n"
     ]
    },
    {
     "name": "stderr",
     "output_type": "stream",
     "text": [
      "2019-02-06 18:36:54,764 : INFO : EPOCH 56 - PROGRESS: at 10.41% examples, 271538 words/s, in_qsize 0, out_qsize 0\n",
      "2019-02-06 18:36:55,773 : INFO : EPOCH 56 - PROGRESS: at 22.12% examples, 272472 words/s, in_qsize 0, out_qsize 0\n",
      "2019-02-06 18:36:56,777 : INFO : EPOCH 56 - PROGRESS: at 33.93% examples, 272424 words/s, in_qsize 0, out_qsize 0\n",
      "2019-02-06 18:36:57,781 : INFO : EPOCH 56 - PROGRESS: at 44.41% examples, 273963 words/s, in_qsize 0, out_qsize 1\n",
      "2019-02-06 18:36:58,800 : INFO : EPOCH 56 - PROGRESS: at 55.46% examples, 276706 words/s, in_qsize 0, out_qsize 0\n",
      "2019-02-06 18:36:59,802 : INFO : EPOCH 56 - PROGRESS: at 65.62% examples, 274955 words/s, in_qsize 0, out_qsize 0\n",
      "2019-02-06 18:37:00,834 : INFO : EPOCH 56 - PROGRESS: at 85.42% examples, 267650 words/s, in_qsize 0, out_qsize 0\n",
      "2019-02-06 18:37:01,598 : INFO : worker thread finished; awaiting finish of 2 more threads\n",
      "2019-02-06 18:37:01,608 : INFO : worker thread finished; awaiting finish of 1 more threads\n",
      "2019-02-06 18:37:01,615 : INFO : worker thread finished; awaiting finish of 0 more threads\n",
      "2019-02-06 18:37:01,616 : INFO : EPOCH - 56 : training on 3030002 raw words (2091175 effective words) took 7.9s, 265653 effective words/s\n"
     ]
    },
    {
     "name": "stdout",
     "output_type": "stream",
     "text": [
      "unique_word2vec.txt\n"
     ]
    },
    {
     "name": "stderr",
     "output_type": "stream",
     "text": [
      "2019-02-06 18:37:02,668 : INFO : EPOCH 57 - PROGRESS: at 10.12% examples, 257161 words/s, in_qsize 0, out_qsize 0\n",
      "2019-02-06 18:37:03,720 : INFO : EPOCH 57 - PROGRESS: at 21.53% examples, 259160 words/s, in_qsize 0, out_qsize 0\n",
      "2019-02-06 18:37:04,726 : INFO : EPOCH 57 - PROGRESS: at 33.64% examples, 263757 words/s, in_qsize 0, out_qsize 0\n",
      "2019-02-06 18:37:05,750 : INFO : EPOCH 57 - PROGRESS: at 44.67% examples, 269016 words/s, in_qsize 0, out_qsize 0\n",
      "2019-02-06 18:37:06,760 : INFO : EPOCH 57 - PROGRESS: at 55.21% examples, 270671 words/s, in_qsize 0, out_qsize 0\n",
      "2019-02-06 18:37:07,770 : INFO : EPOCH 57 - PROGRESS: at 65.35% examples, 269794 words/s, in_qsize 0, out_qsize 0\n",
      "2019-02-06 18:37:08,793 : INFO : EPOCH 57 - PROGRESS: at 87.13% examples, 267388 words/s, in_qsize 0, out_qsize 0\n",
      "2019-02-06 18:37:09,433 : INFO : worker thread finished; awaiting finish of 2 more threads\n",
      "2019-02-06 18:37:09,444 : INFO : worker thread finished; awaiting finish of 1 more threads\n",
      "2019-02-06 18:37:09,450 : INFO : worker thread finished; awaiting finish of 0 more threads\n",
      "2019-02-06 18:37:09,451 : INFO : EPOCH - 57 : training on 3030002 raw words (2091138 effective words) took 7.8s, 266967 effective words/s\n"
     ]
    },
    {
     "name": "stdout",
     "output_type": "stream",
     "text": [
      "unique_word2vec.txt\n"
     ]
    },
    {
     "name": "stderr",
     "output_type": "stream",
     "text": [
      "2019-02-06 18:37:10,458 : INFO : EPOCH 58 - PROGRESS: at 10.41% examples, 275489 words/s, in_qsize 0, out_qsize 0\n",
      "2019-02-06 18:37:11,464 : INFO : EPOCH 58 - PROGRESS: at 21.53% examples, 270823 words/s, in_qsize 0, out_qsize 0\n",
      "2019-02-06 18:37:12,469 : INFO : EPOCH 58 - PROGRESS: at 32.84% examples, 264834 words/s, in_qsize 0, out_qsize 0\n",
      "2019-02-06 18:37:13,477 : INFO : EPOCH 58 - PROGRESS: at 42.54% examples, 262602 words/s, in_qsize 0, out_qsize 0\n",
      "2019-02-06 18:37:14,478 : INFO : EPOCH 58 - PROGRESS: at 52.42% examples, 262434 words/s, in_qsize 0, out_qsize 0\n",
      "2019-02-06 18:37:15,489 : INFO : EPOCH 58 - PROGRESS: at 62.45% examples, 262051 words/s, in_qsize 1, out_qsize 0\n",
      "2019-02-06 18:37:16,541 : INFO : EPOCH 58 - PROGRESS: at 79.69% examples, 258410 words/s, in_qsize 0, out_qsize 0\n",
      "2019-02-06 18:37:17,469 : INFO : worker thread finished; awaiting finish of 2 more threads\n",
      "2019-02-06 18:37:17,481 : INFO : worker thread finished; awaiting finish of 1 more threads\n",
      "2019-02-06 18:37:17,488 : INFO : worker thread finished; awaiting finish of 0 more threads\n",
      "2019-02-06 18:37:17,488 : INFO : EPOCH - 58 : training on 3030002 raw words (2091816 effective words) took 8.0s, 260300 effective words/s\n"
     ]
    },
    {
     "name": "stdout",
     "output_type": "stream",
     "text": [
      "unique_word2vec.txt\n"
     ]
    },
    {
     "name": "stderr",
     "output_type": "stream",
     "text": [
      "2019-02-06 18:37:18,512 : INFO : EPOCH 59 - PROGRESS: at 9.57% examples, 252319 words/s, in_qsize 0, out_qsize 0\n",
      "2019-02-06 18:37:19,512 : INFO : EPOCH 59 - PROGRESS: at 20.32% examples, 262068 words/s, in_qsize 0, out_qsize 0\n",
      "2019-02-06 18:37:20,539 : INFO : EPOCH 59 - PROGRESS: at 33.38% examples, 266573 words/s, in_qsize 0, out_qsize 0\n",
      "2019-02-06 18:37:21,539 : INFO : EPOCH 59 - PROGRESS: at 43.61% examples, 267683 words/s, in_qsize 0, out_qsize 0\n",
      "2019-02-06 18:37:22,581 : INFO : EPOCH 59 - PROGRESS: at 53.17% examples, 262942 words/s, in_qsize 0, out_qsize 0\n",
      "2019-02-06 18:37:23,594 : INFO : EPOCH 59 - PROGRESS: at 63.45% examples, 263752 words/s, in_qsize 0, out_qsize 0\n",
      "2019-02-06 18:37:24,607 : INFO : EPOCH 59 - PROGRESS: at 82.00% examples, 261344 words/s, in_qsize 0, out_qsize 0\n",
      "2019-02-06 18:37:25,459 : INFO : worker thread finished; awaiting finish of 2 more threads\n",
      "2019-02-06 18:37:25,464 : INFO : worker thread finished; awaiting finish of 1 more threads\n",
      "2019-02-06 18:37:25,469 : INFO : worker thread finished; awaiting finish of 0 more threads\n",
      "2019-02-06 18:37:25,470 : INFO : EPOCH - 59 : training on 3030002 raw words (2091705 effective words) took 8.0s, 262118 effective words/s\n"
     ]
    },
    {
     "name": "stdout",
     "output_type": "stream",
     "text": [
      "unique_word2vec.txt\n"
     ]
    },
    {
     "name": "stderr",
     "output_type": "stream",
     "text": [
      "2019-02-06 18:37:26,484 : INFO : EPOCH 60 - PROGRESS: at 9.80% examples, 260471 words/s, in_qsize 0, out_qsize 0\n",
      "2019-02-06 18:37:27,489 : INFO : EPOCH 60 - PROGRESS: at 21.53% examples, 270195 words/s, in_qsize 0, out_qsize 0\n",
      "2019-02-06 18:37:28,506 : INFO : EPOCH 60 - PROGRESS: at 33.64% examples, 270015 words/s, in_qsize 0, out_qsize 0\n",
      "2019-02-06 18:37:29,513 : INFO : EPOCH 60 - PROGRESS: at 43.61% examples, 268250 words/s, in_qsize 0, out_qsize 0\n",
      "2019-02-06 18:37:30,517 : INFO : EPOCH 60 - PROGRESS: at 51.63% examples, 257382 words/s, in_qsize 0, out_qsize 0\n",
      "2019-02-06 18:37:31,524 : INFO : EPOCH 60 - PROGRESS: at 61.64% examples, 257773 words/s, in_qsize 0, out_qsize 0\n",
      "2019-02-06 18:37:32,543 : INFO : EPOCH 60 - PROGRESS: at 77.95% examples, 256023 words/s, in_qsize 0, out_qsize 0\n",
      "2019-02-06 18:37:33,592 : INFO : EPOCH 60 - PROGRESS: at 98.55% examples, 253875 words/s, in_qsize 0, out_qsize 0\n",
      "2019-02-06 18:37:33,671 : INFO : worker thread finished; awaiting finish of 2 more threads\n",
      "2019-02-06 18:37:33,685 : INFO : worker thread finished; awaiting finish of 1 more threads\n",
      "2019-02-06 18:37:33,695 : INFO : worker thread finished; awaiting finish of 0 more threads\n",
      "2019-02-06 18:37:33,696 : INFO : EPOCH - 60 : training on 3030002 raw words (2090947 effective words) took 8.2s, 254254 effective words/s\n"
     ]
    },
    {
     "name": "stdout",
     "output_type": "stream",
     "text": [
      "unique_word2vec.txt\n"
     ]
    },
    {
     "name": "stderr",
     "output_type": "stream",
     "text": [
      "2019-02-06 18:37:34,722 : INFO : EPOCH 61 - PROGRESS: at 9.57% examples, 251583 words/s, in_qsize 0, out_qsize 0\n",
      "2019-02-06 18:37:35,728 : INFO : EPOCH 61 - PROGRESS: at 20.32% examples, 260770 words/s, in_qsize 0, out_qsize 0\n",
      "2019-02-06 18:37:36,753 : INFO : EPOCH 61 - PROGRESS: at 32.58% examples, 258933 words/s, in_qsize 0, out_qsize 0\n",
      "2019-02-06 18:37:37,774 : INFO : EPOCH 61 - PROGRESS: at 43.34% examples, 264051 words/s, in_qsize 0, out_qsize 0\n",
      "2019-02-06 18:37:38,786 : INFO : EPOCH 61 - PROGRESS: at 53.93% examples, 266898 words/s, in_qsize 0, out_qsize 0\n",
      "2019-02-06 18:37:39,806 : INFO : EPOCH 61 - PROGRESS: at 64.55% examples, 267904 words/s, in_qsize 0, out_qsize 0\n",
      "2019-02-06 18:37:40,813 : INFO : EPOCH 61 - PROGRESS: at 85.42% examples, 266493 words/s, in_qsize 0, out_qsize 0\n",
      "2019-02-06 18:37:41,558 : INFO : worker thread finished; awaiting finish of 2 more threads\n",
      "2019-02-06 18:37:41,569 : INFO : worker thread finished; awaiting finish of 1 more threads\n",
      "2019-02-06 18:37:41,570 : INFO : worker thread finished; awaiting finish of 0 more threads\n",
      "2019-02-06 18:37:41,570 : INFO : EPOCH - 61 : training on 3030002 raw words (2090253 effective words) took 7.9s, 265530 effective words/s\n"
     ]
    },
    {
     "name": "stdout",
     "output_type": "stream",
     "text": [
      "unique_word2vec.txt\n"
     ]
    },
    {
     "name": "stderr",
     "output_type": "stream",
     "text": [
      "2019-02-06 18:37:42,581 : INFO : EPOCH 62 - PROGRESS: at 10.12% examples, 267446 words/s, in_qsize 0, out_qsize 0\n",
      "2019-02-06 18:37:43,586 : INFO : EPOCH 62 - PROGRESS: at 21.53% examples, 270862 words/s, in_qsize 1, out_qsize 0\n",
      "2019-02-06 18:37:44,606 : INFO : EPOCH 62 - PROGRESS: at 33.93% examples, 272501 words/s, in_qsize 0, out_qsize 0\n",
      "2019-02-06 18:37:45,623 : INFO : EPOCH 62 - PROGRESS: at 44.41% examples, 273071 words/s, in_qsize 0, out_qsize 0\n",
      "2019-02-06 18:37:46,624 : INFO : EPOCH 62 - PROGRESS: at 54.18% examples, 270436 words/s, in_qsize 0, out_qsize 0\n",
      "2019-02-06 18:37:47,625 : INFO : EPOCH 62 - PROGRESS: at 64.02% examples, 268242 words/s, in_qsize 0, out_qsize 0\n",
      "2019-02-06 18:37:48,632 : INFO : EPOCH 62 - PROGRESS: at 83.77% examples, 266213 words/s, in_qsize 0, out_qsize 0\n",
      "2019-02-06 18:37:49,445 : INFO : worker thread finished; awaiting finish of 2 more threads\n",
      "2019-02-06 18:37:49,458 : INFO : worker thread finished; awaiting finish of 1 more threads\n",
      "2019-02-06 18:37:49,463 : INFO : worker thread finished; awaiting finish of 0 more threads\n",
      "2019-02-06 18:37:49,464 : INFO : EPOCH - 62 : training on 3030002 raw words (2091580 effective words) took 7.9s, 265011 effective words/s\n"
     ]
    },
    {
     "name": "stdout",
     "output_type": "stream",
     "text": [
      "unique_word2vec.txt\n"
     ]
    },
    {
     "name": "stderr",
     "output_type": "stream",
     "text": [
      "2019-02-06 18:37:50,471 : INFO : EPOCH 63 - PROGRESS: at 9.80% examples, 261976 words/s, in_qsize 0, out_qsize 0\n",
      "2019-02-06 18:37:51,529 : INFO : EPOCH 63 - PROGRESS: at 20.94% examples, 260453 words/s, in_qsize 0, out_qsize 0\n",
      "2019-02-06 18:37:52,615 : INFO : EPOCH 63 - PROGRESS: at 33.91% examples, 262482 words/s, in_qsize 0, out_qsize 1\n",
      "2019-02-06 18:37:53,623 : INFO : EPOCH 63 - PROGRESS: at 45.46% examples, 272570 words/s, in_qsize 0, out_qsize 1\n",
      "2019-02-06 18:37:54,631 : INFO : EPOCH 63 - PROGRESS: at 55.98% examples, 273285 words/s, in_qsize 0, out_qsize 0\n",
      "2019-02-06 18:37:55,646 : INFO : EPOCH 63 - PROGRESS: at 66.53% examples, 272941 words/s, in_qsize 0, out_qsize 0\n",
      "2019-02-06 18:37:56,656 : INFO : EPOCH 63 - PROGRESS: at 87.78% examples, 267576 words/s, in_qsize 0, out_qsize 0\n",
      "2019-02-06 18:37:57,253 : INFO : worker thread finished; awaiting finish of 2 more threads\n",
      "2019-02-06 18:37:57,265 : INFO : worker thread finished; awaiting finish of 1 more threads\n",
      "2019-02-06 18:37:57,268 : INFO : worker thread finished; awaiting finish of 0 more threads\n",
      "2019-02-06 18:37:57,268 : INFO : EPOCH - 63 : training on 3030002 raw words (2090496 effective words) took 7.8s, 267907 effective words/s\n"
     ]
    },
    {
     "name": "stdout",
     "output_type": "stream",
     "text": [
      "unique_word2vec.txt\n"
     ]
    },
    {
     "name": "stderr",
     "output_type": "stream",
     "text": [
      "2019-02-06 18:37:58,295 : INFO : EPOCH 64 - PROGRESS: at 10.41% examples, 272140 words/s, in_qsize 0, out_qsize 0\n",
      "2019-02-06 18:37:59,311 : INFO : EPOCH 64 - PROGRESS: at 23.28% examples, 278283 words/s, in_qsize 0, out_qsize 0\n",
      "2019-02-06 18:38:00,336 : INFO : EPOCH 64 - PROGRESS: at 34.45% examples, 274137 words/s, in_qsize 0, out_qsize 1\n",
      "2019-02-06 18:38:01,345 : INFO : EPOCH 64 - PROGRESS: at 45.46% examples, 278356 words/s, in_qsize 0, out_qsize 0\n",
      "2019-02-06 18:38:02,383 : INFO : EPOCH 64 - PROGRESS: at 55.48% examples, 273551 words/s, in_qsize 0, out_qsize 1\n",
      "2019-02-06 18:38:03,424 : INFO : EPOCH 64 - PROGRESS: at 67.15% examples, 275092 words/s, in_qsize 0, out_qsize 0\n",
      "2019-02-06 18:38:04,424 : INFO : EPOCH 64 - PROGRESS: at 88.56% examples, 271103 words/s, in_qsize 0, out_qsize 0\n",
      "2019-02-06 18:38:04,939 : INFO : worker thread finished; awaiting finish of 2 more threads\n",
      "2019-02-06 18:38:04,953 : INFO : worker thread finished; awaiting finish of 1 more threads\n",
      "2019-02-06 18:38:04,955 : INFO : worker thread finished; awaiting finish of 0 more threads\n",
      "2019-02-06 18:38:04,956 : INFO : EPOCH - 64 : training on 3030002 raw words (2091116 effective words) took 7.7s, 272072 effective words/s\n"
     ]
    },
    {
     "name": "stdout",
     "output_type": "stream",
     "text": [
      "unique_word2vec.txt\n"
     ]
    },
    {
     "name": "stderr",
     "output_type": "stream",
     "text": [
      "2019-02-06 18:38:05,985 : INFO : EPOCH 65 - PROGRESS: at 10.69% examples, 276289 words/s, in_qsize 0, out_qsize 0\n",
      "2019-02-06 18:38:06,985 : INFO : EPOCH 65 - PROGRESS: at 23.28% examples, 280213 words/s, in_qsize 0, out_qsize 0\n",
      "2019-02-06 18:38:07,994 : INFO : EPOCH 65 - PROGRESS: at 34.70% examples, 279107 words/s, in_qsize 0, out_qsize 0\n",
      "2019-02-06 18:38:09,000 : INFO : EPOCH 65 - PROGRESS: at 44.67% examples, 275205 words/s, in_qsize 0, out_qsize 0\n",
      "2019-02-06 18:38:10,008 : INFO : EPOCH 65 - PROGRESS: at 54.95% examples, 274444 words/s, in_qsize 0, out_qsize 0\n",
      "2019-02-06 18:38:11,017 : INFO : EPOCH 65 - PROGRESS: at 64.23% examples, 269190 words/s, in_qsize 0, out_qsize 1\n",
      "2019-02-06 18:38:12,036 : INFO : EPOCH 65 - PROGRESS: at 81.44% examples, 261834 words/s, in_qsize 0, out_qsize 0\n",
      "2019-02-06 18:38:12,969 : INFO : worker thread finished; awaiting finish of 2 more threads\n",
      "2019-02-06 18:38:12,973 : INFO : worker thread finished; awaiting finish of 1 more threads\n",
      "2019-02-06 18:38:12,980 : INFO : worker thread finished; awaiting finish of 0 more threads\n",
      "2019-02-06 18:38:12,981 : INFO : EPOCH - 65 : training on 3030002 raw words (2092003 effective words) took 8.0s, 260728 effective words/s\n"
     ]
    },
    {
     "name": "stdout",
     "output_type": "stream",
     "text": [
      "unique_word2vec.txt\n"
     ]
    },
    {
     "name": "stderr",
     "output_type": "stream",
     "text": [
      "2019-02-06 18:38:13,986 : INFO : EPOCH 66 - PROGRESS: at 9.31% examples, 247931 words/s, in_qsize 0, out_qsize 0\n",
      "2019-02-06 18:38:14,990 : INFO : EPOCH 66 - PROGRESS: at 19.70% examples, 259814 words/s, in_qsize 0, out_qsize 0\n",
      "2019-02-06 18:38:15,993 : INFO : EPOCH 66 - PROGRESS: at 31.41% examples, 255988 words/s, in_qsize 0, out_qsize 0\n",
      "2019-02-06 18:38:17,026 : INFO : EPOCH 66 - PROGRESS: at 41.73% examples, 255874 words/s, in_qsize 0, out_qsize 0\n",
      "2019-02-06 18:38:18,065 : INFO : EPOCH 66 - PROGRESS: at 51.12% examples, 252654 words/s, in_qsize 0, out_qsize 0\n",
      "2019-02-06 18:38:19,081 : INFO : EPOCH 66 - PROGRESS: at 60.83% examples, 252322 words/s, in_qsize 0, out_qsize 0\n",
      "2019-02-06 18:38:20,088 : INFO : EPOCH 66 - PROGRESS: at 75.66% examples, 251340 words/s, in_qsize 0, out_qsize 0\n",
      "2019-02-06 18:38:21,117 : INFO : EPOCH 66 - PROGRESS: at 97.93% examples, 252377 words/s, in_qsize 0, out_qsize 0\n",
      "2019-02-06 18:38:21,229 : INFO : worker thread finished; awaiting finish of 2 more threads\n",
      "2019-02-06 18:38:21,240 : INFO : worker thread finished; awaiting finish of 1 more threads\n",
      "2019-02-06 18:38:21,246 : INFO : worker thread finished; awaiting finish of 0 more threads\n",
      "2019-02-06 18:38:21,247 : INFO : EPOCH - 66 : training on 3030002 raw words (2090349 effective words) took 8.3s, 252940 effective words/s\n"
     ]
    },
    {
     "name": "stdout",
     "output_type": "stream",
     "text": [
      "unique_word2vec.txt\n"
     ]
    },
    {
     "name": "stderr",
     "output_type": "stream",
     "text": [
      "2019-02-06 18:38:22,264 : INFO : EPOCH 67 - PROGRESS: at 10.69% examples, 279105 words/s, in_qsize 0, out_qsize 0\n",
      "2019-02-06 18:38:23,285 : INFO : EPOCH 67 - PROGRESS: at 23.28% examples, 278993 words/s, in_qsize 1, out_qsize 0\n",
      "2019-02-06 18:38:24,296 : INFO : EPOCH 67 - PROGRESS: at 34.19% examples, 273662 words/s, in_qsize 0, out_qsize 0\n",
      "2019-02-06 18:38:25,314 : INFO : EPOCH 67 - PROGRESS: at 44.41% examples, 271652 words/s, in_qsize 0, out_qsize 0\n",
      "2019-02-06 18:38:26,318 : INFO : EPOCH 67 - PROGRESS: at 53.93% examples, 267914 words/s, in_qsize 0, out_qsize 0\n",
      "2019-02-06 18:38:27,349 : INFO : EPOCH 67 - PROGRESS: at 63.22% examples, 262693 words/s, in_qsize 0, out_qsize 0\n",
      "2019-02-06 18:38:28,362 : INFO : EPOCH 67 - PROGRESS: at 77.95% examples, 254624 words/s, in_qsize 0, out_qsize 0\n",
      "2019-02-06 18:38:29,397 : INFO : EPOCH 67 - PROGRESS: at 97.93% examples, 252037 words/s, in_qsize 0, out_qsize 0\n",
      "2019-02-06 18:38:29,505 : INFO : worker thread finished; awaiting finish of 2 more threads\n",
      "2019-02-06 18:38:29,520 : INFO : worker thread finished; awaiting finish of 1 more threads\n",
      "2019-02-06 18:38:29,524 : INFO : worker thread finished; awaiting finish of 0 more threads\n",
      "2019-02-06 18:38:29,525 : INFO : EPOCH - 67 : training on 3030002 raw words (2091254 effective words) took 8.3s, 252672 effective words/s\n"
     ]
    },
    {
     "name": "stdout",
     "output_type": "stream",
     "text": [
      "unique_word2vec.txt\n"
     ]
    },
    {
     "name": "stderr",
     "output_type": "stream",
     "text": [
      "2019-02-06 18:38:30,533 : INFO : EPOCH 68 - PROGRESS: at 8.21% examples, 220182 words/s, in_qsize 0, out_qsize 0\n",
      "2019-02-06 18:38:31,567 : INFO : EPOCH 68 - PROGRESS: at 16.25% examples, 212156 words/s, in_qsize 0, out_qsize 0\n",
      "2019-02-06 18:38:32,567 : INFO : EPOCH 68 - PROGRESS: at 27.83% examples, 225655 words/s, in_qsize 0, out_qsize 0\n",
      "2019-02-06 18:38:33,582 : INFO : EPOCH 68 - PROGRESS: at 38.46% examples, 233336 words/s, in_qsize 0, out_qsize 0\n",
      "2019-02-06 18:38:34,594 : INFO : EPOCH 68 - PROGRESS: at 48.31% examples, 239127 words/s, in_qsize 0, out_qsize 0\n",
      "2019-02-06 18:38:35,597 : INFO : EPOCH 68 - PROGRESS: at 58.31% examples, 242747 words/s, in_qsize 0, out_qsize 0\n",
      "2019-02-06 18:38:36,611 : INFO : EPOCH 68 - PROGRESS: at 71.40% examples, 245878 words/s, in_qsize 0, out_qsize 0\n",
      "2019-02-06 18:38:37,663 : INFO : EPOCH 68 - PROGRESS: at 92.46% examples, 243796 words/s, in_qsize 0, out_qsize 0\n",
      "2019-02-06 18:38:38,013 : INFO : worker thread finished; awaiting finish of 2 more threads\n",
      "2019-02-06 18:38:38,026 : INFO : worker thread finished; awaiting finish of 1 more threads\n",
      "2019-02-06 18:38:38,030 : INFO : worker thread finished; awaiting finish of 0 more threads\n",
      "2019-02-06 18:38:38,031 : INFO : EPOCH - 68 : training on 3030002 raw words (2091547 effective words) took 8.5s, 246023 effective words/s\n"
     ]
    },
    {
     "name": "stdout",
     "output_type": "stream",
     "text": [
      "unique_word2vec.txt\n"
     ]
    },
    {
     "name": "stderr",
     "output_type": "stream",
     "text": [
      "2019-02-06 18:38:39,033 : INFO : EPOCH 69 - PROGRESS: at 10.12% examples, 269364 words/s, in_qsize 0, out_qsize 0\n",
      "2019-02-06 18:38:40,055 : INFO : EPOCH 69 - PROGRESS: at 21.53% examples, 269112 words/s, in_qsize 0, out_qsize 0\n",
      "2019-02-06 18:38:41,059 : INFO : EPOCH 69 - PROGRESS: at 33.64% examples, 270643 words/s, in_qsize 0, out_qsize 0\n",
      "2019-02-06 18:38:42,069 : INFO : EPOCH 69 - PROGRESS: at 43.61% examples, 268544 words/s, in_qsize 0, out_qsize 0\n",
      "2019-02-06 18:38:43,114 : INFO : EPOCH 69 - PROGRESS: at 53.93% examples, 267826 words/s, in_qsize 0, out_qsize 0\n",
      "2019-02-06 18:38:44,128 : INFO : EPOCH 69 - PROGRESS: at 64.55% examples, 268666 words/s, in_qsize 0, out_qsize 0\n",
      "2019-02-06 18:38:45,135 : INFO : EPOCH 69 - PROGRESS: at 84.84% examples, 266224 words/s, in_qsize 0, out_qsize 0\n",
      "2019-02-06 18:38:45,893 : INFO : worker thread finished; awaiting finish of 2 more threads\n",
      "2019-02-06 18:38:45,907 : INFO : worker thread finished; awaiting finish of 1 more threads\n",
      "2019-02-06 18:38:45,913 : INFO : worker thread finished; awaiting finish of 0 more threads\n",
      "2019-02-06 18:38:45,914 : INFO : EPOCH - 69 : training on 3030002 raw words (2091878 effective words) took 7.9s, 265415 effective words/s\n"
     ]
    },
    {
     "name": "stdout",
     "output_type": "stream",
     "text": [
      "unique_word2vec.txt\n"
     ]
    },
    {
     "name": "stderr",
     "output_type": "stream",
     "text": [
      "2019-02-06 18:38:46,945 : INFO : EPOCH 70 - PROGRESS: at 9.57% examples, 248841 words/s, in_qsize 0, out_qsize 1\n",
      "2019-02-06 18:38:47,949 : INFO : EPOCH 70 - PROGRESS: at 21.53% examples, 268030 words/s, in_qsize 0, out_qsize 0\n",
      "2019-02-06 18:38:48,956 : INFO : EPOCH 70 - PROGRESS: at 31.41% examples, 253616 words/s, in_qsize 0, out_qsize 0\n",
      "2019-02-06 18:38:49,983 : INFO : EPOCH 70 - PROGRESS: at 43.34% examples, 265406 words/s, in_qsize 0, out_qsize 0\n",
      "2019-02-06 18:38:50,992 : INFO : EPOCH 70 - PROGRESS: at 53.93% examples, 267691 words/s, in_qsize 0, out_qsize 0\n",
      "2019-02-06 18:38:52,028 : INFO : EPOCH 70 - PROGRESS: at 64.81% examples, 269227 words/s, in_qsize 0, out_qsize 0\n",
      "2019-02-06 18:38:53,043 : INFO : EPOCH 70 - PROGRESS: at 86.52% examples, 268104 words/s, in_qsize 0, out_qsize 0\n",
      "2019-02-06 18:38:53,700 : INFO : worker thread finished; awaiting finish of 2 more threads\n",
      "2019-02-06 18:38:53,710 : INFO : worker thread finished; awaiting finish of 1 more threads\n",
      "2019-02-06 18:38:53,719 : INFO : worker thread finished; awaiting finish of 0 more threads\n",
      "2019-02-06 18:38:53,720 : INFO : EPOCH - 70 : training on 3030002 raw words (2091962 effective words) took 7.8s, 268042 effective words/s\n"
     ]
    },
    {
     "name": "stdout",
     "output_type": "stream",
     "text": [
      "unique_word2vec.txt\n"
     ]
    },
    {
     "name": "stderr",
     "output_type": "stream",
     "text": [
      "2019-02-06 18:38:54,747 : INFO : EPOCH 71 - PROGRESS: at 9.80% examples, 256778 words/s, in_qsize 0, out_qsize 0\n",
      "2019-02-06 18:38:55,760 : INFO : EPOCH 71 - PROGRESS: at 20.94% examples, 263276 words/s, in_qsize 1, out_qsize 0\n",
      "2019-02-06 18:38:56,788 : INFO : EPOCH 71 - PROGRESS: at 33.38% examples, 264806 words/s, in_qsize 0, out_qsize 1\n",
      "2019-02-06 18:38:57,799 : INFO : EPOCH 71 - PROGRESS: at 44.67% examples, 272658 words/s, in_qsize 0, out_qsize 0\n",
      "2019-02-06 18:38:58,802 : INFO : EPOCH 71 - PROGRESS: at 55.21% examples, 274159 words/s, in_qsize 0, out_qsize 0\n",
      "2019-02-06 18:38:59,810 : INFO : EPOCH 71 - PROGRESS: at 66.18% examples, 275823 words/s, in_qsize 0, out_qsize 0\n",
      "2019-02-06 18:39:00,837 : INFO : EPOCH 71 - PROGRESS: at 88.28% examples, 271795 words/s, in_qsize 0, out_qsize 0\n",
      "2019-02-06 18:39:01,404 : INFO : worker thread finished; awaiting finish of 2 more threads\n",
      "2019-02-06 18:39:01,414 : INFO : worker thread finished; awaiting finish of 1 more threads\n",
      "2019-02-06 18:39:01,423 : INFO : worker thread finished; awaiting finish of 0 more threads\n",
      "2019-02-06 18:39:01,424 : INFO : EPOCH - 71 : training on 3030002 raw words (2091707 effective words) took 7.7s, 271565 effective words/s\n"
     ]
    },
    {
     "name": "stdout",
     "output_type": "stream",
     "text": [
      "unique_word2vec.txt\n"
     ]
    },
    {
     "name": "stderr",
     "output_type": "stream",
     "text": [
      "2019-02-06 18:39:02,430 : INFO : EPOCH 72 - PROGRESS: at 10.41% examples, 276295 words/s, in_qsize 0, out_qsize 0\n",
      "2019-02-06 18:39:03,456 : INFO : EPOCH 72 - PROGRESS: at 22.72% examples, 276419 words/s, in_qsize 0, out_qsize 0\n",
      "2019-02-06 18:39:04,459 : INFO : EPOCH 72 - PROGRESS: at 33.11% examples, 265440 words/s, in_qsize 0, out_qsize 0\n",
      "2019-02-06 18:39:05,473 : INFO : EPOCH 72 - PROGRESS: at 42.01% examples, 257445 words/s, in_qsize 0, out_qsize 0\n",
      "2019-02-06 18:39:06,485 : INFO : EPOCH 72 - PROGRESS: at 51.12% examples, 254160 words/s, in_qsize 0, out_qsize 0\n",
      "2019-02-06 18:39:07,510 : INFO : EPOCH 72 - PROGRESS: at 60.59% examples, 251946 words/s, in_qsize 0, out_qsize 0\n",
      "2019-02-06 18:39:08,511 : INFO : EPOCH 72 - PROGRESS: at 75.04% examples, 251368 words/s, in_qsize 0, out_qsize 0\n",
      "2019-02-06 18:39:09,514 : INFO : EPOCH 72 - PROGRESS: at 96.67% examples, 252108 words/s, in_qsize 0, out_qsize 0\n",
      "2019-02-06 18:39:09,671 : INFO : worker thread finished; awaiting finish of 2 more threads\n",
      "2019-02-06 18:39:09,682 : INFO : worker thread finished; awaiting finish of 1 more threads\n",
      "2019-02-06 18:39:09,691 : INFO : worker thread finished; awaiting finish of 0 more threads\n",
      "2019-02-06 18:39:09,692 : INFO : EPOCH - 72 : training on 3030002 raw words (2090970 effective words) took 8.3s, 252940 effective words/s\n"
     ]
    },
    {
     "name": "stdout",
     "output_type": "stream",
     "text": [
      "unique_word2vec.txt\n"
     ]
    },
    {
     "name": "stderr",
     "output_type": "stream",
     "text": [
      "2019-02-06 18:39:10,734 : INFO : EPOCH 73 - PROGRESS: at 10.12% examples, 260057 words/s, in_qsize 0, out_qsize 0\n",
      "2019-02-06 18:39:11,772 : INFO : EPOCH 73 - PROGRESS: at 22.72% examples, 270765 words/s, in_qsize 0, out_qsize 0\n",
      "2019-02-06 18:39:12,769 : INFO : EPOCH 73 - PROGRESS: at 34.19% examples, 271111 words/s, in_qsize 0, out_qsize 0\n",
      "2019-02-06 18:39:13,785 : INFO : EPOCH 73 - PROGRESS: at 44.95% examples, 273659 words/s, in_qsize 0, out_qsize 0\n",
      "2019-02-06 18:39:14,803 : INFO : EPOCH 73 - PROGRESS: at 54.96% examples, 271788 words/s, in_qsize 0, out_qsize 0\n",
      "2019-02-06 18:39:15,809 : INFO : EPOCH 73 - PROGRESS: at 65.62% examples, 272351 words/s, in_qsize 0, out_qsize 0\n",
      "2019-02-06 18:39:16,818 : INFO : EPOCH 73 - PROGRESS: at 86.52% examples, 268276 words/s, in_qsize 0, out_qsize 0\n",
      "2019-02-06 18:39:17,464 : INFO : worker thread finished; awaiting finish of 2 more threads\n",
      "2019-02-06 18:39:17,476 : INFO : worker thread finished; awaiting finish of 1 more threads\n",
      "2019-02-06 18:39:17,480 : INFO : worker thread finished; awaiting finish of 0 more threads\n",
      "2019-02-06 18:39:17,480 : INFO : EPOCH - 73 : training on 3030002 raw words (2090727 effective words) took 7.8s, 268608 effective words/s\n"
     ]
    },
    {
     "name": "stdout",
     "output_type": "stream",
     "text": [
      "unique_word2vec.txt\n"
     ]
    },
    {
     "name": "stderr",
     "output_type": "stream",
     "text": [
      "2019-02-06 18:39:18,503 : INFO : EPOCH 74 - PROGRESS: at 10.41% examples, 272920 words/s, in_qsize 0, out_qsize 0\n",
      "2019-02-06 18:39:19,506 : INFO : EPOCH 74 - PROGRESS: at 22.12% examples, 272891 words/s, in_qsize 0, out_qsize 0\n",
      "2019-02-06 18:39:20,525 : INFO : EPOCH 74 - PROGRESS: at 34.19% examples, 273886 words/s, in_qsize 0, out_qsize 0\n",
      "2019-02-06 18:39:21,539 : INFO : EPOCH 74 - PROGRESS: at 44.95% examples, 275801 words/s, in_qsize 0, out_qsize 0\n",
      "2019-02-06 18:39:22,586 : INFO : EPOCH 74 - PROGRESS: at 55.21% examples, 272774 words/s, in_qsize 0, out_qsize 0\n",
      "2019-02-06 18:39:23,611 : INFO : EPOCH 74 - PROGRESS: at 66.18% examples, 274144 words/s, in_qsize 0, out_qsize 0\n",
      "2019-02-06 18:39:24,613 : INFO : EPOCH 74 - PROGRESS: at 85.42% examples, 265982 words/s, in_qsize 0, out_qsize 0\n",
      "2019-02-06 18:39:25,339 : INFO : worker thread finished; awaiting finish of 2 more threads\n",
      "2019-02-06 18:39:25,354 : INFO : worker thread finished; awaiting finish of 1 more threads\n",
      "2019-02-06 18:39:25,360 : INFO : worker thread finished; awaiting finish of 0 more threads\n",
      "2019-02-06 18:39:25,360 : INFO : EPOCH - 74 : training on 3030002 raw words (2091570 effective words) took 7.9s, 265472 effective words/s\n"
     ]
    },
    {
     "name": "stdout",
     "output_type": "stream",
     "text": [
      "unique_word2vec.txt\n"
     ]
    },
    {
     "name": "stderr",
     "output_type": "stream",
     "text": [
      "2019-02-06 18:39:26,366 : INFO : EPOCH 75 - PROGRESS: at 10.41% examples, 275962 words/s, in_qsize 0, out_qsize 0\n",
      "2019-02-06 18:39:27,394 : INFO : EPOCH 75 - PROGRESS: at 21.53% examples, 268156 words/s, in_qsize 0, out_qsize 0\n",
      "2019-02-06 18:39:28,411 : INFO : EPOCH 75 - PROGRESS: at 33.12% examples, 264158 words/s, in_qsize 0, out_qsize 0\n",
      "2019-02-06 18:39:29,437 : INFO : EPOCH 75 - PROGRESS: at 44.14% examples, 269662 words/s, in_qsize 0, out_qsize 0\n",
      "2019-02-06 18:39:30,445 : INFO : EPOCH 75 - PROGRESS: at 54.18% examples, 268730 words/s, in_qsize 0, out_qsize 0\n",
      "2019-02-06 18:39:31,466 : INFO : EPOCH 75 - PROGRESS: at 64.81% examples, 269817 words/s, in_qsize 0, out_qsize 0\n",
      "2019-02-06 18:39:32,487 : INFO : EPOCH 75 - PROGRESS: at 85.99% examples, 267187 words/s, in_qsize 0, out_qsize 0\n",
      "2019-02-06 18:39:33,131 : INFO : worker thread finished; awaiting finish of 2 more threads\n",
      "2019-02-06 18:39:33,144 : INFO : worker thread finished; awaiting finish of 1 more threads\n",
      "2019-02-06 18:39:33,146 : INFO : worker thread finished; awaiting finish of 0 more threads\n",
      "2019-02-06 18:39:33,149 : INFO : EPOCH - 75 : training on 3030002 raw words (2091904 effective words) took 7.8s, 268643 effective words/s\n"
     ]
    },
    {
     "name": "stdout",
     "output_type": "stream",
     "text": [
      "unique_word2vec.txt\n"
     ]
    },
    {
     "name": "stderr",
     "output_type": "stream",
     "text": [
      "2019-02-06 18:39:34,159 : INFO : EPOCH 76 - PROGRESS: at 9.80% examples, 261123 words/s, in_qsize 0, out_qsize 0\n",
      "2019-02-06 18:39:35,165 : INFO : EPOCH 76 - PROGRESS: at 21.53% examples, 271460 words/s, in_qsize 0, out_qsize 0\n",
      "2019-02-06 18:39:36,172 : INFO : EPOCH 76 - PROGRESS: at 33.38% examples, 268808 words/s, in_qsize 0, out_qsize 0\n",
      "2019-02-06 18:39:37,181 : INFO : EPOCH 76 - PROGRESS: at 43.61% examples, 269301 words/s, in_qsize 0, out_qsize 0\n",
      "2019-02-06 18:39:38,182 : INFO : EPOCH 76 - PROGRESS: at 54.18% examples, 271505 words/s, in_qsize 0, out_qsize 0\n",
      "2019-02-06 18:39:39,213 : INFO : EPOCH 76 - PROGRESS: at 64.55% examples, 270030 words/s, in_qsize 0, out_qsize 0\n",
      "2019-02-06 18:39:40,213 : INFO : EPOCH 76 - PROGRESS: at 81.44% examples, 262152 words/s, in_qsize 0, out_qsize 0\n",
      "2019-02-06 18:39:41,185 : INFO : worker thread finished; awaiting finish of 2 more threads\n",
      "2019-02-06 18:39:41,195 : INFO : worker thread finished; awaiting finish of 1 more threads\n",
      "2019-02-06 18:39:41,203 : INFO : worker thread finished; awaiting finish of 0 more threads\n",
      "2019-02-06 18:39:41,204 : INFO : EPOCH - 76 : training on 3030002 raw words (2090766 effective words) took 8.1s, 259596 effective words/s\n"
     ]
    },
    {
     "name": "stdout",
     "output_type": "stream",
     "text": [
      "unique_word2vec.txt\n"
     ]
    },
    {
     "name": "stderr",
     "output_type": "stream",
     "text": [
      "2019-02-06 18:39:42,227 : INFO : EPOCH 77 - PROGRESS: at 10.69% examples, 277582 words/s, in_qsize 0, out_qsize 0\n",
      "2019-02-06 18:39:43,253 : INFO : EPOCH 77 - PROGRESS: at 23.28% examples, 277175 words/s, in_qsize 0, out_qsize 0\n",
      "2019-02-06 18:39:44,295 : INFO : EPOCH 77 - PROGRESS: at 34.98% examples, 276429 words/s, in_qsize 0, out_qsize 0\n",
      "2019-02-06 18:39:45,292 : INFO : EPOCH 77 - PROGRESS: at 45.96% examples, 280481 words/s, in_qsize 0, out_qsize 0\n",
      "2019-02-06 18:39:46,296 : INFO : EPOCH 77 - PROGRESS: at 56.49% examples, 279890 words/s, in_qsize 0, out_qsize 0\n",
      "2019-02-06 18:39:47,334 : INFO : EPOCH 77 - PROGRESS: at 67.75% examples, 277348 words/s, in_qsize 0, out_qsize 0\n",
      "2019-02-06 18:39:48,334 : INFO : EPOCH 77 - PROGRESS: at 90.58% examples, 275003 words/s, in_qsize 0, out_qsize 0\n",
      "2019-02-06 18:39:48,857 : INFO : worker thread finished; awaiting finish of 2 more threads\n",
      "2019-02-06 18:39:48,871 : INFO : worker thread finished; awaiting finish of 1 more threads\n",
      "2019-02-06 18:39:48,880 : INFO : worker thread finished; awaiting finish of 0 more threads\n",
      "2019-02-06 18:39:48,881 : INFO : EPOCH - 77 : training on 3030002 raw words (2090588 effective words) took 7.7s, 272377 effective words/s\n"
     ]
    },
    {
     "name": "stdout",
     "output_type": "stream",
     "text": [
      "unique_word2vec.txt\n"
     ]
    },
    {
     "name": "stderr",
     "output_type": "stream",
     "text": [
      "2019-02-06 18:39:49,899 : INFO : EPOCH 78 - PROGRESS: at 10.12% examples, 267512 words/s, in_qsize 0, out_qsize 0\n",
      "2019-02-06 18:39:50,915 : INFO : EPOCH 78 - PROGRESS: at 22.12% examples, 271831 words/s, in_qsize 0, out_qsize 0\n",
      "2019-02-06 18:39:51,929 : INFO : EPOCH 78 - PROGRESS: at 33.11% examples, 264397 words/s, in_qsize 0, out_qsize 0\n",
      "2019-02-06 18:39:52,956 : INFO : EPOCH 78 - PROGRESS: at 41.73% examples, 254184 words/s, in_qsize 0, out_qsize 0\n",
      "2019-02-06 18:39:53,969 : INFO : EPOCH 78 - PROGRESS: at 51.63% examples, 255305 words/s, in_qsize 0, out_qsize 0\n",
      "2019-02-06 18:39:54,992 : INFO : EPOCH 78 - PROGRESS: at 61.64% examples, 255385 words/s, in_qsize 0, out_qsize 0\n",
      "2019-02-06 18:39:55,994 : INFO : EPOCH 78 - PROGRESS: at 77.34% examples, 253746 words/s, in_qsize 0, out_qsize 0\n",
      "2019-02-06 18:39:57,018 : INFO : EPOCH 78 - PROGRESS: at 98.55% examples, 253206 words/s, in_qsize 0, out_qsize 0\n",
      "2019-02-06 18:39:57,100 : INFO : worker thread finished; awaiting finish of 2 more threads\n",
      "2019-02-06 18:39:57,113 : INFO : worker thread finished; awaiting finish of 1 more threads\n",
      "2019-02-06 18:39:57,123 : INFO : worker thread finished; awaiting finish of 0 more threads\n",
      "2019-02-06 18:39:57,123 : INFO : EPOCH - 78 : training on 3030002 raw words (2091013 effective words) took 8.2s, 253774 effective words/s\n"
     ]
    },
    {
     "name": "stdout",
     "output_type": "stream",
     "text": [
      "unique_word2vec.txt\n"
     ]
    },
    {
     "name": "stderr",
     "output_type": "stream",
     "text": [
      "2019-02-06 18:39:58,139 : INFO : EPOCH 79 - PROGRESS: at 10.69% examples, 281369 words/s, in_qsize 0, out_qsize 0\n",
      "2019-02-06 18:39:59,178 : INFO : EPOCH 79 - PROGRESS: at 22.12% examples, 270635 words/s, in_qsize 0, out_qsize 0\n",
      "2019-02-06 18:40:00,178 : INFO : EPOCH 79 - PROGRESS: at 33.93% examples, 271011 words/s, in_qsize 0, out_qsize 0\n",
      "2019-02-06 18:40:01,186 : INFO : EPOCH 79 - PROGRESS: at 44.41% examples, 272557 words/s, in_qsize 0, out_qsize 0\n",
      "2019-02-06 18:40:02,197 : INFO : EPOCH 79 - PROGRESS: at 54.95% examples, 273419 words/s, in_qsize 0, out_qsize 0\n",
      "2019-02-06 18:40:03,231 : INFO : EPOCH 79 - PROGRESS: at 65.35% examples, 272086 words/s, in_qsize 0, out_qsize 0\n",
      "2019-02-06 18:40:04,239 : INFO : EPOCH 79 - PROGRESS: at 85.99% examples, 268097 words/s, in_qsize 0, out_qsize 0\n",
      "2019-02-06 18:40:04,879 : INFO : worker thread finished; awaiting finish of 2 more threads\n",
      "2019-02-06 18:40:04,890 : INFO : worker thread finished; awaiting finish of 1 more threads\n",
      "2019-02-06 18:40:04,896 : INFO : worker thread finished; awaiting finish of 0 more threads\n",
      "2019-02-06 18:40:04,896 : INFO : EPOCH - 79 : training on 3030002 raw words (2091672 effective words) took 7.8s, 269253 effective words/s\n"
     ]
    },
    {
     "name": "stdout",
     "output_type": "stream",
     "text": [
      "unique_word2vec.txt\n"
     ]
    },
    {
     "name": "stderr",
     "output_type": "stream",
     "text": [
      "2019-02-06 18:40:05,935 : INFO : EPOCH 80 - PROGRESS: at 10.41% examples, 268453 words/s, in_qsize 0, out_qsize 0\n",
      "2019-02-06 18:40:06,993 : INFO : EPOCH 80 - PROGRESS: at 22.72% examples, 268500 words/s, in_qsize 1, out_qsize 1\n",
      "2019-02-06 18:40:07,995 : INFO : EPOCH 80 - PROGRESS: at 34.70% examples, 273854 words/s, in_qsize 0, out_qsize 0\n",
      "2019-02-06 18:40:09,023 : INFO : EPOCH 80 - PROGRESS: at 44.67% examples, 269645 words/s, in_qsize 0, out_qsize 0\n",
      "2019-02-06 18:40:10,042 : INFO : EPOCH 80 - PROGRESS: at 55.46% examples, 272038 words/s, in_qsize 0, out_qsize 0\n",
      "2019-02-06 18:40:11,099 : INFO : EPOCH 80 - PROGRESS: at 66.53% examples, 271965 words/s, in_qsize 0, out_qsize 0\n",
      "2019-02-06 18:40:12,118 : INFO : EPOCH 80 - PROGRESS: at 88.28% examples, 267755 words/s, in_qsize 0, out_qsize 0\n",
      "2019-02-06 18:40:12,707 : INFO : worker thread finished; awaiting finish of 2 more threads\n",
      "2019-02-06 18:40:12,717 : INFO : worker thread finished; awaiting finish of 1 more threads\n",
      "2019-02-06 18:40:12,724 : INFO : worker thread finished; awaiting finish of 0 more threads\n",
      "2019-02-06 18:40:12,724 : INFO : EPOCH - 80 : training on 3030002 raw words (2090740 effective words) took 7.8s, 267232 effective words/s\n"
     ]
    },
    {
     "name": "stdout",
     "output_type": "stream",
     "text": [
      "unique_word2vec.txt\n"
     ]
    },
    {
     "name": "stderr",
     "output_type": "stream",
     "text": [
      "2019-02-06 18:40:13,727 : INFO : EPOCH 81 - PROGRESS: at 9.57% examples, 255469 words/s, in_qsize 0, out_qsize 0\n",
      "2019-02-06 18:40:14,756 : INFO : EPOCH 81 - PROGRESS: at 20.32% examples, 261198 words/s, in_qsize 0, out_qsize 0\n",
      "2019-02-06 18:40:15,776 : INFO : EPOCH 81 - PROGRESS: at 32.84% examples, 261898 words/s, in_qsize 1, out_qsize 0\n",
      "2019-02-06 18:40:16,805 : INFO : EPOCH 81 - PROGRESS: at 43.34% examples, 265157 words/s, in_qsize 0, out_qsize 0\n",
      "2019-02-06 18:40:17,797 : INFO : EPOCH 81 - PROGRESS: at 53.17% examples, 264094 words/s, in_qsize 0, out_qsize 0\n",
      "2019-02-06 18:40:18,813 : INFO : EPOCH 81 - PROGRESS: at 63.70% examples, 265573 words/s, in_qsize 0, out_qsize 0\n",
      "2019-02-06 18:40:19,841 : INFO : EPOCH 81 - PROGRESS: at 81.44% examples, 260355 words/s, in_qsize 0, out_qsize 0\n",
      "2019-02-06 18:40:20,834 : INFO : worker thread finished; awaiting finish of 2 more threads\n",
      "2019-02-06 18:40:20,846 : INFO : EPOCH 81 - PROGRESS: at 99.74% examples, 256666 words/s, in_qsize 1, out_qsize 1\n",
      "2019-02-06 18:40:20,846 : INFO : worker thread finished; awaiting finish of 1 more threads\n",
      "2019-02-06 18:40:20,858 : INFO : worker thread finished; awaiting finish of 0 more threads\n",
      "2019-02-06 18:40:20,858 : INFO : EPOCH - 81 : training on 3030002 raw words (2091141 effective words) took 8.1s, 257129 effective words/s\n"
     ]
    },
    {
     "name": "stdout",
     "output_type": "stream",
     "text": [
      "unique_word2vec.txt\n"
     ]
    },
    {
     "name": "stderr",
     "output_type": "stream",
     "text": [
      "2019-02-06 18:40:21,885 : INFO : EPOCH 82 - PROGRESS: at 10.09% examples, 264303 words/s, in_qsize 0, out_qsize 1\n",
      "2019-02-06 18:40:22,885 : INFO : EPOCH 82 - PROGRESS: at 20.94% examples, 265615 words/s, in_qsize 0, out_qsize 0\n",
      "2019-02-06 18:40:23,899 : INFO : EPOCH 82 - PROGRESS: at 33.64% examples, 269928 words/s, in_qsize 0, out_qsize 0\n",
      "2019-02-06 18:40:24,917 : INFO : EPOCH 82 - PROGRESS: at 44.14% examples, 270797 words/s, in_qsize 0, out_qsize 0\n",
      "2019-02-06 18:40:25,936 : INFO : EPOCH 82 - PROGRESS: at 54.95% examples, 273551 words/s, in_qsize 0, out_qsize 0\n",
      "2019-02-06 18:40:26,941 : INFO : EPOCH 82 - PROGRESS: at 64.55% examples, 269728 words/s, in_qsize 0, out_qsize 1\n",
      "2019-02-06 18:40:27,938 : INFO : EPOCH 82 - PROGRESS: at 82.56% examples, 263806 words/s, in_qsize 0, out_qsize 0\n",
      "2019-02-06 18:40:28,816 : INFO : worker thread finished; awaiting finish of 2 more threads\n",
      "2019-02-06 18:40:28,829 : INFO : worker thread finished; awaiting finish of 1 more threads\n",
      "2019-02-06 18:40:28,839 : INFO : worker thread finished; awaiting finish of 0 more threads\n",
      "2019-02-06 18:40:28,839 : INFO : EPOCH - 82 : training on 3030002 raw words (2091135 effective words) took 8.0s, 262162 effective words/s\n"
     ]
    },
    {
     "name": "stdout",
     "output_type": "stream",
     "text": [
      "unique_word2vec.txt\n"
     ]
    },
    {
     "name": "stderr",
     "output_type": "stream",
     "text": [
      "2019-02-06 18:40:29,853 : INFO : EPOCH 83 - PROGRESS: at 9.80% examples, 259726 words/s, in_qsize 0, out_qsize 0\n",
      "2019-02-06 18:40:30,856 : INFO : EPOCH 83 - PROGRESS: at 18.95% examples, 248964 words/s, in_qsize 0, out_qsize 1\n",
      "2019-02-06 18:40:31,879 : INFO : EPOCH 83 - PROGRESS: at 32.30% examples, 258275 words/s, in_qsize 0, out_qsize 1\n",
      "2019-02-06 18:40:32,886 : INFO : EPOCH 83 - PROGRESS: at 43.07% examples, 264549 words/s, in_qsize 0, out_qsize 0\n",
      "2019-02-06 18:40:33,902 : INFO : EPOCH 83 - PROGRESS: at 53.93% examples, 268467 words/s, in_qsize 0, out_qsize 0\n",
      "2019-02-06 18:40:34,926 : INFO : EPOCH 83 - PROGRESS: at 64.81% examples, 270379 words/s, in_qsize 0, out_qsize 0\n",
      "2019-02-06 18:40:35,935 : INFO : EPOCH 83 - PROGRESS: at 83.13% examples, 264197 words/s, in_qsize 0, out_qsize 0\n",
      "2019-02-06 18:40:36,762 : INFO : worker thread finished; awaiting finish of 2 more threads\n",
      "2019-02-06 18:40:36,774 : INFO : worker thread finished; awaiting finish of 1 more threads\n",
      "2019-02-06 18:40:36,780 : INFO : worker thread finished; awaiting finish of 0 more threads\n",
      "2019-02-06 18:40:36,781 : INFO : EPOCH - 83 : training on 3030002 raw words (2091912 effective words) took 7.9s, 263465 effective words/s\n"
     ]
    },
    {
     "name": "stdout",
     "output_type": "stream",
     "text": [
      "unique_word2vec.txt\n"
     ]
    },
    {
     "name": "stderr",
     "output_type": "stream",
     "text": [
      "2019-02-06 18:40:37,795 : INFO : EPOCH 84 - PROGRESS: at 10.41% examples, 274332 words/s, in_qsize 0, out_qsize 0\n",
      "2019-02-06 18:40:38,794 : INFO : EPOCH 84 - PROGRESS: at 22.12% examples, 274913 words/s, in_qsize 0, out_qsize 0\n",
      "2019-02-06 18:40:39,800 : INFO : EPOCH 84 - PROGRESS: at 34.19% examples, 276740 words/s, in_qsize 0, out_qsize 0\n",
      "2019-02-06 18:40:40,816 : INFO : EPOCH 84 - PROGRESS: at 45.20% examples, 279667 words/s, in_qsize 0, out_qsize 0\n",
      "2019-02-06 18:40:41,847 : INFO : EPOCH 84 - PROGRESS: at 55.73% examples, 277601 words/s, in_qsize 0, out_qsize 0\n",
      "2019-02-06 18:40:42,860 : INFO : EPOCH 84 - PROGRESS: at 66.18% examples, 276328 words/s, in_qsize 0, out_qsize 0\n",
      "2019-02-06 18:40:43,862 : INFO : EPOCH 84 - PROGRESS: at 86.52% examples, 269865 words/s, in_qsize 0, out_qsize 0\n",
      "2019-02-06 18:40:44,568 : INFO : worker thread finished; awaiting finish of 2 more threads\n",
      "2019-02-06 18:40:44,578 : INFO : worker thread finished; awaiting finish of 1 more threads\n",
      "2019-02-06 18:40:44,583 : INFO : worker thread finished; awaiting finish of 0 more threads\n",
      "2019-02-06 18:40:44,583 : INFO : EPOCH - 84 : training on 3030002 raw words (2090552 effective words) took 7.8s, 268064 effective words/s\n"
     ]
    },
    {
     "name": "stdout",
     "output_type": "stream",
     "text": [
      "unique_word2vec.txt\n"
     ]
    },
    {
     "name": "stderr",
     "output_type": "stream",
     "text": [
      "2019-02-06 18:40:45,590 : INFO : EPOCH 85 - PROGRESS: at 9.57% examples, 254329 words/s, in_qsize 0, out_qsize 0\n",
      "2019-02-06 18:40:46,597 : INFO : EPOCH 85 - PROGRESS: at 19.70% examples, 259524 words/s, in_qsize 0, out_qsize 0\n",
      "2019-02-06 18:40:47,598 : INFO : EPOCH 85 - PROGRESS: at 33.11% examples, 267306 words/s, in_qsize 0, out_qsize 0\n",
      "2019-02-06 18:40:48,620 : INFO : EPOCH 85 - PROGRESS: at 43.87% examples, 270715 words/s, in_qsize 1, out_qsize 0\n",
      "2019-02-06 18:40:49,622 : INFO : EPOCH 85 - PROGRESS: at 54.70% examples, 273819 words/s, in_qsize 0, out_qsize 0\n",
      "2019-02-06 18:40:50,626 : INFO : EPOCH 85 - PROGRESS: at 65.08% examples, 273569 words/s, in_qsize 0, out_qsize 0\n",
      "2019-02-06 18:40:51,667 : INFO : EPOCH 85 - PROGRESS: at 85.42% examples, 268265 words/s, in_qsize 0, out_qsize 1\n",
      "2019-02-06 18:40:52,351 : INFO : worker thread finished; awaiting finish of 2 more threads\n",
      "2019-02-06 18:40:52,362 : INFO : worker thread finished; awaiting finish of 1 more threads\n",
      "2019-02-06 18:40:52,368 : INFO : worker thread finished; awaiting finish of 0 more threads\n",
      "2019-02-06 18:40:52,369 : INFO : EPOCH - 85 : training on 3030002 raw words (2091986 effective words) took 7.8s, 268737 effective words/s\n"
     ]
    },
    {
     "name": "stdout",
     "output_type": "stream",
     "text": [
      "unique_word2vec.txt\n"
     ]
    },
    {
     "name": "stderr",
     "output_type": "stream",
     "text": [
      "2019-02-06 18:40:53,394 : INFO : EPOCH 86 - PROGRESS: at 10.69% examples, 277195 words/s, in_qsize 0, out_qsize 0\n",
      "2019-02-06 18:40:54,399 : INFO : EPOCH 86 - PROGRESS: at 22.72% examples, 276488 words/s, in_qsize 0, out_qsize 0\n",
      "2019-02-06 18:40:55,419 : INFO : EPOCH 86 - PROGRESS: at 34.19% examples, 273510 words/s, in_qsize 0, out_qsize 0\n",
      "2019-02-06 18:40:56,418 : INFO : EPOCH 86 - PROGRESS: at 44.67% examples, 274663 words/s, in_qsize 0, out_qsize 0\n",
      "2019-02-06 18:40:57,427 : INFO : EPOCH 86 - PROGRESS: at 55.21% examples, 275276 words/s, in_qsize 0, out_qsize 0\n",
      "2019-02-06 18:40:58,447 : INFO : EPOCH 86 - PROGRESS: at 66.18% examples, 276480 words/s, in_qsize 0, out_qsize 0\n",
      "2019-02-06 18:40:59,446 : INFO : EPOCH 86 - PROGRESS: at 87.13% examples, 271030 words/s, in_qsize 0, out_qsize 0\n",
      "2019-02-06 18:41:00,096 : INFO : worker thread finished; awaiting finish of 2 more threads\n",
      "2019-02-06 18:41:00,109 : INFO : worker thread finished; awaiting finish of 1 more threads\n",
      "2019-02-06 18:41:00,111 : INFO : worker thread finished; awaiting finish of 0 more threads\n",
      "2019-02-06 18:41:00,112 : INFO : EPOCH - 86 : training on 3030002 raw words (2091081 effective words) took 7.7s, 270130 effective words/s\n"
     ]
    },
    {
     "name": "stdout",
     "output_type": "stream",
     "text": [
      "unique_word2vec.txt\n"
     ]
    },
    {
     "name": "stderr",
     "output_type": "stream",
     "text": [
      "2019-02-06 18:41:01,123 : INFO : EPOCH 87 - PROGRESS: at 10.41% examples, 274124 words/s, in_qsize 0, out_qsize 0\n",
      "2019-02-06 18:41:02,181 : INFO : EPOCH 87 - PROGRESS: at 22.72% examples, 271225 words/s, in_qsize 0, out_qsize 0\n",
      "2019-02-06 18:41:03,190 : INFO : EPOCH 87 - PROGRESS: at 34.70% examples, 275248 words/s, in_qsize 0, out_qsize 0\n",
      "2019-02-06 18:41:04,210 : INFO : EPOCH 87 - PROGRESS: at 45.20% examples, 274887 words/s, in_qsize 0, out_qsize 1\n",
      "2019-02-06 18:41:05,222 : INFO : EPOCH 87 - PROGRESS: at 56.49% examples, 278933 words/s, in_qsize 0, out_qsize 0\n",
      "2019-02-06 18:41:06,245 : INFO : EPOCH 87 - PROGRESS: at 69.56% examples, 280431 words/s, in_qsize 0, out_qsize 0\n",
      "2019-02-06 18:41:07,249 : INFO : EPOCH 87 - PROGRESS: at 91.87% examples, 276759 words/s, in_qsize 0, out_qsize 0\n",
      "2019-02-06 18:41:07,635 : INFO : worker thread finished; awaiting finish of 2 more threads\n",
      "2019-02-06 18:41:07,644 : INFO : worker thread finished; awaiting finish of 1 more threads\n",
      "2019-02-06 18:41:07,650 : INFO : worker thread finished; awaiting finish of 0 more threads\n",
      "2019-02-06 18:41:07,651 : INFO : EPOCH - 87 : training on 3030002 raw words (2090869 effective words) took 7.5s, 277402 effective words/s\n"
     ]
    },
    {
     "name": "stdout",
     "output_type": "stream",
     "text": [
      "unique_word2vec.txt\n"
     ]
    },
    {
     "name": "stderr",
     "output_type": "stream",
     "text": [
      "2019-02-06 18:41:08,672 : INFO : EPOCH 88 - PROGRESS: at 11.25% examples, 292213 words/s, in_qsize 0, out_qsize 0\n",
      "2019-02-06 18:41:09,692 : INFO : EPOCH 88 - PROGRESS: at 23.85% examples, 282113 words/s, in_qsize 0, out_qsize 0\n",
      "2019-02-06 18:41:10,710 : INFO : EPOCH 88 - PROGRESS: at 35.52% examples, 284234 words/s, in_qsize 0, out_qsize 0\n",
      "2019-02-06 18:41:11,722 : INFO : EPOCH 88 - PROGRESS: at 46.73% examples, 287289 words/s, in_qsize 0, out_qsize 0\n",
      "2019-02-06 18:41:12,729 : INFO : EPOCH 88 - PROGRESS: at 57.54% examples, 286100 words/s, in_qsize 0, out_qsize 0\n",
      "2019-02-06 18:41:13,754 : INFO : EPOCH 88 - PROGRESS: at 71.40% examples, 285268 words/s, in_qsize 0, out_qsize 0\n",
      "2019-02-06 18:41:14,772 : INFO : EPOCH 88 - PROGRESS: at 94.72% examples, 283544 words/s, in_qsize 0, out_qsize 0\n",
      "2019-02-06 18:41:15,005 : INFO : worker thread finished; awaiting finish of 2 more threads\n",
      "2019-02-06 18:41:15,015 : INFO : worker thread finished; awaiting finish of 1 more threads\n",
      "2019-02-06 18:41:15,029 : INFO : worker thread finished; awaiting finish of 0 more threads\n",
      "2019-02-06 18:41:15,030 : INFO : EPOCH - 88 : training on 3030002 raw words (2091534 effective words) took 7.4s, 283502 effective words/s\n"
     ]
    },
    {
     "name": "stdout",
     "output_type": "stream",
     "text": [
      "unique_word2vec.txt\n"
     ]
    },
    {
     "name": "stderr",
     "output_type": "stream",
     "text": [
      "2019-02-06 18:41:16,085 : INFO : EPOCH 89 - PROGRESS: at 11.25% examples, 285778 words/s, in_qsize 0, out_qsize 0\n",
      "2019-02-06 18:41:17,085 : INFO : EPOCH 89 - PROGRESS: at 24.96% examples, 294661 words/s, in_qsize 0, out_qsize 0\n",
      "2019-02-06 18:41:18,100 : INFO : EPOCH 89 - PROGRESS: at 36.79% examples, 294666 words/s, in_qsize 0, out_qsize 0\n",
      "2019-02-06 18:41:19,126 : INFO : EPOCH 89 - PROGRESS: at 48.31% examples, 295802 words/s, in_qsize 0, out_qsize 0\n",
      "2019-02-06 18:41:20,160 : INFO : EPOCH 89 - PROGRESS: at 59.33% examples, 292535 words/s, in_qsize 0, out_qsize 1\n",
      "2019-02-06 18:41:21,176 : INFO : EPOCH 89 - PROGRESS: at 74.42% examples, 288871 words/s, in_qsize 0, out_qsize 0\n",
      "2019-02-06 18:41:22,187 : INFO : EPOCH 89 - PROGRESS: at 97.30% examples, 286113 words/s, in_qsize 0, out_qsize 0\n",
      "2019-02-06 18:41:22,307 : INFO : worker thread finished; awaiting finish of 2 more threads\n",
      "2019-02-06 18:41:22,321 : INFO : worker thread finished; awaiting finish of 1 more threads\n",
      "2019-02-06 18:41:22,326 : INFO : worker thread finished; awaiting finish of 0 more threads\n",
      "2019-02-06 18:41:22,327 : INFO : EPOCH - 89 : training on 3030002 raw words (2091502 effective words) took 7.3s, 286777 effective words/s\n"
     ]
    },
    {
     "name": "stdout",
     "output_type": "stream",
     "text": [
      "unique_word2vec.txt\n"
     ]
    },
    {
     "name": "stderr",
     "output_type": "stream",
     "text": [
      "2019-02-06 18:41:23,344 : INFO : EPOCH 90 - PROGRESS: at 10.97% examples, 286259 words/s, in_qsize 0, out_qsize 0\n",
      "2019-02-06 18:41:24,356 : INFO : EPOCH 90 - PROGRESS: at 24.40% examples, 290937 words/s, in_qsize 0, out_qsize 0\n",
      "2019-02-06 18:41:25,374 : INFO : EPOCH 90 - PROGRESS: at 36.01% examples, 289974 words/s, in_qsize 0, out_qsize 0\n",
      "2019-02-06 18:41:26,380 : INFO : EPOCH 90 - PROGRESS: at 47.26% examples, 291698 words/s, in_qsize 0, out_qsize 0\n",
      "2019-02-06 18:41:27,391 : INFO : EPOCH 90 - PROGRESS: at 57.79% examples, 288070 words/s, in_qsize 0, out_qsize 0\n",
      "2019-02-06 18:41:28,426 : INFO : EPOCH 90 - PROGRESS: at 72.02% examples, 286505 words/s, in_qsize 0, out_qsize 0\n",
      "2019-02-06 18:41:29,443 : INFO : EPOCH 90 - PROGRESS: at 95.35% examples, 284753 words/s, in_qsize 0, out_qsize 0\n",
      "2019-02-06 18:41:29,649 : INFO : worker thread finished; awaiting finish of 2 more threads\n",
      "2019-02-06 18:41:29,653 : INFO : worker thread finished; awaiting finish of 1 more threads\n",
      "2019-02-06 18:41:29,664 : INFO : worker thread finished; awaiting finish of 0 more threads\n",
      "2019-02-06 18:41:29,664 : INFO : EPOCH - 90 : training on 3030002 raw words (2090855 effective words) took 7.3s, 285001 effective words/s\n"
     ]
    },
    {
     "name": "stdout",
     "output_type": "stream",
     "text": [
      "unique_word2vec.txt\n"
     ]
    },
    {
     "name": "stderr",
     "output_type": "stream",
     "text": [
      "2019-02-06 18:41:30,696 : INFO : EPOCH 91 - PROGRESS: at 10.69% examples, 276121 words/s, in_qsize 0, out_qsize 0\n",
      "2019-02-06 18:41:31,748 : INFO : EPOCH 91 - PROGRESS: at 23.29% examples, 272783 words/s, in_qsize 0, out_qsize 0\n",
      "2019-02-06 18:41:32,749 : INFO : EPOCH 91 - PROGRESS: at 35.73% examples, 284102 words/s, in_qsize 0, out_qsize 0\n",
      "2019-02-06 18:41:33,766 : INFO : EPOCH 91 - PROGRESS: at 47.26% examples, 288401 words/s, in_qsize 0, out_qsize 0\n",
      "2019-02-06 18:41:34,776 : INFO : EPOCH 91 - PROGRESS: at 58.31% examples, 288292 words/s, in_qsize 0, out_qsize 0\n",
      "2019-02-06 18:41:35,802 : INFO : EPOCH 91 - PROGRESS: at 72.61% examples, 286046 words/s, in_qsize 0, out_qsize 0\n",
      "2019-02-06 18:41:36,810 : INFO : EPOCH 91 - PROGRESS: at 94.72% examples, 282746 words/s, in_qsize 1, out_qsize 0\n",
      "2019-02-06 18:41:37,017 : INFO : worker thread finished; awaiting finish of 2 more threads\n",
      "2019-02-06 18:41:37,027 : INFO : worker thread finished; awaiting finish of 1 more threads\n",
      "2019-02-06 18:41:37,045 : INFO : worker thread finished; awaiting finish of 0 more threads\n",
      "2019-02-06 18:41:37,045 : INFO : EPOCH - 91 : training on 3030002 raw words (2091967 effective words) took 7.4s, 283476 effective words/s\n"
     ]
    },
    {
     "name": "stdout",
     "output_type": "stream",
     "text": [
      "unique_word2vec.txt\n"
     ]
    },
    {
     "name": "stderr",
     "output_type": "stream",
     "text": [
      "2019-02-06 18:41:38,067 : INFO : EPOCH 92 - PROGRESS: at 10.41% examples, 271689 words/s, in_qsize 0, out_qsize 0\n",
      "2019-02-06 18:41:39,083 : INFO : EPOCH 92 - PROGRESS: at 23.85% examples, 283659 words/s, in_qsize 0, out_qsize 0\n",
      "2019-02-06 18:41:40,084 : INFO : EPOCH 92 - PROGRESS: at 35.24% examples, 283824 words/s, in_qsize 0, out_qsize 0\n",
      "2019-02-06 18:41:41,104 : INFO : EPOCH 92 - PROGRESS: at 46.47% examples, 286393 words/s, in_qsize 0, out_qsize 0\n",
      "2019-02-06 18:41:42,125 : INFO : EPOCH 92 - PROGRESS: at 57.54% examples, 286344 words/s, in_qsize 0, out_qsize 0\n",
      "2019-02-06 18:41:43,148 : INFO : EPOCH 92 - PROGRESS: at 71.40% examples, 285277 words/s, in_qsize 0, out_qsize 0\n",
      "2019-02-06 18:41:44,167 : INFO : EPOCH 92 - PROGRESS: at 93.57% examples, 280717 words/s, in_qsize 0, out_qsize 1\n",
      "2019-02-06 18:41:44,453 : INFO : worker thread finished; awaiting finish of 2 more threads\n",
      "2019-02-06 18:41:44,463 : INFO : worker thread finished; awaiting finish of 1 more threads\n",
      "2019-02-06 18:41:44,472 : INFO : worker thread finished; awaiting finish of 0 more threads\n",
      "2019-02-06 18:41:44,473 : INFO : EPOCH - 92 : training on 3030002 raw words (2090732 effective words) took 7.4s, 281663 effective words/s\n"
     ]
    },
    {
     "name": "stdout",
     "output_type": "stream",
     "text": [
      "unique_word2vec.txt\n"
     ]
    },
    {
     "name": "stderr",
     "output_type": "stream",
     "text": [
      "2019-02-06 18:41:45,523 : INFO : EPOCH 93 - PROGRESS: at 10.97% examples, 279713 words/s, in_qsize 0, out_qsize 1\n",
      "2019-02-06 18:41:46,537 : INFO : EPOCH 93 - PROGRESS: at 24.67% examples, 289500 words/s, in_qsize 0, out_qsize 0\n",
      "2019-02-06 18:41:47,553 : INFO : EPOCH 93 - PROGRESS: at 36.26% examples, 288867 words/s, in_qsize 0, out_qsize 0\n",
      "2019-02-06 18:41:48,556 : INFO : EPOCH 93 - PROGRESS: at 47.79% examples, 293040 words/s, in_qsize 0, out_qsize 0\n",
      "2019-02-06 18:41:49,566 : INFO : EPOCH 93 - PROGRESS: at 58.03% examples, 287794 words/s, in_qsize 0, out_qsize 0\n",
      "2019-02-06 18:41:50,587 : INFO : EPOCH 93 - PROGRESS: at 73.20% examples, 288350 words/s, in_qsize 1, out_qsize 0\n",
      "2019-02-06 18:41:51,602 : INFO : EPOCH 93 - PROGRESS: at 96.01% examples, 285138 words/s, in_qsize 0, out_qsize 0\n",
      "2019-02-06 18:41:51,774 : INFO : worker thread finished; awaiting finish of 2 more threads\n",
      "2019-02-06 18:41:51,783 : INFO : worker thread finished; awaiting finish of 1 more threads\n",
      "2019-02-06 18:41:51,790 : INFO : worker thread finished; awaiting finish of 0 more threads\n",
      "2019-02-06 18:41:51,791 : INFO : EPOCH - 93 : training on 3030002 raw words (2091108 effective words) took 7.3s, 285798 effective words/s\n"
     ]
    },
    {
     "name": "stdout",
     "output_type": "stream",
     "text": [
      "unique_word2vec.txt\n"
     ]
    },
    {
     "name": "stderr",
     "output_type": "stream",
     "text": [
      "2019-02-06 18:41:52,845 : INFO : EPOCH 94 - PROGRESS: at 11.50% examples, 289728 words/s, in_qsize 0, out_qsize 0\n",
      "2019-02-06 18:41:53,856 : INFO : EPOCH 94 - PROGRESS: at 25.20% examples, 295531 words/s, in_qsize 0, out_qsize 0\n",
      "2019-02-06 18:41:54,883 : INFO : EPOCH 94 - PROGRESS: at 37.08% examples, 294645 words/s, in_qsize 0, out_qsize 0\n",
      "2019-02-06 18:41:55,898 : INFO : EPOCH 94 - PROGRESS: at 48.31% examples, 294743 words/s, in_qsize 0, out_qsize 0\n",
      "2019-02-06 18:41:56,899 : INFO : EPOCH 94 - PROGRESS: at 59.08% examples, 292165 words/s, in_qsize 0, out_qsize 0\n",
      "2019-02-06 18:41:57,912 : INFO : EPOCH 94 - PROGRESS: at 75.04% examples, 291021 words/s, in_qsize 0, out_qsize 0\n",
      "2019-02-06 18:41:58,915 : INFO : EPOCH 94 - PROGRESS: at 97.93% examples, 288203 words/s, in_qsize 0, out_qsize 0\n",
      "2019-02-06 18:41:59,004 : INFO : worker thread finished; awaiting finish of 2 more threads\n",
      "2019-02-06 18:41:59,016 : INFO : worker thread finished; awaiting finish of 1 more threads\n",
      "2019-02-06 18:41:59,021 : INFO : worker thread finished; awaiting finish of 0 more threads\n",
      "2019-02-06 18:41:59,022 : INFO : EPOCH - 94 : training on 3030002 raw words (2091150 effective words) took 7.2s, 289238 effective words/s\n"
     ]
    },
    {
     "name": "stdout",
     "output_type": "stream",
     "text": [
      "unique_word2vec.txt\n"
     ]
    },
    {
     "name": "stderr",
     "output_type": "stream",
     "text": [
      "2019-02-06 18:42:00,027 : INFO : EPOCH 95 - PROGRESS: at 10.69% examples, 283972 words/s, in_qsize 0, out_qsize 0\n",
      "2019-02-06 18:42:01,036 : INFO : EPOCH 95 - PROGRESS: at 24.14% examples, 290466 words/s, in_qsize 0, out_qsize 0\n",
      "2019-02-06 18:42:02,042 : INFO : EPOCH 95 - PROGRESS: at 36.26% examples, 295294 words/s, in_qsize 0, out_qsize 0\n",
      "2019-02-06 18:42:03,052 : INFO : EPOCH 95 - PROGRESS: at 47.26% examples, 293783 words/s, in_qsize 0, out_qsize 0\n",
      "2019-02-06 18:42:04,064 : INFO : EPOCH 95 - PROGRESS: at 58.03% examples, 290984 words/s, in_qsize 0, out_qsize 0\n",
      "2019-02-06 18:42:05,088 : INFO : EPOCH 95 - PROGRESS: at 72.02% examples, 288531 words/s, in_qsize 0, out_qsize 0\n",
      "2019-02-06 18:42:06,111 : INFO : EPOCH 95 - PROGRESS: at 94.72% examples, 284961 words/s, in_qsize 0, out_qsize 0\n",
      "2019-02-06 18:42:06,342 : INFO : worker thread finished; awaiting finish of 2 more threads\n",
      "2019-02-06 18:42:06,350 : INFO : worker thread finished; awaiting finish of 1 more threads\n",
      "2019-02-06 18:42:06,359 : INFO : worker thread finished; awaiting finish of 0 more threads\n",
      "2019-02-06 18:42:06,360 : INFO : EPOCH - 95 : training on 3030002 raw words (2091414 effective words) took 7.3s, 285204 effective words/s\n"
     ]
    },
    {
     "name": "stdout",
     "output_type": "stream",
     "text": [
      "unique_word2vec.txt\n"
     ]
    },
    {
     "name": "stderr",
     "output_type": "stream",
     "text": [
      "2019-02-06 18:42:07,378 : INFO : EPOCH 96 - PROGRESS: at 11.25% examples, 292932 words/s, in_qsize 0, out_qsize 0\n",
      "2019-02-06 18:42:08,382 : INFO : EPOCH 96 - PROGRESS: at 24.40% examples, 291697 words/s, in_qsize 0, out_qsize 0\n",
      "2019-02-06 18:42:09,412 : INFO : EPOCH 96 - PROGRESS: at 36.01% examples, 289092 words/s, in_qsize 0, out_qsize 0\n",
      "2019-02-06 18:42:10,458 : INFO : EPOCH 96 - PROGRESS: at 47.52% examples, 290326 words/s, in_qsize 0, out_qsize 1\n",
      "2019-02-06 18:42:11,473 : INFO : EPOCH 96 - PROGRESS: at 59.32% examples, 293502 words/s, in_qsize 0, out_qsize 0\n",
      "2019-02-06 18:42:12,477 : INFO : EPOCH 96 - PROGRESS: at 76.28% examples, 293131 words/s, in_qsize 0, out_qsize 0\n",
      "2019-02-06 18:42:13,488 : INFO : EPOCH 96 - PROGRESS: at 97.93% examples, 288081 words/s, in_qsize 0, out_qsize 0\n",
      "2019-02-06 18:42:13,572 : INFO : worker thread finished; awaiting finish of 2 more threads\n",
      "2019-02-06 18:42:13,586 : INFO : worker thread finished; awaiting finish of 1 more threads\n",
      "2019-02-06 18:42:13,594 : INFO : worker thread finished; awaiting finish of 0 more threads\n",
      "2019-02-06 18:42:13,595 : INFO : EPOCH - 96 : training on 3030002 raw words (2091029 effective words) took 7.2s, 289082 effective words/s\n"
     ]
    },
    {
     "name": "stdout",
     "output_type": "stream",
     "text": [
      "unique_word2vec.txt\n"
     ]
    },
    {
     "name": "stderr",
     "output_type": "stream",
     "text": [
      "2019-02-06 18:42:14,639 : INFO : EPOCH 97 - PROGRESS: at 11.25% examples, 285704 words/s, in_qsize 0, out_qsize 0\n",
      "2019-02-06 18:42:15,652 : INFO : EPOCH 97 - PROGRESS: at 25.20% examples, 296826 words/s, in_qsize 0, out_qsize 0\n",
      "2019-02-06 18:42:16,659 : INFO : EPOCH 97 - PROGRESS: at 36.53% examples, 293053 words/s, in_qsize 0, out_qsize 0\n",
      "2019-02-06 18:42:17,665 : INFO : EPOCH 97 - PROGRESS: at 48.31% examples, 297597 words/s, in_qsize 0, out_qsize 0\n",
      "2019-02-06 18:42:18,673 : INFO : EPOCH 97 - PROGRESS: at 59.58% examples, 296639 words/s, in_qsize 0, out_qsize 0\n",
      "2019-02-06 18:42:19,674 : INFO : EPOCH 97 - PROGRESS: at 75.04% examples, 293060 words/s, in_qsize 0, out_qsize 0\n",
      "2019-02-06 18:42:20,733 : INFO : EPOCH 97 - PROGRESS: at 98.48% examples, 288830 words/s, in_qsize 0, out_qsize 0\n",
      "2019-02-06 18:42:20,759 : INFO : worker thread finished; awaiting finish of 2 more threads\n",
      "2019-02-06 18:42:20,769 : INFO : worker thread finished; awaiting finish of 1 more threads\n",
      "2019-02-06 18:42:20,773 : INFO : worker thread finished; awaiting finish of 0 more threads\n",
      "2019-02-06 18:42:20,774 : INFO : EPOCH - 97 : training on 3030002 raw words (2091745 effective words) took 7.2s, 291409 effective words/s\n"
     ]
    },
    {
     "name": "stdout",
     "output_type": "stream",
     "text": [
      "unique_word2vec.txt\n"
     ]
    },
    {
     "name": "stderr",
     "output_type": "stream",
     "text": [
      "2019-02-06 18:42:21,785 : INFO : EPOCH 98 - PROGRESS: at 10.69% examples, 281308 words/s, in_qsize 0, out_qsize 0\n",
      "2019-02-06 18:42:22,806 : INFO : EPOCH 98 - PROGRESS: at 24.14% examples, 286689 words/s, in_qsize 0, out_qsize 0\n",
      "2019-02-06 18:42:23,811 : INFO : EPOCH 98 - PROGRESS: at 35.73% examples, 288235 words/s, in_qsize 0, out_qsize 0\n",
      "2019-02-06 18:42:24,834 : INFO : EPOCH 98 - PROGRESS: at 47.00% examples, 289639 words/s, in_qsize 0, out_qsize 0\n",
      "2019-02-06 18:42:25,846 : INFO : EPOCH 98 - PROGRESS: at 57.79% examples, 288202 words/s, in_qsize 0, out_qsize 0\n",
      "2019-02-06 18:42:26,866 : INFO : EPOCH 98 - PROGRESS: at 72.02% examples, 286971 words/s, in_qsize 1, out_qsize 0\n",
      "2019-02-06 18:42:27,865 : INFO : EPOCH 98 - PROGRESS: at 93.02% examples, 280580 words/s, in_qsize 0, out_qsize 0\n",
      "2019-02-06 18:42:28,242 : INFO : worker thread finished; awaiting finish of 2 more threads\n",
      "2019-02-06 18:42:28,253 : INFO : worker thread finished; awaiting finish of 1 more threads\n",
      "2019-02-06 18:42:28,256 : INFO : worker thread finished; awaiting finish of 0 more threads\n",
      "2019-02-06 18:42:28,257 : INFO : EPOCH - 98 : training on 3030002 raw words (2090394 effective words) took 7.5s, 279406 effective words/s\n"
     ]
    },
    {
     "name": "stdout",
     "output_type": "stream",
     "text": [
      "unique_word2vec.txt\n"
     ]
    },
    {
     "name": "stderr",
     "output_type": "stream",
     "text": [
      "2019-02-06 18:42:29,285 : INFO : EPOCH 99 - PROGRESS: at 10.69% examples, 276603 words/s, in_qsize 1, out_qsize 0\n",
      "2019-02-06 18:42:30,310 : INFO : EPOCH 99 - PROGRESS: at 22.12% examples, 269562 words/s, in_qsize 0, out_qsize 0\n",
      "2019-02-06 18:42:31,337 : INFO : EPOCH 99 - PROGRESS: at 34.70% examples, 276124 words/s, in_qsize 0, out_qsize 0\n",
      "2019-02-06 18:42:32,357 : INFO : EPOCH 99 - PROGRESS: at 45.46% examples, 276945 words/s, in_qsize 0, out_qsize 0\n",
      "2019-02-06 18:42:33,358 : INFO : EPOCH 99 - PROGRESS: at 56.74% examples, 281128 words/s, in_qsize 0, out_qsize 0\n",
      "2019-02-06 18:42:34,376 : INFO : EPOCH 99 - PROGRESS: at 68.96% examples, 280720 words/s, in_qsize 0, out_qsize 0\n",
      "2019-02-06 18:42:35,366 : INFO : EPOCH 99 - PROGRESS: at 91.28% examples, 276982 words/s, in_qsize 0, out_qsize 0\n",
      "2019-02-06 18:42:35,781 : INFO : worker thread finished; awaiting finish of 2 more threads\n",
      "2019-02-06 18:42:35,790 : INFO : worker thread finished; awaiting finish of 1 more threads\n",
      "2019-02-06 18:42:35,798 : INFO : worker thread finished; awaiting finish of 0 more threads\n",
      "2019-02-06 18:42:35,798 : INFO : EPOCH - 99 : training on 3030002 raw words (2091562 effective words) took 7.5s, 277398 effective words/s\n"
     ]
    },
    {
     "name": "stdout",
     "output_type": "stream",
     "text": [
      "unique_word2vec.txt\n"
     ]
    },
    {
     "name": "stderr",
     "output_type": "stream",
     "text": [
      "2019-02-06 18:42:36,802 : INFO : EPOCH 100 - PROGRESS: at 10.97% examples, 290323 words/s, in_qsize 0, out_qsize 0\n",
      "2019-02-06 18:42:37,813 : INFO : EPOCH 100 - PROGRESS: at 24.67% examples, 296342 words/s, in_qsize 0, out_qsize 0\n",
      "2019-02-06 18:42:38,832 : INFO : EPOCH 100 - PROGRESS: at 35.52% examples, 286256 words/s, in_qsize 0, out_qsize 0\n",
      "2019-02-06 18:42:39,841 : INFO : EPOCH 100 - PROGRESS: at 43.87% examples, 269971 words/s, in_qsize 0, out_qsize 0\n",
      "2019-02-06 18:42:40,847 : INFO : EPOCH 100 - PROGRESS: at 53.17% examples, 265229 words/s, in_qsize 0, out_qsize 0\n",
      "2019-02-06 18:42:41,897 : INFO : EPOCH 100 - PROGRESS: at 63.22% examples, 262929 words/s, in_qsize 0, out_qsize 1\n",
      "2019-02-06 18:42:42,903 : INFO : EPOCH 100 - PROGRESS: at 84.35% examples, 265573 words/s, in_qsize 0, out_qsize 0\n",
      "2019-02-06 18:42:43,645 : INFO : worker thread finished; awaiting finish of 2 more threads\n",
      "2019-02-06 18:42:43,655 : INFO : worker thread finished; awaiting finish of 1 more threads\n",
      "2019-02-06 18:42:43,660 : INFO : worker thread finished; awaiting finish of 0 more threads\n",
      "2019-02-06 18:42:43,661 : INFO : EPOCH - 100 : training on 3030002 raw words (2091704 effective words) took 7.9s, 266084 effective words/s\n",
      "2019-02-06 18:42:43,662 : INFO : training on a 303000200 raw words (209128222 effective words) took 786.8s, 265810 effective words/s\n"
     ]
    }
   ],
   "source": [
    "model = gensim.models.word2vec.Word2Vec(sentences,iter = 100,min_count=5,size=300)"
   ]
  },
  {
   "cell_type": "code",
   "execution_count": 6,
   "metadata": {},
   "outputs": [
    {
     "name": "stderr",
     "output_type": "stream",
     "text": [
      "2019-02-06 18:54:51,055 : INFO : precomputing L2-norms of word weight vectors\n",
      "2019-02-06 18:54:51,251 : INFO : saving Word2Vec object under ../../data/word2vec_model, separately None\n",
      "2019-02-06 18:54:51,252 : INFO : not storing attribute vectors_norm\n",
      "2019-02-06 18:54:51,253 : INFO : not storing attribute cum_table\n",
      "2019-02-06 18:54:51,495 : INFO : saved ../../data/word2vec_model\n",
      "/home/shaurya/anaconda2/lib/python2.7/site-packages/ipykernel_launcher.py:6: DeprecationWarning: Call to deprecated `syn0` (Attribute will be removed in 4.0.0, use self.wv.vectors instead).\n",
      "  \n"
     ]
    }
   ],
   "source": [
    "### Save word2vec model\n",
    "model.init_sims(replace=True)\n",
    "model.save('../../data/word2vec_model')\n",
    "\n",
    "#### Save weights\n",
    "weights = model.wv.syn0\n",
    "np.save(open('../../data/word2vec_weigths', 'wb'), weights)\n",
    "\n",
    "### word2vec vocab\n",
    "vocab = dict([(k, v.index) for k, v in model.wv.vocab.items()])\n",
    "with open('../../data/word2vec_vocab', 'w') as f:\n",
    "    f.write(json.dumps(vocab))"
   ]
  },
  {
   "cell_type": "markdown",
   "metadata": {},
   "source": [
    "-------"
   ]
  },
  {
   "cell_type": "markdown",
   "metadata": {},
   "source": [
    "## Testing"
   ]
  },
  {
   "cell_type": "code",
   "execution_count": 61,
   "metadata": {},
   "outputs": [
    {
     "data": {
      "text/plain": [
       "[(u'son', 0.6995844841003418),\n",
       " (u'father', 0.642910361289978),\n",
       " (u'widow', 0.6409253478050232),\n",
       " (u'daughter', 0.6378830671310425),\n",
       " (u'husband', 0.6067748665809631),\n",
       " (u'brother', 0.5992342233657837),\n",
       " (u'grandchildren', 0.5879772901535034),\n",
       " (u'cousin', 0.5835275650024414),\n",
       " (u'sons', 0.5729334354400635),\n",
       " (u'spouse', 0.5633977055549622)]"
      ]
     },
     "execution_count": 61,
     "metadata": {},
     "output_type": "execute_result"
    }
   ],
   "source": [
    "model.wv.most_similar(positive=['wife'])"
   ]
  },
  {
   "cell_type": "code",
   "execution_count": 9,
   "metadata": {},
   "outputs": [
    {
     "data": {
      "text/plain": [
       "[(u'grandson', 0.5163030028343201),\n",
       " (u'daughter', 0.514245867729187),\n",
       " (u'father', 0.4785890579223633),\n",
       " (u'brother', 0.4663090407848358),\n",
       " (u'nephew', 0.46314337849617004),\n",
       " (u'wife', 0.4513436257839203),\n",
       " (u'mother', 0.4356318712234497),\n",
       " (u'heir', 0.42597416043281555),\n",
       " (u'half-brother', 0.4143504798412323),\n",
       " (u'widow', 0.41331350803375244)]"
      ]
     },
     "execution_count": 9,
     "metadata": {},
     "output_type": "execute_result"
    }
   ],
   "source": [
    "model.wv.most_similar(positive=['son'])"
   ]
  },
  {
   "cell_type": "code",
   "execution_count": null,
   "metadata": {
    "collapsed": true
   },
   "outputs": [],
   "source": []
  }
 ],
 "metadata": {
  "kernelspec": {
   "display_name": "Python 2",
   "language": "python",
   "name": "python2"
  },
  "language_info": {
   "codemirror_mode": {
    "name": "ipython",
    "version": 2
   },
   "file_extension": ".py",
   "mimetype": "text/x-python",
   "name": "python",
   "nbconvert_exporter": "python",
   "pygments_lexer": "ipython2",
   "version": "2.7.15"
  }
 },
 "nbformat": 4,
 "nbformat_minor": 2
}
