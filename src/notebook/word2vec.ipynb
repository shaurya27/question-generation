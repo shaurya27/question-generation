{
 "cells": [
  {
   "cell_type": "code",
   "execution_count": 38,
   "metadata": {},
   "outputs": [],
   "source": [
    "import gensim\n",
    "from nltk.tokenize import sent_tokenize, word_tokenize\n",
    "import json\n",
    "from tqdm import tqdm_notebook as tqdm\n",
    "import os\n",
    "import numpy as np"
   ]
  },
  {
   "cell_type": "code",
   "execution_count": 6,
   "metadata": {
    "collapsed": true
   },
   "outputs": [],
   "source": [
    "def data_generator(filepath):\n",
    "    with open(filepath,'r') as f:\n",
    "        for line in f:\n",
    "            yield json.loads(line)\n",
    "        return"
   ]
  },
  {
   "cell_type": "code",
   "execution_count": 18,
   "metadata": {},
   "outputs": [
    {
     "data": {
      "application/vnd.jupyter.widget-view+json": {
       "model_id": "0ec6faf6f8084997b452f89998cd8665",
       "version_major": 2,
       "version_minor": 0
      },
      "text/plain": [
       "A Jupyter Widget"
      ]
     },
     "metadata": {},
     "output_type": "display_data"
    },
    {
     "name": "stdout",
     "output_type": "stream",
     "text": [
      "\n"
     ]
    }
   ],
   "source": [
    "gen = data_generator('../../data/processed/train_data.json')\n",
    "with open('../../data/word2vec/word2vec.txt','w') as f:\n",
    "    for sample in tqdm(gen):\n",
    "        sents = sent_tokenize(sample['paragraph'])\n",
    "        sents2 = sample['question']\n",
    "        for j in sents:\n",
    "            x_words = word_tokenize(j)\n",
    "            if len(x_words)>2:\n",
    "                f.write(repr(x_words))\n",
    "                f.write('\\n')\n",
    "        x_words = word_tokenize(sents2)\n",
    "        if len(x_words)>2:\n",
    "            f.write(repr(x_words))\n",
    "            f.write('\\n')"
   ]
  },
  {
   "cell_type": "code",
   "execution_count": 19,
   "metadata": {},
   "outputs": [
    {
     "name": "stdout",
     "output_type": "stream",
     "text": [
      "433303 ../../data/word2vec/word2vec.txt\r\n"
     ]
    }
   ],
   "source": [
    "! wc -l ../../data/word2vec/word2vec.txt"
   ]
  },
  {
   "cell_type": "code",
   "execution_count": 25,
   "metadata": {},
   "outputs": [],
   "source": [
    "! sort ../../data/word2vec/word2vec.txt | uniq >../../data/word2vec/unique_word2vec.txt"
   ]
  },
  {
   "cell_type": "code",
   "execution_count": 26,
   "metadata": {},
   "outputs": [
    {
     "name": "stdout",
     "output_type": "stream",
     "text": [
      "152414 ../../data/word2vec/unique_word2vec.txt\r\n"
     ]
    }
   ],
   "source": [
    "! wc -l ../../data/word2vec/unique_word2vec.txt"
   ]
  },
  {
   "cell_type": "code",
   "execution_count": 27,
   "metadata": {
    "collapsed": true
   },
   "outputs": [],
   "source": [
    "! rm ../../data/word2vec/word2vec.txt"
   ]
  },
  {
   "cell_type": "markdown",
   "metadata": {},
   "source": [
    "----------------"
   ]
  },
  {
   "cell_type": "markdown",
   "metadata": {},
   "source": [
    "## Training"
   ]
  },
  {
   "cell_type": "code",
   "execution_count": 28,
   "metadata": {
    "collapsed": true
   },
   "outputs": [],
   "source": [
    "class MySentences(object):\n",
    "    def __init__(self, dirname):\n",
    "        self.dirname = dirname\n",
    " \n",
    "    def __iter__(self):\n",
    "        for fname in os.listdir(self.dirname):\n",
    "            print fname\n",
    "            for line in open(os.path.join(self.dirname, fname)):\n",
    "                yield eval(line)"
   ]
  },
  {
   "cell_type": "code",
   "execution_count": 29,
   "metadata": {
    "collapsed": true
   },
   "outputs": [],
   "source": [
    "import logging\n",
    "logging.basicConfig(format='%(asctime)s : %(levelname)s : %(message)s',    level=logging.INFO)"
   ]
  },
  {
   "cell_type": "code",
   "execution_count": 30,
   "metadata": {
    "collapsed": true
   },
   "outputs": [],
   "source": [
    "sentences = MySentences('../../data/word2vec/')"
   ]
  },
  {
   "cell_type": "code",
   "execution_count": 54,
   "metadata": {
    "scrolled": true
   },
   "outputs": [
    {
     "name": "stderr",
     "output_type": "stream",
     "text": [
      "2019-02-05 18:06:52,909 : INFO : collecting all words and their counts\n",
      "2019-02-05 18:06:52,912 : INFO : PROGRESS: at sentence #0, processed 0 words, keeping 0 word types\n"
     ]
    },
    {
     "name": "stdout",
     "output_type": "stream",
     "text": [
      "unique_word2vec.txt\n"
     ]
    },
    {
     "name": "stderr",
     "output_type": "stream",
     "text": [
      "2019-02-05 18:06:53,287 : INFO : PROGRESS: at sentence #10000, processed 254393 words, keeping 26346 word types\n",
      "2019-02-05 18:06:53,623 : INFO : PROGRESS: at sentence #20000, processed 499516 words, keeping 38167 word types\n",
      "2019-02-05 18:06:53,963 : INFO : PROGRESS: at sentence #30000, processed 748413 words, keeping 47133 word types\n",
      "2019-02-05 18:06:54,207 : INFO : PROGRESS: at sentence #40000, processed 910130 words, keeping 51034 word types\n",
      "2019-02-05 18:06:54,541 : INFO : PROGRESS: at sentence #50000, processed 1146509 words, keeping 57416 word types\n",
      "2019-02-05 18:06:54,886 : INFO : PROGRESS: at sentence #60000, processed 1391956 words, keeping 64341 word types\n",
      "2019-02-05 18:06:55,245 : INFO : PROGRESS: at sentence #70000, processed 1645863 words, keeping 70856 word types\n",
      "2019-02-05 18:06:55,593 : INFO : PROGRESS: at sentence #80000, processed 1899633 words, keeping 76541 word types\n",
      "2019-02-05 18:06:55,937 : INFO : PROGRESS: at sentence #90000, processed 2155169 words, keeping 81999 word types\n",
      "2019-02-05 18:06:56,281 : INFO : PROGRESS: at sentence #100000, processed 2405488 words, keeping 86603 word types\n",
      "2019-02-05 18:06:56,469 : INFO : PROGRESS: at sentence #110000, processed 2528330 words, keeping 87722 word types\n",
      "2019-02-05 18:06:56,645 : INFO : PROGRESS: at sentence #120000, processed 2638993 words, keeping 88168 word types\n",
      "2019-02-05 18:06:56,829 : INFO : PROGRESS: at sentence #130000, processed 2753867 words, keeping 88647 word types\n",
      "2019-02-05 18:06:57,007 : INFO : PROGRESS: at sentence #140000, processed 2865380 words, keeping 89318 word types\n",
      "2019-02-05 18:06:57,190 : INFO : PROGRESS: at sentence #150000, processed 2983391 words, keeping 90011 word types\n",
      "2019-02-05 18:06:57,263 : INFO : collected 90581 word types from a corpus of 3030002 raw words and 152414 sentences\n",
      "2019-02-05 18:06:57,264 : INFO : Loading a fresh vocabulary\n",
      "2019-02-05 18:06:57,341 : INFO : effective_min_count=5 retains 25053 unique words (27% of original 90581, drops 65528)\n",
      "2019-02-05 18:06:57,342 : INFO : effective_min_count=5 leaves 2924796 word corpus (96% of original 3030002, drops 105206)\n",
      "2019-02-05 18:06:57,396 : INFO : deleting the raw counts dictionary of 90581 items\n",
      "2019-02-05 18:06:57,406 : INFO : sample=0.001 downsamples 36 most-common words\n",
      "2019-02-05 18:06:57,407 : INFO : downsampling leaves estimated 2091263 word corpus (71.5% of prior 2924796)\n",
      "2019-02-05 18:06:57,487 : INFO : estimated required memory for 25053 words and 100 dimensions: 32568900 bytes\n",
      "2019-02-05 18:06:57,487 : INFO : resetting layer weights\n",
      "2019-02-05 18:06:57,676 : INFO : training model with 3 workers on 25053 vocabulary and 100 features, using sg=0 hs=0 sample=0.001 negative=5 window=5\n"
     ]
    },
    {
     "name": "stdout",
     "output_type": "stream",
     "text": [
      "unique_word2vec.txt\n"
     ]
    },
    {
     "name": "stderr",
     "output_type": "stream",
     "text": [
      "2019-02-05 18:06:58,698 : INFO : EPOCH 1 - PROGRESS: at 12.35% examples, 319965 words/s, in_qsize 0, out_qsize 0\n",
      "2019-02-05 18:06:59,709 : INFO : EPOCH 1 - PROGRESS: at 26.20% examples, 313704 words/s, in_qsize 0, out_qsize 0\n",
      "2019-02-05 18:07:00,717 : INFO : EPOCH 1 - PROGRESS: at 38.46% examples, 311132 words/s, in_qsize 0, out_qsize 0\n",
      "2019-02-05 18:07:01,741 : INFO : EPOCH 1 - PROGRESS: at 51.37% examples, 318772 words/s, in_qsize 0, out_qsize 0\n",
      "2019-02-05 18:07:02,734 : INFO : EPOCH 1 - PROGRESS: at 63.96% examples, 321147 words/s, in_qsize 0, out_qsize 0\n",
      "2019-02-05 18:07:03,745 : INFO : EPOCH 1 - PROGRESS: at 88.28% examples, 318503 words/s, in_qsize 0, out_qsize 0\n",
      "2019-02-05 18:07:04,185 : INFO : worker thread finished; awaiting finish of 2 more threads\n",
      "2019-02-05 18:07:04,190 : INFO : worker thread finished; awaiting finish of 1 more threads\n",
      "2019-02-05 18:07:04,195 : INFO : worker thread finished; awaiting finish of 0 more threads\n",
      "2019-02-05 18:07:04,196 : INFO : EPOCH - 1 : training on 3030002 raw words (2090994 effective words) took 6.5s, 320852 effective words/s\n"
     ]
    },
    {
     "name": "stdout",
     "output_type": "stream",
     "text": [
      "unique_word2vec.txt\n"
     ]
    },
    {
     "name": "stderr",
     "output_type": "stream",
     "text": [
      "2019-02-05 18:07:05,207 : INFO : EPOCH 2 - PROGRESS: at 12.87% examples, 338047 words/s, in_qsize 0, out_qsize 0\n",
      "2019-02-05 18:07:06,210 : INFO : EPOCH 2 - PROGRESS: at 28.06% examples, 343565 words/s, in_qsize 0, out_qsize 0\n",
      "2019-02-05 18:07:07,219 : INFO : EPOCH 2 - PROGRESS: at 41.47% examples, 340261 words/s, in_qsize 0, out_qsize 0\n",
      "2019-02-05 18:07:08,243 : INFO : EPOCH 2 - PROGRESS: at 54.70% examples, 341453 words/s, in_qsize 1, out_qsize 0\n",
      "2019-02-05 18:07:09,239 : INFO : EPOCH 2 - PROGRESS: at 67.15% examples, 335823 words/s, in_qsize 0, out_qsize 0\n",
      "2019-02-05 18:07:10,262 : INFO : EPOCH 2 - PROGRESS: at 89.31% examples, 320968 words/s, in_qsize 0, out_qsize 0\n",
      "2019-02-05 18:07:10,747 : INFO : worker thread finished; awaiting finish of 2 more threads\n",
      "2019-02-05 18:07:10,750 : INFO : worker thread finished; awaiting finish of 1 more threads\n",
      "2019-02-05 18:07:10,753 : INFO : worker thread finished; awaiting finish of 0 more threads\n",
      "2019-02-05 18:07:10,754 : INFO : EPOCH - 2 : training on 3030002 raw words (2090884 effective words) took 6.6s, 318897 effective words/s\n"
     ]
    },
    {
     "name": "stdout",
     "output_type": "stream",
     "text": [
      "unique_word2vec.txt\n"
     ]
    },
    {
     "name": "stderr",
     "output_type": "stream",
     "text": [
      "2019-02-05 18:07:11,774 : INFO : EPOCH 3 - PROGRESS: at 12.64% examples, 328218 words/s, in_qsize 0, out_qsize 0\n",
      "2019-02-05 18:07:12,783 : INFO : EPOCH 3 - PROGRESS: at 27.60% examples, 334640 words/s, in_qsize 0, out_qsize 0\n",
      "2019-02-05 18:07:13,795 : INFO : EPOCH 3 - PROGRESS: at 40.41% examples, 329961 words/s, in_qsize 0, out_qsize 0\n",
      "2019-02-05 18:07:14,827 : INFO : EPOCH 3 - PROGRESS: at 52.15% examples, 322382 words/s, in_qsize 0, out_qsize 0\n",
      "2019-02-05 18:07:15,847 : INFO : EPOCH 3 - PROGRESS: at 62.45% examples, 310809 words/s, in_qsize 0, out_qsize 0\n",
      "2019-02-05 18:07:16,850 : INFO : EPOCH 3 - PROGRESS: at 84.84% examples, 310464 words/s, in_qsize 0, out_qsize 0\n",
      "2019-02-05 18:07:17,434 : INFO : worker thread finished; awaiting finish of 2 more threads\n",
      "2019-02-05 18:07:17,436 : INFO : worker thread finished; awaiting finish of 1 more threads\n",
      "2019-02-05 18:07:17,437 : INFO : worker thread finished; awaiting finish of 0 more threads\n",
      "2019-02-05 18:07:17,438 : INFO : EPOCH - 3 : training on 3030002 raw words (2090913 effective words) took 6.7s, 313013 effective words/s\n"
     ]
    },
    {
     "name": "stdout",
     "output_type": "stream",
     "text": [
      "unique_word2vec.txt\n"
     ]
    },
    {
     "name": "stderr",
     "output_type": "stream",
     "text": [
      "2019-02-05 18:07:18,447 : INFO : EPOCH 4 - PROGRESS: at 12.35% examples, 325147 words/s, in_qsize 0, out_qsize 0\n",
      "2019-02-05 18:07:19,454 : INFO : EPOCH 4 - PROGRESS: at 27.37% examples, 333414 words/s, in_qsize 1, out_qsize 0\n",
      "2019-02-05 18:07:20,465 : INFO : EPOCH 4 - PROGRESS: at 40.41% examples, 331221 words/s, in_qsize 0, out_qsize 0\n",
      "2019-02-05 18:07:21,466 : INFO : EPOCH 4 - PROGRESS: at 53.17% examples, 332582 words/s, in_qsize 0, out_qsize 0\n",
      "2019-02-05 18:07:22,501 : INFO : EPOCH 4 - PROGRESS: at 67.15% examples, 334738 words/s, in_qsize 0, out_qsize 0\n",
      "2019-02-05 18:07:23,514 : INFO : EPOCH 4 - PROGRESS: at 93.02% examples, 327759 words/s, in_qsize 0, out_qsize 1\n",
      "2019-02-05 18:07:23,770 : INFO : worker thread finished; awaiting finish of 2 more threads\n",
      "2019-02-05 18:07:23,777 : INFO : worker thread finished; awaiting finish of 1 more threads\n",
      "2019-02-05 18:07:23,779 : INFO : worker thread finished; awaiting finish of 0 more threads\n",
      "2019-02-05 18:07:23,779 : INFO : EPOCH - 4 : training on 3030002 raw words (2090777 effective words) took 6.3s, 329898 effective words/s\n"
     ]
    },
    {
     "name": "stdout",
     "output_type": "stream",
     "text": [
      "unique_word2vec.txt\n"
     ]
    },
    {
     "name": "stderr",
     "output_type": "stream",
     "text": [
      "2019-02-05 18:07:24,793 : INFO : EPOCH 5 - PROGRESS: at 12.64% examples, 330949 words/s, in_qsize 0, out_qsize 0\n",
      "2019-02-05 18:07:25,797 : INFO : EPOCH 5 - PROGRESS: at 27.83% examples, 339391 words/s, in_qsize 0, out_qsize 0\n",
      "2019-02-05 18:07:26,827 : INFO : EPOCH 5 - PROGRESS: at 42.01% examples, 343094 words/s, in_qsize 0, out_qsize 0\n",
      "2019-02-05 18:07:27,838 : INFO : EPOCH 5 - PROGRESS: at 55.46% examples, 344840 words/s, in_qsize 0, out_qsize 0\n",
      "2019-02-05 18:07:28,840 : INFO : EPOCH 5 - PROGRESS: at 72.02% examples, 345502 words/s, in_qsize 0, out_qsize 0\n",
      "2019-02-05 18:07:29,904 : INFO : EPOCH 5 - PROGRESS: at 97.30% examples, 334849 words/s, in_qsize 0, out_qsize 0\n",
      "2019-02-05 18:07:29,969 : INFO : worker thread finished; awaiting finish of 2 more threads\n",
      "2019-02-05 18:07:29,973 : INFO : worker thread finished; awaiting finish of 1 more threads\n",
      "2019-02-05 18:07:29,975 : INFO : worker thread finished; awaiting finish of 0 more threads\n",
      "2019-02-05 18:07:29,975 : INFO : EPOCH - 5 : training on 3030002 raw words (2090913 effective words) took 6.2s, 337605 effective words/s\n"
     ]
    },
    {
     "name": "stdout",
     "output_type": "stream",
     "text": [
      "unique_word2vec.txt\n"
     ]
    },
    {
     "name": "stderr",
     "output_type": "stream",
     "text": [
      "2019-02-05 18:07:30,993 : INFO : EPOCH 6 - PROGRESS: at 13.11% examples, 341631 words/s, in_qsize 0, out_qsize 0\n",
      "2019-02-05 18:07:32,002 : INFO : EPOCH 6 - PROGRESS: at 28.06% examples, 342628 words/s, in_qsize 0, out_qsize 0\n",
      "2019-02-05 18:07:33,020 : INFO : EPOCH 6 - PROGRESS: at 42.28% examples, 345109 words/s, in_qsize 0, out_qsize 0\n",
      "2019-02-05 18:07:34,028 : INFO : EPOCH 6 - PROGRESS: at 55.21% examples, 343702 words/s, in_qsize 0, out_qsize 0\n",
      "2019-02-05 18:07:35,044 : INFO : EPOCH 6 - PROGRESS: at 71.40% examples, 343872 words/s, in_qsize 0, out_qsize 0\n",
      "2019-02-05 18:07:36,063 : INFO : EPOCH 6 - PROGRESS: at 97.92% examples, 337588 words/s, in_qsize 1, out_qsize 1\n",
      "2019-02-05 18:07:36,115 : INFO : worker thread finished; awaiting finish of 2 more threads\n",
      "2019-02-05 18:07:36,119 : INFO : worker thread finished; awaiting finish of 1 more threads\n",
      "2019-02-05 18:07:36,121 : INFO : worker thread finished; awaiting finish of 0 more threads\n",
      "2019-02-05 18:07:36,122 : INFO : EPOCH - 6 : training on 3030002 raw words (2090961 effective words) took 6.1s, 340267 effective words/s\n"
     ]
    },
    {
     "name": "stdout",
     "output_type": "stream",
     "text": [
      "unique_word2vec.txt\n"
     ]
    },
    {
     "name": "stderr",
     "output_type": "stream",
     "text": [
      "2019-02-05 18:07:37,138 : INFO : EPOCH 7 - PROGRESS: at 13.47% examples, 350063 words/s, in_qsize 0, out_qsize 0\n",
      "2019-02-05 18:07:38,143 : INFO : EPOCH 7 - PROGRESS: at 28.76% examples, 353493 words/s, in_qsize 0, out_qsize 0\n",
      "2019-02-05 18:07:39,170 : INFO : EPOCH 7 - PROGRESS: at 43.07% examples, 351612 words/s, in_qsize 0, out_qsize 0\n",
      "2019-02-05 18:07:40,195 : INFO : EPOCH 7 - PROGRESS: at 56.49% examples, 350317 words/s, in_qsize 0, out_qsize 0\n",
      "2019-02-05 18:07:41,206 : INFO : EPOCH 7 - PROGRESS: at 73.80% examples, 348113 words/s, in_qsize 0, out_qsize 0\n",
      "2019-02-05 18:07:42,214 : INFO : EPOCH 7 - PROGRESS: at 99.61% examples, 341919 words/s, in_qsize 0, out_qsize 0\n",
      "2019-02-05 18:07:42,222 : INFO : worker thread finished; awaiting finish of 2 more threads\n",
      "2019-02-05 18:07:42,226 : INFO : worker thread finished; awaiting finish of 1 more threads\n",
      "2019-02-05 18:07:42,227 : INFO : worker thread finished; awaiting finish of 0 more threads\n",
      "2019-02-05 18:07:42,229 : INFO : EPOCH - 7 : training on 3030002 raw words (2092130 effective words) took 6.1s, 342665 effective words/s\n"
     ]
    },
    {
     "name": "stdout",
     "output_type": "stream",
     "text": [
      "unique_word2vec.txt\n"
     ]
    },
    {
     "name": "stderr",
     "output_type": "stream",
     "text": [
      "2019-02-05 18:07:43,244 : INFO : EPOCH 8 - PROGRESS: at 12.64% examples, 329272 words/s, in_qsize 0, out_qsize 0\n",
      "2019-02-05 18:07:44,254 : INFO : EPOCH 8 - PROGRESS: at 27.60% examples, 335483 words/s, in_qsize 0, out_qsize 0\n",
      "2019-02-05 18:07:45,262 : INFO : EPOCH 8 - PROGRESS: at 41.47% examples, 339721 words/s, in_qsize 0, out_qsize 0\n",
      "2019-02-05 18:07:46,273 : INFO : EPOCH 8 - PROGRESS: at 54.95% examples, 343635 words/s, in_qsize 1, out_qsize 0\n",
      "2019-02-05 18:07:47,271 : INFO : EPOCH 8 - PROGRESS: at 70.15% examples, 342841 words/s, in_qsize 0, out_qsize 0\n",
      "2019-02-05 18:07:48,313 : INFO : EPOCH 8 - PROGRESS: at 94.72% examples, 332199 words/s, in_qsize 2, out_qsize 0\n",
      "2019-02-05 18:07:48,456 : INFO : worker thread finished; awaiting finish of 2 more threads\n",
      "2019-02-05 18:07:48,460 : INFO : worker thread finished; awaiting finish of 1 more threads\n",
      "2019-02-05 18:07:48,464 : INFO : worker thread finished; awaiting finish of 0 more threads\n",
      "2019-02-05 18:07:48,465 : INFO : EPOCH - 8 : training on 3030002 raw words (2091796 effective words) took 6.2s, 335595 effective words/s\n"
     ]
    },
    {
     "name": "stdout",
     "output_type": "stream",
     "text": [
      "unique_word2vec.txt\n"
     ]
    },
    {
     "name": "stderr",
     "output_type": "stream",
     "text": [
      "2019-02-05 18:07:49,484 : INFO : EPOCH 9 - PROGRESS: at 13.47% examples, 349221 words/s, in_qsize 0, out_qsize 1\n",
      "2019-02-05 18:07:50,509 : INFO : EPOCH 9 - PROGRESS: at 28.53% examples, 345400 words/s, in_qsize 0, out_qsize 0\n",
      "2019-02-05 18:07:51,550 : INFO : EPOCH 9 - PROGRESS: at 42.80% examples, 344854 words/s, in_qsize 0, out_qsize 1\n",
      "2019-02-05 18:07:52,565 : INFO : EPOCH 9 - PROGRESS: at 56.49% examples, 348000 words/s, in_qsize 0, out_qsize 0\n",
      "2019-02-05 18:07:53,574 : INFO : EPOCH 9 - PROGRESS: at 73.20% examples, 344731 words/s, in_qsize 0, out_qsize 0\n",
      "2019-02-05 18:07:54,590 : INFO : EPOCH 9 - PROGRESS: at 99.61% examples, 339751 words/s, in_qsize 0, out_qsize 0\n",
      "2019-02-05 18:07:54,599 : INFO : worker thread finished; awaiting finish of 2 more threads\n",
      "2019-02-05 18:07:54,604 : INFO : worker thread finished; awaiting finish of 1 more threads\n",
      "2019-02-05 18:07:54,605 : INFO : worker thread finished; awaiting finish of 0 more threads\n",
      "2019-02-05 18:07:54,605 : INFO : EPOCH - 9 : training on 3030002 raw words (2090871 effective words) took 6.1s, 340557 effective words/s\n"
     ]
    },
    {
     "name": "stdout",
     "output_type": "stream",
     "text": [
      "unique_word2vec.txt\n"
     ]
    },
    {
     "name": "stderr",
     "output_type": "stream",
     "text": [
      "2019-02-05 18:07:55,624 : INFO : EPOCH 10 - PROGRESS: at 13.11% examples, 340912 words/s, in_qsize 0, out_qsize 0\n",
      "2019-02-05 18:07:56,644 : INFO : EPOCH 10 - PROGRESS: at 28.53% examples, 346156 words/s, in_qsize 0, out_qsize 0\n",
      "2019-02-05 18:07:57,647 : INFO : EPOCH 10 - PROGRESS: at 42.54% examples, 347661 words/s, in_qsize 0, out_qsize 0\n",
      "2019-02-05 18:07:58,657 : INFO : EPOCH 10 - PROGRESS: at 55.98% examples, 348686 words/s, in_qsize 0, out_qsize 0\n",
      "2019-02-05 18:07:59,676 : INFO : EPOCH 10 - PROGRESS: at 73.20% examples, 347544 words/s, in_qsize 0, out_qsize 0\n",
      "2019-02-05 18:08:00,680 : INFO : EPOCH 10 - PROGRESS: at 99.10% examples, 340427 words/s, in_qsize 0, out_qsize 1\n",
      "2019-02-05 18:08:00,702 : INFO : worker thread finished; awaiting finish of 2 more threads\n",
      "2019-02-05 18:08:00,703 : INFO : worker thread finished; awaiting finish of 1 more threads\n",
      "2019-02-05 18:08:00,706 : INFO : worker thread finished; awaiting finish of 0 more threads\n",
      "2019-02-05 18:08:00,707 : INFO : EPOCH - 10 : training on 3030002 raw words (2091213 effective words) took 6.1s, 342846 effective words/s\n"
     ]
    },
    {
     "name": "stdout",
     "output_type": "stream",
     "text": [
      "unique_word2vec.txt\n"
     ]
    },
    {
     "name": "stderr",
     "output_type": "stream",
     "text": [
      "2019-02-05 18:08:01,727 : INFO : EPOCH 11 - PROGRESS: at 12.64% examples, 327616 words/s, in_qsize 0, out_qsize 0\n",
      "2019-02-05 18:08:02,737 : INFO : EPOCH 11 - PROGRESS: at 28.29% examples, 345633 words/s, in_qsize 0, out_qsize 0\n",
      "2019-02-05 18:08:03,733 : INFO : EPOCH 11 - PROGRESS: at 42.01% examples, 345147 words/s, in_qsize 0, out_qsize 0\n",
      "2019-02-05 18:08:04,738 : INFO : EPOCH 11 - PROGRESS: at 55.21% examples, 345575 words/s, in_qsize 1, out_qsize 0\n",
      "2019-02-05 18:08:05,750 : INFO : EPOCH 11 - PROGRESS: at 71.40% examples, 345404 words/s, in_qsize 0, out_qsize 0\n",
      "2019-02-05 18:08:06,760 : INFO : EPOCH 11 - PROGRESS: at 98.55% examples, 340410 words/s, in_qsize 0, out_qsize 0\n",
      "2019-02-05 18:08:06,802 : INFO : worker thread finished; awaiting finish of 2 more threads\n",
      "2019-02-05 18:08:06,808 : INFO : worker thread finished; awaiting finish of 1 more threads\n",
      "2019-02-05 18:08:06,813 : INFO : worker thread finished; awaiting finish of 0 more threads\n",
      "2019-02-05 18:08:06,814 : INFO : EPOCH - 11 : training on 3030002 raw words (2091382 effective words) took 6.1s, 342545 effective words/s\n"
     ]
    },
    {
     "name": "stdout",
     "output_type": "stream",
     "text": [
      "unique_word2vec.txt\n"
     ]
    },
    {
     "name": "stderr",
     "output_type": "stream",
     "text": [
      "2019-02-05 18:08:07,825 : INFO : EPOCH 12 - PROGRESS: at 13.11% examples, 343869 words/s, in_qsize 0, out_qsize 0\n",
      "2019-02-05 18:08:08,835 : INFO : EPOCH 12 - PROGRESS: at 28.29% examples, 345243 words/s, in_qsize 0, out_qsize 0\n",
      "2019-02-05 18:08:09,848 : INFO : EPOCH 12 - PROGRESS: at 42.80% examples, 350370 words/s, in_qsize 0, out_qsize 0\n",
      "2019-02-05 18:08:10,865 : INFO : EPOCH 12 - PROGRESS: at 56.49% examples, 352037 words/s, in_qsize 0, out_qsize 0\n",
      "2019-02-05 18:08:11,906 : INFO : EPOCH 12 - PROGRESS: at 73.82% examples, 347676 words/s, in_qsize 0, out_qsize 1\n",
      "2019-02-05 18:08:12,887 : INFO : worker thread finished; awaiting finish of 2 more threads\n",
      "2019-02-05 18:08:12,892 : INFO : worker thread finished; awaiting finish of 1 more threads\n",
      "2019-02-05 18:08:12,892 : INFO : worker thread finished; awaiting finish of 0 more threads\n",
      "2019-02-05 18:08:12,893 : INFO : EPOCH - 12 : training on 3030002 raw words (2091068 effective words) took 6.1s, 344035 effective words/s\n"
     ]
    },
    {
     "name": "stdout",
     "output_type": "stream",
     "text": [
      "unique_word2vec.txt\n"
     ]
    },
    {
     "name": "stderr",
     "output_type": "stream",
     "text": [
      "2019-02-05 18:08:13,919 : INFO : EPOCH 13 - PROGRESS: at 13.47% examples, 346806 words/s, in_qsize 0, out_qsize 0\n",
      "2019-02-05 18:08:14,947 : INFO : EPOCH 13 - PROGRESS: at 28.76% examples, 348451 words/s, in_qsize 0, out_qsize 1\n",
      "2019-02-05 18:08:15,945 : INFO : EPOCH 13 - PROGRESS: at 42.80% examples, 349248 words/s, in_qsize 0, out_qsize 0\n",
      "2019-02-05 18:08:16,958 : INFO : EPOCH 13 - PROGRESS: at 55.98% examples, 348522 words/s, in_qsize 0, out_qsize 0\n",
      "2019-02-05 18:08:17,969 : INFO : EPOCH 13 - PROGRESS: at 72.02% examples, 344822 words/s, in_qsize 0, out_qsize 0\n",
      "2019-02-05 18:08:18,985 : INFO : EPOCH 13 - PROGRESS: at 98.80% examples, 339603 words/s, in_qsize 0, out_qsize 0\n",
      "2019-02-05 18:08:19,008 : INFO : worker thread finished; awaiting finish of 2 more threads\n",
      "2019-02-05 18:08:19,013 : INFO : worker thread finished; awaiting finish of 1 more threads\n",
      "2019-02-05 18:08:19,017 : INFO : worker thread finished; awaiting finish of 0 more threads\n",
      "2019-02-05 18:08:19,018 : INFO : EPOCH - 13 : training on 3030002 raw words (2091474 effective words) took 6.1s, 341737 effective words/s\n"
     ]
    },
    {
     "name": "stdout",
     "output_type": "stream",
     "text": [
      "unique_word2vec.txt\n"
     ]
    },
    {
     "name": "stderr",
     "output_type": "stream",
     "text": [
      "2019-02-05 18:08:20,031 : INFO : EPOCH 14 - PROGRESS: at 12.64% examples, 329449 words/s, in_qsize 0, out_qsize 0\n",
      "2019-02-05 18:08:21,053 : INFO : EPOCH 14 - PROGRESS: at 27.14% examples, 326998 words/s, in_qsize 0, out_qsize 0\n",
      "2019-02-05 18:08:22,067 : INFO : EPOCH 14 - PROGRESS: at 39.98% examples, 324387 words/s, in_qsize 0, out_qsize 0\n",
      "2019-02-05 18:08:23,065 : INFO : EPOCH 14 - PROGRESS: at 51.89% examples, 322719 words/s, in_qsize 0, out_qsize 0\n",
      "2019-02-05 18:08:24,077 : INFO : EPOCH 14 - PROGRESS: at 64.55% examples, 323910 words/s, in_qsize 0, out_qsize 0\n",
      "2019-02-05 18:08:25,079 : INFO : EPOCH 14 - PROGRESS: at 86.52% examples, 315350 words/s, in_qsize 0, out_qsize 0\n",
      "2019-02-05 18:08:25,613 : INFO : worker thread finished; awaiting finish of 2 more threads\n",
      "2019-02-05 18:08:25,619 : INFO : worker thread finished; awaiting finish of 1 more threads\n",
      "2019-02-05 18:08:25,624 : INFO : worker thread finished; awaiting finish of 0 more threads\n",
      "2019-02-05 18:08:25,625 : INFO : EPOCH - 14 : training on 3030002 raw words (2091683 effective words) took 6.6s, 316652 effective words/s\n"
     ]
    },
    {
     "name": "stdout",
     "output_type": "stream",
     "text": [
      "unique_word2vec.txt\n"
     ]
    },
    {
     "name": "stderr",
     "output_type": "stream",
     "text": [
      "2019-02-05 18:08:26,651 : INFO : EPOCH 15 - PROGRESS: at 10.69% examples, 277634 words/s, in_qsize 0, out_qsize 0\n",
      "2019-02-05 18:08:27,659 : INFO : EPOCH 15 - PROGRESS: at 24.96% examples, 297269 words/s, in_qsize 0, out_qsize 0\n",
      "2019-02-05 18:08:28,695 : INFO : EPOCH 15 - PROGRESS: at 38.96% examples, 312838 words/s, in_qsize 0, out_qsize 0\n",
      "2019-02-05 18:08:29,699 : INFO : EPOCH 15 - PROGRESS: at 52.15% examples, 322146 words/s, in_qsize 1, out_qsize 0\n",
      "2019-02-05 18:08:30,731 : INFO : EPOCH 15 - PROGRESS: at 63.45% examples, 315372 words/s, in_qsize 0, out_qsize 0\n",
      "2019-02-05 18:08:31,743 : INFO : EPOCH 15 - PROGRESS: at 79.69% examples, 299440 words/s, in_qsize 0, out_qsize 0\n",
      "2019-02-05 18:08:32,763 : INFO : EPOCH 15 - PROGRESS: at 96.67% examples, 285781 words/s, in_qsize 0, out_qsize 0\n",
      "2019-02-05 18:08:32,970 : INFO : worker thread finished; awaiting finish of 2 more threads\n",
      "2019-02-05 18:08:32,974 : INFO : worker thread finished; awaiting finish of 1 more threads\n",
      "2019-02-05 18:08:32,981 : INFO : worker thread finished; awaiting finish of 0 more threads\n",
      "2019-02-05 18:08:32,982 : INFO : EPOCH - 15 : training on 3030002 raw words (2091313 effective words) took 7.4s, 284324 effective words/s\n"
     ]
    },
    {
     "name": "stdout",
     "output_type": "stream",
     "text": [
      "unique_word2vec.txt\n"
     ]
    },
    {
     "name": "stderr",
     "output_type": "stream",
     "text": [
      "2019-02-05 18:08:34,019 : INFO : EPOCH 16 - PROGRESS: at 10.41% examples, 267837 words/s, in_qsize 0, out_qsize 0\n",
      "2019-02-05 18:08:35,055 : INFO : EPOCH 16 - PROGRESS: at 21.53% examples, 263266 words/s, in_qsize 0, out_qsize 0\n",
      "2019-02-05 18:08:36,062 : INFO : EPOCH 16 - PROGRESS: at 33.93% examples, 268584 words/s, in_qsize 0, out_qsize 0\n",
      "2019-02-05 18:08:37,085 : INFO : EPOCH 16 - PROGRESS: at 44.14% examples, 267795 words/s, in_qsize 0, out_qsize 0\n",
      "2019-02-05 18:08:38,135 : INFO : EPOCH 16 - PROGRESS: at 55.21% examples, 270735 words/s, in_qsize 0, out_qsize 0\n",
      "2019-02-05 18:08:39,157 : INFO : EPOCH 16 - PROGRESS: at 68.96% examples, 277714 words/s, in_qsize 0, out_qsize 1\n",
      "2019-02-05 18:08:40,188 : INFO : EPOCH 16 - PROGRESS: at 94.72% examples, 280447 words/s, in_qsize 0, out_qsize 0\n",
      "2019-02-05 18:08:40,366 : INFO : worker thread finished; awaiting finish of 2 more threads\n",
      "2019-02-05 18:08:40,373 : INFO : worker thread finished; awaiting finish of 1 more threads\n",
      "2019-02-05 18:08:40,377 : INFO : worker thread finished; awaiting finish of 0 more threads\n",
      "2019-02-05 18:08:40,378 : INFO : EPOCH - 16 : training on 3030002 raw words (2090812 effective words) took 7.4s, 282852 effective words/s\n"
     ]
    },
    {
     "name": "stdout",
     "output_type": "stream",
     "text": [
      "unique_word2vec.txt\n"
     ]
    },
    {
     "name": "stderr",
     "output_type": "stream",
     "text": [
      "2019-02-05 18:08:41,386 : INFO : EPOCH 17 - PROGRESS: at 11.76% examples, 309958 words/s, in_qsize 0, out_qsize 0\n",
      "2019-02-05 18:08:42,398 : INFO : EPOCH 17 - PROGRESS: at 22.12% examples, 273633 words/s, in_qsize 0, out_qsize 0\n",
      "2019-02-05 18:08:43,417 : INFO : EPOCH 17 - PROGRESS: at 31.41% examples, 253851 words/s, in_qsize 0, out_qsize 0\n",
      "2019-02-05 18:08:44,427 : INFO : EPOCH 17 - PROGRESS: at 42.01% examples, 258021 words/s, in_qsize 0, out_qsize 0\n",
      "2019-02-05 18:08:45,439 : INFO : EPOCH 17 - PROGRESS: at 52.92% examples, 263283 words/s, in_qsize 0, out_qsize 0\n",
      "2019-02-05 18:08:46,460 : INFO : EPOCH 17 - PROGRESS: at 64.28% examples, 268312 words/s, in_qsize 0, out_qsize 0\n",
      "2019-02-05 18:08:47,481 : INFO : EPOCH 17 - PROGRESS: at 83.19% examples, 263800 words/s, in_qsize 0, out_qsize 0\n",
      "2019-02-05 18:08:48,230 : INFO : worker thread finished; awaiting finish of 2 more threads\n",
      "2019-02-05 18:08:48,236 : INFO : worker thread finished; awaiting finish of 1 more threads\n",
      "2019-02-05 18:08:48,237 : INFO : worker thread finished; awaiting finish of 0 more threads\n",
      "2019-02-05 18:08:48,238 : INFO : EPOCH - 17 : training on 3030002 raw words (2091467 effective words) took 7.9s, 266155 effective words/s\n"
     ]
    },
    {
     "name": "stdout",
     "output_type": "stream",
     "text": [
      "unique_word2vec.txt\n"
     ]
    },
    {
     "name": "stderr",
     "output_type": "stream",
     "text": [
      "2019-02-05 18:08:49,248 : INFO : EPOCH 18 - PROGRESS: at 11.76% examples, 310511 words/s, in_qsize 0, out_qsize 0\n",
      "2019-02-05 18:08:50,260 : INFO : EPOCH 18 - PROGRESS: at 24.40% examples, 292172 words/s, in_qsize 0, out_qsize 0\n",
      "2019-02-05 18:08:51,263 : INFO : EPOCH 18 - PROGRESS: at 37.08% examples, 301407 words/s, in_qsize 0, out_qsize 0\n",
      "2019-02-05 18:08:52,303 : INFO : EPOCH 18 - PROGRESS: at 49.60% examples, 306475 words/s, in_qsize 0, out_qsize 0\n",
      "2019-02-05 18:08:53,313 : INFO : EPOCH 18 - PROGRESS: at 60.34% examples, 301276 words/s, in_qsize 0, out_qsize 0\n",
      "2019-02-05 18:08:54,318 : INFO : EPOCH 18 - PROGRESS: at 79.69% examples, 301429 words/s, in_qsize 0, out_qsize 0\n",
      "2019-02-05 18:08:55,136 : INFO : worker thread finished; awaiting finish of 2 more threads\n",
      "2019-02-05 18:08:55,143 : INFO : worker thread finished; awaiting finish of 1 more threads\n",
      "2019-02-05 18:08:55,144 : INFO : worker thread finished; awaiting finish of 0 more threads\n",
      "2019-02-05 18:08:55,144 : INFO : EPOCH - 18 : training on 3030002 raw words (2091191 effective words) took 6.9s, 302957 effective words/s\n"
     ]
    },
    {
     "name": "stdout",
     "output_type": "stream",
     "text": [
      "unique_word2vec.txt\n"
     ]
    },
    {
     "name": "stderr",
     "output_type": "stream",
     "text": [
      "2019-02-05 18:08:56,174 : INFO : EPOCH 19 - PROGRESS: at 12.64% examples, 327166 words/s, in_qsize 1, out_qsize 0\n",
      "2019-02-05 18:08:57,185 : INFO : EPOCH 19 - PROGRESS: at 27.83% examples, 337244 words/s, in_qsize 0, out_qsize 0\n",
      "2019-02-05 18:08:58,190 : INFO : EPOCH 19 - PROGRESS: at 41.01% examples, 333772 words/s, in_qsize 0, out_qsize 0\n",
      "2019-02-05 18:08:59,203 : INFO : EPOCH 19 - PROGRESS: at 53.93% examples, 335162 words/s, in_qsize 0, out_qsize 0\n",
      "2019-02-05 18:09:00,209 : INFO : EPOCH 19 - PROGRESS: at 66.53% examples, 333240 words/s, in_qsize 0, out_qsize 0\n",
      "2019-02-05 18:09:01,223 : INFO : EPOCH 19 - PROGRESS: at 93.02% examples, 327631 words/s, in_qsize 0, out_qsize 0\n",
      "2019-02-05 18:09:01,571 : INFO : worker thread finished; awaiting finish of 2 more threads\n",
      "2019-02-05 18:09:01,576 : INFO : worker thread finished; awaiting finish of 1 more threads\n",
      "2019-02-05 18:09:01,583 : INFO : worker thread finished; awaiting finish of 0 more threads\n",
      "2019-02-05 18:09:01,584 : INFO : EPOCH - 19 : training on 3030002 raw words (2090981 effective words) took 6.4s, 324935 effective words/s\n"
     ]
    },
    {
     "name": "stdout",
     "output_type": "stream",
     "text": [
      "unique_word2vec.txt\n"
     ]
    },
    {
     "name": "stderr",
     "output_type": "stream",
     "text": [
      "2019-02-05 18:09:02,633 : INFO : EPOCH 20 - PROGRESS: at 10.69% examples, 271121 words/s, in_qsize 0, out_qsize 0\n",
      "2019-02-05 18:09:03,635 : INFO : EPOCH 20 - PROGRESS: at 23.85% examples, 280795 words/s, in_qsize 0, out_qsize 0\n",
      "2019-02-05 18:09:04,703 : INFO : EPOCH 20 - PROGRESS: at 33.38% examples, 261091 words/s, in_qsize 0, out_qsize 1\n",
      "2019-02-05 18:09:05,724 : INFO : EPOCH 20 - PROGRESS: at 43.87% examples, 263605 words/s, in_qsize 0, out_qsize 0\n",
      "2019-02-05 18:09:06,724 : INFO : EPOCH 20 - PROGRESS: at 53.93% examples, 264396 words/s, in_qsize 0, out_qsize 0\n",
      "2019-02-05 18:09:07,732 : INFO : EPOCH 20 - PROGRESS: at 63.22% examples, 260912 words/s, in_qsize 0, out_qsize 0\n",
      "2019-02-05 18:09:08,732 : INFO : EPOCH 20 - PROGRESS: at 77.34% examples, 252419 words/s, in_qsize 0, out_qsize 0\n",
      "2019-02-05 18:09:09,774 : INFO : EPOCH 20 - PROGRESS: at 95.35% examples, 247424 words/s, in_qsize 0, out_qsize 0\n",
      "2019-02-05 18:09:09,971 : INFO : worker thread finished; awaiting finish of 2 more threads\n",
      "2019-02-05 18:09:09,974 : INFO : worker thread finished; awaiting finish of 1 more threads\n",
      "2019-02-05 18:09:09,978 : INFO : worker thread finished; awaiting finish of 0 more threads\n",
      "2019-02-05 18:09:09,979 : INFO : EPOCH - 20 : training on 3030002 raw words (2090213 effective words) took 8.4s, 249063 effective words/s\n"
     ]
    },
    {
     "name": "stdout",
     "output_type": "stream",
     "text": [
      "unique_word2vec.txt\n"
     ]
    },
    {
     "name": "stderr",
     "output_type": "stream",
     "text": [
      "2019-02-05 18:09:10,992 : INFO : EPOCH 21 - PROGRESS: at 11.25% examples, 295247 words/s, in_qsize 0, out_qsize 0\n",
      "2019-02-05 18:09:12,001 : INFO : EPOCH 21 - PROGRESS: at 25.20% examples, 302543 words/s, in_qsize 0, out_qsize 0\n",
      "2019-02-05 18:09:13,017 : INFO : EPOCH 21 - PROGRESS: at 37.60% examples, 305030 words/s, in_qsize 0, out_qsize 0\n",
      "2019-02-05 18:09:14,022 : INFO : EPOCH 21 - PROGRESS: at 48.84% examples, 303192 words/s, in_qsize 0, out_qsize 0\n",
      "2019-02-05 18:09:15,046 : INFO : EPOCH 21 - PROGRESS: at 60.59% examples, 302875 words/s, in_qsize 0, out_qsize 0\n",
      "2019-02-05 18:09:16,056 : INFO : EPOCH 21 - PROGRESS: at 76.28% examples, 295201 words/s, in_qsize 0, out_qsize 0\n",
      "2019-02-05 18:09:17,056 : INFO : EPOCH 21 - PROGRESS: at 98.55% examples, 291247 words/s, in_qsize 0, out_qsize 0\n",
      "2019-02-05 18:09:17,154 : INFO : worker thread finished; awaiting finish of 2 more threads\n",
      "2019-02-05 18:09:17,162 : INFO : worker thread finished; awaiting finish of 1 more threads\n",
      "2019-02-05 18:09:17,165 : INFO : worker thread finished; awaiting finish of 0 more threads\n",
      "2019-02-05 18:09:17,167 : INFO : EPOCH - 21 : training on 3030002 raw words (2091023 effective words) took 7.2s, 291112 effective words/s\n"
     ]
    },
    {
     "name": "stdout",
     "output_type": "stream",
     "text": [
      "unique_word2vec.txt\n"
     ]
    },
    {
     "name": "stderr",
     "output_type": "stream",
     "text": [
      "2019-02-05 18:09:18,189 : INFO : EPOCH 22 - PROGRESS: at 10.12% examples, 265730 words/s, in_qsize 0, out_qsize 0\n",
      "2019-02-05 18:09:19,193 : INFO : EPOCH 22 - PROGRESS: at 24.67% examples, 295696 words/s, in_qsize 0, out_qsize 0\n",
      "2019-02-05 18:09:20,202 : INFO : EPOCH 22 - PROGRESS: at 37.87% examples, 308160 words/s, in_qsize 0, out_qsize 0\n",
      "2019-02-05 18:09:21,215 : INFO : EPOCH 22 - PROGRESS: at 49.35% examples, 306638 words/s, in_qsize 0, out_qsize 0\n",
      "2019-02-05 18:09:22,236 : INFO : EPOCH 22 - PROGRESS: at 59.83% examples, 299180 words/s, in_qsize 0, out_qsize 0\n",
      "2019-02-05 18:09:23,239 : INFO : EPOCH 22 - PROGRESS: at 76.76% examples, 296623 words/s, in_qsize 0, out_qsize 0\n",
      "2019-02-05 18:09:24,241 : INFO : EPOCH 22 - PROGRESS: at 97.30% examples, 289716 words/s, in_qsize 0, out_qsize 0\n",
      "2019-02-05 18:09:24,378 : INFO : worker thread finished; awaiting finish of 2 more threads\n",
      "2019-02-05 18:09:24,384 : INFO : worker thread finished; awaiting finish of 1 more threads\n",
      "2019-02-05 18:09:24,385 : INFO : worker thread finished; awaiting finish of 0 more threads\n",
      "2019-02-05 18:09:24,386 : INFO : EPOCH - 22 : training on 3030002 raw words (2091528 effective words) took 7.2s, 289982 effective words/s\n"
     ]
    },
    {
     "name": "stdout",
     "output_type": "stream",
     "text": [
      "unique_word2vec.txt\n"
     ]
    },
    {
     "name": "stderr",
     "output_type": "stream",
     "text": [
      "2019-02-05 18:09:25,398 : INFO : EPOCH 23 - PROGRESS: at 9.31% examples, 247434 words/s, in_qsize 0, out_qsize 0\n",
      "2019-02-05 18:09:26,413 : INFO : EPOCH 23 - PROGRESS: at 23.28% examples, 281033 words/s, in_qsize 0, out_qsize 0\n",
      "2019-02-05 18:09:27,412 : INFO : EPOCH 23 - PROGRESS: at 36.53% examples, 296698 words/s, in_qsize 0, out_qsize 0\n",
      "2019-02-05 18:09:28,435 : INFO : EPOCH 23 - PROGRESS: at 48.58% examples, 301438 words/s, in_qsize 0, out_qsize 1\n",
      "2019-02-05 18:09:29,439 : INFO : EPOCH 23 - PROGRESS: at 60.34% examples, 302417 words/s, in_qsize 0, out_qsize 0\n",
      "2019-02-05 18:09:30,439 : INFO : EPOCH 23 - PROGRESS: at 79.69% examples, 302769 words/s, in_qsize 0, out_qsize 0\n",
      "2019-02-05 18:09:31,416 : INFO : worker thread finished; awaiting finish of 2 more threads\n",
      "2019-02-05 18:09:31,420 : INFO : worker thread finished; awaiting finish of 1 more threads\n",
      "2019-02-05 18:09:31,428 : INFO : worker thread finished; awaiting finish of 0 more threads\n",
      "2019-02-05 18:09:31,428 : INFO : EPOCH - 23 : training on 3030002 raw words (2091222 effective words) took 7.0s, 297097 effective words/s\n"
     ]
    },
    {
     "name": "stdout",
     "output_type": "stream",
     "text": [
      "unique_word2vec.txt\n"
     ]
    },
    {
     "name": "stderr",
     "output_type": "stream",
     "text": [
      "2019-02-05 18:09:32,440 : INFO : EPOCH 24 - PROGRESS: at 12.64% examples, 329955 words/s, in_qsize 0, out_qsize 0\n",
      "2019-02-05 18:09:33,459 : INFO : EPOCH 24 - PROGRESS: at 28.06% examples, 341049 words/s, in_qsize 0, out_qsize 0\n",
      "2019-02-05 18:09:34,491 : INFO : EPOCH 24 - PROGRESS: at 41.01% examples, 332106 words/s, in_qsize 0, out_qsize 0\n",
      "2019-02-05 18:09:35,489 : INFO : EPOCH 24 - PROGRESS: at 54.18% examples, 336567 words/s, in_qsize 0, out_qsize 0\n",
      "2019-02-05 18:09:36,503 : INFO : EPOCH 24 - PROGRESS: at 68.36% examples, 336406 words/s, in_qsize 0, out_qsize 0\n",
      "2019-02-05 18:09:37,510 : INFO : EPOCH 24 - PROGRESS: at 93.86% examples, 329716 words/s, in_qsize 0, out_qsize 0\n",
      "2019-02-05 18:09:37,755 : INFO : worker thread finished; awaiting finish of 2 more threads\n",
      "2019-02-05 18:09:37,762 : INFO : worker thread finished; awaiting finish of 1 more threads\n",
      "2019-02-05 18:09:37,763 : INFO : worker thread finished; awaiting finish of 0 more threads\n",
      "2019-02-05 18:09:37,764 : INFO : EPOCH - 24 : training on 3030002 raw words (2091486 effective words) took 6.3s, 330236 effective words/s\n"
     ]
    },
    {
     "name": "stdout",
     "output_type": "stream",
     "text": [
      "unique_word2vec.txt\n"
     ]
    },
    {
     "name": "stderr",
     "output_type": "stream",
     "text": [
      "2019-02-05 18:09:38,776 : INFO : EPOCH 25 - PROGRESS: at 11.99% examples, 315793 words/s, in_qsize 0, out_qsize 0\n",
      "2019-02-05 18:09:39,796 : INFO : EPOCH 25 - PROGRESS: at 26.20% examples, 314503 words/s, in_qsize 0, out_qsize 0\n",
      "2019-02-05 18:09:40,819 : INFO : EPOCH 25 - PROGRESS: at 38.46% examples, 309618 words/s, in_qsize 0, out_qsize 0\n",
      "2019-02-05 18:09:41,834 : INFO : EPOCH 25 - PROGRESS: at 51.37% examples, 317484 words/s, in_qsize 0, out_qsize 0\n",
      "2019-02-05 18:09:42,850 : INFO : EPOCH 25 - PROGRESS: at 64.28% examples, 320632 words/s, in_qsize 0, out_qsize 0\n",
      "2019-02-05 18:09:43,865 : INFO : EPOCH 25 - PROGRESS: at 88.56% examples, 318191 words/s, in_qsize 0, out_qsize 0\n",
      "2019-02-05 18:09:44,312 : INFO : worker thread finished; awaiting finish of 2 more threads\n",
      "2019-02-05 18:09:44,319 : INFO : worker thread finished; awaiting finish of 1 more threads\n",
      "2019-02-05 18:09:44,321 : INFO : worker thread finished; awaiting finish of 0 more threads\n",
      "2019-02-05 18:09:44,322 : INFO : EPOCH - 25 : training on 3030002 raw words (2091045 effective words) took 6.6s, 318991 effective words/s\n"
     ]
    },
    {
     "name": "stdout",
     "output_type": "stream",
     "text": [
      "unique_word2vec.txt\n"
     ]
    },
    {
     "name": "stderr",
     "output_type": "stream",
     "text": [
      "2019-02-05 18:09:45,350 : INFO : EPOCH 26 - PROGRESS: at 12.35% examples, 320302 words/s, in_qsize 0, out_qsize 0\n",
      "2019-02-05 18:09:46,356 : INFO : EPOCH 26 - PROGRESS: at 27.37% examples, 331061 words/s, in_qsize 0, out_qsize 0\n",
      "2019-02-05 18:09:47,368 : INFO : EPOCH 26 - PROGRESS: at 40.61% examples, 331893 words/s, in_qsize 0, out_qsize 0\n",
      "2019-02-05 18:09:48,371 : INFO : EPOCH 26 - PROGRESS: at 53.42% examples, 332733 words/s, in_qsize 0, out_qsize 0\n",
      "2019-02-05 18:09:49,379 : INFO : EPOCH 26 - PROGRESS: at 66.18% examples, 332284 words/s, in_qsize 0, out_qsize 0\n",
      "2019-02-05 18:09:50,383 : INFO : EPOCH 26 - PROGRESS: at 91.87% examples, 326172 words/s, in_qsize 0, out_qsize 0\n",
      "2019-02-05 18:09:50,715 : INFO : worker thread finished; awaiting finish of 2 more threads\n",
      "2019-02-05 18:09:50,720 : INFO : worker thread finished; awaiting finish of 1 more threads\n",
      "2019-02-05 18:09:50,725 : INFO : worker thread finished; awaiting finish of 0 more threads\n",
      "2019-02-05 18:09:50,726 : INFO : EPOCH - 26 : training on 3030002 raw words (2090762 effective words) took 6.4s, 326756 effective words/s\n"
     ]
    },
    {
     "name": "stdout",
     "output_type": "stream",
     "text": [
      "unique_word2vec.txt\n"
     ]
    },
    {
     "name": "stderr",
     "output_type": "stream",
     "text": [
      "2019-02-05 18:09:51,750 : INFO : EPOCH 27 - PROGRESS: at 12.87% examples, 332507 words/s, in_qsize 0, out_qsize 0\n",
      "2019-02-05 18:09:52,758 : INFO : EPOCH 27 - PROGRESS: at 25.47% examples, 303696 words/s, in_qsize 0, out_qsize 0\n",
      "2019-02-05 18:09:53,760 : INFO : EPOCH 27 - PROGRESS: at 38.73% examples, 314282 words/s, in_qsize 0, out_qsize 0\n",
      "2019-02-05 18:09:54,769 : INFO : EPOCH 27 - PROGRESS: at 50.12% examples, 311145 words/s, in_qsize 0, out_qsize 0\n",
      "2019-02-05 18:09:55,789 : INFO : EPOCH 27 - PROGRESS: at 61.09% examples, 305651 words/s, in_qsize 0, out_qsize 0\n",
      "2019-02-05 18:09:56,796 : INFO : EPOCH 27 - PROGRESS: at 77.34% examples, 297296 words/s, in_qsize 0, out_qsize 0\n",
      "2019-02-05 18:09:57,804 : INFO : EPOCH 27 - PROGRESS: at 99.10% examples, 292155 words/s, in_qsize 0, out_qsize 0\n",
      "2019-02-05 18:09:57,839 : INFO : worker thread finished; awaiting finish of 2 more threads\n",
      "2019-02-05 18:09:57,845 : INFO : worker thread finished; awaiting finish of 1 more threads\n",
      "2019-02-05 18:09:57,846 : INFO : worker thread finished; awaiting finish of 0 more threads\n",
      "2019-02-05 18:09:57,847 : INFO : EPOCH - 27 : training on 3030002 raw words (2090472 effective words) took 7.1s, 293644 effective words/s\n"
     ]
    },
    {
     "name": "stdout",
     "output_type": "stream",
     "text": [
      "unique_word2vec.txt\n"
     ]
    },
    {
     "name": "stderr",
     "output_type": "stream",
     "text": [
      "2019-02-05 18:09:58,864 : INFO : EPOCH 28 - PROGRESS: at 11.50% examples, 301875 words/s, in_qsize 0, out_qsize 0\n",
      "2019-02-05 18:09:59,886 : INFO : EPOCH 28 - PROGRESS: at 25.95% examples, 310433 words/s, in_qsize 0, out_qsize 0\n",
      "2019-02-05 18:10:00,912 : INFO : EPOCH 28 - PROGRESS: at 39.50% examples, 318638 words/s, in_qsize 0, out_qsize 1\n",
      "2019-02-05 18:10:01,918 : INFO : EPOCH 28 - PROGRESS: at 51.89% examples, 321440 words/s, in_qsize 0, out_qsize 0\n",
      "2019-02-05 18:10:02,927 : INFO : EPOCH 28 - PROGRESS: at 64.81% examples, 324151 words/s, in_qsize 0, out_qsize 0\n",
      "2019-02-05 18:10:03,951 : INFO : EPOCH 28 - PROGRESS: at 89.93% examples, 320726 words/s, in_qsize 0, out_qsize 0\n",
      "2019-02-05 18:10:04,360 : INFO : worker thread finished; awaiting finish of 2 more threads\n",
      "2019-02-05 18:10:04,366 : INFO : worker thread finished; awaiting finish of 1 more threads\n",
      "2019-02-05 18:10:04,367 : INFO : worker thread finished; awaiting finish of 0 more threads\n",
      "2019-02-05 18:10:04,368 : INFO : EPOCH - 28 : training on 3030002 raw words (2091671 effective words) took 6.5s, 321037 effective words/s\n"
     ]
    },
    {
     "name": "stdout",
     "output_type": "stream",
     "text": [
      "unique_word2vec.txt\n"
     ]
    },
    {
     "name": "stderr",
     "output_type": "stream",
     "text": [
      "2019-02-05 18:10:05,395 : INFO : EPOCH 29 - PROGRESS: at 13.47% examples, 347412 words/s, in_qsize 0, out_qsize 0\n",
      "2019-02-05 18:10:06,401 : INFO : EPOCH 29 - PROGRESS: at 28.53% examples, 347931 words/s, in_qsize 0, out_qsize 0\n",
      "2019-02-05 18:10:07,461 : INFO : EPOCH 29 - PROGRESS: at 40.84% examples, 329077 words/s, in_qsize 0, out_qsize 0\n",
      "2019-02-05 18:10:08,473 : INFO : EPOCH 29 - PROGRESS: at 54.18% examples, 333405 words/s, in_qsize 0, out_qsize 0\n",
      "2019-02-05 18:10:09,482 : INFO : EPOCH 29 - PROGRESS: at 67.15% examples, 331994 words/s, in_qsize 0, out_qsize 0\n",
      "2019-02-05 18:10:10,496 : INFO : EPOCH 29 - PROGRESS: at 93.30% examples, 326380 words/s, in_qsize 0, out_qsize 2\n",
      "2019-02-05 18:10:10,714 : INFO : worker thread finished; awaiting finish of 2 more threads\n",
      "2019-02-05 18:10:10,725 : INFO : worker thread finished; awaiting finish of 1 more threads\n",
      "2019-02-05 18:10:10,726 : INFO : worker thread finished; awaiting finish of 0 more threads\n",
      "2019-02-05 18:10:10,727 : INFO : EPOCH - 29 : training on 3030002 raw words (2090993 effective words) took 6.4s, 329153 effective words/s\n"
     ]
    },
    {
     "name": "stdout",
     "output_type": "stream",
     "text": [
      "unique_word2vec.txt\n"
     ]
    },
    {
     "name": "stderr",
     "output_type": "stream",
     "text": [
      "2019-02-05 18:10:11,748 : INFO : EPOCH 30 - PROGRESS: at 13.11% examples, 340597 words/s, in_qsize 0, out_qsize 0\n",
      "2019-02-05 18:10:12,774 : INFO : EPOCH 30 - PROGRESS: at 28.53% examples, 345235 words/s, in_qsize 0, out_qsize 0\n",
      "2019-02-05 18:10:13,789 : INFO : EPOCH 30 - PROGRESS: at 40.41% examples, 327510 words/s, in_qsize 0, out_qsize 0\n",
      "2019-02-05 18:10:14,792 : INFO : EPOCH 30 - PROGRESS: at 52.42% examples, 324725 words/s, in_qsize 0, out_qsize 0\n",
      "2019-02-05 18:10:15,804 : INFO : EPOCH 30 - PROGRESS: at 65.35% examples, 326946 words/s, in_qsize 0, out_qsize 0\n",
      "2019-02-05 18:10:16,815 : INFO : EPOCH 30 - PROGRESS: at 87.78% examples, 316773 words/s, in_qsize 0, out_qsize 1\n",
      "2019-02-05 18:10:17,246 : INFO : worker thread finished; awaiting finish of 2 more threads\n",
      "2019-02-05 18:10:17,253 : INFO : worker thread finished; awaiting finish of 1 more threads\n",
      "2019-02-05 18:10:17,254 : INFO : worker thread finished; awaiting finish of 0 more threads\n",
      "2019-02-05 18:10:17,255 : INFO : EPOCH - 30 : training on 3030002 raw words (2092199 effective words) took 6.5s, 320617 effective words/s\n"
     ]
    },
    {
     "name": "stdout",
     "output_type": "stream",
     "text": [
      "unique_word2vec.txt\n"
     ]
    },
    {
     "name": "stderr",
     "output_type": "stream",
     "text": [
      "2019-02-05 18:10:18,257 : INFO : EPOCH 31 - PROGRESS: at 13.11% examples, 347083 words/s, in_qsize 0, out_qsize 0\n",
      "2019-02-05 18:10:19,282 : INFO : EPOCH 31 - PROGRESS: at 28.29% examples, 344517 words/s, in_qsize 0, out_qsize 0\n",
      "2019-02-05 18:10:20,289 : INFO : EPOCH 31 - PROGRESS: at 42.28% examples, 346065 words/s, in_qsize 0, out_qsize 0\n",
      "2019-02-05 18:10:21,292 : INFO : EPOCH 31 - PROGRESS: at 55.46% examples, 346817 words/s, in_qsize 0, out_qsize 0\n",
      "2019-02-05 18:10:22,327 : INFO : EPOCH 31 - PROGRESS: at 70.73% examples, 343145 words/s, in_qsize 0, out_qsize 0\n",
      "2019-02-05 18:10:23,383 : INFO : EPOCH 31 - PROGRESS: at 96.01% examples, 332258 words/s, in_qsize 0, out_qsize 0\n",
      "2019-02-05 18:10:23,540 : INFO : worker thread finished; awaiting finish of 2 more threads\n",
      "2019-02-05 18:10:23,545 : INFO : worker thread finished; awaiting finish of 1 more threads\n",
      "2019-02-05 18:10:23,546 : INFO : worker thread finished; awaiting finish of 0 more threads\n",
      "2019-02-05 18:10:23,547 : INFO : EPOCH - 31 : training on 3030002 raw words (2090859 effective words) took 6.3s, 332358 effective words/s\n"
     ]
    },
    {
     "name": "stdout",
     "output_type": "stream",
     "text": [
      "unique_word2vec.txt\n"
     ]
    },
    {
     "name": "stderr",
     "output_type": "stream",
     "text": [
      "2019-02-05 18:10:24,568 : INFO : EPOCH 32 - PROGRESS: at 13.11% examples, 340620 words/s, in_qsize 0, out_qsize 0\n",
      "2019-02-05 18:10:25,571 : INFO : EPOCH 32 - PROGRESS: at 28.06% examples, 341661 words/s, in_qsize 0, out_qsize 0\n",
      "2019-02-05 18:10:26,601 : INFO : EPOCH 32 - PROGRESS: at 42.01% examples, 341359 words/s, in_qsize 0, out_qsize 0\n",
      "2019-02-05 18:10:27,661 : INFO : EPOCH 32 - PROGRESS: at 54.95% examples, 337494 words/s, in_qsize 1, out_qsize 1\n",
      "2019-02-05 18:10:28,701 : INFO : EPOCH 32 - PROGRESS: at 70.15% examples, 335881 words/s, in_qsize 1, out_qsize 2\n",
      "2019-02-05 18:10:29,710 : INFO : EPOCH 32 - PROGRESS: at 96.67% examples, 330947 words/s, in_qsize 0, out_qsize 0\n",
      "2019-02-05 18:10:29,792 : INFO : worker thread finished; awaiting finish of 2 more threads\n",
      "2019-02-05 18:10:29,797 : INFO : worker thread finished; awaiting finish of 1 more threads\n",
      "2019-02-05 18:10:29,800 : INFO : worker thread finished; awaiting finish of 0 more threads\n",
      "2019-02-05 18:10:29,801 : INFO : EPOCH - 32 : training on 3030002 raw words (2090459 effective words) took 6.3s, 334352 effective words/s\n"
     ]
    },
    {
     "name": "stdout",
     "output_type": "stream",
     "text": [
      "unique_word2vec.txt\n"
     ]
    },
    {
     "name": "stderr",
     "output_type": "stream",
     "text": [
      "2019-02-05 18:10:30,810 : INFO : EPOCH 33 - PROGRESS: at 12.87% examples, 338208 words/s, in_qsize 0, out_qsize 0\n",
      "2019-02-05 18:10:31,837 : INFO : EPOCH 33 - PROGRESS: at 28.29% examples, 343263 words/s, in_qsize 0, out_qsize 0\n",
      "2019-02-05 18:10:32,844 : INFO : EPOCH 33 - PROGRESS: at 42.28% examples, 345091 words/s, in_qsize 0, out_qsize 0\n",
      "2019-02-05 18:10:33,889 : INFO : EPOCH 33 - PROGRESS: at 55.21% examples, 340602 words/s, in_qsize 0, out_qsize 0\n",
      "2019-02-05 18:10:34,898 : INFO : EPOCH 33 - PROGRESS: at 71.40% examples, 341602 words/s, in_qsize 0, out_qsize 0\n",
      "2019-02-05 18:10:35,933 : INFO : EPOCH 33 - PROGRESS: at 98.55% examples, 336095 words/s, in_qsize 0, out_qsize 0\n",
      "2019-02-05 18:10:35,980 : INFO : worker thread finished; awaiting finish of 2 more threads\n",
      "2019-02-05 18:10:35,983 : INFO : worker thread finished; awaiting finish of 1 more threads\n",
      "2019-02-05 18:10:35,985 : INFO : worker thread finished; awaiting finish of 0 more threads\n",
      "2019-02-05 18:10:35,987 : INFO : EPOCH - 33 : training on 3030002 raw words (2090596 effective words) took 6.2s, 338103 effective words/s\n"
     ]
    },
    {
     "name": "stdout",
     "output_type": "stream",
     "text": [
      "unique_word2vec.txt\n"
     ]
    },
    {
     "name": "stderr",
     "output_type": "stream",
     "text": [
      "2019-02-05 18:10:37,011 : INFO : EPOCH 34 - PROGRESS: at 13.11% examples, 342220 words/s, in_qsize 0, out_qsize 0\n",
      "2019-02-05 18:10:38,030 : INFO : EPOCH 34 - PROGRESS: at 28.29% examples, 342775 words/s, in_qsize 0, out_qsize 0\n",
      "2019-02-05 18:10:39,054 : INFO : EPOCH 34 - PROGRESS: at 42.01% examples, 340626 words/s, in_qsize 0, out_qsize 0\n",
      "2019-02-05 18:10:40,064 : INFO : EPOCH 34 - PROGRESS: at 54.95% examples, 340930 words/s, in_qsize 0, out_qsize 0\n",
      "2019-02-05 18:10:41,080 : INFO : EPOCH 34 - PROGRESS: at 70.73% examples, 341017 words/s, in_qsize 0, out_qsize 0\n",
      "2019-02-05 18:10:42,080 : INFO : EPOCH 34 - PROGRESS: at 96.67% examples, 335041 words/s, in_qsize 0, out_qsize 0\n",
      "2019-02-05 18:10:42,192 : INFO : worker thread finished; awaiting finish of 2 more threads\n",
      "2019-02-05 18:10:42,200 : INFO : worker thread finished; awaiting finish of 1 more threads\n",
      "2019-02-05 18:10:42,202 : INFO : worker thread finished; awaiting finish of 0 more threads\n",
      "2019-02-05 18:10:42,203 : INFO : EPOCH - 34 : training on 3030002 raw words (2091112 effective words) took 6.2s, 336753 effective words/s\n"
     ]
    },
    {
     "name": "stdout",
     "output_type": "stream",
     "text": [
      "unique_word2vec.txt\n"
     ]
    },
    {
     "name": "stderr",
     "output_type": "stream",
     "text": [
      "2019-02-05 18:10:43,224 : INFO : EPOCH 35 - PROGRESS: at 13.11% examples, 340733 words/s, in_qsize 0, out_qsize 0\n",
      "2019-02-05 18:10:44,226 : INFO : EPOCH 35 - PROGRESS: at 27.83% examples, 338540 words/s, in_qsize 0, out_qsize 0\n",
      "2019-02-05 18:10:45,232 : INFO : EPOCH 35 - PROGRESS: at 42.01% examples, 344886 words/s, in_qsize 0, out_qsize 0\n",
      "2019-02-05 18:10:46,243 : INFO : EPOCH 35 - PROGRESS: at 55.21% examples, 345897 words/s, in_qsize 0, out_qsize 0\n",
      "2019-02-05 18:10:47,245 : INFO : EPOCH 35 - PROGRESS: at 68.96% examples, 340126 words/s, in_qsize 0, out_qsize 0\n",
      "2019-02-05 18:10:48,250 : INFO : EPOCH 35 - PROGRESS: at 93.86% examples, 331557 words/s, in_qsize 0, out_qsize 0\n",
      "2019-02-05 18:10:48,494 : INFO : worker thread finished; awaiting finish of 2 more threads\n",
      "2019-02-05 18:10:48,501 : INFO : worker thread finished; awaiting finish of 1 more threads\n",
      "2019-02-05 18:10:48,502 : INFO : worker thread finished; awaiting finish of 0 more threads\n",
      "2019-02-05 18:10:48,503 : INFO : EPOCH - 35 : training on 3030002 raw words (2091625 effective words) took 6.3s, 332091 effective words/s\n"
     ]
    },
    {
     "name": "stdout",
     "output_type": "stream",
     "text": [
      "unique_word2vec.txt\n"
     ]
    },
    {
     "name": "stderr",
     "output_type": "stream",
     "text": [
      "2019-02-05 18:10:49,515 : INFO : EPOCH 36 - PROGRESS: at 13.11% examples, 343289 words/s, in_qsize 0, out_qsize 0\n",
      "2019-02-05 18:10:50,532 : INFO : EPOCH 36 - PROGRESS: at 27.83% examples, 337474 words/s, in_qsize 0, out_qsize 0\n",
      "2019-02-05 18:10:51,553 : INFO : EPOCH 36 - PROGRESS: at 41.25% examples, 335720 words/s, in_qsize 0, out_qsize 1\n",
      "2019-02-05 18:10:52,571 : INFO : EPOCH 36 - PROGRESS: at 54.70% examples, 339344 words/s, in_qsize 0, out_qsize 0\n",
      "2019-02-05 18:10:53,580 : INFO : EPOCH 36 - PROGRESS: at 70.15% examples, 340306 words/s, in_qsize 0, out_qsize 0\n",
      "2019-02-05 18:10:54,589 : INFO : EPOCH 36 - PROGRESS: at 96.01% examples, 334189 words/s, in_qsize 0, out_qsize 0\n",
      "2019-02-05 18:10:54,741 : INFO : worker thread finished; awaiting finish of 2 more threads\n",
      "2019-02-05 18:10:54,745 : INFO : worker thread finished; awaiting finish of 1 more threads\n",
      "2019-02-05 18:10:54,747 : INFO : worker thread finished; awaiting finish of 0 more threads\n",
      "2019-02-05 18:10:54,748 : INFO : EPOCH - 36 : training on 3030002 raw words (2092019 effective words) took 6.2s, 335055 effective words/s\n"
     ]
    },
    {
     "name": "stdout",
     "output_type": "stream",
     "text": [
      "unique_word2vec.txt\n"
     ]
    },
    {
     "name": "stderr",
     "output_type": "stream",
     "text": [
      "2019-02-05 18:10:55,763 : INFO : EPOCH 37 - PROGRESS: at 12.87% examples, 337158 words/s, in_qsize 0, out_qsize 0\n",
      "2019-02-05 18:10:56,775 : INFO : EPOCH 37 - PROGRESS: at 27.83% examples, 338404 words/s, in_qsize 0, out_qsize 0\n",
      "2019-02-05 18:10:57,779 : INFO : EPOCH 37 - PROGRESS: at 41.73% examples, 341875 words/s, in_qsize 0, out_qsize 0\n",
      "2019-02-05 18:10:58,786 : INFO : EPOCH 37 - PROGRESS: at 54.70% examples, 341969 words/s, in_qsize 0, out_qsize 0\n",
      "2019-02-05 18:10:59,799 : INFO : EPOCH 37 - PROGRESS: at 69.56% examples, 340696 words/s, in_qsize 0, out_qsize 0\n",
      "2019-02-05 18:11:00,807 : INFO : EPOCH 37 - PROGRESS: at 96.67% examples, 336831 words/s, in_qsize 0, out_qsize 0\n",
      "2019-02-05 18:11:00,937 : INFO : worker thread finished; awaiting finish of 2 more threads\n",
      "2019-02-05 18:11:00,942 : INFO : worker thread finished; awaiting finish of 1 more threads\n",
      "2019-02-05 18:11:00,948 : INFO : worker thread finished; awaiting finish of 0 more threads\n",
      "2019-02-05 18:11:00,949 : INFO : EPOCH - 37 : training on 3030002 raw words (2090993 effective words) took 6.2s, 337365 effective words/s\n"
     ]
    },
    {
     "name": "stdout",
     "output_type": "stream",
     "text": [
      "unique_word2vec.txt\n"
     ]
    },
    {
     "name": "stderr",
     "output_type": "stream",
     "text": [
      "2019-02-05 18:11:01,965 : INFO : EPOCH 38 - PROGRESS: at 13.11% examples, 342001 words/s, in_qsize 0, out_qsize 0\n",
      "2019-02-05 18:11:02,969 : INFO : EPOCH 38 - PROGRESS: at 28.29% examples, 345687 words/s, in_qsize 0, out_qsize 0\n",
      "2019-02-05 18:11:03,995 : INFO : EPOCH 38 - PROGRESS: at 42.26% examples, 344574 words/s, in_qsize 0, out_qsize 1\n",
      "2019-02-05 18:11:05,022 : INFO : EPOCH 38 - PROGRESS: at 55.46% examples, 343585 words/s, in_qsize 0, out_qsize 0\n",
      "2019-02-05 18:11:06,026 : INFO : EPOCH 38 - PROGRESS: at 70.73% examples, 341507 words/s, in_qsize 0, out_qsize 0\n",
      "2019-02-05 18:11:07,033 : INFO : EPOCH 38 - PROGRESS: at 97.30% examples, 336741 words/s, in_qsize 0, out_qsize 0\n",
      "2019-02-05 18:11:07,128 : INFO : worker thread finished; awaiting finish of 2 more threads\n",
      "2019-02-05 18:11:07,137 : INFO : worker thread finished; awaiting finish of 1 more threads\n",
      "2019-02-05 18:11:07,138 : INFO : worker thread finished; awaiting finish of 0 more threads\n",
      "2019-02-05 18:11:07,139 : INFO : EPOCH - 38 : training on 3030002 raw words (2091525 effective words) took 6.2s, 337928 effective words/s\n"
     ]
    },
    {
     "name": "stdout",
     "output_type": "stream",
     "text": [
      "unique_word2vec.txt\n"
     ]
    },
    {
     "name": "stderr",
     "output_type": "stream",
     "text": [
      "2019-02-05 18:11:08,157 : INFO : EPOCH 39 - PROGRESS: at 12.87% examples, 335743 words/s, in_qsize 0, out_qsize 0\n",
      "2019-02-05 18:11:09,172 : INFO : EPOCH 39 - PROGRESS: at 27.83% examples, 337319 words/s, in_qsize 0, out_qsize 0\n",
      "2019-02-05 18:11:10,201 : INFO : EPOCH 39 - PROGRESS: at 42.01% examples, 340797 words/s, in_qsize 0, out_qsize 0\n",
      "2019-02-05 18:11:11,218 : INFO : EPOCH 39 - PROGRESS: at 54.95% examples, 339849 words/s, in_qsize 0, out_qsize 0\n",
      "2019-02-05 18:11:12,227 : INFO : EPOCH 39 - PROGRESS: at 69.56% examples, 338160 words/s, in_qsize 0, out_qsize 0\n",
      "2019-02-05 18:11:13,270 : INFO : EPOCH 39 - PROGRESS: at 93.02% examples, 324640 words/s, in_qsize 0, out_qsize 0\n",
      "2019-02-05 18:11:13,662 : INFO : worker thread finished; awaiting finish of 2 more threads\n",
      "2019-02-05 18:11:13,671 : INFO : worker thread finished; awaiting finish of 1 more threads\n",
      "2019-02-05 18:11:13,676 : INFO : worker thread finished; awaiting finish of 0 more threads\n",
      "2019-02-05 18:11:13,678 : INFO : EPOCH - 39 : training on 3030002 raw words (2091002 effective words) took 6.5s, 319925 effective words/s\n"
     ]
    },
    {
     "name": "stdout",
     "output_type": "stream",
     "text": [
      "unique_word2vec.txt\n"
     ]
    },
    {
     "name": "stderr",
     "output_type": "stream",
     "text": [
      "2019-02-05 18:11:14,713 : INFO : EPOCH 40 - PROGRESS: at 10.41% examples, 269539 words/s, in_qsize 0, out_qsize 0\n",
      "2019-02-05 18:11:15,713 : INFO : EPOCH 40 - PROGRESS: at 24.14% examples, 287151 words/s, in_qsize 0, out_qsize 0\n",
      "2019-02-05 18:11:16,733 : INFO : EPOCH 40 - PROGRESS: at 37.08% examples, 299861 words/s, in_qsize 0, out_qsize 0\n",
      "2019-02-05 18:11:17,733 : INFO : EPOCH 40 - PROGRESS: at 50.37% examples, 312484 words/s, in_qsize 0, out_qsize 0\n",
      "2019-02-05 18:11:18,751 : INFO : EPOCH 40 - PROGRESS: at 63.45% examples, 317819 words/s, in_qsize 0, out_qsize 0\n",
      "2019-02-05 18:11:19,753 : INFO : EPOCH 40 - PROGRESS: at 84.84% examples, 311595 words/s, in_qsize 0, out_qsize 0\n",
      "2019-02-05 18:11:20,376 : INFO : worker thread finished; awaiting finish of 2 more threads\n",
      "2019-02-05 18:11:20,382 : INFO : worker thread finished; awaiting finish of 1 more threads\n",
      "2019-02-05 18:11:20,382 : INFO : worker thread finished; awaiting finish of 0 more threads\n",
      "2019-02-05 18:11:20,383 : INFO : EPOCH - 40 : training on 3030002 raw words (2091473 effective words) took 6.7s, 312198 effective words/s\n"
     ]
    },
    {
     "name": "stdout",
     "output_type": "stream",
     "text": [
      "unique_word2vec.txt\n"
     ]
    },
    {
     "name": "stderr",
     "output_type": "stream",
     "text": [
      "2019-02-05 18:11:21,388 : INFO : EPOCH 41 - PROGRESS: at 12.35% examples, 325485 words/s, in_qsize 1, out_qsize 0\n",
      "2019-02-05 18:11:22,403 : INFO : EPOCH 41 - PROGRESS: at 27.37% examples, 332782 words/s, in_qsize 0, out_qsize 0\n",
      "2019-02-05 18:11:23,413 : INFO : EPOCH 41 - PROGRESS: at 41.01% examples, 335488 words/s, in_qsize 0, out_qsize 0\n",
      "2019-02-05 18:11:24,430 : INFO : EPOCH 41 - PROGRESS: at 54.18% examples, 337563 words/s, in_qsize 0, out_qsize 0\n",
      "2019-02-05 18:11:25,440 : INFO : EPOCH 41 - PROGRESS: at 67.15% examples, 334876 words/s, in_qsize 0, out_qsize 0\n",
      "2019-02-05 18:11:26,444 : INFO : EPOCH 41 - PROGRESS: at 93.02% examples, 328483 words/s, in_qsize 0, out_qsize 0\n",
      "2019-02-05 18:11:26,737 : INFO : worker thread finished; awaiting finish of 2 more threads\n",
      "2019-02-05 18:11:26,745 : INFO : worker thread finished; awaiting finish of 1 more threads\n",
      "2019-02-05 18:11:26,746 : INFO : worker thread finished; awaiting finish of 0 more threads\n",
      "2019-02-05 18:11:26,747 : INFO : EPOCH - 41 : training on 3030002 raw words (2091022 effective words) took 6.4s, 328650 effective words/s\n"
     ]
    },
    {
     "name": "stdout",
     "output_type": "stream",
     "text": [
      "unique_word2vec.txt\n"
     ]
    },
    {
     "name": "stderr",
     "output_type": "stream",
     "text": [
      "2019-02-05 18:11:27,775 : INFO : EPOCH 42 - PROGRESS: at 10.97% examples, 283899 words/s, in_qsize 0, out_qsize 0\n",
      "2019-02-05 18:11:28,783 : INFO : EPOCH 42 - PROGRESS: at 26.20% examples, 313301 words/s, in_qsize 0, out_qsize 0\n",
      "2019-02-05 18:11:29,790 : INFO : EPOCH 42 - PROGRESS: at 39.23% examples, 318153 words/s, in_qsize 0, out_qsize 0\n",
      "2019-02-05 18:11:30,788 : INFO : EPOCH 42 - PROGRESS: at 50.62% examples, 314830 words/s, in_qsize 0, out_qsize 0\n",
      "2019-02-05 18:11:31,816 : INFO : EPOCH 42 - PROGRESS: at 63.45% examples, 317904 words/s, in_qsize 0, out_qsize 0\n",
      "2019-02-05 18:11:32,820 : INFO : EPOCH 42 - PROGRESS: at 87.13% examples, 315956 words/s, in_qsize 0, out_qsize 0\n",
      "2019-02-05 18:11:33,306 : INFO : worker thread finished; awaiting finish of 2 more threads\n",
      "2019-02-05 18:11:33,311 : INFO : worker thread finished; awaiting finish of 1 more threads\n",
      "2019-02-05 18:11:33,315 : INFO : worker thread finished; awaiting finish of 0 more threads\n",
      "2019-02-05 18:11:33,316 : INFO : EPOCH - 42 : training on 3030002 raw words (2090559 effective words) took 6.6s, 318460 effective words/s\n"
     ]
    },
    {
     "name": "stdout",
     "output_type": "stream",
     "text": [
      "unique_word2vec.txt\n"
     ]
    },
    {
     "name": "stderr",
     "output_type": "stream",
     "text": [
      "2019-02-05 18:11:34,332 : INFO : EPOCH 43 - PROGRESS: at 11.50% examples, 302989 words/s, in_qsize 0, out_qsize 0\n",
      "2019-02-05 18:11:35,361 : INFO : EPOCH 43 - PROGRESS: at 25.95% examples, 310158 words/s, in_qsize 0, out_qsize 0\n",
      "2019-02-05 18:11:36,369 : INFO : EPOCH 43 - PROGRESS: at 38.96% examples, 315889 words/s, in_qsize 0, out_qsize 0\n",
      "2019-02-05 18:11:37,383 : INFO : EPOCH 43 - PROGRESS: at 48.58% examples, 300206 words/s, in_qsize 0, out_qsize 0\n",
      "2019-02-05 18:11:38,386 : INFO : EPOCH 43 - PROGRESS: at 59.58% examples, 297660 words/s, in_qsize 0, out_qsize 0\n",
      "2019-02-05 18:11:39,395 : INFO : EPOCH 43 - PROGRESS: at 75.66% examples, 294409 words/s, in_qsize 0, out_qsize 0\n",
      "2019-02-05 18:11:40,354 : INFO : worker thread finished; awaiting finish of 2 more threads\n",
      "2019-02-05 18:11:40,361 : INFO : worker thread finished; awaiting finish of 1 more threads\n",
      "2019-02-05 18:11:40,366 : INFO : worker thread finished; awaiting finish of 0 more threads\n",
      "2019-02-05 18:11:40,366 : INFO : EPOCH - 43 : training on 3030002 raw words (2091274 effective words) took 7.0s, 296954 effective words/s\n"
     ]
    },
    {
     "name": "stdout",
     "output_type": "stream",
     "text": [
      "unique_word2vec.txt\n"
     ]
    },
    {
     "name": "stderr",
     "output_type": "stream",
     "text": [
      "2019-02-05 18:11:41,383 : INFO : EPOCH 44 - PROGRESS: at 11.99% examples, 314562 words/s, in_qsize 0, out_qsize 0\n",
      "2019-02-05 18:11:42,397 : INFO : EPOCH 44 - PROGRESS: at 27.14% examples, 327627 words/s, in_qsize 0, out_qsize 0\n",
      "2019-02-05 18:11:43,400 : INFO : EPOCH 44 - PROGRESS: at 38.96% examples, 316723 words/s, in_qsize 0, out_qsize 0\n",
      "2019-02-05 18:11:44,420 : INFO : EPOCH 44 - PROGRESS: at 51.37% examples, 319062 words/s, in_qsize 0, out_qsize 1\n",
      "2019-02-05 18:11:45,429 : INFO : EPOCH 44 - PROGRESS: at 64.81% examples, 324980 words/s, in_qsize 0, out_qsize 0\n",
      "2019-02-05 18:11:46,430 : INFO : EPOCH 44 - PROGRESS: at 88.28% examples, 318841 words/s, in_qsize 0, out_qsize 0\n",
      "2019-02-05 18:11:46,927 : INFO : worker thread finished; awaiting finish of 2 more threads\n",
      "2019-02-05 18:11:46,932 : INFO : worker thread finished; awaiting finish of 1 more threads\n",
      "2019-02-05 18:11:46,933 : INFO : worker thread finished; awaiting finish of 0 more threads\n",
      "2019-02-05 18:11:46,934 : INFO : EPOCH - 44 : training on 3030002 raw words (2091747 effective words) took 6.6s, 318566 effective words/s\n"
     ]
    },
    {
     "name": "stdout",
     "output_type": "stream",
     "text": [
      "unique_word2vec.txt\n"
     ]
    },
    {
     "name": "stderr",
     "output_type": "stream",
     "text": [
      "2019-02-05 18:11:47,949 : INFO : EPOCH 45 - PROGRESS: at 12.64% examples, 330523 words/s, in_qsize 0, out_qsize 0\n",
      "2019-02-05 18:11:48,983 : INFO : EPOCH 45 - PROGRESS: at 27.37% examples, 328887 words/s, in_qsize 0, out_qsize 0\n",
      "2019-02-05 18:11:50,018 : INFO : EPOCH 45 - PROGRESS: at 39.95% examples, 321349 words/s, in_qsize 0, out_qsize 1\n",
      "2019-02-05 18:11:51,027 : INFO : EPOCH 45 - PROGRESS: at 51.89% examples, 319191 words/s, in_qsize 0, out_qsize 0\n",
      "2019-02-05 18:11:52,033 : INFO : EPOCH 45 - PROGRESS: at 63.96% examples, 318682 words/s, in_qsize 0, out_qsize 0\n",
      "2019-02-05 18:11:53,039 : INFO : EPOCH 45 - PROGRESS: at 87.17% examples, 314540 words/s, in_qsize 0, out_qsize 0\n",
      "2019-02-05 18:11:53,600 : INFO : worker thread finished; awaiting finish of 2 more threads\n",
      "2019-02-05 18:11:53,606 : INFO : worker thread finished; awaiting finish of 1 more threads\n",
      "2019-02-05 18:11:53,607 : INFO : worker thread finished; awaiting finish of 0 more threads\n",
      "2019-02-05 18:11:53,608 : INFO : EPOCH - 45 : training on 3030002 raw words (2091502 effective words) took 6.7s, 313555 effective words/s\n"
     ]
    },
    {
     "name": "stdout",
     "output_type": "stream",
     "text": [
      "unique_word2vec.txt\n"
     ]
    },
    {
     "name": "stderr",
     "output_type": "stream",
     "text": [
      "2019-02-05 18:11:54,615 : INFO : EPOCH 46 - PROGRESS: at 11.50% examples, 303544 words/s, in_qsize 0, out_qsize 0\n",
      "2019-02-05 18:11:55,619 : INFO : EPOCH 46 - PROGRESS: at 25.72% examples, 310586 words/s, in_qsize 0, out_qsize 0\n",
      "2019-02-05 18:11:56,625 : INFO : EPOCH 46 - PROGRESS: at 38.20% examples, 311235 words/s, in_qsize 0, out_qsize 0\n",
      "2019-02-05 18:11:57,663 : INFO : EPOCH 46 - PROGRESS: at 50.12% examples, 310906 words/s, in_qsize 0, out_qsize 0\n",
      "2019-02-05 18:11:58,676 : INFO : EPOCH 46 - PROGRESS: at 61.37% examples, 306917 words/s, in_qsize 1, out_qsize 0\n",
      "2019-02-05 18:11:59,699 : INFO : EPOCH 46 - PROGRESS: at 80.83% examples, 303710 words/s, in_qsize 0, out_qsize 0\n",
      "2019-02-05 18:12:00,476 : INFO : worker thread finished; awaiting finish of 2 more threads\n",
      "2019-02-05 18:12:00,479 : INFO : worker thread finished; awaiting finish of 1 more threads\n",
      "2019-02-05 18:12:00,480 : INFO : worker thread finished; awaiting finish of 0 more threads\n",
      "2019-02-05 18:12:00,481 : INFO : EPOCH - 46 : training on 3030002 raw words (2090798 effective words) took 6.9s, 304295 effective words/s\n"
     ]
    },
    {
     "name": "stdout",
     "output_type": "stream",
     "text": [
      "unique_word2vec.txt\n"
     ]
    },
    {
     "name": "stderr",
     "output_type": "stream",
     "text": [
      "2019-02-05 18:12:01,509 : INFO : EPOCH 47 - PROGRESS: at 12.35% examples, 318425 words/s, in_qsize 0, out_qsize 0\n",
      "2019-02-05 18:12:02,528 : INFO : EPOCH 47 - PROGRESS: at 26.70% examples, 318210 words/s, in_qsize 0, out_qsize 0\n",
      "2019-02-05 18:12:03,532 : INFO : EPOCH 47 - PROGRESS: at 39.98% examples, 323711 words/s, in_qsize 0, out_qsize 0\n",
      "2019-02-05 18:12:04,550 : INFO : EPOCH 47 - PROGRESS: at 52.15% examples, 322501 words/s, in_qsize 0, out_qsize 0\n",
      "2019-02-05 18:12:05,570 : INFO : EPOCH 47 - PROGRESS: at 65.08% examples, 324897 words/s, in_qsize 0, out_qsize 0\n",
      "2019-02-05 18:12:06,574 : INFO : EPOCH 47 - PROGRESS: at 88.28% examples, 317377 words/s, in_qsize 0, out_qsize 0\n",
      "2019-02-05 18:12:07,110 : INFO : worker thread finished; awaiting finish of 2 more threads\n",
      "2019-02-05 18:12:07,118 : INFO : worker thread finished; awaiting finish of 1 more threads\n",
      "2019-02-05 18:12:07,119 : INFO : worker thread finished; awaiting finish of 0 more threads\n",
      "2019-02-05 18:12:07,120 : INFO : EPOCH - 47 : training on 3030002 raw words (2090679 effective words) took 6.6s, 314976 effective words/s\n"
     ]
    },
    {
     "name": "stdout",
     "output_type": "stream",
     "text": [
      "unique_word2vec.txt\n"
     ]
    },
    {
     "name": "stderr",
     "output_type": "stream",
     "text": [
      "2019-02-05 18:12:08,182 : INFO : EPOCH 48 - PROGRESS: at 12.35% examples, 310756 words/s, in_qsize 1, out_qsize 0\n",
      "2019-02-05 18:12:09,199 : INFO : EPOCH 48 - PROGRESS: at 27.83% examples, 330681 words/s, in_qsize 0, out_qsize 0\n",
      "2019-02-05 18:12:10,197 : INFO : EPOCH 48 - PROGRESS: at 41.47% examples, 334485 words/s, in_qsize 0, out_qsize 0\n",
      "2019-02-05 18:12:11,236 : INFO : EPOCH 48 - PROGRESS: at 54.43% examples, 333352 words/s, in_qsize 0, out_qsize 0\n",
      "2019-02-05 18:12:12,236 : INFO : EPOCH 48 - PROGRESS: at 64.28% examples, 318626 words/s, in_qsize 0, out_qsize 0\n",
      "2019-02-05 18:12:13,244 : INFO : EPOCH 48 - PROGRESS: at 87.13% examples, 313114 words/s, in_qsize 0, out_qsize 0\n",
      "2019-02-05 18:12:13,786 : INFO : worker thread finished; awaiting finish of 2 more threads\n",
      "2019-02-05 18:12:13,788 : INFO : worker thread finished; awaiting finish of 1 more threads\n",
      "2019-02-05 18:12:13,790 : INFO : worker thread finished; awaiting finish of 0 more threads\n",
      "2019-02-05 18:12:13,792 : INFO : EPOCH - 48 : training on 3030002 raw words (2090776 effective words) took 6.7s, 313430 effective words/s\n"
     ]
    },
    {
     "name": "stdout",
     "output_type": "stream",
     "text": [
      "unique_word2vec.txt\n"
     ]
    },
    {
     "name": "stderr",
     "output_type": "stream",
     "text": [
      "2019-02-05 18:12:14,815 : INFO : EPOCH 49 - PROGRESS: at 12.28% examples, 319392 words/s, in_qsize 1, out_qsize 0\n",
      "2019-02-05 18:12:15,818 : INFO : EPOCH 49 - PROGRESS: at 27.14% examples, 328296 words/s, in_qsize 0, out_qsize 0\n",
      "2019-02-05 18:12:16,827 : INFO : EPOCH 49 - PROGRESS: at 39.23% examples, 318738 words/s, in_qsize 0, out_qsize 0\n",
      "2019-02-05 18:12:17,850 : INFO : EPOCH 49 - PROGRESS: at 50.87% examples, 315315 words/s, in_qsize 0, out_qsize 0\n",
      "2019-02-05 18:12:18,856 : INFO : EPOCH 49 - PROGRESS: at 63.22% examples, 316528 words/s, in_qsize 0, out_qsize 0\n",
      "2019-02-05 18:12:19,864 : INFO : EPOCH 49 - PROGRESS: at 85.42% examples, 312491 words/s, in_qsize 1, out_qsize 0\n",
      "2019-02-05 18:12:20,458 : INFO : worker thread finished; awaiting finish of 2 more threads\n",
      "2019-02-05 18:12:20,464 : INFO : worker thread finished; awaiting finish of 1 more threads\n",
      "2019-02-05 18:12:20,465 : INFO : worker thread finished; awaiting finish of 0 more threads\n",
      "2019-02-05 18:12:20,466 : INFO : EPOCH - 49 : training on 3030002 raw words (2091168 effective words) took 6.7s, 313399 effective words/s\n"
     ]
    },
    {
     "name": "stdout",
     "output_type": "stream",
     "text": [
      "unique_word2vec.txt\n"
     ]
    },
    {
     "name": "stderr",
     "output_type": "stream",
     "text": [
      "2019-02-05 18:12:21,489 : INFO : EPOCH 50 - PROGRESS: at 11.76% examples, 305232 words/s, in_qsize 0, out_qsize 0\n",
      "2019-02-05 18:12:22,512 : INFO : EPOCH 50 - PROGRESS: at 26.93% examples, 321531 words/s, in_qsize 0, out_qsize 0\n",
      "2019-02-05 18:12:23,534 : INFO : EPOCH 50 - PROGRESS: at 40.41% examples, 326601 words/s, in_qsize 0, out_qsize 0\n",
      "2019-02-05 18:12:24,547 : INFO : EPOCH 50 - PROGRESS: at 53.17% examples, 328292 words/s, in_qsize 0, out_qsize 0\n",
      "2019-02-05 18:12:25,562 : INFO : EPOCH 50 - PROGRESS: at 65.62% examples, 326861 words/s, in_qsize 0, out_qsize 0\n",
      "2019-02-05 18:12:26,569 : INFO : EPOCH 50 - PROGRESS: at 90.58% examples, 321558 words/s, in_qsize 0, out_qsize 0\n",
      "2019-02-05 18:12:26,926 : INFO : worker thread finished; awaiting finish of 2 more threads\n",
      "2019-02-05 18:12:26,931 : INFO : worker thread finished; awaiting finish of 1 more threads\n",
      "2019-02-05 18:12:26,932 : INFO : worker thread finished; awaiting finish of 0 more threads\n",
      "2019-02-05 18:12:26,932 : INFO : EPOCH - 50 : training on 3030002 raw words (2091212 effective words) took 6.5s, 323505 effective words/s\n"
     ]
    },
    {
     "name": "stdout",
     "output_type": "stream",
     "text": [
      "unique_word2vec.txt\n"
     ]
    },
    {
     "name": "stderr",
     "output_type": "stream",
     "text": [
      "2019-02-05 18:12:27,940 : INFO : EPOCH 51 - PROGRESS: at 12.64% examples, 331415 words/s, in_qsize 0, out_qsize 0\n",
      "2019-02-05 18:12:28,956 : INFO : EPOCH 51 - PROGRESS: at 27.60% examples, 335183 words/s, in_qsize 0, out_qsize 0\n",
      "2019-02-05 18:12:29,970 : INFO : EPOCH 51 - PROGRESS: at 39.98% examples, 325557 words/s, in_qsize 0, out_qsize 0\n",
      "2019-02-05 18:12:30,990 : INFO : EPOCH 51 - PROGRESS: at 51.63% examples, 320360 words/s, in_qsize 0, out_qsize 0\n",
      "2019-02-05 18:12:31,995 : INFO : EPOCH 51 - PROGRESS: at 64.28% examples, 322454 words/s, in_qsize 0, out_qsize 0\n",
      "2019-02-05 18:12:33,013 : INFO : EPOCH 51 - PROGRESS: at 87.13% examples, 315626 words/s, in_qsize 1, out_qsize 0\n",
      "2019-02-05 18:12:33,546 : INFO : worker thread finished; awaiting finish of 2 more threads\n",
      "2019-02-05 18:12:33,550 : INFO : worker thread finished; awaiting finish of 1 more threads\n",
      "2019-02-05 18:12:33,553 : INFO : worker thread finished; awaiting finish of 0 more threads\n",
      "2019-02-05 18:12:33,553 : INFO : EPOCH - 51 : training on 3030002 raw words (2091952 effective words) took 6.6s, 316017 effective words/s\n"
     ]
    },
    {
     "name": "stdout",
     "output_type": "stream",
     "text": [
      "unique_word2vec.txt\n"
     ]
    },
    {
     "name": "stderr",
     "output_type": "stream",
     "text": [
      "2019-02-05 18:12:34,608 : INFO : EPOCH 52 - PROGRESS: at 11.25% examples, 283241 words/s, in_qsize 0, out_qsize 1\n",
      "2019-02-05 18:12:35,628 : INFO : EPOCH 52 - PROGRESS: at 24.67% examples, 288161 words/s, in_qsize 0, out_qsize 0\n",
      "2019-02-05 18:12:36,632 : INFO : EPOCH 52 - PROGRESS: at 36.26% examples, 289223 words/s, in_qsize 0, out_qsize 0\n",
      "2019-02-05 18:12:37,654 : INFO : EPOCH 52 - PROGRESS: at 49.35% examples, 302426 words/s, in_qsize 0, out_qsize 0\n",
      "2019-02-05 18:12:38,663 : INFO : EPOCH 52 - PROGRESS: at 62.70% examples, 311162 words/s, in_qsize 0, out_qsize 0\n",
      "2019-02-05 18:12:39,668 : INFO : EPOCH 52 - PROGRESS: at 85.99% examples, 311531 words/s, in_qsize 0, out_qsize 0\n",
      "2019-02-05 18:12:40,208 : INFO : worker thread finished; awaiting finish of 2 more threads\n",
      "2019-02-05 18:12:40,214 : INFO : worker thread finished; awaiting finish of 1 more threads\n",
      "2019-02-05 18:12:40,217 : INFO : worker thread finished; awaiting finish of 0 more threads\n",
      "2019-02-05 18:12:40,218 : INFO : EPOCH - 52 : training on 3030002 raw words (2091341 effective words) took 6.7s, 313989 effective words/s\n"
     ]
    },
    {
     "name": "stdout",
     "output_type": "stream",
     "text": [
      "unique_word2vec.txt\n"
     ]
    },
    {
     "name": "stderr",
     "output_type": "stream",
     "text": [
      "2019-02-05 18:12:41,220 : INFO : EPOCH 53 - PROGRESS: at 11.50% examples, 304494 words/s, in_qsize 0, out_qsize 0\n",
      "2019-02-05 18:12:42,246 : INFO : EPOCH 53 - PROGRESS: at 26.70% examples, 320868 words/s, in_qsize 0, out_qsize 0\n",
      "2019-02-05 18:12:43,292 : INFO : EPOCH 53 - PROGRESS: at 40.41% examples, 327125 words/s, in_qsize 1, out_qsize 0\n",
      "2019-02-05 18:12:44,293 : INFO : EPOCH 53 - PROGRESS: at 52.42% examples, 323521 words/s, in_qsize 0, out_qsize 0\n",
      "2019-02-05 18:12:45,321 : INFO : EPOCH 53 - PROGRESS: at 60.59% examples, 300337 words/s, in_qsize 0, out_qsize 0\n",
      "2019-02-05 18:12:46,364 : INFO : EPOCH 53 - PROGRESS: at 79.13% examples, 297060 words/s, in_qsize 0, out_qsize 0\n",
      "2019-02-05 18:12:47,147 : INFO : worker thread finished; awaiting finish of 2 more threads\n",
      "2019-02-05 18:12:47,154 : INFO : worker thread finished; awaiting finish of 1 more threads\n",
      "2019-02-05 18:12:47,155 : INFO : worker thread finished; awaiting finish of 0 more threads\n",
      "2019-02-05 18:12:47,156 : INFO : EPOCH - 53 : training on 3030002 raw words (2090813 effective words) took 6.9s, 301426 effective words/s\n"
     ]
    },
    {
     "name": "stdout",
     "output_type": "stream",
     "text": [
      "unique_word2vec.txt\n"
     ]
    },
    {
     "name": "stderr",
     "output_type": "stream",
     "text": [
      "2019-02-05 18:12:48,197 : INFO : EPOCH 54 - PROGRESS: at 12.87% examples, 327427 words/s, in_qsize 0, out_qsize 0\n",
      "2019-02-05 18:12:49,223 : INFO : EPOCH 54 - PROGRESS: at 28.06% examples, 336051 words/s, in_qsize 0, out_qsize 0\n",
      "2019-02-05 18:12:50,228 : INFO : EPOCH 54 - PROGRESS: at 41.47% examples, 335033 words/s, in_qsize 0, out_qsize 0\n",
      "2019-02-05 18:12:51,251 : INFO : EPOCH 54 - PROGRESS: at 53.67% examples, 330520 words/s, in_qsize 0, out_qsize 0\n",
      "2019-02-05 18:12:52,254 : INFO : EPOCH 54 - PROGRESS: at 66.18% examples, 329846 words/s, in_qsize 0, out_qsize 1\n",
      "2019-02-05 18:12:53,255 : INFO : EPOCH 54 - PROGRESS: at 89.93% examples, 320467 words/s, in_qsize 0, out_qsize 0\n",
      "2019-02-05 18:12:53,746 : INFO : worker thread finished; awaiting finish of 2 more threads\n",
      "2019-02-05 18:12:53,748 : INFO : worker thread finished; awaiting finish of 1 more threads\n",
      "2019-02-05 18:12:53,752 : INFO : worker thread finished; awaiting finish of 0 more threads\n",
      "2019-02-05 18:12:53,752 : INFO : EPOCH - 54 : training on 3030002 raw words (2092273 effective words) took 6.6s, 317226 effective words/s\n"
     ]
    },
    {
     "name": "stdout",
     "output_type": "stream",
     "text": [
      "unique_word2vec.txt\n"
     ]
    },
    {
     "name": "stderr",
     "output_type": "stream",
     "text": [
      "2019-02-05 18:12:54,759 : INFO : EPOCH 55 - PROGRESS: at 12.64% examples, 331484 words/s, in_qsize 0, out_qsize 0\n",
      "2019-02-05 18:12:55,765 : INFO : EPOCH 55 - PROGRESS: at 26.93% examples, 327284 words/s, in_qsize 0, out_qsize 0\n",
      "2019-02-05 18:12:56,782 : INFO : EPOCH 55 - PROGRESS: at 38.73% examples, 314452 words/s, in_qsize 0, out_qsize 0\n",
      "2019-02-05 18:12:57,797 : INFO : EPOCH 55 - PROGRESS: at 50.62% examples, 314361 words/s, in_qsize 0, out_qsize 0\n",
      "2019-02-05 18:12:58,812 : INFO : EPOCH 55 - PROGRESS: at 62.70% examples, 314131 words/s, in_qsize 0, out_qsize 0\n",
      "2019-02-05 18:12:59,828 : INFO : EPOCH 55 - PROGRESS: at 82.56% examples, 307213 words/s, in_qsize 0, out_qsize 0\n",
      "2019-02-05 18:13:00,742 : INFO : worker thread finished; awaiting finish of 2 more threads\n",
      "2019-02-05 18:13:00,746 : INFO : worker thread finished; awaiting finish of 1 more threads\n",
      "2019-02-05 18:13:00,747 : INFO : worker thread finished; awaiting finish of 0 more threads\n",
      "2019-02-05 18:13:00,748 : INFO : EPOCH - 55 : training on 3030002 raw words (2090659 effective words) took 7.0s, 298923 effective words/s\n"
     ]
    },
    {
     "name": "stdout",
     "output_type": "stream",
     "text": [
      "unique_word2vec.txt\n"
     ]
    },
    {
     "name": "stderr",
     "output_type": "stream",
     "text": [
      "2019-02-05 18:13:01,779 : INFO : EPOCH 56 - PROGRESS: at 12.35% examples, 316621 words/s, in_qsize 0, out_qsize 0\n",
      "2019-02-05 18:13:02,800 : INFO : EPOCH 56 - PROGRESS: at 26.93% examples, 320789 words/s, in_qsize 0, out_qsize 0\n",
      "2019-02-05 18:13:03,805 : INFO : EPOCH 56 - PROGRESS: at 38.73% examples, 311779 words/s, in_qsize 0, out_qsize 0\n",
      "2019-02-05 18:13:04,813 : INFO : EPOCH 56 - PROGRESS: at 50.12% examples, 309687 words/s, in_qsize 0, out_qsize 0\n",
      "2019-02-05 18:13:05,856 : INFO : EPOCH 56 - PROGRESS: at 63.45% examples, 315482 words/s, in_qsize 0, out_qsize 0\n",
      "2019-02-05 18:13:06,874 : INFO : EPOCH 56 - PROGRESS: at 85.42% examples, 310225 words/s, in_qsize 1, out_qsize 0\n",
      "2019-02-05 18:13:07,495 : INFO : worker thread finished; awaiting finish of 2 more threads\n",
      "2019-02-05 18:13:07,500 : INFO : worker thread finished; awaiting finish of 1 more threads\n",
      "2019-02-05 18:13:07,504 : INFO : worker thread finished; awaiting finish of 0 more threads\n",
      "2019-02-05 18:13:07,505 : INFO : EPOCH - 56 : training on 3030002 raw words (2091935 effective words) took 6.8s, 309710 effective words/s\n"
     ]
    },
    {
     "name": "stdout",
     "output_type": "stream",
     "text": [
      "unique_word2vec.txt\n"
     ]
    },
    {
     "name": "stderr",
     "output_type": "stream",
     "text": [
      "2019-02-05 18:13:08,528 : INFO : EPOCH 57 - PROGRESS: at 11.99% examples, 312280 words/s, in_qsize 0, out_qsize 0\n",
      "2019-02-05 18:13:09,536 : INFO : EPOCH 57 - PROGRESS: at 26.70% examples, 320633 words/s, in_qsize 1, out_qsize 1\n",
      "2019-02-05 18:13:10,554 : INFO : EPOCH 57 - PROGRESS: at 40.41% examples, 328965 words/s, in_qsize 0, out_qsize 0\n",
      "2019-02-05 18:13:11,553 : INFO : EPOCH 57 - PROGRESS: at 53.42% examples, 332417 words/s, in_qsize 0, out_qsize 0\n",
      "2019-02-05 18:13:12,573 : INFO : EPOCH 57 - PROGRESS: at 66.53% examples, 332652 words/s, in_qsize 0, out_qsize 0\n",
      "2019-02-05 18:13:13,597 : INFO : EPOCH 57 - PROGRESS: at 92.46% examples, 325460 words/s, in_qsize 0, out_qsize 0\n",
      "2019-02-05 18:13:13,913 : INFO : worker thread finished; awaiting finish of 2 more threads\n",
      "2019-02-05 18:13:13,920 : INFO : worker thread finished; awaiting finish of 1 more threads\n",
      "2019-02-05 18:13:13,921 : INFO : worker thread finished; awaiting finish of 0 more threads\n",
      "2019-02-05 18:13:13,922 : INFO : EPOCH - 57 : training on 3030002 raw words (2091145 effective words) took 6.4s, 325945 effective words/s\n"
     ]
    },
    {
     "name": "stdout",
     "output_type": "stream",
     "text": [
      "unique_word2vec.txt\n"
     ]
    },
    {
     "name": "stderr",
     "output_type": "stream",
     "text": [
      "2019-02-05 18:13:14,938 : INFO : EPOCH 58 - PROGRESS: at 12.87% examples, 336496 words/s, in_qsize 0, out_qsize 0\n",
      "2019-02-05 18:13:15,941 : INFO : EPOCH 58 - PROGRESS: at 27.83% examples, 339641 words/s, in_qsize 0, out_qsize 0\n",
      "2019-02-05 18:13:16,944 : INFO : EPOCH 58 - PROGRESS: at 41.01% examples, 336216 words/s, in_qsize 0, out_qsize 0\n",
      "2019-02-05 18:13:17,993 : INFO : EPOCH 58 - PROGRESS: at 53.67% examples, 333156 words/s, in_qsize 0, out_qsize 0\n",
      "2019-02-05 18:13:18,990 : INFO : EPOCH 58 - PROGRESS: at 66.53% examples, 333065 words/s, in_qsize 0, out_qsize 0\n",
      "2019-02-05 18:13:20,016 : INFO : EPOCH 58 - PROGRESS: at 93.02% examples, 326724 words/s, in_qsize 0, out_qsize 0\n",
      "2019-02-05 18:13:20,271 : INFO : worker thread finished; awaiting finish of 2 more threads\n",
      "2019-02-05 18:13:20,278 : INFO : worker thread finished; awaiting finish of 1 more threads\n",
      "2019-02-05 18:13:20,281 : INFO : worker thread finished; awaiting finish of 0 more threads\n",
      "2019-02-05 18:13:20,282 : INFO : EPOCH - 58 : training on 3030002 raw words (2091266 effective words) took 6.4s, 329014 effective words/s\n"
     ]
    },
    {
     "name": "stdout",
     "output_type": "stream",
     "text": [
      "unique_word2vec.txt\n"
     ]
    },
    {
     "name": "stderr",
     "output_type": "stream",
     "text": [
      "2019-02-05 18:13:21,287 : INFO : EPOCH 59 - PROGRESS: at 12.35% examples, 324853 words/s, in_qsize 0, out_qsize 0\n",
      "2019-02-05 18:13:22,299 : INFO : EPOCH 59 - PROGRESS: at 27.60% examples, 335994 words/s, in_qsize 0, out_qsize 0\n",
      "2019-02-05 18:13:23,321 : INFO : EPOCH 59 - PROGRESS: at 39.23% examples, 318769 words/s, in_qsize 0, out_qsize 0\n",
      "2019-02-05 18:13:24,328 : INFO : EPOCH 59 - PROGRESS: at 48.84% examples, 302740 words/s, in_qsize 0, out_qsize 0\n",
      "2019-02-05 18:13:25,334 : INFO : EPOCH 59 - PROGRESS: at 61.64% examples, 309225 words/s, in_qsize 0, out_qsize 0\n",
      "2019-02-05 18:13:26,370 : INFO : EPOCH 59 - PROGRESS: at 82.00% examples, 305692 words/s, in_qsize 0, out_qsize 0\n",
      "2019-02-05 18:13:27,053 : INFO : worker thread finished; awaiting finish of 2 more threads\n",
      "2019-02-05 18:13:27,060 : INFO : worker thread finished; awaiting finish of 1 more threads\n",
      "2019-02-05 18:13:27,061 : INFO : worker thread finished; awaiting finish of 0 more threads\n",
      "2019-02-05 18:13:27,061 : INFO : EPOCH - 59 : training on 3030002 raw words (2091444 effective words) took 6.8s, 308548 effective words/s\n"
     ]
    },
    {
     "name": "stdout",
     "output_type": "stream",
     "text": [
      "unique_word2vec.txt\n"
     ]
    },
    {
     "name": "stderr",
     "output_type": "stream",
     "text": [
      "2019-02-05 18:13:28,076 : INFO : EPOCH 60 - PROGRESS: at 12.87% examples, 336242 words/s, in_qsize 0, out_qsize 0\n",
      "2019-02-05 18:13:29,080 : INFO : EPOCH 60 - PROGRESS: at 27.83% examples, 339589 words/s, in_qsize 0, out_qsize 0\n",
      "2019-02-05 18:13:30,093 : INFO : EPOCH 60 - PROGRESS: at 41.47% examples, 340010 words/s, in_qsize 0, out_qsize 0\n",
      "2019-02-05 18:13:31,094 : INFO : EPOCH 60 - PROGRESS: at 54.70% examples, 342368 words/s, in_qsize 0, out_qsize 0\n",
      "2019-02-05 18:13:32,109 : INFO : EPOCH 60 - PROGRESS: at 68.96% examples, 339894 words/s, in_qsize 0, out_qsize 0\n",
      "2019-02-05 18:13:33,135 : INFO : EPOCH 60 - PROGRESS: at 94.72% examples, 332610 words/s, in_qsize 0, out_qsize 0\n",
      "2019-02-05 18:13:33,345 : INFO : worker thread finished; awaiting finish of 2 more threads\n",
      "2019-02-05 18:13:33,356 : INFO : worker thread finished; awaiting finish of 1 more threads\n",
      "2019-02-05 18:13:33,357 : INFO : worker thread finished; awaiting finish of 0 more threads\n",
      "2019-02-05 18:13:33,357 : INFO : EPOCH - 60 : training on 3030002 raw words (2091833 effective words) took 6.3s, 332431 effective words/s\n"
     ]
    },
    {
     "name": "stdout",
     "output_type": "stream",
     "text": [
      "unique_word2vec.txt\n"
     ]
    },
    {
     "name": "stderr",
     "output_type": "stream",
     "text": [
      "2019-02-05 18:13:34,371 : INFO : EPOCH 61 - PROGRESS: at 11.99% examples, 316544 words/s, in_qsize 0, out_qsize 0\n",
      "2019-02-05 18:13:35,384 : INFO : EPOCH 61 - PROGRESS: at 24.67% examples, 295428 words/s, in_qsize 0, out_qsize 0\n",
      "2019-02-05 18:13:36,397 : INFO : EPOCH 61 - PROGRESS: at 36.53% examples, 295710 words/s, in_qsize 0, out_qsize 0\n",
      "2019-02-05 18:13:37,399 : INFO : EPOCH 61 - PROGRESS: at 49.35% examples, 306768 words/s, in_qsize 0, out_qsize 0\n",
      "2019-02-05 18:13:38,406 : INFO : EPOCH 61 - PROGRESS: at 62.18% examples, 312274 words/s, in_qsize 1, out_qsize 0\n",
      "2019-02-05 18:13:39,417 : INFO : EPOCH 61 - PROGRESS: at 84.35% examples, 311358 words/s, in_qsize 0, out_qsize 0\n",
      "2019-02-05 18:13:40,040 : INFO : worker thread finished; awaiting finish of 2 more threads\n",
      "2019-02-05 18:13:40,047 : INFO : worker thread finished; awaiting finish of 1 more threads\n",
      "2019-02-05 18:13:40,051 : INFO : worker thread finished; awaiting finish of 0 more threads\n",
      "2019-02-05 18:13:40,051 : INFO : EPOCH - 61 : training on 3030002 raw words (2091805 effective words) took 6.7s, 312691 effective words/s\n"
     ]
    },
    {
     "name": "stdout",
     "output_type": "stream",
     "text": [
      "unique_word2vec.txt\n"
     ]
    },
    {
     "name": "stderr",
     "output_type": "stream",
     "text": [
      "2019-02-05 18:13:41,068 : INFO : EPOCH 62 - PROGRESS: at 12.87% examples, 336628 words/s, in_qsize 0, out_qsize 0\n",
      "2019-02-05 18:13:42,096 : INFO : EPOCH 62 - PROGRESS: at 27.83% examples, 335197 words/s, in_qsize 0, out_qsize 0\n",
      "2019-02-05 18:13:43,106 : INFO : EPOCH 62 - PROGRESS: at 41.23% examples, 334966 words/s, in_qsize 0, out_qsize 0\n",
      "2019-02-05 18:13:44,117 : INFO : EPOCH 62 - PROGRESS: at 53.67% examples, 332871 words/s, in_qsize 0, out_qsize 0\n",
      "2019-02-05 18:13:45,133 : INFO : EPOCH 62 - PROGRESS: at 67.15% examples, 333402 words/s, in_qsize 0, out_qsize 0\n",
      "2019-02-05 18:13:46,160 : INFO : EPOCH 62 - PROGRESS: at 93.86% examples, 328352 words/s, in_qsize 0, out_qsize 0\n",
      "2019-02-05 18:13:46,406 : INFO : worker thread finished; awaiting finish of 2 more threads\n",
      "2019-02-05 18:13:46,413 : INFO : worker thread finished; awaiting finish of 1 more threads\n",
      "2019-02-05 18:13:46,417 : INFO : worker thread finished; awaiting finish of 0 more threads\n",
      "2019-02-05 18:13:46,420 : INFO : EPOCH - 62 : training on 3030002 raw words (2091456 effective words) took 6.4s, 328578 effective words/s\n"
     ]
    },
    {
     "name": "stdout",
     "output_type": "stream",
     "text": [
      "unique_word2vec.txt\n"
     ]
    },
    {
     "name": "stderr",
     "output_type": "stream",
     "text": [
      "2019-02-05 18:13:47,424 : INFO : EPOCH 63 - PROGRESS: at 11.99% examples, 318806 words/s, in_qsize 0, out_qsize 0\n",
      "2019-02-05 18:13:48,436 : INFO : EPOCH 63 - PROGRESS: at 27.37% examples, 334176 words/s, in_qsize 1, out_qsize 0\n",
      "2019-02-05 18:13:49,429 : INFO : EPOCH 63 - PROGRESS: at 40.18% examples, 330695 words/s, in_qsize 0, out_qsize 0\n",
      "2019-02-05 18:13:50,454 : INFO : EPOCH 63 - PROGRESS: at 52.15% examples, 325564 words/s, in_qsize 0, out_qsize 0\n",
      "2019-02-05 18:13:51,459 : INFO : EPOCH 63 - PROGRESS: at 65.08% examples, 328137 words/s, in_qsize 0, out_qsize 0\n",
      "2019-02-05 18:13:52,468 : INFO : EPOCH 63 - PROGRESS: at 87.78% examples, 318376 words/s, in_qsize 2, out_qsize 0\n",
      "2019-02-05 18:13:52,955 : INFO : worker thread finished; awaiting finish of 2 more threads\n",
      "2019-02-05 18:13:52,956 : INFO : worker thread finished; awaiting finish of 1 more threads\n",
      "2019-02-05 18:13:52,964 : INFO : worker thread finished; awaiting finish of 0 more threads\n",
      "2019-02-05 18:13:52,965 : INFO : EPOCH - 63 : training on 3030002 raw words (2091100 effective words) took 6.5s, 319597 effective words/s\n"
     ]
    },
    {
     "name": "stdout",
     "output_type": "stream",
     "text": [
      "unique_word2vec.txt\n"
     ]
    },
    {
     "name": "stderr",
     "output_type": "stream",
     "text": [
      "2019-02-05 18:13:53,994 : INFO : EPOCH 64 - PROGRESS: at 9.80% examples, 256991 words/s, in_qsize 0, out_qsize 0\n",
      "2019-02-05 18:13:55,003 : INFO : EPOCH 64 - PROGRESS: at 24.67% examples, 294295 words/s, in_qsize 0, out_qsize 0\n",
      "2019-02-05 18:13:56,028 : INFO : EPOCH 64 - PROGRESS: at 37.87% examples, 304831 words/s, in_qsize 0, out_qsize 0\n",
      "2019-02-05 18:13:57,037 : INFO : EPOCH 64 - PROGRESS: at 49.85% examples, 307911 words/s, in_qsize 0, out_qsize 0\n",
      "2019-02-05 18:13:58,063 : INFO : EPOCH 64 - PROGRESS: at 60.83% examples, 302546 words/s, in_qsize 0, out_qsize 0\n",
      "2019-02-05 18:13:59,100 : INFO : EPOCH 64 - PROGRESS: at 77.95% examples, 295609 words/s, in_qsize 0, out_qsize 0\n",
      "2019-02-05 18:14:00,049 : INFO : worker thread finished; awaiting finish of 2 more threads\n",
      "2019-02-05 18:14:00,059 : INFO : worker thread finished; awaiting finish of 1 more threads\n",
      "2019-02-05 18:14:00,060 : INFO : worker thread finished; awaiting finish of 0 more threads\n",
      "2019-02-05 18:14:00,060 : INFO : EPOCH - 64 : training on 3030002 raw words (2091826 effective words) took 7.1s, 295095 effective words/s\n"
     ]
    },
    {
     "name": "stdout",
     "output_type": "stream",
     "text": [
      "unique_word2vec.txt\n"
     ]
    },
    {
     "name": "stderr",
     "output_type": "stream",
     "text": [
      "2019-02-05 18:14:01,077 : INFO : EPOCH 65 - PROGRESS: at 10.69% examples, 279810 words/s, in_qsize 0, out_qsize 0\n",
      "2019-02-05 18:14:02,103 : INFO : EPOCH 65 - PROGRESS: at 25.20% examples, 299315 words/s, in_qsize 0, out_qsize 0\n",
      "2019-02-05 18:14:03,121 : INFO : EPOCH 65 - PROGRESS: at 36.79% examples, 295532 words/s, in_qsize 1, out_qsize 0\n",
      "2019-02-05 18:14:04,151 : INFO : EPOCH 65 - PROGRESS: at 48.05% examples, 294344 words/s, in_qsize 0, out_qsize 0\n",
      "2019-02-05 18:14:05,188 : INFO : EPOCH 65 - PROGRESS: at 59.83% examples, 295286 words/s, in_qsize 0, out_qsize 0\n",
      "2019-02-05 18:14:06,197 : INFO : EPOCH 65 - PROGRESS: at 77.34% examples, 294094 words/s, in_qsize 0, out_qsize 0\n",
      "2019-02-05 18:14:07,180 : INFO : worker thread finished; awaiting finish of 2 more threads\n",
      "2019-02-05 18:14:07,189 : INFO : worker thread finished; awaiting finish of 1 more threads\n",
      "2019-02-05 18:14:07,191 : INFO : worker thread finished; awaiting finish of 0 more threads\n",
      "2019-02-05 18:14:07,192 : INFO : EPOCH - 65 : training on 3030002 raw words (2091432 effective words) took 7.1s, 293304 effective words/s\n"
     ]
    },
    {
     "name": "stdout",
     "output_type": "stream",
     "text": [
      "unique_word2vec.txt\n"
     ]
    },
    {
     "name": "stderr",
     "output_type": "stream",
     "text": [
      "2019-02-05 18:14:08,204 : INFO : EPOCH 66 - PROGRESS: at 11.50% examples, 301768 words/s, in_qsize 0, out_qsize 0\n",
      "2019-02-05 18:14:09,217 : INFO : EPOCH 66 - PROGRESS: at 25.47% examples, 304869 words/s, in_qsize 0, out_qsize 0\n",
      "2019-02-05 18:14:10,228 : INFO : EPOCH 66 - PROGRESS: at 37.33% examples, 302589 words/s, in_qsize 0, out_qsize 0\n",
      "2019-02-05 18:14:11,227 : INFO : EPOCH 66 - PROGRESS: at 50.12% examples, 311942 words/s, in_qsize 0, out_qsize 0\n",
      "2019-02-05 18:14:12,227 : INFO : EPOCH 66 - PROGRESS: at 62.45% examples, 314203 words/s, in_qsize 0, out_qsize 1\n",
      "2019-02-05 18:14:13,251 : INFO : EPOCH 66 - PROGRESS: at 83.77% examples, 310155 words/s, in_qsize 0, out_qsize 0\n",
      "2019-02-05 18:14:13,894 : INFO : worker thread finished; awaiting finish of 2 more threads\n",
      "2019-02-05 18:14:13,899 : INFO : worker thread finished; awaiting finish of 1 more threads\n",
      "2019-02-05 18:14:13,901 : INFO : worker thread finished; awaiting finish of 0 more threads\n",
      "2019-02-05 18:14:13,901 : INFO : EPOCH - 66 : training on 3030002 raw words (2091093 effective words) took 6.7s, 311742 effective words/s\n"
     ]
    },
    {
     "name": "stdout",
     "output_type": "stream",
     "text": [
      "unique_word2vec.txt\n"
     ]
    },
    {
     "name": "stderr",
     "output_type": "stream",
     "text": [
      "2019-02-05 18:14:14,911 : INFO : EPOCH 67 - PROGRESS: at 12.64% examples, 330629 words/s, in_qsize 1, out_qsize 0\n",
      "2019-02-05 18:14:15,925 : INFO : EPOCH 67 - PROGRESS: at 27.14% examples, 328915 words/s, in_qsize 0, out_qsize 1\n",
      "2019-02-05 18:14:16,934 : INFO : EPOCH 67 - PROGRESS: at 39.23% examples, 318738 words/s, in_qsize 0, out_qsize 0\n",
      "2019-02-05 18:14:17,953 : INFO : EPOCH 67 - PROGRESS: at 49.85% examples, 309149 words/s, in_qsize 0, out_qsize 0\n",
      "2019-02-05 18:14:18,985 : INFO : EPOCH 67 - PROGRESS: at 60.59% examples, 301573 words/s, in_qsize 0, out_qsize 0\n",
      "2019-02-05 18:14:19,992 : INFO : EPOCH 67 - PROGRESS: at 73.20% examples, 289281 words/s, in_qsize 0, out_qsize 0\n",
      "2019-02-05 18:14:21,013 : INFO : EPOCH 67 - PROGRESS: at 89.31% examples, 273752 words/s, in_qsize 0, out_qsize 0\n",
      "2019-02-05 18:14:21,775 : INFO : worker thread finished; awaiting finish of 2 more threads\n",
      "2019-02-05 18:14:21,777 : INFO : worker thread finished; awaiting finish of 1 more threads\n",
      "2019-02-05 18:14:21,779 : INFO : worker thread finished; awaiting finish of 0 more threads\n",
      "2019-02-05 18:14:21,780 : INFO : EPOCH - 67 : training on 3030002 raw words (2091484 effective words) took 7.9s, 265484 effective words/s\n"
     ]
    },
    {
     "name": "stdout",
     "output_type": "stream",
     "text": [
      "unique_word2vec.txt\n"
     ]
    },
    {
     "name": "stderr",
     "output_type": "stream",
     "text": [
      "2019-02-05 18:14:22,818 : INFO : EPOCH 68 - PROGRESS: at 6.44% examples, 168618 words/s, in_qsize 0, out_qsize 0\n",
      "2019-02-05 18:14:23,833 : INFO : EPOCH 68 - PROGRESS: at 14.01% examples, 180137 words/s, in_qsize 0, out_qsize 0\n",
      "2019-02-05 18:14:24,839 : INFO : EPOCH 68 - PROGRESS: at 26.70% examples, 213291 words/s, in_qsize 0, out_qsize 0\n",
      "2019-02-05 18:14:25,856 : INFO : EPOCH 68 - PROGRESS: at 39.23% examples, 237663 words/s, in_qsize 0, out_qsize 0\n",
      "2019-02-05 18:14:26,886 : INFO : EPOCH 68 - PROGRESS: at 51.89% examples, 256163 words/s, in_qsize 0, out_qsize 0\n",
      "2019-02-05 18:14:27,900 : INFO : EPOCH 68 - PROGRESS: at 63.45% examples, 263652 words/s, in_qsize 0, out_qsize 0\n",
      "2019-02-05 18:14:28,916 : INFO : EPOCH 68 - PROGRESS: at 85.42% examples, 266212 words/s, in_qsize 0, out_qsize 0\n",
      "2019-02-05 18:14:29,598 : INFO : worker thread finished; awaiting finish of 2 more threads\n",
      "2019-02-05 18:14:29,604 : INFO : worker thread finished; awaiting finish of 1 more threads\n",
      "2019-02-05 18:14:29,607 : INFO : worker thread finished; awaiting finish of 0 more threads\n",
      "2019-02-05 18:14:29,608 : INFO : EPOCH - 68 : training on 3030002 raw words (2091401 effective words) took 7.8s, 267457 effective words/s\n"
     ]
    },
    {
     "name": "stdout",
     "output_type": "stream",
     "text": [
      "unique_word2vec.txt\n"
     ]
    },
    {
     "name": "stderr",
     "output_type": "stream",
     "text": [
      "2019-02-05 18:14:30,624 : INFO : EPOCH 69 - PROGRESS: at 11.50% examples, 301545 words/s, in_qsize 0, out_qsize 0\n",
      "2019-02-05 18:14:31,635 : INFO : EPOCH 69 - PROGRESS: at 25.20% examples, 301306 words/s, in_qsize 0, out_qsize 0\n",
      "2019-02-05 18:14:32,652 : INFO : EPOCH 69 - PROGRESS: at 37.87% examples, 306418 words/s, in_qsize 1, out_qsize 0\n",
      "2019-02-05 18:14:33,657 : INFO : EPOCH 69 - PROGRESS: at 48.84% examples, 302490 words/s, in_qsize 0, out_qsize 0\n",
      "2019-02-05 18:14:34,659 : INFO : EPOCH 69 - PROGRESS: at 61.09% examples, 306310 words/s, in_qsize 0, out_qsize 0\n",
      "2019-02-05 18:14:35,661 : INFO : EPOCH 69 - PROGRESS: at 80.88% examples, 304943 words/s, in_qsize 0, out_qsize 0\n",
      "2019-02-05 18:14:36,561 : INFO : worker thread finished; awaiting finish of 2 more threads\n",
      "2019-02-05 18:14:36,565 : INFO : worker thread finished; awaiting finish of 1 more threads\n",
      "2019-02-05 18:14:36,568 : INFO : worker thread finished; awaiting finish of 0 more threads\n",
      "2019-02-05 18:14:36,569 : INFO : EPOCH - 69 : training on 3030002 raw words (2090968 effective words) took 7.0s, 300519 effective words/s\n"
     ]
    },
    {
     "name": "stdout",
     "output_type": "stream",
     "text": [
      "unique_word2vec.txt\n"
     ]
    },
    {
     "name": "stderr",
     "output_type": "stream",
     "text": [
      "2019-02-05 18:14:37,587 : INFO : EPOCH 70 - PROGRESS: at 12.35% examples, 320352 words/s, in_qsize 0, out_qsize 0\n",
      "2019-02-05 18:14:38,589 : INFO : EPOCH 70 - PROGRESS: at 26.46% examples, 318704 words/s, in_qsize 0, out_qsize 0\n",
      "2019-02-05 18:14:39,594 : INFO : EPOCH 70 - PROGRESS: at 38.96% examples, 317330 words/s, in_qsize 0, out_qsize 0\n",
      "2019-02-05 18:14:40,605 : INFO : EPOCH 70 - PROGRESS: at 51.12% examples, 318629 words/s, in_qsize 0, out_qsize 0\n",
      "2019-02-05 18:14:41,621 : INFO : EPOCH 70 - PROGRESS: at 61.92% examples, 310351 words/s, in_qsize 0, out_qsize 0\n",
      "2019-02-05 18:14:42,627 : INFO : EPOCH 70 - PROGRESS: at 77.95% examples, 298939 words/s, in_qsize 0, out_qsize 0\n",
      "2019-02-05 18:14:43,652 : INFO : EPOCH 70 - PROGRESS: at 96.67% examples, 287927 words/s, in_qsize 0, out_qsize 0\n",
      "2019-02-05 18:14:43,911 : INFO : worker thread finished; awaiting finish of 2 more threads\n",
      "2019-02-05 18:14:43,919 : INFO : worker thread finished; awaiting finish of 1 more threads\n",
      "2019-02-05 18:14:43,929 : INFO : worker thread finished; awaiting finish of 0 more threads\n",
      "2019-02-05 18:14:43,930 : INFO : EPOCH - 70 : training on 3030002 raw words (2090793 effective words) took 7.4s, 284070 effective words/s\n"
     ]
    },
    {
     "name": "stdout",
     "output_type": "stream",
     "text": [
      "unique_word2vec.txt\n"
     ]
    },
    {
     "name": "stderr",
     "output_type": "stream",
     "text": [
      "2019-02-05 18:14:44,968 : INFO : EPOCH 71 - PROGRESS: at 8.78% examples, 228072 words/s, in_qsize 0, out_qsize 0\n",
      "2019-02-05 18:14:45,992 : INFO : EPOCH 71 - PROGRESS: at 17.66% examples, 227544 words/s, in_qsize 0, out_qsize 0\n",
      "2019-02-05 18:14:46,986 : INFO : EPOCH 71 - PROGRESS: at 28.29% examples, 228995 words/s, in_qsize 0, out_qsize 0\n",
      "2019-02-05 18:14:48,019 : INFO : EPOCH 71 - PROGRESS: at 37.60% examples, 226612 words/s, in_qsize 0, out_qsize 0\n",
      "2019-02-05 18:14:49,043 : INFO : EPOCH 71 - PROGRESS: at 46.21% examples, 226163 words/s, in_qsize 0, out_qsize 0\n",
      "2019-02-05 18:14:50,061 : INFO : EPOCH 71 - PROGRESS: at 55.46% examples, 228548 words/s, in_qsize 0, out_qsize 0\n",
      "2019-02-05 18:14:51,069 : INFO : EPOCH 71 - PROGRESS: at 70.15% examples, 242321 words/s, in_qsize 0, out_qsize 0\n",
      "2019-02-05 18:14:52,072 : INFO : EPOCH 71 - PROGRESS: at 94.72% examples, 248251 words/s, in_qsize 0, out_qsize 0\n",
      "2019-02-05 18:14:52,290 : INFO : worker thread finished; awaiting finish of 2 more threads\n",
      "2019-02-05 18:14:52,294 : INFO : worker thread finished; awaiting finish of 1 more threads\n",
      "2019-02-05 18:14:52,298 : INFO : worker thread finished; awaiting finish of 0 more threads\n",
      "2019-02-05 18:14:52,300 : INFO : EPOCH - 71 : training on 3030002 raw words (2091654 effective words) took 8.4s, 250129 effective words/s\n"
     ]
    },
    {
     "name": "stdout",
     "output_type": "stream",
     "text": [
      "unique_word2vec.txt\n"
     ]
    },
    {
     "name": "stderr",
     "output_type": "stream",
     "text": [
      "2019-02-05 18:14:53,329 : INFO : EPOCH 72 - PROGRESS: at 10.41% examples, 274564 words/s, in_qsize 0, out_qsize 0\n",
      "2019-02-05 18:14:54,330 : INFO : EPOCH 72 - PROGRESS: at 17.38% examples, 227188 words/s, in_qsize 0, out_qsize 0\n",
      "2019-02-05 18:14:55,360 : INFO : EPOCH 72 - PROGRESS: at 28.06% examples, 226866 words/s, in_qsize 0, out_qsize 0\n",
      "2019-02-05 18:14:56,358 : INFO : EPOCH 72 - PROGRESS: at 37.60% examples, 228468 words/s, in_qsize 0, out_qsize 0\n",
      "2019-02-05 18:14:57,369 : INFO : EPOCH 72 - PROGRESS: at 46.21% examples, 228229 words/s, in_qsize 0, out_qsize 0\n",
      "2019-02-05 18:14:58,396 : INFO : EPOCH 72 - PROGRESS: at 53.93% examples, 223274 words/s, in_qsize 0, out_qsize 0\n",
      "2019-02-05 18:14:59,413 : INFO : EPOCH 72 - PROGRESS: at 62.45% examples, 222623 words/s, in_qsize 0, out_qsize 0\n",
      "2019-02-05 18:15:00,432 : INFO : EPOCH 72 - PROGRESS: at 75.66% examples, 219937 words/s, in_qsize 0, out_qsize 0\n",
      "2019-02-05 18:15:01,455 : INFO : EPOCH 72 - PROGRESS: at 91.28% examples, 215173 words/s, in_qsize 0, out_qsize 0\n",
      "2019-02-05 18:15:01,997 : INFO : worker thread finished; awaiting finish of 2 more threads\n",
      "2019-02-05 18:15:02,004 : INFO : worker thread finished; awaiting finish of 1 more threads\n",
      "2019-02-05 18:15:02,017 : INFO : worker thread finished; awaiting finish of 0 more threads\n",
      "2019-02-05 18:15:02,018 : INFO : EPOCH - 72 : training on 3030002 raw words (2090769 effective words) took 9.7s, 215394 effective words/s\n"
     ]
    },
    {
     "name": "stdout",
     "output_type": "stream",
     "text": [
      "unique_word2vec.txt\n"
     ]
    },
    {
     "name": "stderr",
     "output_type": "stream",
     "text": [
      "2019-02-05 18:15:03,036 : INFO : EPOCH 73 - PROGRESS: at 8.21% examples, 219200 words/s, in_qsize 0, out_qsize 0\n",
      "2019-02-05 18:15:04,058 : INFO : EPOCH 73 - PROGRESS: at 16.82% examples, 218789 words/s, in_qsize 0, out_qsize 0\n",
      "2019-02-05 18:15:05,072 : INFO : EPOCH 73 - PROGRESS: at 26.46% examples, 211542 words/s, in_qsize 1, out_qsize 0\n",
      "2019-02-05 18:15:06,096 : INFO : EPOCH 73 - PROGRESS: at 34.45% examples, 206403 words/s, in_qsize 0, out_qsize 0\n",
      "2019-02-05 18:15:07,105 : INFO : EPOCH 73 - PROGRESS: at 41.73% examples, 203870 words/s, in_qsize 0, out_qsize 0\n",
      "2019-02-05 18:15:08,105 : INFO : EPOCH 73 - PROGRESS: at 49.10% examples, 202571 words/s, in_qsize 0, out_qsize 0\n",
      "2019-02-05 18:15:09,123 : INFO : EPOCH 73 - PROGRESS: at 57.79% examples, 205879 words/s, in_qsize 0, out_qsize 0\n",
      "2019-02-05 18:15:10,135 : INFO : EPOCH 73 - PROGRESS: at 66.18% examples, 207057 words/s, in_qsize 0, out_qsize 0\n",
      "2019-02-05 18:15:11,147 : INFO : EPOCH 73 - PROGRESS: at 84.35% examples, 206646 words/s, in_qsize 0, out_qsize 0\n",
      "2019-02-05 18:15:12,042 : INFO : worker thread finished; awaiting finish of 2 more threads\n",
      "2019-02-05 18:15:12,051 : INFO : worker thread finished; awaiting finish of 1 more threads\n",
      "2019-02-05 18:15:12,056 : INFO : worker thread finished; awaiting finish of 0 more threads\n",
      "2019-02-05 18:15:12,057 : INFO : EPOCH - 73 : training on 3030002 raw words (2091099 effective words) took 10.0s, 208455 effective words/s\n"
     ]
    },
    {
     "name": "stdout",
     "output_type": "stream",
     "text": [
      "unique_word2vec.txt\n"
     ]
    },
    {
     "name": "stderr",
     "output_type": "stream",
     "text": [
      "2019-02-05 18:15:13,094 : INFO : EPOCH 74 - PROGRESS: at 10.41% examples, 269131 words/s, in_qsize 0, out_qsize 0\n",
      "2019-02-05 18:15:14,109 : INFO : EPOCH 74 - PROGRESS: at 20.32% examples, 259313 words/s, in_qsize 0, out_qsize 0\n",
      "2019-02-05 18:15:15,116 : INFO : EPOCH 74 - PROGRESS: at 32.30% examples, 257472 words/s, in_qsize 0, out_qsize 1\n",
      "2019-02-05 18:15:16,132 : INFO : EPOCH 74 - PROGRESS: at 42.54% examples, 259935 words/s, in_qsize 0, out_qsize 0\n",
      "2019-02-05 18:15:17,134 : INFO : EPOCH 74 - PROGRESS: at 53.42% examples, 265598 words/s, in_qsize 0, out_qsize 0\n",
      "2019-02-05 18:15:18,146 : INFO : EPOCH 74 - PROGRESS: at 66.18% examples, 276659 words/s, in_qsize 0, out_qsize 0\n",
      "2019-02-05 18:15:19,175 : INFO : EPOCH 74 - PROGRESS: at 91.28% examples, 277140 words/s, in_qsize 0, out_qsize 0\n",
      "2019-02-05 18:15:19,503 : INFO : worker thread finished; awaiting finish of 2 more threads\n",
      "2019-02-05 18:15:19,509 : INFO : worker thread finished; awaiting finish of 1 more threads\n",
      "2019-02-05 18:15:19,510 : INFO : worker thread finished; awaiting finish of 0 more threads\n",
      "2019-02-05 18:15:19,514 : INFO : EPOCH - 74 : training on 3030002 raw words (2092039 effective words) took 7.4s, 280863 effective words/s\n"
     ]
    },
    {
     "name": "stdout",
     "output_type": "stream",
     "text": [
      "unique_word2vec.txt\n"
     ]
    },
    {
     "name": "stderr",
     "output_type": "stream",
     "text": [
      "2019-02-05 18:15:20,520 : INFO : EPOCH 75 - PROGRESS: at 11.99% examples, 317837 words/s, in_qsize 0, out_qsize 0\n",
      "2019-02-05 18:15:21,541 : INFO : EPOCH 75 - PROGRESS: at 26.93% examples, 324923 words/s, in_qsize 0, out_qsize 0\n",
      "2019-02-05 18:15:22,557 : INFO : EPOCH 75 - PROGRESS: at 41.01% examples, 333850 words/s, in_qsize 0, out_qsize 0\n",
      "2019-02-05 18:15:23,560 : INFO : EPOCH 75 - PROGRESS: at 53.93% examples, 336039 words/s, in_qsize 0, out_qsize 0\n",
      "2019-02-05 18:15:24,574 : INFO : EPOCH 75 - PROGRESS: at 67.77% examples, 336005 words/s, in_qsize 0, out_qsize 0\n",
      "2019-02-05 18:15:25,606 : INFO : EPOCH 75 - PROGRESS: at 94.72% examples, 331630 words/s, in_qsize 0, out_qsize 0\n",
      "2019-02-05 18:15:25,802 : INFO : worker thread finished; awaiting finish of 2 more threads\n",
      "2019-02-05 18:15:25,805 : INFO : worker thread finished; awaiting finish of 1 more threads\n",
      "2019-02-05 18:15:25,810 : INFO : worker thread finished; awaiting finish of 0 more threads\n",
      "2019-02-05 18:15:25,810 : INFO : EPOCH - 75 : training on 3030002 raw words (2091003 effective words) took 6.3s, 332279 effective words/s\n"
     ]
    },
    {
     "name": "stdout",
     "output_type": "stream",
     "text": [
      "unique_word2vec.txt\n"
     ]
    },
    {
     "name": "stderr",
     "output_type": "stream",
     "text": [
      "2019-02-05 18:15:26,826 : INFO : EPOCH 76 - PROGRESS: at 13.11% examples, 342094 words/s, in_qsize 0, out_qsize 0\n",
      "2019-02-05 18:15:27,832 : INFO : EPOCH 76 - PROGRESS: at 27.14% examples, 329351 words/s, in_qsize 0, out_qsize 0\n",
      "2019-02-05 18:15:28,834 : INFO : EPOCH 76 - PROGRESS: at 39.98% examples, 327394 words/s, in_qsize 0, out_qsize 0\n",
      "2019-02-05 18:15:29,871 : INFO : EPOCH 76 - PROGRESS: at 51.89% examples, 321962 words/s, in_qsize 0, out_qsize 0\n",
      "2019-02-05 18:15:30,889 : INFO : EPOCH 76 - PROGRESS: at 63.45% examples, 317228 words/s, in_qsize 0, out_qsize 0\n",
      "2019-02-05 18:15:31,904 : INFO : EPOCH 76 - PROGRESS: at 84.84% examples, 310722 words/s, in_qsize 0, out_qsize 0\n",
      "2019-02-05 18:15:32,517 : INFO : worker thread finished; awaiting finish of 2 more threads\n",
      "2019-02-05 18:15:32,522 : INFO : worker thread finished; awaiting finish of 1 more threads\n",
      "2019-02-05 18:15:32,527 : INFO : worker thread finished; awaiting finish of 0 more threads\n",
      "2019-02-05 18:15:32,528 : INFO : EPOCH - 76 : training on 3030002 raw words (2092379 effective words) took 6.7s, 311536 effective words/s\n"
     ]
    },
    {
     "name": "stdout",
     "output_type": "stream",
     "text": [
      "unique_word2vec.txt\n"
     ]
    },
    {
     "name": "stderr",
     "output_type": "stream",
     "text": [
      "2019-02-05 18:15:33,564 : INFO : EPOCH 77 - PROGRESS: at 9.80% examples, 253548 words/s, in_qsize 0, out_qsize 0\n",
      "2019-02-05 18:15:34,621 : INFO : EPOCH 77 - PROGRESS: at 18.43% examples, 232498 words/s, in_qsize 0, out_qsize 0\n",
      "2019-02-05 18:15:35,625 : INFO : EPOCH 77 - PROGRESS: at 27.37% examples, 216592 words/s, in_qsize 0, out_qsize 0\n",
      "2019-02-05 18:15:36,648 : INFO : EPOCH 77 - PROGRESS: at 36.01% examples, 214190 words/s, in_qsize 0, out_qsize 0\n",
      "2019-02-05 18:15:37,662 : INFO : EPOCH 77 - PROGRESS: at 43.61% examples, 211273 words/s, in_qsize 0, out_qsize 0\n",
      "2019-02-05 18:15:38,696 : INFO : EPOCH 77 - PROGRESS: at 51.89% examples, 211611 words/s, in_qsize 0, out_qsize 0\n",
      "2019-02-05 18:15:39,705 : INFO : EPOCH 77 - PROGRESS: at 60.08% examples, 211669 words/s, in_qsize 0, out_qsize 0\n",
      "2019-02-05 18:15:40,714 : INFO : EPOCH 77 - PROGRESS: at 77.34% examples, 220482 words/s, in_qsize 0, out_qsize 0\n",
      "2019-02-05 18:15:41,717 : INFO : EPOCH 77 - PROGRESS: at 98.55% examples, 224170 words/s, in_qsize 0, out_qsize 0\n",
      "2019-02-05 18:15:41,760 : INFO : worker thread finished; awaiting finish of 2 more threads\n",
      "2019-02-05 18:15:41,766 : INFO : worker thread finished; awaiting finish of 1 more threads\n",
      "2019-02-05 18:15:41,770 : INFO : worker thread finished; awaiting finish of 0 more threads\n",
      "2019-02-05 18:15:41,771 : INFO : EPOCH - 77 : training on 3030002 raw words (2091054 effective words) took 9.2s, 226252 effective words/s\n"
     ]
    },
    {
     "name": "stdout",
     "output_type": "stream",
     "text": [
      "unique_word2vec.txt\n"
     ]
    },
    {
     "name": "stderr",
     "output_type": "stream",
     "text": [
      "2019-02-05 18:15:42,775 : INFO : EPOCH 78 - PROGRESS: at 10.41% examples, 276291 words/s, in_qsize 0, out_qsize 0\n",
      "2019-02-05 18:15:43,776 : INFO : EPOCH 78 - PROGRESS: at 25.95% examples, 314686 words/s, in_qsize 0, out_qsize 0\n",
      "2019-02-05 18:15:44,799 : INFO : EPOCH 78 - PROGRESS: at 37.33% examples, 303373 words/s, in_qsize 0, out_qsize 0\n",
      "2019-02-05 18:15:45,808 : INFO : EPOCH 78 - PROGRESS: at 47.79% examples, 296674 words/s, in_qsize 0, out_qsize 0\n",
      "2019-02-05 18:15:46,818 : INFO : EPOCH 78 - PROGRESS: at 59.83% examples, 299847 words/s, in_qsize 0, out_qsize 0\n",
      "2019-02-05 18:15:47,828 : INFO : EPOCH 78 - PROGRESS: at 79.13% examples, 301456 words/s, in_qsize 0, out_qsize 0\n",
      "2019-02-05 18:15:48,678 : INFO : worker thread finished; awaiting finish of 2 more threads\n",
      "2019-02-05 18:15:48,685 : INFO : worker thread finished; awaiting finish of 1 more threads\n",
      "2019-02-05 18:15:48,687 : INFO : worker thread finished; awaiting finish of 0 more threads\n",
      "2019-02-05 18:15:48,688 : INFO : EPOCH - 78 : training on 3030002 raw words (2091574 effective words) took 6.9s, 302466 effective words/s\n"
     ]
    },
    {
     "name": "stdout",
     "output_type": "stream",
     "text": [
      "unique_word2vec.txt\n"
     ]
    },
    {
     "name": "stderr",
     "output_type": "stream",
     "text": [
      "2019-02-05 18:15:49,745 : INFO : EPOCH 79 - PROGRESS: at 11.76% examples, 297323 words/s, in_qsize 0, out_qsize 1\n",
      "2019-02-05 18:15:50,766 : INFO : EPOCH 79 - PROGRESS: at 26.70% examples, 314507 words/s, in_qsize 0, out_qsize 0\n",
      "2019-02-05 18:15:51,814 : INFO : EPOCH 79 - PROGRESS: at 39.23% examples, 310888 words/s, in_qsize 0, out_qsize 1\n",
      "2019-02-05 18:15:52,817 : INFO : EPOCH 79 - PROGRESS: at 51.37% examples, 313513 words/s, in_qsize 0, out_qsize 0\n",
      "2019-02-05 18:15:53,825 : INFO : EPOCH 79 - PROGRESS: at 62.70% examples, 309635 words/s, in_qsize 0, out_qsize 0\n",
      "2019-02-05 18:15:54,842 : INFO : EPOCH 79 - PROGRESS: at 81.44% examples, 301321 words/s, in_qsize 0, out_qsize 0\n",
      "2019-02-05 18:15:55,591 : INFO : worker thread finished; awaiting finish of 2 more threads\n",
      "2019-02-05 18:15:55,597 : INFO : worker thread finished; awaiting finish of 1 more threads\n",
      "2019-02-05 18:15:55,598 : INFO : worker thread finished; awaiting finish of 0 more threads\n",
      "2019-02-05 18:15:55,599 : INFO : EPOCH - 79 : training on 3030002 raw words (2090359 effective words) took 6.9s, 302852 effective words/s\n"
     ]
    },
    {
     "name": "stdout",
     "output_type": "stream",
     "text": [
      "unique_word2vec.txt\n"
     ]
    },
    {
     "name": "stderr",
     "output_type": "stream",
     "text": [
      "2019-02-05 18:15:56,620 : INFO : EPOCH 80 - PROGRESS: at 11.76% examples, 307815 words/s, in_qsize 0, out_qsize 0\n",
      "2019-02-05 18:15:57,635 : INFO : EPOCH 80 - PROGRESS: at 27.37% examples, 330477 words/s, in_qsize 0, out_qsize 0\n",
      "2019-02-05 18:15:58,650 : INFO : EPOCH 80 - PROGRESS: at 41.23% examples, 335587 words/s, in_qsize 0, out_qsize 0\n",
      "2019-02-05 18:15:59,662 : INFO : EPOCH 80 - PROGRESS: at 54.18% examples, 336700 words/s, in_qsize 0, out_qsize 0\n",
      "2019-02-05 18:16:00,660 : INFO : EPOCH 80 - PROGRESS: at 67.77% examples, 336198 words/s, in_qsize 0, out_qsize 0\n",
      "2019-02-05 18:16:01,666 : INFO : EPOCH 80 - PROGRESS: at 93.86% examples, 330655 words/s, in_qsize 0, out_qsize 0\n",
      "2019-02-05 18:16:01,913 : INFO : worker thread finished; awaiting finish of 2 more threads\n",
      "2019-02-05 18:16:01,918 : INFO : worker thread finished; awaiting finish of 1 more threads\n",
      "2019-02-05 18:16:01,920 : INFO : worker thread finished; awaiting finish of 0 more threads\n",
      "2019-02-05 18:16:01,920 : INFO : EPOCH - 80 : training on 3030002 raw words (2091375 effective words) took 6.3s, 331151 effective words/s\n"
     ]
    },
    {
     "name": "stdout",
     "output_type": "stream",
     "text": [
      "unique_word2vec.txt\n"
     ]
    },
    {
     "name": "stderr",
     "output_type": "stream",
     "text": [
      "2019-02-05 18:16:02,950 : INFO : EPOCH 81 - PROGRESS: at 13.47% examples, 345767 words/s, in_qsize 0, out_qsize 0\n",
      "2019-02-05 18:16:03,973 : INFO : EPOCH 81 - PROGRESS: at 28.53% examples, 343973 words/s, in_qsize 0, out_qsize 0\n",
      "2019-02-05 18:16:04,981 : INFO : EPOCH 81 - PROGRESS: at 42.28% examples, 343210 words/s, in_qsize 0, out_qsize 0\n",
      "2019-02-05 18:16:05,999 : INFO : EPOCH 81 - PROGRESS: at 55.46% examples, 343294 words/s, in_qsize 0, out_qsize 0\n",
      "2019-02-05 18:16:07,017 : INFO : EPOCH 81 - PROGRESS: at 70.15% examples, 339073 words/s, in_qsize 0, out_qsize 0\n",
      "2019-02-05 18:16:08,041 : INFO : EPOCH 81 - PROGRESS: at 95.35% examples, 331231 words/s, in_qsize 0, out_qsize 0\n",
      "2019-02-05 18:16:08,203 : INFO : worker thread finished; awaiting finish of 2 more threads\n",
      "2019-02-05 18:16:08,208 : INFO : worker thread finished; awaiting finish of 1 more threads\n",
      "2019-02-05 18:16:08,210 : INFO : worker thread finished; awaiting finish of 0 more threads\n",
      "2019-02-05 18:16:08,212 : INFO : EPOCH - 81 : training on 3030002 raw words (2091836 effective words) took 6.3s, 332543 effective words/s\n"
     ]
    },
    {
     "name": "stdout",
     "output_type": "stream",
     "text": [
      "unique_word2vec.txt\n"
     ]
    },
    {
     "name": "stderr",
     "output_type": "stream",
     "text": [
      "2019-02-05 18:16:09,223 : INFO : EPOCH 82 - PROGRESS: at 12.87% examples, 338337 words/s, in_qsize 0, out_qsize 0\n",
      "2019-02-05 18:16:10,234 : INFO : EPOCH 82 - PROGRESS: at 25.20% examples, 302339 words/s, in_qsize 0, out_qsize 0\n",
      "2019-02-05 18:16:11,281 : INFO : EPOCH 82 - PROGRESS: at 39.23% examples, 316735 words/s, in_qsize 0, out_qsize 0\n",
      "2019-02-05 18:16:12,296 : INFO : EPOCH 82 - PROGRESS: at 52.15% examples, 321658 words/s, in_qsize 0, out_qsize 1\n",
      "2019-02-05 18:16:13,321 : INFO : EPOCH 82 - PROGRESS: at 65.90% examples, 327880 words/s, in_qsize 0, out_qsize 0\n",
      "2019-02-05 18:16:14,335 : INFO : EPOCH 82 - PROGRESS: at 92.46% examples, 324329 words/s, in_qsize 0, out_qsize 0\n",
      "2019-02-05 18:16:14,641 : INFO : worker thread finished; awaiting finish of 2 more threads\n",
      "2019-02-05 18:16:14,646 : INFO : worker thread finished; awaiting finish of 1 more threads\n",
      "2019-02-05 18:16:14,647 : INFO : worker thread finished; awaiting finish of 0 more threads\n",
      "2019-02-05 18:16:14,647 : INFO : EPOCH - 82 : training on 3030002 raw words (2092018 effective words) took 6.4s, 325263 effective words/s\n"
     ]
    },
    {
     "name": "stdout",
     "output_type": "stream",
     "text": [
      "unique_word2vec.txt\n"
     ]
    },
    {
     "name": "stderr",
     "output_type": "stream",
     "text": [
      "2019-02-05 18:16:15,662 : INFO : EPOCH 83 - PROGRESS: at 12.35% examples, 322155 words/s, in_qsize 0, out_qsize 0\n",
      "2019-02-05 18:16:16,675 : INFO : EPOCH 83 - PROGRESS: at 27.14% examples, 328188 words/s, in_qsize 0, out_qsize 0\n",
      "2019-02-05 18:16:17,690 : INFO : EPOCH 83 - PROGRESS: at 40.61% examples, 332181 words/s, in_qsize 0, out_qsize 0\n",
      "2019-02-05 18:16:18,709 : INFO : EPOCH 83 - PROGRESS: at 53.42% examples, 331412 words/s, in_qsize 0, out_qsize 0\n",
      "2019-02-05 18:16:19,713 : INFO : EPOCH 83 - PROGRESS: at 66.18% examples, 331584 words/s, in_qsize 0, out_qsize 0\n",
      "2019-02-05 18:16:20,720 : INFO : EPOCH 83 - PROGRESS: at 93.02% examples, 327816 words/s, in_qsize 0, out_qsize 0\n",
      "2019-02-05 18:16:21,013 : INFO : worker thread finished; awaiting finish of 2 more threads\n",
      "2019-02-05 18:16:21,022 : INFO : worker thread finished; awaiting finish of 1 more threads\n",
      "2019-02-05 18:16:21,024 : INFO : worker thread finished; awaiting finish of 0 more threads\n",
      "2019-02-05 18:16:21,025 : INFO : EPOCH - 83 : training on 3030002 raw words (2091196 effective words) took 6.4s, 327974 effective words/s\n"
     ]
    },
    {
     "name": "stdout",
     "output_type": "stream",
     "text": [
      "unique_word2vec.txt\n"
     ]
    },
    {
     "name": "stderr",
     "output_type": "stream",
     "text": [
      "2019-02-05 18:16:22,031 : INFO : EPOCH 84 - PROGRESS: at 12.64% examples, 331495 words/s, in_qsize 0, out_qsize 0\n",
      "2019-02-05 18:16:23,033 : INFO : EPOCH 84 - PROGRESS: at 27.60% examples, 337626 words/s, in_qsize 1, out_qsize 0\n",
      "2019-02-05 18:16:24,066 : INFO : EPOCH 84 - PROGRESS: at 41.23% examples, 336283 words/s, in_qsize 0, out_qsize 0\n",
      "2019-02-05 18:16:25,076 : INFO : EPOCH 84 - PROGRESS: at 54.18% examples, 337747 words/s, in_qsize 1, out_qsize 0\n",
      "2019-02-05 18:16:26,101 : INFO : EPOCH 84 - PROGRESS: at 67.15% examples, 333624 words/s, in_qsize 1, out_qsize 0\n",
      "2019-02-05 18:16:27,125 : INFO : EPOCH 84 - PROGRESS: at 92.46% examples, 325255 words/s, in_qsize 0, out_qsize 0\n",
      "2019-02-05 18:16:27,434 : INFO : worker thread finished; awaiting finish of 2 more threads\n",
      "2019-02-05 18:16:27,438 : INFO : worker thread finished; awaiting finish of 1 more threads\n",
      "2019-02-05 18:16:27,440 : INFO : worker thread finished; awaiting finish of 0 more threads\n",
      "2019-02-05 18:16:27,440 : INFO : EPOCH - 84 : training on 3030002 raw words (2091310 effective words) took 6.4s, 326055 effective words/s\n"
     ]
    },
    {
     "name": "stdout",
     "output_type": "stream",
     "text": [
      "unique_word2vec.txt\n"
     ]
    },
    {
     "name": "stderr",
     "output_type": "stream",
     "text": [
      "2019-02-05 18:16:28,450 : INFO : EPOCH 85 - PROGRESS: at 12.35% examples, 324095 words/s, in_qsize 0, out_qsize 0\n",
      "2019-02-05 18:16:29,450 : INFO : EPOCH 85 - PROGRESS: at 27.14% examples, 330988 words/s, in_qsize 0, out_qsize 0\n",
      "2019-02-05 18:16:30,461 : INFO : EPOCH 85 - PROGRESS: at 40.18% examples, 329864 words/s, in_qsize 0, out_qsize 0\n",
      "2019-02-05 18:16:31,460 : INFO : EPOCH 85 - PROGRESS: at 52.42% examples, 328315 words/s, in_qsize 0, out_qsize 0\n",
      "2019-02-05 18:16:32,462 : INFO : EPOCH 85 - PROGRESS: at 65.08% examples, 328964 words/s, in_qsize 0, out_qsize 0\n",
      "2019-02-05 18:16:33,495 : INFO : EPOCH 85 - PROGRESS: at 91.28% examples, 325082 words/s, in_qsize 0, out_qsize 0\n",
      "2019-02-05 18:16:33,848 : INFO : worker thread finished; awaiting finish of 2 more threads\n",
      "2019-02-05 18:16:33,854 : INFO : worker thread finished; awaiting finish of 1 more threads\n",
      "2019-02-05 18:16:33,857 : INFO : worker thread finished; awaiting finish of 0 more threads\n",
      "2019-02-05 18:16:33,858 : INFO : EPOCH - 85 : training on 3030002 raw words (2090862 effective words) took 6.4s, 325889 effective words/s\n"
     ]
    },
    {
     "name": "stdout",
     "output_type": "stream",
     "text": [
      "unique_word2vec.txt\n"
     ]
    },
    {
     "name": "stderr",
     "output_type": "stream",
     "text": [
      "2019-02-05 18:16:34,876 : INFO : EPOCH 86 - PROGRESS: at 12.35% examples, 320749 words/s, in_qsize 0, out_qsize 0\n",
      "2019-02-05 18:16:35,892 : INFO : EPOCH 86 - PROGRESS: at 27.37% examples, 330381 words/s, in_qsize 0, out_qsize 0\n",
      "2019-02-05 18:16:36,910 : INFO : EPOCH 86 - PROGRESS: at 38.73% examples, 312462 words/s, in_qsize 0, out_qsize 0\n",
      "2019-02-05 18:16:37,928 : INFO : EPOCH 86 - PROGRESS: at 51.89% examples, 320785 words/s, in_qsize 0, out_qsize 0\n",
      "2019-02-05 18:16:38,949 : INFO : EPOCH 86 - PROGRESS: at 64.81% examples, 323098 words/s, in_qsize 0, out_qsize 0\n",
      "2019-02-05 18:16:39,973 : INFO : EPOCH 86 - PROGRESS: at 88.28% examples, 316257 words/s, in_qsize 0, out_qsize 0\n",
      "2019-02-05 18:16:40,435 : INFO : worker thread finished; awaiting finish of 2 more threads\n",
      "2019-02-05 18:16:40,441 : INFO : worker thread finished; awaiting finish of 1 more threads\n",
      "2019-02-05 18:16:40,442 : INFO : worker thread finished; awaiting finish of 0 more threads\n",
      "2019-02-05 18:16:40,443 : INFO : EPOCH - 86 : training on 3030002 raw words (2091509 effective words) took 6.6s, 317711 effective words/s\n"
     ]
    },
    {
     "name": "stdout",
     "output_type": "stream",
     "text": [
      "unique_word2vec.txt\n"
     ]
    },
    {
     "name": "stderr",
     "output_type": "stream",
     "text": [
      "2019-02-05 18:16:41,473 : INFO : EPOCH 87 - PROGRESS: at 12.64% examples, 327147 words/s, in_qsize 0, out_qsize 0\n",
      "2019-02-05 18:16:42,497 : INFO : EPOCH 87 - PROGRESS: at 26.70% examples, 318623 words/s, in_qsize 0, out_qsize 0\n",
      "2019-02-05 18:16:43,530 : INFO : EPOCH 87 - PROGRESS: at 39.50% examples, 316932 words/s, in_qsize 1, out_qsize 1\n",
      "2019-02-05 18:16:44,538 : INFO : EPOCH 87 - PROGRESS: at 51.63% examples, 318312 words/s, in_qsize 0, out_qsize 0\n",
      "2019-02-05 18:16:45,550 : INFO : EPOCH 87 - PROGRESS: at 62.70% examples, 311832 words/s, in_qsize 0, out_qsize 0\n",
      "2019-02-05 18:16:46,586 : INFO : EPOCH 87 - PROGRESS: at 83.77% examples, 306664 words/s, in_qsize 0, out_qsize 0\n",
      "2019-02-05 18:16:47,444 : INFO : worker thread finished; awaiting finish of 2 more threads\n",
      "2019-02-05 18:16:47,451 : INFO : worker thread finished; awaiting finish of 1 more threads\n",
      "2019-02-05 18:16:47,452 : INFO : worker thread finished; awaiting finish of 0 more threads\n",
      "2019-02-05 18:16:47,453 : INFO : EPOCH - 87 : training on 3030002 raw words (2091772 effective words) took 7.0s, 298835 effective words/s\n"
     ]
    },
    {
     "name": "stdout",
     "output_type": "stream",
     "text": [
      "unique_word2vec.txt\n"
     ]
    },
    {
     "name": "stderr",
     "output_type": "stream",
     "text": [
      "2019-02-05 18:16:48,458 : INFO : EPOCH 88 - PROGRESS: at 11.50% examples, 303940 words/s, in_qsize 0, out_qsize 0\n",
      "2019-02-05 18:16:49,489 : INFO : EPOCH 88 - PROGRESS: at 26.46% examples, 316464 words/s, in_qsize 0, out_qsize 0\n",
      "2019-02-05 18:16:50,506 : INFO : EPOCH 88 - PROGRESS: at 39.50% examples, 319051 words/s, in_qsize 0, out_qsize 0\n",
      "2019-02-05 18:16:51,521 : INFO : EPOCH 88 - PROGRESS: at 50.87% examples, 314152 words/s, in_qsize 0, out_qsize 0\n",
      "2019-02-05 18:16:52,535 : INFO : EPOCH 88 - PROGRESS: at 62.45% examples, 311243 words/s, in_qsize 0, out_qsize 0\n",
      "2019-02-05 18:16:53,561 : INFO : EPOCH 88 - PROGRESS: at 82.00% examples, 304351 words/s, in_qsize 0, out_qsize 0\n",
      "2019-02-05 18:16:54,231 : INFO : worker thread finished; awaiting finish of 2 more threads\n",
      "2019-02-05 18:16:54,237 : INFO : worker thread finished; awaiting finish of 1 more threads\n",
      "2019-02-05 18:16:54,239 : INFO : worker thread finished; awaiting finish of 0 more threads\n",
      "2019-02-05 18:16:54,240 : INFO : EPOCH - 88 : training on 3030002 raw words (2091058 effective words) took 6.8s, 308159 effective words/s\n"
     ]
    },
    {
     "name": "stdout",
     "output_type": "stream",
     "text": [
      "unique_word2vec.txt\n"
     ]
    },
    {
     "name": "stderr",
     "output_type": "stream",
     "text": [
      "2019-02-05 18:16:55,265 : INFO : EPOCH 89 - PROGRESS: at 11.50% examples, 301695 words/s, in_qsize 0, out_qsize 0\n",
      "2019-02-05 18:16:56,306 : INFO : EPOCH 89 - PROGRESS: at 26.70% examples, 316331 words/s, in_qsize 0, out_qsize 1\n",
      "2019-02-05 18:16:57,313 : INFO : EPOCH 89 - PROGRESS: at 37.60% examples, 301853 words/s, in_qsize 0, out_qsize 0\n",
      "2019-02-05 18:16:58,345 : INFO : EPOCH 89 - PROGRESS: at 48.58% examples, 297524 words/s, in_qsize 0, out_qsize 0\n",
      "2019-02-05 18:16:59,357 : INFO : EPOCH 89 - PROGRESS: at 61.37% examples, 304241 words/s, in_qsize 0, out_qsize 0\n",
      "2019-02-05 18:17:00,365 : INFO : EPOCH 89 - PROGRESS: at 79.13% examples, 298418 words/s, in_qsize 0, out_qsize 0\n",
      "2019-02-05 18:17:01,294 : INFO : worker thread finished; awaiting finish of 2 more threads\n",
      "2019-02-05 18:17:01,299 : INFO : worker thread finished; awaiting finish of 1 more threads\n",
      "2019-02-05 18:17:01,305 : INFO : worker thread finished; awaiting finish of 0 more threads\n",
      "2019-02-05 18:17:01,306 : INFO : EPOCH - 89 : training on 3030002 raw words (2090819 effective words) took 7.1s, 296309 effective words/s\n"
     ]
    },
    {
     "name": "stdout",
     "output_type": "stream",
     "text": [
      "unique_word2vec.txt\n"
     ]
    },
    {
     "name": "stderr",
     "output_type": "stream",
     "text": [
      "2019-02-05 18:17:02,317 : INFO : EPOCH 90 - PROGRESS: at 11.76% examples, 310573 words/s, in_qsize 0, out_qsize 0\n",
      "2019-02-05 18:17:03,339 : INFO : EPOCH 90 - PROGRESS: at 26.20% examples, 314254 words/s, in_qsize 0, out_qsize 0\n",
      "2019-02-05 18:17:04,353 : INFO : EPOCH 90 - PROGRESS: at 39.71% examples, 322274 words/s, in_qsize 0, out_qsize 0\n",
      "2019-02-05 18:17:05,374 : INFO : EPOCH 90 - PROGRESS: at 52.42% examples, 324414 words/s, in_qsize 0, out_qsize 0\n",
      "2019-02-05 18:17:06,403 : INFO : EPOCH 90 - PROGRESS: at 64.55% examples, 321697 words/s, in_qsize 0, out_qsize 0\n",
      "2019-02-05 18:17:07,434 : INFO : EPOCH 90 - PROGRESS: at 89.31% examples, 317778 words/s, in_qsize 0, out_qsize 0\n",
      "2019-02-05 18:17:07,867 : INFO : worker thread finished; awaiting finish of 2 more threads\n",
      "2019-02-05 18:17:07,875 : INFO : worker thread finished; awaiting finish of 1 more threads\n",
      "2019-02-05 18:17:07,878 : INFO : worker thread finished; awaiting finish of 0 more threads\n",
      "2019-02-05 18:17:07,879 : INFO : EPOCH - 90 : training on 3030002 raw words (2090372 effective words) took 6.6s, 318266 effective words/s\n"
     ]
    },
    {
     "name": "stdout",
     "output_type": "stream",
     "text": [
      "unique_word2vec.txt\n"
     ]
    },
    {
     "name": "stderr",
     "output_type": "stream",
     "text": [
      "2019-02-05 18:17:08,909 : INFO : EPOCH 91 - PROGRESS: at 10.41% examples, 270427 words/s, in_qsize 0, out_qsize 0\n",
      "2019-02-05 18:17:09,908 : INFO : EPOCH 91 - PROGRESS: at 25.47% examples, 304620 words/s, in_qsize 0, out_qsize 0\n",
      "2019-02-05 18:17:10,921 : INFO : EPOCH 91 - PROGRESS: at 39.23% examples, 318334 words/s, in_qsize 0, out_qsize 0\n",
      "2019-02-05 18:17:11,924 : INFO : EPOCH 91 - PROGRESS: at 50.87% examples, 316398 words/s, in_qsize 0, out_qsize 0\n",
      "2019-02-05 18:17:12,940 : INFO : EPOCH 91 - PROGRESS: at 63.70% examples, 319873 words/s, in_qsize 1, out_qsize 0\n",
      "2019-02-05 18:17:13,959 : INFO : EPOCH 91 - PROGRESS: at 85.42% examples, 312184 words/s, in_qsize 0, out_qsize 0\n",
      "2019-02-05 18:17:14,607 : INFO : worker thread finished; awaiting finish of 2 more threads\n",
      "2019-02-05 18:17:14,613 : INFO : worker thread finished; awaiting finish of 1 more threads\n",
      "2019-02-05 18:17:14,615 : INFO : worker thread finished; awaiting finish of 0 more threads\n",
      "2019-02-05 18:17:14,616 : INFO : EPOCH - 91 : training on 3030002 raw words (2091169 effective words) took 6.7s, 310625 effective words/s\n"
     ]
    },
    {
     "name": "stdout",
     "output_type": "stream",
     "text": [
      "unique_word2vec.txt\n"
     ]
    },
    {
     "name": "stderr",
     "output_type": "stream",
     "text": [
      "2019-02-05 18:17:15,653 : INFO : EPOCH 92 - PROGRESS: at 10.41% examples, 268202 words/s, in_qsize 0, out_qsize 0\n",
      "2019-02-05 18:17:16,657 : INFO : EPOCH 92 - PROGRESS: at 19.70% examples, 256513 words/s, in_qsize 0, out_qsize 0\n",
      "2019-02-05 18:17:17,673 : INFO : EPOCH 92 - PROGRESS: at 30.36% examples, 248305 words/s, in_qsize 0, out_qsize 0\n",
      "2019-02-05 18:17:18,684 : INFO : EPOCH 92 - PROGRESS: at 41.01% examples, 249995 words/s, in_qsize 0, out_qsize 0\n",
      "2019-02-05 18:17:19,697 : INFO : EPOCH 92 - PROGRESS: at 52.42% examples, 260332 words/s, in_qsize 0, out_qsize 0\n",
      "2019-02-05 18:17:20,732 : INFO : EPOCH 92 - PROGRESS: at 63.70% examples, 265461 words/s, in_qsize 0, out_qsize 1\n",
      "2019-02-05 18:17:21,759 : INFO : EPOCH 92 - PROGRESS: at 83.13% examples, 262487 words/s, in_qsize 0, out_qsize 0\n",
      "2019-02-05 18:17:22,483 : INFO : worker thread finished; awaiting finish of 2 more threads\n",
      "2019-02-05 18:17:22,489 : INFO : worker thread finished; awaiting finish of 1 more threads\n",
      "2019-02-05 18:17:22,490 : INFO : worker thread finished; awaiting finish of 0 more threads\n",
      "2019-02-05 18:17:22,494 : INFO : EPOCH - 92 : training on 3030002 raw words (2091058 effective words) took 7.9s, 265595 effective words/s\n"
     ]
    },
    {
     "name": "stdout",
     "output_type": "stream",
     "text": [
      "unique_word2vec.txt\n"
     ]
    },
    {
     "name": "stderr",
     "output_type": "stream",
     "text": [
      "2019-02-05 18:17:23,506 : INFO : EPOCH 93 - PROGRESS: at 12.64% examples, 332419 words/s, in_qsize 1, out_qsize 0\n",
      "2019-02-05 18:17:24,517 : INFO : EPOCH 93 - PROGRESS: at 25.72% examples, 308677 words/s, in_qsize 0, out_qsize 0\n",
      "2019-02-05 18:17:25,532 : INFO : EPOCH 93 - PROGRESS: at 37.87% examples, 306963 words/s, in_qsize 0, out_qsize 0\n",
      "2019-02-05 18:17:26,557 : INFO : EPOCH 93 - PROGRESS: at 50.12% examples, 309878 words/s, in_qsize 0, out_qsize 0\n",
      "2019-02-05 18:17:27,559 : INFO : EPOCH 93 - PROGRESS: at 63.22% examples, 316777 words/s, in_qsize 0, out_qsize 0\n",
      "2019-02-05 18:17:28,586 : INFO : EPOCH 93 - PROGRESS: at 87.13% examples, 315480 words/s, in_qsize 0, out_qsize 0\n",
      "2019-02-05 18:17:29,081 : INFO : worker thread finished; awaiting finish of 2 more threads\n",
      "2019-02-05 18:17:29,086 : INFO : worker thread finished; awaiting finish of 1 more threads\n",
      "2019-02-05 18:17:29,088 : INFO : worker thread finished; awaiting finish of 0 more threads\n",
      "2019-02-05 18:17:29,088 : INFO : EPOCH - 93 : training on 3030002 raw words (2091278 effective words) took 6.6s, 317307 effective words/s\n"
     ]
    },
    {
     "name": "stdout",
     "output_type": "stream",
     "text": [
      "unique_word2vec.txt\n"
     ]
    },
    {
     "name": "stderr",
     "output_type": "stream",
     "text": [
      "2019-02-05 18:17:30,104 : INFO : EPOCH 94 - PROGRESS: at 11.99% examples, 317255 words/s, in_qsize 0, out_qsize 0\n",
      "2019-02-05 18:17:31,117 : INFO : EPOCH 94 - PROGRESS: at 27.60% examples, 335627 words/s, in_qsize 0, out_qsize 0\n",
      "2019-02-05 18:17:32,141 : INFO : EPOCH 94 - PROGRESS: at 39.98% examples, 324629 words/s, in_qsize 0, out_qsize 0\n",
      "2019-02-05 18:17:33,142 : INFO : EPOCH 94 - PROGRESS: at 52.42% examples, 326229 words/s, in_qsize 0, out_qsize 0\n",
      "2019-02-05 18:17:34,155 : INFO : EPOCH 94 - PROGRESS: at 63.70% examples, 319743 words/s, in_qsize 0, out_qsize 0\n",
      "2019-02-05 18:17:35,168 : INFO : EPOCH 94 - PROGRESS: at 88.28% examples, 318358 words/s, in_qsize 0, out_qsize 0\n",
      "2019-02-05 18:17:35,705 : INFO : worker thread finished; awaiting finish of 2 more threads\n",
      "2019-02-05 18:17:35,711 : INFO : worker thread finished; awaiting finish of 1 more threads\n",
      "2019-02-05 18:17:35,712 : INFO : worker thread finished; awaiting finish of 0 more threads\n",
      "2019-02-05 18:17:35,713 : INFO : EPOCH - 94 : training on 3030002 raw words (2091686 effective words) took 6.6s, 316127 effective words/s\n"
     ]
    },
    {
     "name": "stdout",
     "output_type": "stream",
     "text": [
      "unique_word2vec.txt\n"
     ]
    },
    {
     "name": "stderr",
     "output_type": "stream",
     "text": [
      "2019-02-05 18:17:36,723 : INFO : EPOCH 95 - PROGRESS: at 12.64% examples, 333112 words/s, in_qsize 0, out_qsize 1\n",
      "2019-02-05 18:17:37,721 : INFO : EPOCH 95 - PROGRESS: at 28.06% examples, 345296 words/s, in_qsize 0, out_qsize 0\n",
      "2019-02-05 18:17:38,736 : INFO : EPOCH 95 - PROGRESS: at 41.73% examples, 343572 words/s, in_qsize 0, out_qsize 0\n",
      "2019-02-05 18:17:39,741 : INFO : EPOCH 95 - PROGRESS: at 54.70% examples, 342970 words/s, in_qsize 0, out_qsize 0\n",
      "2019-02-05 18:17:40,761 : INFO : EPOCH 95 - PROGRESS: at 67.15% examples, 336148 words/s, in_qsize 0, out_qsize 0\n",
      "2019-02-05 18:17:41,766 : INFO : EPOCH 95 - PROGRESS: at 93.02% examples, 329065 words/s, in_qsize 0, out_qsize 0\n",
      "2019-02-05 18:17:42,029 : INFO : worker thread finished; awaiting finish of 2 more threads\n",
      "2019-02-05 18:17:42,034 : INFO : worker thread finished; awaiting finish of 1 more threads\n",
      "2019-02-05 18:17:42,042 : INFO : worker thread finished; awaiting finish of 0 more threads\n",
      "2019-02-05 18:17:42,043 : INFO : EPOCH - 95 : training on 3030002 raw words (2091569 effective words) took 6.3s, 330702 effective words/s\n"
     ]
    },
    {
     "name": "stdout",
     "output_type": "stream",
     "text": [
      "unique_word2vec.txt\n"
     ]
    },
    {
     "name": "stderr",
     "output_type": "stream",
     "text": [
      "2019-02-05 18:17:43,057 : INFO : EPOCH 96 - PROGRESS: at 9.80% examples, 260391 words/s, in_qsize 0, out_qsize 0\n",
      "2019-02-05 18:17:44,116 : INFO : EPOCH 96 - PROGRESS: at 23.85% examples, 278856 words/s, in_qsize 0, out_qsize 0\n",
      "2019-02-05 18:17:45,118 : INFO : EPOCH 96 - PROGRESS: at 36.26% examples, 289438 words/s, in_qsize 1, out_qsize 0\n",
      "2019-02-05 18:17:46,122 : INFO : EPOCH 96 - PROGRESS: at 48.58% examples, 298623 words/s, in_qsize 0, out_qsize 0\n",
      "2019-02-05 18:17:47,134 : INFO : EPOCH 96 - PROGRESS: at 59.32% examples, 294522 words/s, in_qsize 0, out_qsize 0\n",
      "2019-02-05 18:17:48,169 : INFO : EPOCH 96 - PROGRESS: at 79.13% examples, 297983 words/s, in_qsize 0, out_qsize 0\n",
      "2019-02-05 18:17:49,039 : INFO : worker thread finished; awaiting finish of 2 more threads\n",
      "2019-02-05 18:17:49,046 : INFO : worker thread finished; awaiting finish of 1 more threads\n",
      "2019-02-05 18:17:49,047 : INFO : worker thread finished; awaiting finish of 0 more threads\n",
      "2019-02-05 18:17:49,048 : INFO : EPOCH - 96 : training on 3030002 raw words (2091198 effective words) took 7.0s, 298620 effective words/s\n"
     ]
    },
    {
     "name": "stdout",
     "output_type": "stream",
     "text": [
      "unique_word2vec.txt\n"
     ]
    },
    {
     "name": "stderr",
     "output_type": "stream",
     "text": [
      "2019-02-05 18:17:50,055 : INFO : EPOCH 97 - PROGRESS: at 11.25% examples, 296177 words/s, in_qsize 0, out_qsize 0\n",
      "2019-02-05 18:17:51,067 : INFO : EPOCH 97 - PROGRESS: at 24.96% examples, 299109 words/s, in_qsize 0, out_qsize 0\n",
      "2019-02-05 18:17:52,072 : INFO : EPOCH 97 - PROGRESS: at 37.60% examples, 305899 words/s, in_qsize 0, out_qsize 0\n",
      "2019-02-05 18:17:53,081 : INFO : EPOCH 97 - PROGRESS: at 48.84% examples, 303608 words/s, in_qsize 0, out_qsize 0\n",
      "2019-02-05 18:17:54,090 : INFO : EPOCH 97 - PROGRESS: at 60.59% examples, 304226 words/s, in_qsize 0, out_qsize 0\n",
      "2019-02-05 18:17:55,100 : INFO : EPOCH 97 - PROGRESS: at 79.11% examples, 301518 words/s, in_qsize 0, out_qsize 0\n",
      "2019-02-05 18:17:55,954 : INFO : worker thread finished; awaiting finish of 2 more threads\n",
      "2019-02-05 18:17:55,961 : INFO : worker thread finished; awaiting finish of 1 more threads\n",
      "2019-02-05 18:17:55,973 : INFO : worker thread finished; awaiting finish of 0 more threads\n",
      "2019-02-05 18:17:55,974 : INFO : EPOCH - 97 : training on 3030002 raw words (2090615 effective words) took 6.9s, 301919 effective words/s\n"
     ]
    },
    {
     "name": "stdout",
     "output_type": "stream",
     "text": [
      "unique_word2vec.txt\n"
     ]
    },
    {
     "name": "stderr",
     "output_type": "stream",
     "text": [
      "2019-02-05 18:17:56,994 : INFO : EPOCH 98 - PROGRESS: at 12.35% examples, 321443 words/s, in_qsize 0, out_qsize 0\n",
      "2019-02-05 18:17:58,009 : INFO : EPOCH 98 - PROGRESS: at 26.70% examples, 322014 words/s, in_qsize 0, out_qsize 0\n",
      "2019-02-05 18:17:59,034 : INFO : EPOCH 98 - PROGRESS: at 39.23% examples, 316382 words/s, in_qsize 0, out_qsize 0\n",
      "2019-02-05 18:18:00,055 : INFO : EPOCH 98 - PROGRESS: at 49.60% examples, 305878 words/s, in_qsize 0, out_qsize 0\n",
      "2019-02-05 18:18:01,064 : INFO : EPOCH 98 - PROGRESS: at 61.64% examples, 307006 words/s, in_qsize 0, out_qsize 0\n",
      "2019-02-05 18:18:02,101 : INFO : EPOCH 98 - PROGRESS: at 77.95% examples, 295829 words/s, in_qsize 0, out_qsize 0\n",
      "2019-02-05 18:18:03,111 : INFO : EPOCH 98 - PROGRESS: at 99.34% examples, 290836 words/s, in_qsize 0, out_qsize 0\n",
      "2019-02-05 18:18:03,143 : INFO : worker thread finished; awaiting finish of 2 more threads\n",
      "2019-02-05 18:18:03,144 : INFO : worker thread finished; awaiting finish of 1 more threads\n",
      "2019-02-05 18:18:03,145 : INFO : worker thread finished; awaiting finish of 0 more threads\n",
      "2019-02-05 18:18:03,146 : INFO : EPOCH - 98 : training on 3030002 raw words (2091108 effective words) took 7.2s, 291767 effective words/s\n"
     ]
    },
    {
     "name": "stdout",
     "output_type": "stream",
     "text": [
      "unique_word2vec.txt\n"
     ]
    },
    {
     "name": "stderr",
     "output_type": "stream",
     "text": [
      "2019-02-05 18:18:04,173 : INFO : EPOCH 99 - PROGRESS: at 10.97% examples, 285177 words/s, in_qsize 0, out_qsize 0\n",
      "2019-02-05 18:18:05,173 : INFO : EPOCH 99 - PROGRESS: at 24.96% examples, 298403 words/s, in_qsize 0, out_qsize 0\n",
      "2019-02-05 18:18:06,181 : INFO : EPOCH 99 - PROGRESS: at 36.26% examples, 293477 words/s, in_qsize 0, out_qsize 0\n",
      "2019-02-05 18:18:07,213 : INFO : EPOCH 99 - PROGRESS: at 48.84% examples, 301308 words/s, in_qsize 0, out_qsize 0\n",
      "2019-02-05 18:18:08,251 : INFO : EPOCH 99 - PROGRESS: at 60.09% examples, 297751 words/s, in_qsize 0, out_qsize 0\n",
      "2019-02-05 18:18:09,258 : INFO : EPOCH 99 - PROGRESS: at 79.71% examples, 299817 words/s, in_qsize 0, out_qsize 0\n",
      "2019-02-05 18:18:10,109 : INFO : worker thread finished; awaiting finish of 2 more threads\n",
      "2019-02-05 18:18:10,112 : INFO : worker thread finished; awaiting finish of 1 more threads\n",
      "2019-02-05 18:18:10,118 : INFO : worker thread finished; awaiting finish of 0 more threads\n",
      "2019-02-05 18:18:10,119 : INFO : EPOCH - 99 : training on 3030002 raw words (2090967 effective words) took 7.0s, 300022 effective words/s\n"
     ]
    },
    {
     "name": "stdout",
     "output_type": "stream",
     "text": [
      "unique_word2vec.txt\n"
     ]
    },
    {
     "name": "stderr",
     "output_type": "stream",
     "text": [
      "2019-02-05 18:18:11,124 : INFO : EPOCH 100 - PROGRESS: at 10.69% examples, 283429 words/s, in_qsize 0, out_qsize 0\n",
      "2019-02-05 18:18:12,134 : INFO : EPOCH 100 - PROGRESS: at 26.20% examples, 316451 words/s, in_qsize 0, out_qsize 0\n",
      "2019-02-05 18:18:13,148 : INFO : EPOCH 100 - PROGRESS: at 38.73% examples, 314505 words/s, in_qsize 0, out_qsize 0\n",
      "2019-02-05 18:18:14,154 : INFO : EPOCH 100 - PROGRESS: at 49.85% examples, 310230 words/s, in_qsize 1, out_qsize 0\n",
      "2019-02-05 18:18:15,171 : INFO : EPOCH 100 - PROGRESS: at 62.45% examples, 313189 words/s, in_qsize 0, out_qsize 0\n",
      "2019-02-05 18:18:16,192 : INFO : EPOCH 100 - PROGRESS: at 83.13% examples, 308561 words/s, in_qsize 0, out_qsize 0\n",
      "2019-02-05 18:18:16,902 : INFO : worker thread finished; awaiting finish of 2 more threads\n",
      "2019-02-05 18:18:16,908 : INFO : worker thread finished; awaiting finish of 1 more threads\n",
      "2019-02-05 18:18:16,912 : INFO : worker thread finished; awaiting finish of 0 more threads\n",
      "2019-02-05 18:18:16,913 : INFO : EPOCH - 100 : training on 3030002 raw words (2091059 effective words) took 6.8s, 307907 effective words/s\n",
      "2019-02-05 18:18:16,914 : INFO : training on a 303000200 raw words (209123620 effective words) took 679.2s, 307880 effective words/s\n"
     ]
    }
   ],
   "source": [
    "model = gensim.models.word2vec.Word2Vec(sentences,iter = 100,min_count=5)"
   ]
  },
  {
   "cell_type": "code",
   "execution_count": 55,
   "metadata": {},
   "outputs": [
    {
     "name": "stderr",
     "output_type": "stream",
     "text": [
      "2019-02-05 18:18:22,233 : INFO : precomputing L2-norms of word weight vectors\n",
      "2019-02-05 18:18:22,422 : INFO : saving Word2Vec object under ../../data/word2vec_model, separately None\n",
      "2019-02-05 18:18:22,423 : INFO : not storing attribute vectors_norm\n",
      "2019-02-05 18:18:22,424 : INFO : not storing attribute cum_table\n",
      "2019-02-05 18:18:22,656 : INFO : saved ../../data/word2vec_model\n",
      "/home/shaurya/anaconda2/lib/python2.7/site-packages/ipykernel_launcher.py:6: DeprecationWarning: Call to deprecated `syn0` (Attribute will be removed in 4.0.0, use self.wv.vectors instead).\n",
      "  \n"
     ]
    }
   ],
   "source": [
    "### Save word2vec model\n",
    "model.init_sims(replace=True)\n",
    "model.save('../../data/word2vec_model')\n",
    "\n",
    "#### Save weights\n",
    "weights = model.wv.syn0\n",
    "np.save(open('../../data/word2vec_weigths', 'wb'), weights)\n",
    "\n",
    "### word2vec vocab\n",
    "vocab = dict([(k, v.index) for k, v in model.wv.vocab.items()])\n",
    "with open('../../data/word2vec_vocab', 'w') as f:\n",
    "    f.write(json.dumps(vocab))"
   ]
  },
  {
   "cell_type": "markdown",
   "metadata": {},
   "source": [
    "-------"
   ]
  },
  {
   "cell_type": "markdown",
   "metadata": {},
   "source": [
    "## Testing"
   ]
  },
  {
   "cell_type": "code",
   "execution_count": 61,
   "metadata": {},
   "outputs": [
    {
     "data": {
      "text/plain": [
       "[(u'son', 0.6995844841003418),\n",
       " (u'father', 0.642910361289978),\n",
       " (u'widow', 0.6409253478050232),\n",
       " (u'daughter', 0.6378830671310425),\n",
       " (u'husband', 0.6067748665809631),\n",
       " (u'brother', 0.5992342233657837),\n",
       " (u'grandchildren', 0.5879772901535034),\n",
       " (u'cousin', 0.5835275650024414),\n",
       " (u'sons', 0.5729334354400635),\n",
       " (u'spouse', 0.5633977055549622)]"
      ]
     },
     "execution_count": 61,
     "metadata": {},
     "output_type": "execute_result"
    }
   ],
   "source": [
    "model.wv.most_similar(positive=['wife'])"
   ]
  },
  {
   "cell_type": "code",
   "execution_count": null,
   "metadata": {
    "collapsed": true
   },
   "outputs": [],
   "source": []
  }
 ],
 "metadata": {
  "kernelspec": {
   "display_name": "Python 2",
   "language": "python",
   "name": "python2"
  },
  "language_info": {
   "codemirror_mode": {
    "name": "ipython",
    "version": 2
   },
   "file_extension": ".py",
   "mimetype": "text/x-python",
   "name": "python",
   "nbconvert_exporter": "python",
   "pygments_lexer": "ipython2",
   "version": "2.7.15"
  }
 },
 "nbformat": 4,
 "nbformat_minor": 2
}
