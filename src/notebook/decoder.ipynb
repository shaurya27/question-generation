{
 "cells": [
  {
   "cell_type": "code",
   "execution_count": 112,
   "metadata": {
    "collapsed": true
   },
   "outputs": [],
   "source": [
    "import torch\n",
    "import torch.nn as nn\n",
    "import torch.nn.functional as F\n",
    "import sys\n",
    "sys.path.append('../')\n",
    "from constant import *\n",
    "from attention.attention import Attention"
   ]
  },
  {
   "cell_type": "code",
   "execution_count": 113,
   "metadata": {
    "collapsed": true
   },
   "outputs": [],
   "source": [
    "class AttnDecoderLSTM(nn.Module):\n",
    "    def __init__(self, word_size,word_dim, hidden_size,pretrained_word_embeds=None):\n",
    "        super(AttnDecoderLSTM, self).__init__()\n",
    "        self.hidden_size = hidden_size\n",
    "        self.word_size = word_size\n",
    "        self.word_dim = word_dim\n",
    "        self.embedding_dropout = nn.Dropout(0.3)\n",
    "        self.pretrained_word_embeds = pretrained_word_embeds\n",
    "        self.embedding = nn.Embedding(self.word_size,self.word_dim,padding_idx=0)\n",
    "        self.lstm = nn.LSTM(self.word_dim,self.hidden_size,batch_first = True)\n",
    "        self.attention = Attention(self.hidden_size)\n",
    "        #self.character_distribution = nn.Linear(5*(self.hidden_size/4), self.word_size)\n",
    "        self.character_distribution = nn.Linear(3*(self.hidden_size/2), self.word_size)\n",
    "        self._init_weights()\n",
    "        \n",
    "        \n",
    "        #self.out = nn.Linear(self.hidden_size, self.word_size)\n",
    "\n",
    "    def forward(self, input, hidden, encoder_output,encoder_batch_len):\n",
    "        embedded = self.embedding(input)\n",
    "        embedded = self.embedding_dropout(embedded)\n",
    "        #embedded = embedded.unsqueeze(1)\n",
    "        lstm_output,hidden = self.lstm(embedded,hidden)\n",
    "        lstm_output = lstm_output.squeeze(1)\n",
    "        attention_weights = self.attention.forward(lstm_output,encoder_output,encoder_batch_len)\n",
    "        context = attention_weights.unsqueeze(1).bmm(encoder_output).squeeze(1)\n",
    "        #print \"hello\"\n",
    "        #print context.size(),lstm_output.size(),torch.cat((lstm_output, context), 1).size()\n",
    "        output = self.character_distribution(torch.cat((lstm_output, context), 1))\n",
    "        output = F.log_softmax(output, dim=1)\n",
    "\n",
    "        return output, hidden, attention_weights\n",
    "    \n",
    "    def _init_weights(self):\n",
    "        if PRE_TRAINED_EMBEDDING:\n",
    "            self.embedding.weight.data.copy_(torch.from_numpy(self.pretrained_word_embeds))\n",
    "            if NON_TRAINABLE:\n",
    "                self.embedding.weight.requires_grad = False\n",
    "            else:\n",
    "                self.embedding.weight.requires_grad = True\n",
    "        else:\n",
    "            nn.init.xavier_uniform_(self.embedding.weight.data)"
   ]
  },
  {
   "cell_type": "markdown",
   "metadata": {},
   "source": [
    "--------"
   ]
  },
  {
   "cell_type": "code",
   "execution_count": null,
   "metadata": {
    "collapsed": true
   },
   "outputs": [],
   "source": []
  }
 ],
 "metadata": {
  "kernelspec": {
   "display_name": "Python 2",
   "language": "python",
   "name": "python2"
  },
  "language_info": {
   "codemirror_mode": {
    "name": "ipython",
    "version": 2
   },
   "file_extension": ".py",
   "mimetype": "text/x-python",
   "name": "python",
   "nbconvert_exporter": "python",
   "pygments_lexer": "ipython2",
   "version": "2.7.15"
  }
 },
 "nbformat": 4,
 "nbformat_minor": 2
}
