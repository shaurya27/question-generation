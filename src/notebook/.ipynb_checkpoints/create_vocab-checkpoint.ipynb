{
 "cells": [
  {
   "cell_type": "code",
   "execution_count": 1,
   "metadata": {
    "collapsed": true
   },
   "outputs": [],
   "source": [
    "import json\n",
    "import numpy as np\n",
    "import codecs\n",
    "import pickle\n",
    "from tqdm import tqdm_notebook as tqdm"
   ]
  },
  {
   "cell_type": "code",
   "execution_count": 2,
   "metadata": {
    "collapsed": true
   },
   "outputs": [],
   "source": [
    "def data_generator(filepath):\n",
    "    with open(filepath,'r') as f:\n",
    "        for line in f:\n",
    "            yield json.loads(line)\n",
    "        return"
   ]
  },
  {
   "cell_type": "code",
   "execution_count": 3,
   "metadata": {
    "collapsed": true
   },
   "outputs": [],
   "source": [
    "def create_vocab(filepath,min_count,type_='encoder'):\n",
    "    gen = data_generator(filepath)\n",
    "    word_count = {}\n",
    "    word_map = {}\n",
    "    sent_lengths = []\n",
    "    para_lengths = []\n",
    "    for data in tqdm(gen):\n",
    "        if type_ =='encoder':\n",
    "            paragraph = data['paragraph'].split()\n",
    "            ques = []\n",
    "        else:\n",
    "            ques = data['question'].split()\n",
    "            paragraph = []\n",
    "        text = ques + paragraph\n",
    "        for item in text:\n",
    "            if word_count.get(item):\n",
    "                word_count[item]+=1\n",
    "            else:\n",
    "                word_count[item] = 1\n",
    "    for k,v in word_count.iteritems():\n",
    "        if (v>min_count) :\n",
    "            word_map[k] = len(word_map)\n",
    "    return word_map"
   ]
  },
  {
   "cell_type": "code",
   "execution_count": 4,
   "metadata": {},
   "outputs": [
    {
     "data": {
      "application/vnd.jupyter.widget-view+json": {
       "model_id": "627ec21ff84a42dca113a0c98ca140aa",
       "version_major": 2,
       "version_minor": 0
      },
      "text/plain": [
       "A Jupyter Widget"
      ]
     },
     "metadata": {},
     "output_type": "display_data"
    },
    {
     "name": "stdout",
     "output_type": "stream",
     "text": [
      "\n"
     ]
    },
    {
     "data": {
      "application/vnd.jupyter.widget-view+json": {
       "model_id": "128272774bd54d648c813f35c11854c4",
       "version_major": 2,
       "version_minor": 0
      },
      "text/plain": [
       "A Jupyter Widget"
      ]
     },
     "metadata": {},
     "output_type": "display_data"
    },
    {
     "name": "stdout",
     "output_type": "stream",
     "text": [
      "\n"
     ]
    }
   ],
   "source": [
    "encoder_vocab = create_vocab('../../data/processed/train_data.json',5)\n",
    "decoder_vocab = create_vocab('../../data/processed/train_data.json',1,type_='decoder')"
   ]
  },
  {
   "cell_type": "code",
   "execution_count": 6,
   "metadata": {},
   "outputs": [
    {
     "name": "stdout",
     "output_type": "stream",
     "text": [
      "44977\n",
      "19426\n"
     ]
    }
   ],
   "source": [
    "print len(encoder_vocab)\n",
    "print len(decoder_vocab)"
   ]
  },
  {
   "cell_type": "code",
   "execution_count": 9,
   "metadata": {
    "collapsed": true
   },
   "outputs": [],
   "source": [
    "################################################\n",
    "## pre trained embedding\n",
    "#################################################\n",
    "all_word_embeds = {}\n",
    "for i, line in enumerate(codecs.open('../../data/glove.840B.300d.txt', 'r', 'utf-8')):\n",
    "    s = line.strip().split()\n",
    "    if len(s) == 300 + 1:\n",
    "        all_word_embeds[s[0]] = np.array([float(i) for i in s[1:]])"
   ]
  },
  {
   "cell_type": "code",
   "execution_count": 10,
   "metadata": {
    "collapsed": true
   },
   "outputs": [],
   "source": [
    "#all_word_embeds['man']"
   ]
  },
  {
   "cell_type": "code",
   "execution_count": 11,
   "metadata": {},
   "outputs": [
    {
     "name": "stdout",
     "output_type": "stream",
     "text": [
      "Loaded 44977 pretrained embeddings.\n"
     ]
    }
   ],
   "source": [
    "#Intializing Word Embedding Matrix\n",
    "encoder_embedding = np.random.uniform(-np.sqrt(0.06), np.sqrt(0.06), (len(encoder_vocab), 300))\n",
    "\n",
    "for w in encoder_vocab:\n",
    "    if w.lower() in all_word_embeds:\n",
    "        encoder_embedding[encoder_vocab[w]] = all_word_embeds[w.lower()]\n",
    "\n",
    "print('Loaded %i pretrained embeddings.' % len(encoder_embedding))"
   ]
  },
  {
   "cell_type": "code",
   "execution_count": 12,
   "metadata": {},
   "outputs": [
    {
     "name": "stdout",
     "output_type": "stream",
     "text": [
      "Loaded 19426 pretrained embeddings.\n"
     ]
    }
   ],
   "source": [
    "#Intializing Word Embedding Matrix\n",
    "decoder_embedding = np.random.uniform(-np.sqrt(0.06), np.sqrt(0.06), (len(decoder_vocab), 300))\n",
    "\n",
    "for w in decoder_vocab:\n",
    "    if w.lower() in all_word_embeds:\n",
    "        decoder_embedding[decoder_vocab[w]] = all_word_embeds[w.lower()]\n",
    "\n",
    "print('Loaded %i pretrained embeddings.' % len(decoder_embedding))\n"
   ]
  },
  {
   "cell_type": "code",
   "execution_count": 13,
   "metadata": {},
   "outputs": [
    {
     "data": {
      "text/plain": [
       "1"
      ]
     },
     "execution_count": 13,
     "metadata": {},
     "output_type": "execute_result"
    }
   ],
   "source": [
    "decoder_vocab['woods']"
   ]
  },
  {
   "cell_type": "code",
   "execution_count": 14,
   "metadata": {
    "collapsed": true
   },
   "outputs": [],
   "source": [
    "## To save memory\n",
    "#del all_word_embeds"
   ]
  },
  {
   "cell_type": "code",
   "execution_count": 15,
   "metadata": {
    "collapsed": true
   },
   "outputs": [],
   "source": [
    "for i,j in decoder_vocab.items():\n",
    "        decoder_vocab[i] = j+4\n",
    "decoder_vocab['<pad>'] = 0\n",
    "decoder_vocab['<start>'] = 1\n",
    "#id2word[1] = '<start>'\n",
    "decoder_vocab['<end>'] = 2\n",
    "#id2word[len(id2word)+1] = '<end>'\n",
    "decoder_vocab['<unk>'] = 3\n",
    "#id2word[len(id2word)+1] = '<unk>'\n",
    "padded_vector = np.zeros(300)\n",
    "decoder_embedding = np.insert(decoder_embedding,0,padded_vector,axis=0)\n",
    "decoder_embedding = np.insert(decoder_embedding,1,np.random.uniform(-np.sqrt(0.06), np.sqrt(0.06), (1, 300)),axis=0)\n",
    "decoder_embedding = np.insert(decoder_embedding,1,np.random.uniform(-np.sqrt(0.06), np.sqrt(0.06), (1, 300)),axis=0)\n",
    "decoder_embedding = np.insert(decoder_embedding,1,np.random.uniform(-np.sqrt(0.06), np.sqrt(0.06), (1, 300)),axis=0)"
   ]
  },
  {
   "cell_type": "code",
   "execution_count": 16,
   "metadata": {
    "collapsed": true
   },
   "outputs": [],
   "source": [
    "for i,j in encoder_vocab.items():\n",
    "        encoder_vocab[i] = j+4\n",
    "encoder_vocab['<pad>'] = 0\n",
    "encoder_vocab['<start>'] = 1\n",
    "#id2word[1] = '<start>'\n",
    "encoder_vocab['<end>'] = 2\n",
    "#id2word[len(id2word)+1] = '<end>'\n",
    "encoder_vocab['<unk>'] = 3\n",
    "#id2word[len(id2word)+1] = '<unk>'\n",
    "padded_vector = np.zeros(300)\n",
    "encoder_embedding = np.insert(encoder_embedding,0,padded_vector,axis=0)\n",
    "encoder_embedding = np.insert(encoder_embedding,1,np.random.uniform(-np.sqrt(0.06), np.sqrt(0.06), (1, 300)),axis=0)\n",
    "encoder_embedding = np.insert(encoder_embedding,1,np.random.uniform(-np.sqrt(0.06), np.sqrt(0.06), (1, 300)),axis=0)\n",
    "encoder_embedding = np.insert(encoder_embedding,1,np.random.uniform(-np.sqrt(0.06), np.sqrt(0.06), (1, 300)),axis=0)"
   ]
  },
  {
   "cell_type": "code",
   "execution_count": 17,
   "metadata": {
    "collapsed": true
   },
   "outputs": [],
   "source": [
    "np.save('../../data/encoder_embedding.npy',encoder_embedding)\n",
    "np.save('../../data/decoder_embedding.npy',decoder_embedding)"
   ]
  },
  {
   "cell_type": "code",
   "execution_count": 18,
   "metadata": {
    "collapsed": true
   },
   "outputs": [],
   "source": [
    "pickle.dump(encoder_vocab,open('../../data/encoder_vocab.p','w'))\n",
    "pickle.dump(decoder_vocab,open('../../data/decoder_vocab.p','w'))"
   ]
  },
  {
   "cell_type": "code",
   "execution_count": null,
   "metadata": {
    "collapsed": true
   },
   "outputs": [],
   "source": []
  }
 ],
 "metadata": {
  "kernelspec": {
   "display_name": "Python 2",
   "language": "python",
   "name": "python2"
  },
  "language_info": {
   "codemirror_mode": {
    "name": "ipython",
    "version": 2
   },
   "file_extension": ".py",
   "mimetype": "text/x-python",
   "name": "python",
   "nbconvert_exporter": "python",
   "pygments_lexer": "ipython2",
   "version": "2.7.15"
  }
 },
 "nbformat": 4,
 "nbformat_minor": 2
}
