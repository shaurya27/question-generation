{
 "cells": [
  {
   "cell_type": "code",
   "execution_count": 1,
   "metadata": {},
   "outputs": [],
   "source": [
    "%load_ext autoreload\n",
    "%autoreload 2\n",
    "import torch\n",
    "import torch.nn as nn\n",
    "import torch.nn.functional as F\n",
    "import sys\n",
    "sys.path.append('../')\n",
    "from constant import *"
   ]
  },
  {
   "cell_type": "code",
   "execution_count": 2,
   "metadata": {
    "collapsed": true
   },
   "outputs": [],
   "source": [
    "from load_data_exp import *\n",
    "from encoder.encoder import EncoderSentence\n",
    "from decoder.decoder import AttnDecoderLSTM"
   ]
  },
  {
   "cell_type": "code",
   "execution_count": 3,
   "metadata": {
    "collapsed": true
   },
   "outputs": [],
   "source": [
    "for i in train_dataloader:\n",
    "    break"
   ]
  },
  {
   "cell_type": "code",
   "execution_count": 4,
   "metadata": {},
   "outputs": [
    {
     "data": {
      "text/plain": [
       "tensor([59, 59, 59, 59, 59, 55, 55, 55, 55, 51, 51, 50, 50, 40, 40, 40, 37, 37,\n",
       "        30, 30, 30, 30, 29, 29, 28, 28, 28, 22, 22, 18, 18, 14])"
      ]
     },
     "execution_count": 4,
     "metadata": {},
     "output_type": "execute_result"
    }
   ],
   "source": [
    "i[3]"
   ]
  },
  {
   "cell_type": "code",
   "execution_count": 5,
   "metadata": {},
   "outputs": [],
   "source": [
    "enc = EncoderSentence(len(word_mapping)+1,WORD_DIM,128,pretrained_word_embeds,'sum')\n",
    "e,f = enc(i[1],i[3])"
   ]
  },
  {
   "cell_type": "code",
   "execution_count": 6,
   "metadata": {},
   "outputs": [],
   "source": [
    "hidden = (f[0].transpose(0,1).transpose(1,2)).contiguous().view(f[0].transpose(0,1).size()[0],-1)   \n",
    "cell = (f[1].transpose(0,1).transpose(1,2)).contiguous().view(f[0].transpose(0,1).size()[0],-1)"
   ]
  },
  {
   "cell_type": "code",
   "execution_count": 7,
   "metadata": {},
   "outputs": [],
   "source": [
    "hidden = hidden.unsqueeze(0)\n",
    "cell = cell.unsqueeze(0)"
   ]
  },
  {
   "cell_type": "code",
   "execution_count": 8,
   "metadata": {},
   "outputs": [],
   "source": [
    "dec = AttnDecoderLSTM(len(word_mapping)+1,WORD_DIM,128*2,pretrained_word_embeds)"
   ]
  },
  {
   "cell_type": "code",
   "execution_count": 9,
   "metadata": {},
   "outputs": [],
   "source": [
    "inp = torch.randint(1,100,(32,1)).type(torch.LongTensor)"
   ]
  },
  {
   "cell_type": "code",
   "execution_count": 10,
   "metadata": {},
   "outputs": [
    {
     "name": "stdout",
     "output_type": "stream",
     "text": [
      "torch.Size([32, 59]) torch.Size([32, 59, 128])\n",
      "torch.Size([32, 128]) torch.Size([32, 256])\n"
     ]
    }
   ],
   "source": [
    "d = dec(inp,(hidden,cell),e,i[3])"
   ]
  },
  {
   "cell_type": "code",
   "execution_count": 12,
   "metadata": {},
   "outputs": [
    {
     "data": {
      "text/plain": [
       "tensor([[-10.1244, -10.1610, -10.1641,  ..., -10.2091, -10.1837, -10.1507],\n",
       "        [-10.1245, -10.1619, -10.1640,  ..., -10.2094, -10.1840, -10.1516],\n",
       "        [-10.1245, -10.1614, -10.1638,  ..., -10.2098, -10.1848, -10.1511],\n",
       "        ...,\n",
       "        [-10.1503, -10.1604, -10.1720,  ..., -10.1844, -10.1600, -10.1251],\n",
       "        [-10.1521, -10.1608, -10.1719,  ..., -10.1842, -10.1595, -10.1264],\n",
       "        [-10.1052, -10.1507, -10.1757,  ..., -10.2193, -10.1722, -10.1511]],\n",
       "       grad_fn=<LogSoftmaxBackward>)"
      ]
     },
     "execution_count": 12,
     "metadata": {},
     "output_type": "execute_result"
    }
   ],
   "source": [
    "d[0]"
   ]
  },
  {
   "cell_type": "code",
   "execution_count": null,
   "metadata": {
    "collapsed": true
   },
   "outputs": [],
   "source": []
  }
 ],
 "metadata": {
  "kernelspec": {
   "display_name": "Python 2",
   "language": "python",
   "name": "python2"
  },
  "language_info": {
   "codemirror_mode": {
    "name": "ipython",
    "version": 2
   },
   "file_extension": ".py",
   "mimetype": "text/x-python",
   "name": "python",
   "nbconvert_exporter": "python",
   "pygments_lexer": "ipython2",
   "version": "2.7.15"
  }
 },
 "nbformat": 4,
 "nbformat_minor": 2
}
