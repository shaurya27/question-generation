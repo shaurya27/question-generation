{
 "cells": [
  {
   "cell_type": "code",
   "execution_count": 1,
   "metadata": {},
   "outputs": [
    {
     "name": "stdout",
     "output_type": "stream",
     "text": [
      "USE CPU\n"
     ]
    }
   ],
   "source": [
    "%load_ext autoreload\n",
    "%autoreload 2\n",
    "\n",
    "from user_input import *\n",
    "#from model import *\n",
    "#from load_data import *"
   ]
  },
  {
   "cell_type": "code",
   "execution_count": 4,
   "metadata": {},
   "outputs": [],
   "source": [
    "WORD_SIZE = len(word_mapping)\n",
    "\n",
    "enc1 = EncoderParagraph(WORD_SIZE,WORD_DIM,HIDDEN_SIZE,pretrained_word_embeds)\n",
    "enc2 = EncoderSentence(WORD_SIZE,WORD_DIM,HIDDEN_SIZE,pretrained_word_embeds)\n",
    "#dec = AttnDecoderLSTM(WORD_SIZE,WORD_DIM,HIDDEN_SIZE*4,MAX_SENT_LEN,pretrained_word_embeds)\n",
    "dec = AttnDecoderLSTM(WORD_SIZE,WORD_DIM,HIDDEN_SIZE*4,pretrained_word_embeds)\n",
    "model = QuestionGeneration(enc1,enc2, dec)"
   ]
  },
  {
   "cell_type": "code",
   "execution_count": 5,
   "metadata": {
    "collapsed": true
   },
   "outputs": [],
   "source": [
    "checkpoint = torch.load('../models/best_validation_loss_model.pth.tar',map_location=lambda storage, loc: storage)"
   ]
  },
  {
   "cell_type": "code",
   "execution_count": 6,
   "metadata": {
    "collapsed": true
   },
   "outputs": [],
   "source": [
    "model.load_state_dict(checkpoint['state_dict'])"
   ]
  },
  {
   "cell_type": "code",
   "execution_count": 7,
   "metadata": {
    "collapsed": true
   },
   "outputs": [],
   "source": [
    "encoder1 = model.encoder1\n",
    "encoder2 = model.encoder2\n",
    "decoder = model.decoder"
   ]
  },
  {
   "cell_type": "code",
   "execution_count": 8,
   "metadata": {
    "collapsed": true
   },
   "outputs": [],
   "source": [
    "id2word = {}\n",
    "for k,v in word_mapping.iteritems():\n",
    "    id2word[v]=k"
   ]
  },
  {
   "cell_type": "code",
   "execution_count": 9,
   "metadata": {
    "collapsed": true
   },
   "outputs": [],
   "source": [
    "def give_results(out):\n",
    "    result = []\n",
    "    for j in out:\n",
    "        res = []\n",
    "        for k in j:\n",
    "            if id2word[k] == '<end>':\n",
    "                break\n",
    "            else:\n",
    "                res.append(id2word[k])\n",
    "        result.append(res)\n",
    "    return result"
   ]
  },
  {
   "cell_type": "code",
   "execution_count": 39,
   "metadata": {
    "collapsed": true
   },
   "outputs": [],
   "source": [
    "def user_input(data,word2idx=word_mapping):\n",
    "    paragraph = data['user_paragraph'] \n",
    "    x_paragraph = [word2idx.get(word) if word2idx.get(word) else word2idx['<unk>'] for word in paragraph]\n",
    "    x_paragraph.insert(0,word_mapping['<start>'])\n",
    "    x_paragraph.append(word_mapping['<end>'])\n",
    "    important_sentence = summarize(paragraph,ratio=0.8, word_count=None, split=True)\n",
    "    print important_sentence\n",
    "    model_input_para = np.zeros((len(important_sentence),MAX_PARA_LEN))\n",
    "    #model_input_sent = np.zeros((len(important_sentence),MAX_SENT_LEN))\n",
    "    sentences=[]\n",
    "    batch_len=[]\n",
    "    for t,sentence in enumerate(important_sentence):\n",
    "        x_sentence = [word2idx.get(word) if word2idx.get(word) else word2idx['<unk>'] for word in sentence.split()]\n",
    "        x_sentence.insert(0,word_mapping['<start>'])\n",
    "        x_sentence.append(word_mapping['<end>'])\n",
    "        model_input_para[t,:] =  x_paragraph[:MAX_PARA_LEN]\n",
    "        #model_input_sent[t,:] =  x_sentence[:MAX_SENT_LEN]\n",
    "        sentences.append(x_sentence)\n",
    "        batch_len.append(len(x_sentence))\n",
    "    sentences.sort(key= len, reverse=True)\n",
    "    batch_len.sort(reverse=True)\n",
    "    model_input_sent = pad(sentences)\n",
    "    return torch.tensor(model_input_para),torch.tensor(model_input_sent),torch.tensor(batch_len)"
   ]
  },
  {
   "cell_type": "code",
   "execution_count": 46,
   "metadata": {},
   "outputs": [
    {
     "name": "stdout",
     "output_type": "stream",
     "text": [
      "['The Transgender Persons (Protection of Rights) Bill, 2016 was hurriedly passed in the Lok Sabha, amid much outcry from the very community it claims to protect.', 'Instead of recognising their rights and ensuring equality, the bill is paternalistic and out of touch with their realities.', 'To begin with, it requires external certification from a district screening committee to establish one\\xe2\\x80\\x99s trans identity.', 'It also places excessive emphasis on the birth family.', 'An NHRC study found that a full 98% live away from their families, and join the transgender community in arrangements like guru-chela systems.', 'The NHRC report also found that 92% of them were economically marginalised, some forced into begging and sex work.']\n"
     ]
    }
   ],
   "source": [
    "data={}\n",
    "data['user_paragraph'] = \"The Transgender Persons (Protection of Rights) Bill, 2016 was hurriedly passed in the Lok Sabha, amid much outcry from the very community it claims to protect. Instead of recognising their rights and ensuring equality, the bill is paternalistic and out of touch with their realities. To begin with, it requires external certification from a district screening committee to establish one’s trans identity. This runs counter to the Supreme Court’s NALSA judgment of 2014, which stated that medical diagnosis was irrelevant – you are who you know you are. It also places excessive emphasis on the birth family. An NHRC study found that a full 98% live away from their families, and join the transgender community in arrangements like guru-chela systems. These non-biological bonds are often their families of choice, while the heteronormative ‘real’ family can be a site of discrimination and pain. The NHRC report also found that 92% of them were economically marginalised, some forced into begging and sex work.\"\n",
    "k= user_input(data,word_mapping)"
   ]
  },
  {
   "cell_type": "code",
   "execution_count": 37,
   "metadata": {
    "collapsed": true
   },
   "outputs": [],
   "source": [
    "def evaluate(input_tensor1, input_tensor2,input_batch_len,encoder1,encoder2,decoder):\n",
    "    with torch.no_grad():\n",
    "        encoder1.eval()\n",
    "        encoder2.eval()\n",
    "        decoder.eval()\n",
    "        input_tensor1 = Variable(input_tensor1.type(torch.LongTensor))\n",
    "        input_tensor2 = Variable(input_tensor2.type(torch.LongTensor))\n",
    "        out1, hidden_cell1 = encoder1(input_tensor1)\n",
    "        out2, hidden_cell2 = encoder2(input_tensor2,input_batch_len)\n",
    "        out2 = out2[:,:,:encoder2.hidden_size] + out2[:,:,encoder2.hidden_size:]\n",
    "        #hidden = torch.cat((hidden_cell1[0][0::2],hidden_cell2[0][0::2]),dim=2)\n",
    "        #cell = torch.cat((hidden_cell1[1][0::2],hidden_cell2[1][0::2]),dim=2)\n",
    "        hidden1 = (hidden_cell1[0].transpose(0,1).transpose(1,2)).contiguous().view(hidden_cell1[0].transpose(0,1).size()[0],-1)\n",
    "        hidden2 = (hidden_cell2[0].transpose(0,1).transpose(1,2)).contiguous().view(hidden_cell1[0].transpose(0,1).size()[0],-1)\n",
    "        hidden = torch.cat((hidden1,hidden2),dim=1).unsqueeze(0)\n",
    "        cell1 = (hidden_cell1[1].transpose(0,1).transpose(1,2)).contiguous().view(hidden_cell1[0].transpose(0,1).size()[0],-1)\n",
    "        cell2 = (hidden_cell2[1].transpose(0,1).transpose(1,2)).contiguous().view(hidden_cell1[0].transpose(0,1).size()[0],-1)\n",
    "        cell = torch.cat((cell1,cell2),dim=1).unsqueeze(0)\n",
    "        \n",
    "        output_list=[]\n",
    "        input = input_tensor1[:,0]\n",
    "        input = input.unsqueeze(1)\n",
    "        outputs = np.zeros((input_tensor1.size(0),20))\n",
    "        for i in range(20):\n",
    "            #print input.size()\n",
    "            output, (hidden, cell),at_wt = decoder(input, (hidden, cell),out2)\n",
    "            top1 = output.max(1)[1]\n",
    "            output_list.append(top1)\n",
    "            outputs[:,i] = top1\n",
    "            input = top1.unsqueeze(1)\n",
    "        output_ = give_results(outputs)\n",
    "        return output_"
   ]
  },
  {
   "cell_type": "code",
   "execution_count": 34,
   "metadata": {
    "collapsed": true
   },
   "outputs": [],
   "source": [
    "#p[:,0].size()"
   ]
  },
  {
   "cell_type": "code",
   "execution_count": 29,
   "metadata": {
    "collapsed": true
   },
   "outputs": [],
   "source": [
    "data= {}"
   ]
  },
  {
   "cell_type": "code",
   "execution_count": 40,
   "metadata": {
    "collapsed": true
   },
   "outputs": [],
   "source": [
    "data[\"user_paragraph\"] = \"the restrictions were tightened by the defence of the realm act of august 1914 , which , along with the introduction of rationing and the censorship of the press for wartime purposes , restricted pubs ' opening hours to 12 noon -- 2:30 pm and 6:30 pm -- 9:30 pm . opening for the full licensed hours was compulsory , and closing time was equally firmly enforced by the police ; a landlord might lose his licence for infractions . pubs were closed under the act and compensation paid , for example in pembrokeshire .\""
   ]
  },
  {
   "cell_type": "code",
   "execution_count": 47,
   "metadata": {
    "collapsed": true
   },
   "outputs": [],
   "source": [
    "data['user_paragraph'] = \"The Transgender Persons (Protection of Rights) Bill, 2016 was hurriedly passed in the Lok Sabha, amid much outcry from the very community it claims to protect. Instead of recognising their rights and ensuring equality, the bill is paternalistic and out of touch with their realities. To begin with, it requires external certification from a district screening committee to establish one’s trans identity. This runs counter to the Supreme Court’s NALSA judgment of 2014, which stated that medical diagnosis was irrelevant – you are who you know you are. It also places excessive emphasis on the birth family. An NHRC study found that a full 98% live away from their families, and join the transgender community in arrangements like guru-chela systems. These non-biological bonds are often their families of choice, while the heteronormative ‘real’ family can be a site of discrimination and pain. The NHRC report also found that 92% of them were economically marginalised, some forced into begging and sex work.\"\n",
    "#k= user_input(data,word_mapping)"
   ]
  },
  {
   "cell_type": "code",
   "execution_count": 48,
   "metadata": {},
   "outputs": [
    {
     "name": "stdout",
     "output_type": "stream",
     "text": [
      "['The Transgender Persons (Protection of Rights) Bill, 2016 was hurriedly passed in the Lok Sabha, amid much outcry from the very community it claims to protect.', 'Instead of recognising their rights and ensuring equality, the bill is paternalistic and out of touch with their realities.', 'To begin with, it requires external certification from a district screening committee to establish one\\xe2\\x80\\x99s trans identity.', 'It also places excessive emphasis on the birth family.', 'An NHRC study found that a full 98% live away from their families, and join the transgender community in arrangements like guru-chela systems.', 'The NHRC report also found that 92% of them were economically marginalised, some forced into begging and sex work.']\n"
     ]
    }
   ],
   "source": [
    "p,s,q = user_input(data)"
   ]
  },
  {
   "cell_type": "code",
   "execution_count": 49,
   "metadata": {
    "collapsed": true
   },
   "outputs": [],
   "source": [
    "w=['The Transgender Persons (Protection of Rights) Bill, 2016 was hurriedly passed in the Lok Sabha, amid much outcry from the very community it claims to protect.', 'Instead of recognising their rights and ensuring equality, the bill is paternalistic and out of touch with their realities.', 'To begin with, it requires external certification from a district screening committee to establish one\\xe2\\x80\\x99s trans identity.', 'It also places excessive emphasis on the birth family.', 'An NHRC study found that a full 98% live away from their families, and join the transgender community in arrangements like guru-chela systems.', 'The NHRC report also found that 92% of them were economically marginalised, some forced into begging and sex work.']"
   ]
  },
  {
   "cell_type": "code",
   "execution_count": 52,
   "metadata": {},
   "outputs": [
    {
     "name": "stdout",
     "output_type": "stream",
     "text": [
      "The Transgender Persons (Protection of Rights) Bill, 2016 was hurriedly passed in the Lok Sabha, amid much outcry from the very community it claims to protect.\n",
      "\n",
      "\n",
      "Instead of recognising their rights and ensuring equality, the bill is paternalistic and out of touch with their realities.\n",
      "\n",
      "\n",
      "To begin with, it requires external certification from a district screening committee to establish one’s trans identity.\n",
      "\n",
      "\n",
      "It also places excessive emphasis on the birth family.\n",
      "\n",
      "\n",
      "An NHRC study found that a full 98% live away from their families, and join the transgender community in arrangements like guru-chela systems.\n",
      "\n",
      "\n",
      "The NHRC report also found that 92% of them were economically marginalised, some forced into begging and sex work.\n",
      "\n",
      "\n"
     ]
    }
   ],
   "source": [
    "for i in w:\n",
    "    print i\n",
    "    print \"\\n\""
   ]
  },
  {
   "cell_type": "code",
   "execution_count": 66,
   "metadata": {},
   "outputs": [
    {
     "ename": "ValueError",
     "evalue": "NumPy boolean array indexing assignment cannot assign 4542 input values to the 4452 output values where the mask is true",
     "output_type": "error",
     "traceback": [
      "\u001b[0;31m---------------------------------------------------------------------------\u001b[0m",
      "\u001b[0;31mValueError\u001b[0m                                Traceback (most recent call last)",
      "\u001b[0;32m<ipython-input-66-9f90b32a2cbe>\u001b[0m in \u001b[0;36m<module>\u001b[0;34m()\u001b[0m\n\u001b[0;32m----> 1\u001b[0;31m \u001b[0;32mfor\u001b[0m \u001b[0mi\u001b[0m \u001b[0;32min\u001b[0m \u001b[0mtrain_dataloader\u001b[0m\u001b[0;34m:\u001b[0m\u001b[0;34m\u001b[0m\u001b[0m\n\u001b[0m\u001b[1;32m      2\u001b[0m     \u001b[0;32mbreak\u001b[0m\u001b[0;34m\u001b[0m\u001b[0m\n",
      "\u001b[0;32m/home/shaurya/anaconda2/lib/python2.7/site-packages/torch/utils/data/dataloader.pyc\u001b[0m in \u001b[0;36m__next__\u001b[0;34m(self)\u001b[0m\n\u001b[1;32m    312\u001b[0m         \u001b[0;32mif\u001b[0m \u001b[0mself\u001b[0m\u001b[0;34m.\u001b[0m\u001b[0mnum_workers\u001b[0m \u001b[0;34m==\u001b[0m \u001b[0;36m0\u001b[0m\u001b[0;34m:\u001b[0m  \u001b[0;31m# same-process loading\u001b[0m\u001b[0;34m\u001b[0m\u001b[0m\n\u001b[1;32m    313\u001b[0m             \u001b[0mindices\u001b[0m \u001b[0;34m=\u001b[0m \u001b[0mnext\u001b[0m\u001b[0;34m(\u001b[0m\u001b[0mself\u001b[0m\u001b[0;34m.\u001b[0m\u001b[0msample_iter\u001b[0m\u001b[0;34m)\u001b[0m  \u001b[0;31m# may raise StopIteration\u001b[0m\u001b[0;34m\u001b[0m\u001b[0m\n\u001b[0;32m--> 314\u001b[0;31m             \u001b[0mbatch\u001b[0m \u001b[0;34m=\u001b[0m \u001b[0mself\u001b[0m\u001b[0;34m.\u001b[0m\u001b[0mcollate_fn\u001b[0m\u001b[0;34m(\u001b[0m\u001b[0;34m[\u001b[0m\u001b[0mself\u001b[0m\u001b[0;34m.\u001b[0m\u001b[0mdataset\u001b[0m\u001b[0;34m[\u001b[0m\u001b[0mi\u001b[0m\u001b[0;34m]\u001b[0m \u001b[0;32mfor\u001b[0m \u001b[0mi\u001b[0m \u001b[0;32min\u001b[0m \u001b[0mindices\u001b[0m\u001b[0;34m]\u001b[0m\u001b[0;34m)\u001b[0m\u001b[0;34m\u001b[0m\u001b[0m\n\u001b[0m\u001b[1;32m    315\u001b[0m             \u001b[0;32mif\u001b[0m \u001b[0mself\u001b[0m\u001b[0;34m.\u001b[0m\u001b[0mpin_memory\u001b[0m\u001b[0;34m:\u001b[0m\u001b[0;34m\u001b[0m\u001b[0m\n\u001b[1;32m    316\u001b[0m                 \u001b[0mbatch\u001b[0m \u001b[0;34m=\u001b[0m \u001b[0mpin_memory_batch\u001b[0m\u001b[0;34m(\u001b[0m\u001b[0mbatch\u001b[0m\u001b[0;34m)\u001b[0m\u001b[0;34m\u001b[0m\u001b[0m\n",
      "\u001b[0;32m/home/shaurya/question-generation/src/load_data3.py\u001b[0m in \u001b[0;36mcollate_fn\u001b[0;34m(batch)\u001b[0m\n\u001b[1;32m     89\u001b[0m \u001b[0;34m\u001b[0m\u001b[0m\n\u001b[1;32m     90\u001b[0m     \u001b[0msentence_word_data\u001b[0m \u001b[0;34m=\u001b[0m \u001b[0mpad\u001b[0m\u001b[0;34m(\u001b[0m\u001b[0msentences\u001b[0m\u001b[0;34m)\u001b[0m\u001b[0;34m\u001b[0m\u001b[0m\n\u001b[0;32m---> 91\u001b[0;31m     \u001b[0mparagraph_word_data\u001b[0m \u001b[0;34m=\u001b[0m \u001b[0mpad\u001b[0m\u001b[0;34m(\u001b[0m\u001b[0mparagraphs\u001b[0m\u001b[0;34m,\u001b[0m\u001b[0mparagraph_max_len\u001b[0m\u001b[0;34m)\u001b[0m\u001b[0;34m\u001b[0m\u001b[0m\n\u001b[0m\u001b[1;32m     92\u001b[0m     \u001b[0mquestion_word_data\u001b[0m \u001b[0;34m=\u001b[0m \u001b[0mpad\u001b[0m\u001b[0;34m(\u001b[0m\u001b[0mquestions\u001b[0m\u001b[0;34m,\u001b[0m\u001b[0mquestion_max_len\u001b[0m\u001b[0;34m)\u001b[0m\u001b[0;34m\u001b[0m\u001b[0m\n\u001b[1;32m     93\u001b[0m \u001b[0;34m\u001b[0m\u001b[0m\n",
      "\u001b[0;32m/home/shaurya/question-generation/src/load_data3.py\u001b[0m in \u001b[0;36mpad\u001b[0;34m(v, max_len)\u001b[0m\n\u001b[1;32m     70\u001b[0m         \u001b[0mmask\u001b[0m \u001b[0;34m=\u001b[0m \u001b[0mlens\u001b[0m\u001b[0;34m[\u001b[0m\u001b[0;34m:\u001b[0m\u001b[0;34m,\u001b[0m\u001b[0mNone\u001b[0m\u001b[0;34m]\u001b[0m \u001b[0;34m>\u001b[0m \u001b[0mnp\u001b[0m\u001b[0;34m.\u001b[0m\u001b[0marange\u001b[0m\u001b[0;34m(\u001b[0m\u001b[0mmax_len\u001b[0m\u001b[0;34m)\u001b[0m\u001b[0;34m\u001b[0m\u001b[0m\n\u001b[1;32m     71\u001b[0m     \u001b[0mout\u001b[0m \u001b[0;34m=\u001b[0m \u001b[0mnp\u001b[0m\u001b[0;34m.\u001b[0m\u001b[0mzeros\u001b[0m\u001b[0;34m(\u001b[0m\u001b[0mmask\u001b[0m\u001b[0;34m.\u001b[0m\u001b[0mshape\u001b[0m\u001b[0;34m,\u001b[0m\u001b[0mdtype\u001b[0m\u001b[0;34m=\u001b[0m\u001b[0mint\u001b[0m\u001b[0;34m)\u001b[0m\u001b[0;34m\u001b[0m\u001b[0m\n\u001b[0;32m---> 72\u001b[0;31m     \u001b[0mout\u001b[0m\u001b[0;34m[\u001b[0m\u001b[0mmask\u001b[0m\u001b[0;34m]\u001b[0m \u001b[0;34m=\u001b[0m \u001b[0mnp\u001b[0m\u001b[0;34m.\u001b[0m\u001b[0mconcatenate\u001b[0m\u001b[0;34m(\u001b[0m\u001b[0mv\u001b[0m\u001b[0;34m)\u001b[0m\u001b[0;34m\u001b[0m\u001b[0m\n\u001b[0m\u001b[1;32m     73\u001b[0m     \u001b[0;32mreturn\u001b[0m \u001b[0mout\u001b[0m\u001b[0;34m\u001b[0m\u001b[0m\n\u001b[1;32m     74\u001b[0m \u001b[0;34m\u001b[0m\u001b[0m\n",
      "\u001b[0;31mValueError\u001b[0m: NumPy boolean array indexing assignment cannot assign 4542 input values to the 4452 output values where the mask is true"
     ]
    }
   ],
   "source": [
    "for i in train_dataloader:\n",
    "    break"
   ]
  },
  {
   "cell_type": "code",
   "execution_count": 79,
   "metadata": {},
   "outputs": [
    {
     "data": {
      "text/plain": [
       "tensor([118])"
      ]
     },
     "execution_count": 79,
     "metadata": {},
     "output_type": "execute_result"
    }
   ],
   "source": [
    "i[3][0].view(-1)"
   ]
  },
  {
   "cell_type": "code",
   "execution_count": 89,
   "metadata": {},
   "outputs": [],
   "source": [
    "out = evaluate(i[0][1].unsqueeze(0),i[1][1].unsqueeze(0),i[3][1].view(-1),enc1,enc2,dec)"
   ]
  },
  {
   "cell_type": "code",
   "execution_count": 81,
   "metadata": {},
   "outputs": [],
   "source": [
    "out = evaluate(p,s,q,enc1,enc2,dec)"
   ]
  },
  {
   "cell_type": "code",
   "execution_count": 90,
   "metadata": {},
   "outputs": [
    {
     "data": {
      "text/plain": [
       "[[u'who', u'was', u'the', u\"'s\", u'of', u'the', u'?']]"
      ]
     },
     "execution_count": 90,
     "metadata": {},
     "output_type": "execute_result"
    }
   ],
   "source": [
    "out"
   ]
  },
  {
   "cell_type": "code",
   "execution_count": 94,
   "metadata": {},
   "outputs": [
    {
     "data": {
      "text/plain": [
       "['<start>',\n",
       " u'which',\n",
       " u'muslim',\n",
       " u'country',\n",
       " u'does',\n",
       " u'korea',\n",
       " u'have',\n",
       " u'a',\n",
       " u'presbyterian',\n",
       " u'church',\n",
       " u'in',\n",
       " u'?',\n",
       " '<end>']"
      ]
     },
     "execution_count": 94,
     "metadata": {},
     "output_type": "execute_result"
    }
   ],
   "source": [
    "i[6][2]"
   ]
  },
  {
   "cell_type": "code",
   "execution_count": 95,
   "metadata": {},
   "outputs": [
    {
     "data": {
      "text/plain": [
       "['<start>',\n",
       " u'in',\n",
       " u'addition',\n",
       " u'there',\n",
       " u'are',\n",
       " u'many',\n",
       " u'korean-american',\n",
       " u'presbyterians',\n",
       " u'in',\n",
       " u'the',\n",
       " u'united',\n",
       " u'states',\n",
       " u',',\n",
       " u'either',\n",
       " u'with',\n",
       " u'their',\n",
       " u'own',\n",
       " u'church',\n",
       " u'sites',\n",
       " u'or',\n",
       " u'sharing',\n",
       " u'space',\n",
       " u'in',\n",
       " u'pre-existing',\n",
       " u'churches',\n",
       " u'as',\n",
       " u'is',\n",
       " u'the',\n",
       " u'case',\n",
       " u'in',\n",
       " u'australia',\n",
       " u',',\n",
       " u'new',\n",
       " u'zealand',\n",
       " u'and',\n",
       " u'even',\n",
       " u'muslim',\n",
       " u'countries',\n",
       " u'such',\n",
       " u'as',\n",
       " u'saudi',\n",
       " u'arabia',\n",
       " u'with',\n",
       " u'korean',\n",
       " u'immigration',\n",
       " u'.',\n",
       " '<end>']"
      ]
     },
     "execution_count": 95,
     "metadata": {},
     "output_type": "execute_result"
    }
   ],
   "source": [
    "i[5][2]"
   ]
  },
  {
   "cell_type": "code",
   "execution_count": null,
   "metadata": {
    "collapsed": true
   },
   "outputs": [],
   "source": []
  }
 ],
 "metadata": {
  "kernelspec": {
   "display_name": "Python 2",
   "language": "python",
   "name": "python2"
  },
  "language_info": {
   "codemirror_mode": {
    "name": "ipython",
    "version": 2
   },
   "file_extension": ".py",
   "mimetype": "text/x-python",
   "name": "python",
   "nbconvert_exporter": "python",
   "pygments_lexer": "ipython2",
   "version": "2.7.15"
  }
 },
 "nbformat": 4,
 "nbformat_minor": 2
}
