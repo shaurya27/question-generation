{
 "cells": [
  {
   "cell_type": "code",
   "execution_count": 7,
   "metadata": {},
   "outputs": [
    {
     "name": "stdout",
     "output_type": "stream",
     "text": [
      "The autoreload extension is already loaded. To reload it, use:\n",
      "  %reload_ext autoreload\n"
     ]
    }
   ],
   "source": [
    "%load_ext autoreload\n",
    "%autoreload 2\n",
    "\n",
    "from predict import *\n",
    "\n",
    "from flask import Flask,request, jsonify\n",
    "from predict import *"
   ]
  },
  {
   "cell_type": "code",
   "execution_count": 19,
   "metadata": {},
   "outputs": [],
   "source": [
    "data ={}\n",
    "data['user_paragraph'] = \"the restrictions were tightened by the defence of the realm act of august 1914 , which , along with the introduction of rationing and the censorship of the press for wartime purposes , restricted pubs ' opening hours to 12 noon -- 2:30 pm and 6:30 pm -- 9:30 pm . opening for the full licensed hours was compulsory , and closing time was equally firmly enforced by the police ; a landlord might lose his licence for infractions . pubs were closed under the act and compensation paid , for example in pembrokeshire .\"\n",
    "p,s = user_input(data)"
   ]
  },
  {
   "cell_type": "code",
   "execution_count": 6,
   "metadata": {},
   "outputs": [
    {
     "data": {
      "text/plain": [
       "[[u'what', u'is', u'the', u\"'s\", u'of', u'of', u'the', u'?'],\n",
       " [u'what', u'did', u'the', u\"'s\", u'of', u'?']]"
      ]
     },
     "execution_count": 6,
     "metadata": {},
     "output_type": "execute_result"
    }
   ],
   "source": [
    "evaluate(p,s,enc1,enc2,dec)"
   ]
  },
  {
   "cell_type": "code",
   "execution_count": 20,
   "metadata": {},
   "outputs": [
    {
     "name": "stderr",
     "output_type": "stream",
     "text": [
      " * Running on http://0.0.0.0:4283/ (Press CTRL+C to quit)\n"
     ]
    },
    {
     "name": "stdout",
     "output_type": "stream",
     "text": [
      "torch.Size([2, 350])\n"
     ]
    },
    {
     "name": "stderr",
     "output_type": "stream",
     "text": [
      "127.0.0.1 - - [23/Jan/2019 15:10:31] \"\u001b[37mPOST /question_generation HTTP/1.1\u001b[0m\" 200 -\n"
     ]
    },
    {
     "name": "stdout",
     "output_type": "stream",
     "text": [
      "[[u'what', u'is', u'the', u\"'s\", u'of', u'of', u'the', u'?'], [u'what', u'did', u'the', u\"'s\", u'of', u'?']]\n"
     ]
    }
   ],
   "source": [
    "app = Flask(__name__)\n",
    "@app.route('/question_generation', methods=['POST'])\n",
    "def question_generate():\n",
    "    data = request.get_json()\n",
    "    #print data\n",
    "    p,s = user_input(data)\n",
    "    print p.size()\n",
    "    result = str(evaluate(p,s,enc1,enc2,dec))\n",
    "    print result\n",
    "    return jsonify({\"generated_question\": eval(result)})\n",
    "\n",
    "if __name__ == '__main__':\n",
    "      app.run(host='0.0.0.0', port= 4283)\n"
   ]
  },
  {
   "cell_type": "code",
   "execution_count": null,
   "metadata": {
    "collapsed": true
   },
   "outputs": [],
   "source": []
  }
 ],
 "metadata": {
  "kernelspec": {
   "display_name": "Python 2",
   "language": "python",
   "name": "python2"
  },
  "language_info": {
   "codemirror_mode": {
    "name": "ipython",
    "version": 2
   },
   "file_extension": ".py",
   "mimetype": "text/x-python",
   "name": "python",
   "nbconvert_exporter": "python",
   "pygments_lexer": "ipython2",
   "version": "2.7.15"
  }
 },
 "nbformat": 4,
 "nbformat_minor": 2
}
