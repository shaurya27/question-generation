{
 "cells": [
  {
   "cell_type": "code",
   "execution_count": 28,
   "metadata": {
    "collapsed": true
   },
   "outputs": [],
   "source": [
    "import json\n",
    "from tqdm import tqdm_notebook as tqdm"
   ]
  },
  {
   "cell_type": "markdown",
   "metadata": {},
   "source": [
    "### Train data"
   ]
  },
  {
   "cell_type": "code",
   "execution_count": 52,
   "metadata": {},
   "outputs": [],
   "source": [
    "f1 = open('../data/processed/para-train.txt','r')\n",
    "f2 = open('../data/processed/src-train.txt','r')\n",
    "f3 = open('../data/processed/tgt-train.txt','r')"
   ]
  },
  {
   "cell_type": "code",
   "execution_count": 53,
   "metadata": {},
   "outputs": [
    {
     "data": {
      "application/vnd.jupyter.widget-view+json": {
       "model_id": "ccb06bc08b1349a99fdee206a0f41d1a",
       "version_major": 2,
       "version_minor": 0
      },
      "text/plain": [
       "A Jupyter Widget"
      ]
     },
     "metadata": {},
     "output_type": "display_data"
    },
    {
     "name": "stdout",
     "output_type": "stream",
     "text": [
      "\n"
     ]
    }
   ],
   "source": [
    "with open('../data/processed/train_data.json','w') as f:\n",
    "    for x in tqdm(zip(f1,f2,f3)):\n",
    "        data = {}\n",
    "        data['paragraph'] = x[0].lower().strip()\n",
    "        data['sentence'] = x[1].lower().strip()\n",
    "        data['question'] = x[2].lower().strip()\n",
    "        f.write(json.dumps(data))\n",
    "        f.write('\\n')"
   ]
  },
  {
   "cell_type": "markdown",
   "metadata": {},
   "source": [
    "### Test data"
   ]
  },
  {
   "cell_type": "code",
   "execution_count": 54,
   "metadata": {
    "collapsed": true
   },
   "outputs": [],
   "source": [
    "f1 = open('../data/processed/para-test.txt','r')\n",
    "f2 = open('../data/processed/src-test.txt','r')\n",
    "f3 = open('../data/processed/tgt-test.txt','r')"
   ]
  },
  {
   "cell_type": "code",
   "execution_count": 55,
   "metadata": {},
   "outputs": [
    {
     "data": {
      "application/vnd.jupyter.widget-view+json": {
       "model_id": "cbf422817f5b47beb6a801b17fe64d1d",
       "version_major": 2,
       "version_minor": 0
      },
      "text/plain": [
       "A Jupyter Widget"
      ]
     },
     "metadata": {},
     "output_type": "display_data"
    },
    {
     "name": "stdout",
     "output_type": "stream",
     "text": [
      "\n"
     ]
    }
   ],
   "source": [
    "with open('../data/processed/test_data.json','w') as f:\n",
    "    for x in tqdm(zip(f1,f2,f3)):\n",
    "        data = {}\n",
    "        data['paragraph'] = x[0].lower().strip()\n",
    "        data['sentence'] = x[1].lower().strip()\n",
    "        data['question'] = x[2].lower().strip()\n",
    "        f.write(json.dumps(data))\n",
    "        f.write('\\n')"
   ]
  },
  {
   "cell_type": "markdown",
   "metadata": {},
   "source": [
    "### validation data"
   ]
  },
  {
   "cell_type": "code",
   "execution_count": 56,
   "metadata": {
    "collapsed": true
   },
   "outputs": [],
   "source": [
    "f1 = open('../data/processed/para-dev.txt','r')\n",
    "f2 = open('../data/processed/src-dev.txt','r')\n",
    "f3 = open('../data/processed/tgt-dev.txt','r')"
   ]
  },
  {
   "cell_type": "code",
   "execution_count": 57,
   "metadata": {},
   "outputs": [
    {
     "data": {
      "application/vnd.jupyter.widget-view+json": {
       "model_id": "f50785e555834f309f92076feb1c8fb6",
       "version_major": 2,
       "version_minor": 0
      },
      "text/plain": [
       "A Jupyter Widget"
      ]
     },
     "metadata": {},
     "output_type": "display_data"
    },
    {
     "name": "stdout",
     "output_type": "stream",
     "text": [
      "\n"
     ]
    }
   ],
   "source": [
    "with open('../data/processed/validation_data.json','w') as f:\n",
    "    for x in tqdm(zip(f1,f2,f3)):\n",
    "        data = {}\n",
    "        data['paragraph'] = x[0].lower().strip()\n",
    "        data['sentence'] = x[1].lower().strip()\n",
    "        data['question'] = x[2].lower().strip()\n",
    "        f.write(json.dumps(data))\n",
    "        f.write('\\n')"
   ]
  }
 ],
 "metadata": {
  "kernelspec": {
   "display_name": "Python 2",
   "language": "python",
   "name": "python2"
  },
  "language_info": {
   "codemirror_mode": {
    "name": "ipython",
    "version": 2
   },
   "file_extension": ".py",
   "mimetype": "text/x-python",
   "name": "python",
   "nbconvert_exporter": "python",
   "pygments_lexer": "ipython2",
   "version": "2.7.15"
  }
 },
 "nbformat": 4,
 "nbformat_minor": 2
}
