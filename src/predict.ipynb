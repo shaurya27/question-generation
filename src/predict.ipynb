{
 "cells": [
  {
   "cell_type": "code",
   "execution_count": 1,
   "metadata": {},
   "outputs": [
    {
     "name": "stdout",
     "output_type": "stream",
     "text": [
      "USE CPU\n"
     ]
    }
   ],
   "source": [
    "%load_ext autoreload\n",
    "%autoreload 2\n",
    "\n",
    "from user_input import *\n",
    "#from model import *\n",
    "#from load_data import *"
   ]
  },
  {
   "cell_type": "code",
   "execution_count": 2,
   "metadata": {
    "collapsed": true
   },
   "outputs": [],
   "source": [
    "WORD_SIZE = len(word_mapping)\n",
    "\n",
    "enc1 = EncoderParagraph(WORD_SIZE,WORD_DIM,HIDDEN_SIZE,pretrained_word_embeds)\n",
    "enc2 = EncoderSentence(WORD_SIZE,WORD_DIM,HIDDEN_SIZE,pretrained_word_embeds)\n",
    "dec = AttnDecoderLSTM(WORD_SIZE,WORD_DIM,HIDDEN_SIZE*4,MAX_SENT_LEN,pretrained_word_embeds)\n",
    "model = QuestionGeneration(enc1,enc2, dec)"
   ]
  },
  {
   "cell_type": "code",
   "execution_count": 3,
   "metadata": {
    "collapsed": true
   },
   "outputs": [],
   "source": [
    "checkpoint = torch.load('../models/best_validation_loss_model.pth.tar',map_location=lambda storage, loc: storage)"
   ]
  },
  {
   "cell_type": "code",
   "execution_count": 4,
   "metadata": {
    "collapsed": true
   },
   "outputs": [],
   "source": [
    "model.load_state_dict(checkpoint['state_dict'])"
   ]
  },
  {
   "cell_type": "code",
   "execution_count": 5,
   "metadata": {
    "collapsed": true
   },
   "outputs": [],
   "source": [
    "encoder1 = model.encoder1\n",
    "encoder2 = model.encoder2\n",
    "decoder = model.decoder"
   ]
  },
  {
   "cell_type": "code",
   "execution_count": 6,
   "metadata": {
    "collapsed": true
   },
   "outputs": [],
   "source": [
    "id2word = {}\n",
    "for k,v in word_mapping.iteritems():\n",
    "    id2word[v]=k"
   ]
  },
  {
   "cell_type": "code",
   "execution_count": 7,
   "metadata": {
    "collapsed": true
   },
   "outputs": [],
   "source": [
    "def give_results(out):\n",
    "    result = []\n",
    "    for j in out:\n",
    "        res = []\n",
    "        for k in j:\n",
    "            if id2word[k] == '<end>':\n",
    "                break\n",
    "            else:\n",
    "                res.append(id2word[k])\n",
    "        result.append(res)\n",
    "    return result"
   ]
  },
  {
   "cell_type": "code",
   "execution_count": 8,
   "metadata": {
    "collapsed": true
   },
   "outputs": [],
   "source": [
    "def evaluate(input_tensor1, input_tensor2,encoder1,encoder2,decoder):\n",
    "    with torch.no_grad():\n",
    "        encoder1.eval()\n",
    "        encoder2.eval()\n",
    "        decoder.eval()\n",
    "        input_tensor1 = Variable(input_tensor1.type(torch.LongTensor))\n",
    "        input_tensor2 = Variable(input_tensor2.type(torch.LongTensor))\n",
    "        \n",
    "        out1, hidden_cell1 = encoder1(input_tensor1)\n",
    "        out2, hidden_cell2 = encoder2(input_tensor2)\n",
    "        #hidden = torch.cat((hidden_cell1[0][0::2],hidden_cell2[0][0::2]),dim=2)\n",
    "        #cell = torch.cat((hidden_cell1[1][0::2],hidden_cell2[1][0::2]),dim=2)\n",
    "        hidden1 = (hidden_cell1[0].transpose(0,1).transpose(1,2)).contiguous().view(hidden_cell1[0].transpose(0,1).size()[0],-1)\n",
    "        hidden2 = (hidden_cell2[0].transpose(0,1).transpose(1,2)).contiguous().view(hidden_cell1[0].transpose(0,1).size()[0],-1)\n",
    "        hidden = torch.cat((hidden1,hidden2),dim=1).unsqueeze(0)\n",
    "        cell1 = (hidden_cell1[1].transpose(0,1).transpose(1,2)).contiguous().view(hidden_cell1[0].transpose(0,1).size()[0],-1)\n",
    "        cell2 = (hidden_cell2[1].transpose(0,1).transpose(1,2)).contiguous().view(hidden_cell1[0].transpose(0,1).size()[0],-1)\n",
    "        cell = torch.cat((cell1,cell2),dim=1).unsqueeze(0)\n",
    "        \n",
    "        output_list=[]\n",
    "        input = input_tensor1[:,0]\n",
    "        input = input.unsqueeze(1)\n",
    "        outputs = np.zeros((input_tensor1.size(0),20))\n",
    "        for i in range(20):\n",
    "            print input.size()\n",
    "            output, (hidden, cell),at_wt = decoder(input, (hidden, cell),out2)\n",
    "            top1 = output.max(1)[1]\n",
    "            output_list.append(top1)\n",
    "            outputs[:,i] = top1\n",
    "            input = top1.unsqueeze(1)\n",
    "        output_ = give_results(outputs)\n",
    "        return output_"
   ]
  },
  {
   "cell_type": "code",
   "execution_count": 9,
   "metadata": {
    "collapsed": true
   },
   "outputs": [],
   "source": [
    "#p[:,0].size()"
   ]
  },
  {
   "cell_type": "code",
   "execution_count": 37,
   "metadata": {
    "collapsed": true
   },
   "outputs": [],
   "source": [
    "for i in train_dataloader:\n",
    "    break"
   ]
  },
  {
   "cell_type": "code",
   "execution_count": 29,
   "metadata": {
    "collapsed": true
   },
   "outputs": [],
   "source": [
    "data= {}"
   ]
  },
  {
   "cell_type": "code",
   "execution_count": 30,
   "metadata": {},
   "outputs": [],
   "source": [
    "data[\"user_paragraph\"] = \"the restrictions were tightened by the defence of the realm act of august 1914 , which , along with the introduction of rationing and the censorship of the press for wartime purposes , restricted pubs ' opening hours to 12 noon -- 2:30 pm and 6:30 pm -- 9:30 pm . opening for the full licensed hours was compulsory , and closing time was equally firmly enforced by the police ; a landlord might lose his licence for infractions . pubs were closed under the act and compensation paid , for example in pembrokeshire .\""
   ]
  },
  {
   "cell_type": "code",
   "execution_count": 32,
   "metadata": {},
   "outputs": [],
   "source": [
    "p,s = user_input(data)"
   ]
  },
  {
   "cell_type": "code",
   "execution_count": 33,
   "metadata": {
    "collapsed": true
   },
   "outputs": [],
   "source": [
    "#p.size()"
   ]
  },
  {
   "cell_type": "code",
   "execution_count": 38,
   "metadata": {},
   "outputs": [
    {
     "ename": "TypeError",
     "evalue": "'int' object has no attribute '__getitem__'",
     "output_type": "error",
     "traceback": [
      "\u001b[0;31m---------------------------------------------------------------------------\u001b[0m",
      "\u001b[0;31mTypeError\u001b[0m                                 Traceback (most recent call last)",
      "\u001b[0;32m<ipython-input-38-b20ab7b00a04>\u001b[0m in \u001b[0;36m<module>\u001b[0;34m()\u001b[0m\n\u001b[0;32m----> 1\u001b[0;31m \u001b[0mout\u001b[0m \u001b[0;34m=\u001b[0m \u001b[0mevaluate\u001b[0m\u001b[0;34m(\u001b[0m\u001b[0;36m1\u001b[0m\u001b[0;34m[\u001b[0m\u001b[0;36m0\u001b[0m\u001b[0;34m]\u001b[0m\u001b[0;34m.\u001b[0m\u001b[0munsqueeze\u001b[0m\u001b[0;34m(\u001b[0m\u001b[0;36m0\u001b[0m\u001b[0;34m)\u001b[0m\u001b[0;34m,\u001b[0m\u001b[0;36m1\u001b[0m\u001b[0;34m[\u001b[0m\u001b[0;36m1\u001b[0m\u001b[0;34m]\u001b[0m\u001b[0;34m.\u001b[0m\u001b[0munsqueeze\u001b[0m\u001b[0;34m(\u001b[0m\u001b[0;36m0\u001b[0m\u001b[0;34m)\u001b[0m\u001b[0;34m,\u001b[0m\u001b[0menc1\u001b[0m\u001b[0;34m,\u001b[0m\u001b[0menc2\u001b[0m\u001b[0;34m,\u001b[0m\u001b[0mdec\u001b[0m\u001b[0;34m)\u001b[0m\u001b[0;34m\u001b[0m\u001b[0m\n\u001b[0m",
      "\u001b[0;31mTypeError\u001b[0m: 'int' object has no attribute '__getitem__'"
     ]
    }
   ],
   "source": [
    "out = evaluate(i[0].unsqueeze(0),1[1].unsqueeze(0),enc1,enc2,dec)"
   ]
  },
  {
   "cell_type": "code",
   "execution_count": 35,
   "metadata": {},
   "outputs": [
    {
     "name": "stdout",
     "output_type": "stream",
     "text": [
      "torch.Size([2, 1])\n",
      "torch.Size([2, 1])\n",
      "torch.Size([2, 1])\n",
      "torch.Size([2, 1])\n",
      "torch.Size([2, 1])\n",
      "torch.Size([2, 1])\n",
      "torch.Size([2, 1])\n",
      "torch.Size([2, 1])\n",
      "torch.Size([2, 1])\n",
      "torch.Size([2, 1])\n",
      "torch.Size([2, 1])\n",
      "torch.Size([2, 1])\n",
      "torch.Size([2, 1])\n",
      "torch.Size([2, 1])\n",
      "torch.Size([2, 1])\n",
      "torch.Size([2, 1])\n",
      "torch.Size([2, 1])\n",
      "torch.Size([2, 1])\n",
      "torch.Size([2, 1])\n",
      "torch.Size([2, 1])\n"
     ]
    }
   ],
   "source": [
    "out = evaluate(p,s,enc1,enc2,dec)"
   ]
  },
  {
   "cell_type": "code",
   "execution_count": 36,
   "metadata": {},
   "outputs": [
    {
     "data": {
      "text/plain": [
       "[[u'what', u'is', u'the', u'the', u'of', u'the', u'?'],\n",
       " [u'what', u'is', u'the', u'the', u'of', u'the', u'?']]"
      ]
     },
     "execution_count": 36,
     "metadata": {},
     "output_type": "execute_result"
    }
   ],
   "source": [
    "out"
   ]
  },
  {
   "cell_type": "code",
   "execution_count": null,
   "metadata": {
    "collapsed": true
   },
   "outputs": [],
   "source": []
  }
 ],
 "metadata": {
  "kernelspec": {
   "display_name": "Python 2",
   "language": "python",
   "name": "python2"
  },
  "language_info": {
   "codemirror_mode": {
    "name": "ipython",
    "version": 2
   },
   "file_extension": ".py",
   "mimetype": "text/x-python",
   "name": "python",
   "nbconvert_exporter": "python",
   "pygments_lexer": "ipython2",
   "version": "2.7.15"
  }
 },
 "nbformat": 4,
 "nbformat_minor": 2
}
